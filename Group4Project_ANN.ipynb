{
  "cells": [
    {
      "cell_type": "code",
      "execution_count": 1,
      "id": "7Hfy4AnXCHXX",
      "metadata": {
        "id": "7Hfy4AnXCHXX"
      },
      "outputs": [],
      "source": [
        "import pandas as pd\n",
        "import numpy as np\n",
        "from sklearn.preprocessing import LabelEncoder, StandardScaler, OneHotEncoder\n",
        "from sklearn.model_selection import train_test_split\n",
        "from sklearn.linear_model import LogisticRegression\n",
        "from sklearn.ensemble import RandomForestClassifier, GradientBoostingClassifier\n",
        "from sklearn.neighbors import KNeighborsClassifier\n",
        "from sklearn.model_selection import train_test_split\n",
        "from sklearn.metrics import classification_report\n",
        "from sklearn.compose import ColumnTransformer\n",
        "from xgboost import XGBClassifier\n",
        "from sklearn.model_selection import StratifiedKFold\n",
        "from sklearn.metrics import accuracy_score, precision_score, recall_score, f1_score\n",
        "from sklearn.utils.class_weight import compute_class_weight\n",
        "import tensorflow as tf\n",
        "from tensorflow.keras.models import Sequential\n",
        "from tensorflow.keras.layers import Dense, Dropout, BatchNormalization\n",
        "from tensorflow.keras.utils import to_categorical\n",
        "from tensorflow.keras.optimizers import Adam\n",
        "from tensorflow.keras.callbacks import EarlyStopping, ReduceLROnPlateau\n",
        "import shap\n",
        "import matplotlib.pyplot as plt\n",
        "import seaborn as sns\n",
        "\n",
        "\n",
        "import warnings\n",
        "warnings.filterwarnings('ignore')"
      ]
    },
    {
      "cell_type": "code",
      "execution_count": 2,
      "id": "61FcphWICNyl",
      "metadata": {
        "colab": {
          "base_uri": "https://localhost:8080/",
          "height": 0
        },
        "id": "61FcphWICNyl",
        "outputId": "42e05064-75cf-467d-e456-b87bfb58f4c8"
      },
      "outputs": [
        {
          "output_type": "stream",
          "name": "stdout",
          "text": [
            "Mounted at /content/drive\n"
          ]
        }
      ],
      "source": [
        "from google.colab import drive\n",
        "drive.mount('/content/drive')"
      ]
    },
    {
      "cell_type": "code",
      "execution_count": 3,
      "id": "72b410b8-ed96-4e27-bf0e-050fbb811305",
      "metadata": {
        "id": "72b410b8-ed96-4e27-bf0e-050fbb811305"
      },
      "outputs": [],
      "source": [
        "df_crashes = pd.read_csv('/content/drive/MyDrive/Phase4/Project/P4Dataset/Refined_Traffic_Crashes_-_Crashes_20250412.csv', low_memory=False)\n",
        "df_people = pd.read_csv('/content/drive/MyDrive/Phase4/Project/P4Dataset/df_people_cleaned.csv', low_memory=False)\n",
        "df_vehicles = pd.read_csv('/content/drive/MyDrive/Phase4/Project/P4Dataset/df_vehicles_cleaned.csv', low_memory=False)"
      ]
    },
    {
      "cell_type": "code",
      "execution_count": 4,
      "id": "90f606d2-5ef3-4bef-9d8f-678f6a116925",
      "metadata": {
        "id": "90f606d2-5ef3-4bef-9d8f-678f6a116925"
      },
      "outputs": [],
      "source": [
        "#lets focus only on drivers\n",
        "df_people1=df_people[df_people[\"PERSON_TYPE\"]==\"DRIVER\"]"
      ]
    },
    {
      "cell_type": "markdown",
      "id": "8sjMHkW0C0Xv",
      "metadata": {
        "id": "8sjMHkW0C0Xv"
      },
      "source": [
        "# Data Cleaning"
      ]
    },
    {
      "cell_type": "code",
      "execution_count": 5,
      "id": "7852c673-6667-46ce-9882-c2509c121b53",
      "metadata": {
        "id": "7852c673-6667-46ce-9882-c2509c121b53"
      },
      "outputs": [],
      "source": [
        "df_driver = pd.merge(df_vehicles, df_people1, on='CRASH_RECORD_ID', how='inner')"
      ]
    },
    {
      "cell_type": "code",
      "execution_count": 6,
      "id": "5a864eac-d196-48b5-8ef3-39d3f583dc65",
      "metadata": {
        "id": "5a864eac-d196-48b5-8ef3-39d3f583dc65"
      },
      "outputs": [],
      "source": [
        "#joining the crash dataframe to the new dataframe\n",
        "merged_df = pd.merge(df_crashes, df_driver, on='CRASH_RECORD_ID', how='inner')\n"
      ]
    },
    {
      "cell_type": "markdown",
      "id": "JzzaqdnoKFBC",
      "metadata": {
        "id": "JzzaqdnoKFBC"
      },
      "source": [
        "## Target Grouping"
      ]
    },
    {
      "cell_type": "code",
      "execution_count": 7,
      "id": "428aca95-8fd3-4311-a7e9-c3f73689e9c2",
      "metadata": {
        "colab": {
          "base_uri": "https://localhost:8080/",
          "height": 0
        },
        "id": "428aca95-8fd3-4311-a7e9-c3f73689e9c2",
        "outputId": "4f11efc0-4eeb-4073-995d-61e93bc52781"
      },
      "outputs": [
        {
          "output_type": "execute_result",
          "data": {
            "text/plain": [
              "array(['FAILING TO YIELD RIGHT-OF-WAY', 'UNABLE TO DETERMINE',\n",
              "       'IMPROPER TURNING/NO SIGNAL', 'DISREGARDING TRAFFIC SIGNALS',\n",
              "       'IMPROPER BACKING', 'FOLLOWING TOO CLOSELY',\n",
              "       'FAILING TO REDUCE SPEED TO AVOID CRASH',\n",
              "       'IMPROPER OVERTAKING/PASSING', 'TURNING RIGHT ON RED',\n",
              "       'IMPROPER LANE USAGE', 'NOT APPLICABLE',\n",
              "       'DRIVING ON WRONG SIDE/WRONG WAY', 'DISREGARDING STOP SIGN',\n",
              "       'DISREGARDING ROAD MARKINGS',\n",
              "       'OPERATING VEHICLE IN ERRATIC, RECKLESS, CARELESS, NEGLIGENT OR AGGRESSIVE MANNER',\n",
              "       'WEATHER', 'EQUIPMENT - VEHICLE CONDITION',\n",
              "       'DRIVING SKILLS/KNOWLEDGE/EXPERIENCE',\n",
              "       'PHYSICAL CONDITION OF DRIVER',\n",
              "       'UNDER THE INFLUENCE OF ALCOHOL/DRUGS (USE WHEN ARREST IS EFFECTED)',\n",
              "       'EVASIVE ACTION DUE TO ANIMAL, OBJECT, NONMOTORIST',\n",
              "       'VISION OBSCURED (SIGNS, TREE LIMBS, BUILDINGS, ETC.)',\n",
              "       'DISTRACTION - FROM INSIDE VEHICLE', 'ANIMAL',\n",
              "       'DISTRACTION - FROM OUTSIDE VEHICLE',\n",
              "       'CELL PHONE USE OTHER THAN TEXTING',\n",
              "       'HAD BEEN DRINKING (USE WHEN ARREST IS NOT MADE)',\n",
              "       'OBSTRUCTED CROSSWALKS', 'RELATED TO BUS STOP',\n",
              "       'DISREGARDING OTHER TRAFFIC SIGNS',\n",
              "       'ROAD ENGINEERING/SURFACE/MARKING DEFECTS',\n",
              "       'ROAD CONSTRUCTION/MAINTENANCE', 'TEXTING',\n",
              "       'DISREGARDING YIELD SIGN',\n",
              "       'DISTRACTION - OTHER ELECTRONIC DEVICE (NAVIGATION DEVICE, DVD PLAYER, ETC.)',\n",
              "       'BICYCLE ADVANCING LEGALLY ON RED LIGHT',\n",
              "       'PASSING STOPPED SCHOOL BUS', 'EXCEEDING AUTHORIZED SPEED LIMIT',\n",
              "       'EXCEEDING SAFE SPEED FOR CONDITIONS',\n",
              "       'MOTORCYCLE ADVANCING LEGALLY ON RED LIGHT'], dtype=object)"
            ]
          },
          "metadata": {},
          "execution_count": 7
        }
      ],
      "source": [
        "merged_df[\"PRIM_CONTRIBUTORY_CAUSE\"].unique()"
      ]
    },
    {
      "cell_type": "code",
      "execution_count": 8,
      "id": "defd2652-d64b-4724-af71-e33db2d7158f",
      "metadata": {
        "id": "defd2652-d64b-4724-af71-e33db2d7158f"
      },
      "outputs": [],
      "source": [
        "#changing the y to fewer levels\n",
        "cause_map = {\n",
        "    #  Driver Behavior\n",
        "    'FOLLOWING TOO CLOSELY': 'Driver Behavior',\n",
        "    'FAILING TO REDUCE SPEED TO AVOID CRASH': 'Driver Behavior',\n",
        "    'IMPROPER BACKING': 'Driver Behavior',\n",
        "    'IMPROPER TURNING/NO SIGNAL': 'Driver Behavior',\n",
        "    'IMPROPER LANE USAGE': 'Driver Behavior',\n",
        "    'IMPROPER OVERTAKING/PASSING': 'Driver Behavior',\n",
        "    'DRIVING ON WRONG SIDE/WRONG WAY': 'Driver Behavior',\n",
        "    'OPERATING VEHICLE IN ERRATIC, RECKLESS, CARELESS, NEGLIGENT OR AGGRESSIVE MANNER': 'Driver Behavior',\n",
        "    'EXCEEDING AUTHORIZED SPEED LIMIT': 'Driver Behavior',\n",
        "    'EXCEEDING SAFE SPEED FOR CONDITIONS': 'Driver Behavior',\n",
        "\n",
        "    # Distraction\n",
        "    'DISTRACTION - FROM INSIDE VEHICLE': 'Distraction',\n",
        "    'DISTRACTION - FROM OUTSIDE VEHICLE': 'Distraction',\n",
        "    'DISTRACTION - OTHER ELECTRONIC DEVICE (NAVIGATION DEVICE, DVD PLAYER, ETC.)': 'Distraction',\n",
        "    'TEXTING': 'Distraction',\n",
        "    'CELL PHONE USE OTHER THAN TEXTING': 'Distraction',\n",
        "\n",
        "    # Traffic Rule Violations\n",
        "    'FAILING TO YIELD RIGHT-OF-WAY': 'Traffic Violations',\n",
        "    'DISREGARDING OTHER TRAFFIC SIGNS': 'Traffic Violations',\n",
        "    'DISREGARDING TRAFFIC SIGNALS': 'Traffic Violations',\n",
        "    'DISREGARDING ROAD MARKINGS': 'Traffic Violations',\n",
        "    'DISREGARDING STOP SIGN': 'Traffic Violations',\n",
        "    'DISREGARDING YIELD SIGN': 'Traffic Violations',\n",
        "    'TURNING RIGHT ON RED': 'Traffic Violations',\n",
        "\n",
        "    # Environmental Factors\n",
        "    'WEATHER': 'Environment',\n",
        "    'VISION OBSCURED (SIGNS, TREE LIMBS, BUILDINGS, ETC.)': 'Environment',\n",
        "    'ROAD ENGINEERING/SURFACE/MARKING DEFECTS': 'Environment',\n",
        "    'ROAD CONSTRUCTION/MAINTENANCE': 'Environment',\n",
        "    'OBSTRUCTED CROSSWALKS': 'Environment',\n",
        "\n",
        "    # Substance Use\n",
        "    'UNDER THE INFLUENCE OF ALCOHOL/DRUGS (USE WHEN ARREST IS EFFECTED)': 'Substance Use',\n",
        "    'HAD BEEN DRINKING (USE WHEN ARREST IS NOT MADE)': 'Substance Use',\n",
        "\n",
        "    #Vehicle/Driver Condition\n",
        "    'EQUIPMENT - VEHICLE CONDITION': 'Vehicle or Driver Condition',\n",
        "    'DRIVING SKILLS/KNOWLEDGE/EXPERIENCE': 'Vehicle or Driver Condition',\n",
        "    'PHYSICAL CONDITION OF DRIVER': 'Vehicle or Driver Condition',\n",
        "\n",
        "    #Other / Unusual Situations\n",
        "    'RELATED TO BUS STOP': 'Other or Unusual',\n",
        "    'PASSING STOPPED SCHOOL BUS': 'Other or Unusual',\n",
        "    'EVASIVE ACTION DUE TO ANIMAL, OBJECT, NONMOTORIST': 'Other or Unusual',\n",
        "    'ANIMAL': 'Other or Unusual',\n",
        "    'BICYCLE ADVANCING LEGALLY ON RED LIGHT': 'Other or Unusual',\n",
        "    'MOTORCYCLE ADVANCING LEGALLY ON RED LIGHT': 'Other or Unusual',\n",
        "\n",
        "    #Unknown / Not Applicable\n",
        "    'UNABLE TO DETERMINE': 'Unknown/NA',\n",
        "    'NOT APPLICABLE': 'Unknown/NA'\n",
        "}\n",
        "\n",
        "# Apply the mapping\n",
        "merged_df[\"PRIM_CONTRIBUTORY_CAUSE\"]= merged_df[\"PRIM_CONTRIBUTORY_CAUSE\"].map(cause_map)"
      ]
    },
    {
      "cell_type": "markdown",
      "id": "07PbteX8KM9P",
      "metadata": {
        "id": "07PbteX8KM9P"
      },
      "source": [
        "## Missing Values"
      ]
    },
    {
      "cell_type": "code",
      "execution_count": 9,
      "id": "d095d515-a467-44c6-acdb-c73d6c7c0f8c",
      "metadata": {
        "colab": {
          "base_uri": "https://localhost:8080/",
          "height": 1212
        },
        "id": "d095d515-a467-44c6-acdb-c73d6c7c0f8c",
        "outputId": "90e0b38a-4a6a-4a51-c32f-1e1ad38e8257"
      },
      "outputs": [
        {
          "output_type": "execute_result",
          "data": {
            "text/plain": [
              "CRASH_RECORD_ID              0.000000\n",
              "CRASH_DATE                   0.000000\n",
              "POSTED_SPEED_LIMIT           0.000000\n",
              "TRAFFIC_CONTROL_DEVICE       0.000000\n",
              "DEVICE_CONDITION             0.000000\n",
              "WEATHER_CONDITION            0.000000\n",
              "LIGHTING_CONDITION           0.000000\n",
              "FIRST_CRASH_TYPE             0.000000\n",
              "TRAFFICWAY_TYPE              0.000000\n",
              "ROADWAY_SURFACE_COND         0.000000\n",
              "ROAD_DEFECT                  0.000000\n",
              "PRIM_CONTRIBUTORY_CAUSE      0.000000\n",
              "SEC_CONTRIBUTORY_CAUSE       0.000000\n",
              "BEAT_OF_OCCURRENCE           0.000599\n",
              "NUM_UNITS                    0.000000\n",
              "CRASH_HOUR                   0.000000\n",
              "CRASH_DAY_OF_WEEK            0.000000\n",
              "CRASH_MONTH                  0.000000\n",
              "LOCATION                     0.748181\n",
              "VEHICLE_YEAR                15.488196\n",
              "VEHICLE_DEFECT               1.416483\n",
              "VEHICLE_TYPE                 1.416483\n",
              "MANEUVER                     1.416483\n",
              "EXCEED_SPEED_LIMIT_I        99.875927\n",
              "PERSON_TYPE                  0.000000\n",
              "SEX                          0.006082\n",
              "AGE                         26.751152\n",
              "DRIVER_ACTION                0.000000\n",
              "DRIVER_VISION                0.000000\n",
              "PHYSICAL_CONDITION           0.000000\n",
              "PEDPEDAL_ACTION            100.000000\n",
              "PEDPEDAL_VISIBILITY        100.000000\n",
              "PEDPEDAL_LOCATION          100.000000\n",
              "BAC_RESULT                   0.000000\n",
              "BAC_RESULT VALUE            99.840542\n",
              "CELL_PHONE_USE              99.929649\n",
              "dtype: float64"
            ],
            "text/html": [
              "<div>\n",
              "<style scoped>\n",
              "    .dataframe tbody tr th:only-of-type {\n",
              "        vertical-align: middle;\n",
              "    }\n",
              "\n",
              "    .dataframe tbody tr th {\n",
              "        vertical-align: top;\n",
              "    }\n",
              "\n",
              "    .dataframe thead th {\n",
              "        text-align: right;\n",
              "    }\n",
              "</style>\n",
              "<table border=\"1\" class=\"dataframe\">\n",
              "  <thead>\n",
              "    <tr style=\"text-align: right;\">\n",
              "      <th></th>\n",
              "      <th>0</th>\n",
              "    </tr>\n",
              "  </thead>\n",
              "  <tbody>\n",
              "    <tr>\n",
              "      <th>CRASH_RECORD_ID</th>\n",
              "      <td>0.000000</td>\n",
              "    </tr>\n",
              "    <tr>\n",
              "      <th>CRASH_DATE</th>\n",
              "      <td>0.000000</td>\n",
              "    </tr>\n",
              "    <tr>\n",
              "      <th>POSTED_SPEED_LIMIT</th>\n",
              "      <td>0.000000</td>\n",
              "    </tr>\n",
              "    <tr>\n",
              "      <th>TRAFFIC_CONTROL_DEVICE</th>\n",
              "      <td>0.000000</td>\n",
              "    </tr>\n",
              "    <tr>\n",
              "      <th>DEVICE_CONDITION</th>\n",
              "      <td>0.000000</td>\n",
              "    </tr>\n",
              "    <tr>\n",
              "      <th>WEATHER_CONDITION</th>\n",
              "      <td>0.000000</td>\n",
              "    </tr>\n",
              "    <tr>\n",
              "      <th>LIGHTING_CONDITION</th>\n",
              "      <td>0.000000</td>\n",
              "    </tr>\n",
              "    <tr>\n",
              "      <th>FIRST_CRASH_TYPE</th>\n",
              "      <td>0.000000</td>\n",
              "    </tr>\n",
              "    <tr>\n",
              "      <th>TRAFFICWAY_TYPE</th>\n",
              "      <td>0.000000</td>\n",
              "    </tr>\n",
              "    <tr>\n",
              "      <th>ROADWAY_SURFACE_COND</th>\n",
              "      <td>0.000000</td>\n",
              "    </tr>\n",
              "    <tr>\n",
              "      <th>ROAD_DEFECT</th>\n",
              "      <td>0.000000</td>\n",
              "    </tr>\n",
              "    <tr>\n",
              "      <th>PRIM_CONTRIBUTORY_CAUSE</th>\n",
              "      <td>0.000000</td>\n",
              "    </tr>\n",
              "    <tr>\n",
              "      <th>SEC_CONTRIBUTORY_CAUSE</th>\n",
              "      <td>0.000000</td>\n",
              "    </tr>\n",
              "    <tr>\n",
              "      <th>BEAT_OF_OCCURRENCE</th>\n",
              "      <td>0.000599</td>\n",
              "    </tr>\n",
              "    <tr>\n",
              "      <th>NUM_UNITS</th>\n",
              "      <td>0.000000</td>\n",
              "    </tr>\n",
              "    <tr>\n",
              "      <th>CRASH_HOUR</th>\n",
              "      <td>0.000000</td>\n",
              "    </tr>\n",
              "    <tr>\n",
              "      <th>CRASH_DAY_OF_WEEK</th>\n",
              "      <td>0.000000</td>\n",
              "    </tr>\n",
              "    <tr>\n",
              "      <th>CRASH_MONTH</th>\n",
              "      <td>0.000000</td>\n",
              "    </tr>\n",
              "    <tr>\n",
              "      <th>LOCATION</th>\n",
              "      <td>0.748181</td>\n",
              "    </tr>\n",
              "    <tr>\n",
              "      <th>VEHICLE_YEAR</th>\n",
              "      <td>15.488196</td>\n",
              "    </tr>\n",
              "    <tr>\n",
              "      <th>VEHICLE_DEFECT</th>\n",
              "      <td>1.416483</td>\n",
              "    </tr>\n",
              "    <tr>\n",
              "      <th>VEHICLE_TYPE</th>\n",
              "      <td>1.416483</td>\n",
              "    </tr>\n",
              "    <tr>\n",
              "      <th>MANEUVER</th>\n",
              "      <td>1.416483</td>\n",
              "    </tr>\n",
              "    <tr>\n",
              "      <th>EXCEED_SPEED_LIMIT_I</th>\n",
              "      <td>99.875927</td>\n",
              "    </tr>\n",
              "    <tr>\n",
              "      <th>PERSON_TYPE</th>\n",
              "      <td>0.000000</td>\n",
              "    </tr>\n",
              "    <tr>\n",
              "      <th>SEX</th>\n",
              "      <td>0.006082</td>\n",
              "    </tr>\n",
              "    <tr>\n",
              "      <th>AGE</th>\n",
              "      <td>26.751152</td>\n",
              "    </tr>\n",
              "    <tr>\n",
              "      <th>DRIVER_ACTION</th>\n",
              "      <td>0.000000</td>\n",
              "    </tr>\n",
              "    <tr>\n",
              "      <th>DRIVER_VISION</th>\n",
              "      <td>0.000000</td>\n",
              "    </tr>\n",
              "    <tr>\n",
              "      <th>PHYSICAL_CONDITION</th>\n",
              "      <td>0.000000</td>\n",
              "    </tr>\n",
              "    <tr>\n",
              "      <th>PEDPEDAL_ACTION</th>\n",
              "      <td>100.000000</td>\n",
              "    </tr>\n",
              "    <tr>\n",
              "      <th>PEDPEDAL_VISIBILITY</th>\n",
              "      <td>100.000000</td>\n",
              "    </tr>\n",
              "    <tr>\n",
              "      <th>PEDPEDAL_LOCATION</th>\n",
              "      <td>100.000000</td>\n",
              "    </tr>\n",
              "    <tr>\n",
              "      <th>BAC_RESULT</th>\n",
              "      <td>0.000000</td>\n",
              "    </tr>\n",
              "    <tr>\n",
              "      <th>BAC_RESULT VALUE</th>\n",
              "      <td>99.840542</td>\n",
              "    </tr>\n",
              "    <tr>\n",
              "      <th>CELL_PHONE_USE</th>\n",
              "      <td>99.929649</td>\n",
              "    </tr>\n",
              "  </tbody>\n",
              "</table>\n",
              "</div><br><label><b>dtype:</b> float64</label>"
            ]
          },
          "metadata": {},
          "execution_count": 9
        }
      ],
      "source": [
        "merged_df.isna().mean()*100"
      ]
    },
    {
      "cell_type": "code",
      "execution_count": 10,
      "id": "obO0s-g6WvF0",
      "metadata": {
        "id": "obO0s-g6WvF0"
      },
      "outputs": [],
      "source": [
        "merged_df = merged_df.loc[:, merged_df.isna().mean() <= 0.9]"
      ]
    },
    {
      "cell_type": "code",
      "execution_count": 11,
      "id": "7c36cad9-7e3c-478f-9be7-4bee066d836d",
      "metadata": {
        "id": "7c36cad9-7e3c-478f-9be7-4bee066d836d"
      },
      "outputs": [],
      "source": [
        "merged_df = merged_df.dropna()"
      ]
    },
    {
      "cell_type": "markdown",
      "id": "nPAk9bO0Kc6O",
      "metadata": {
        "id": "nPAk9bO0Kc6O"
      },
      "source": [
        "## Feature grouping & reduction"
      ]
    },
    {
      "cell_type": "code",
      "execution_count": 12,
      "id": "c96f41eb-062e-4259-a7d3-258f5c787915",
      "metadata": {
        "colab": {
          "base_uri": "https://localhost:8080/",
          "height": 0
        },
        "id": "c96f41eb-062e-4259-a7d3-258f5c787915",
        "outputId": "66fcb807-cee0-4e8f-87ae-54a75907eb85"
      },
      "outputs": [
        {
          "output_type": "execute_result",
          "data": {
            "text/plain": [
              "array(['STOP SIGN/FLASHER', 'NO CONTROLS', 'TRAFFIC SIGNAL', 'UNKNOWN',\n",
              "       'OTHER', 'PEDESTRIAN CROSSING SIGN', 'RR CROSSING SIGN', 'YIELD',\n",
              "       'OTHER REG. SIGN', 'OTHER WARNING SIGN', 'SCHOOL ZONE',\n",
              "       'RAILROAD CROSSING GATE', 'OTHER RAILROAD CROSSING',\n",
              "       'FLASHING CONTROL SIGNAL', 'POLICE/FLAGMAN', 'DELINEATORS',\n",
              "       'LANE USE MARKING', 'NO PASSING', 'BICYCLE CROSSING SIGN'],\n",
              "      dtype=object)"
            ]
          },
          "metadata": {},
          "execution_count": 12
        }
      ],
      "source": [
        "merged_df['TRAFFIC_CONTROL_DEVICE'].unique()"
      ]
    },
    {
      "cell_type": "code",
      "execution_count": 13,
      "id": "2d52b2f2-1363-42c6-a248-e604e4a25ade",
      "metadata": {
        "id": "2d52b2f2-1363-42c6-a248-e604e4a25ade"
      },
      "outputs": [],
      "source": [
        "#reducing the number of levels\n",
        "control_map = {\n",
        "    'PEDESTRIAN CROSSING SIGN': 'Pedestrian Control',\n",
        "    'BICYCLE CROSSING SIGN': 'Pedestrian Control',\n",
        "    'SCHOOL ZONE': 'Pedestrian Control',\n",
        "\n",
        "    'RAILROAD CROSSING GATE': 'Railroad Control',\n",
        "    'RR CROSSING SIGN': 'Railroad Control',\n",
        "    'OTHER RAILROAD CROSSING': 'Railroad Control',\n",
        "\n",
        "    'DELINEATORS': 'Other'\n",
        "}\n",
        "merged_df['TRAFFIC_CONTROL_DEVICE'] = merged_df['TRAFFIC_CONTROL_DEVICE'].map(control_map)"
      ]
    },
    {
      "cell_type": "code",
      "execution_count": 14,
      "id": "7e21d43a-41dd-44e1-95b2-2493d1888beb",
      "metadata": {
        "colab": {
          "base_uri": "https://localhost:8080/",
          "height": 0
        },
        "id": "7e21d43a-41dd-44e1-95b2-2493d1888beb",
        "outputId": "782a6e68-92bc-4c54-a6fc-b5d05bd76833"
      },
      "outputs": [
        {
          "output_type": "execute_result",
          "data": {
            "text/plain": [
              "array(['ANGLE', 'FIXED OBJECT', 'TURNING', 'REAR TO FRONT',\n",
              "       'PARKED MOTOR VEHICLE', 'SIDESWIPE OPPOSITE DIRECTION', 'REAR END',\n",
              "       'SIDESWIPE SAME DIRECTION', 'PEDALCYCLIST', 'HEAD ON',\n",
              "       'OTHER OBJECT', 'PEDESTRIAN', 'REAR TO SIDE', 'REAR TO REAR',\n",
              "       'ANIMAL', 'OVERTURNED', 'OTHER NONCOLLISION', 'TRAIN'],\n",
              "      dtype=object)"
            ]
          },
          "metadata": {},
          "execution_count": 14
        }
      ],
      "source": [
        "merged_df['FIRST_CRASH_TYPE'].unique()"
      ]
    },
    {
      "cell_type": "code",
      "execution_count": 15,
      "id": "76ebe46d-114a-49a1-a678-166778451340",
      "metadata": {
        "id": "76ebe46d-114a-49a1-a678-166778451340"
      },
      "outputs": [],
      "source": [
        "crash_type_map = {\n",
        "    # Vehicle-to-Vehicle\n",
        "    'REAR END': 'Vehicle Collision',\n",
        "    'HEAD ON': 'Vehicle Collision',\n",
        "    'ANGLE': 'Vehicle Collision',\n",
        "    'TURNING': 'Vehicle Collision',\n",
        "    'SIDESWIPE SAME DIRECTION': 'Vehicle Collision',\n",
        "    'SIDESWIPE OPPOSITE DIRECTION': 'Vehicle Collision',\n",
        "    'REAR TO FRONT': 'Vehicle Collision',\n",
        "    'REAR TO REAR': 'Vehicle Collision',\n",
        "    'REAR TO SIDE': 'Vehicle Collision',\n",
        "\n",
        "    # Vulnerable Road Users\n",
        "    'PEDESTRIAN': 'Vulnerable User',\n",
        "    'PEDALCYCLIST': 'Vulnerable User',\n",
        "\n",
        "    # Stationary or Object\n",
        "    'FIXED OBJECT': 'Fixed Object',\n",
        "    'PARKED MOTOR VEHICLE': 'Fixed Object',\n",
        "    'OTHER OBJECT': 'Fixed Object',\n",
        "    'OTHER NONCOLLISION': 'Fixed Object',\n",
        "\n",
        "    # Other or Special Cases\n",
        "    'TRAIN': 'Special',\n",
        "    'ANIMAL': 'Special',\n",
        "    'OVERTURNED': 'Special'\n",
        "}\n",
        "merged_df['FIRST_CRASH_TYPE'] = merged_df['FIRST_CRASH_TYPE'].map(crash_type_map)"
      ]
    },
    {
      "cell_type": "code",
      "execution_count": 16,
      "id": "178dd295-baad-479a-81cf-129b7f6f8e78",
      "metadata": {
        "colab": {
          "base_uri": "https://localhost:8080/",
          "height": 0
        },
        "id": "178dd295-baad-479a-81cf-129b7f6f8e78",
        "outputId": "0443ba30-1e0e-4eeb-d084-aa2489a4ab43"
      },
      "outputs": [
        {
          "output_type": "execute_result",
          "data": {
            "text/plain": [
              "array(['NOT DIVIDED', 'RAMP', 'FOUR WAY', 'DIVIDED - W/MEDIAN BARRIER',\n",
              "       'PARKING LOT', 'DIVIDED - W/MEDIAN (NOT RAISED)', 'UNKNOWN',\n",
              "       'Y-INTERSECTION', 'ONE-WAY', 'OTHER', 'ROUNDABOUT',\n",
              "       'UNKNOWN INTERSECTION TYPE', 'T-INTERSECTION',\n",
              "       'FIVE POINT, OR MORE', 'ALLEY', 'TRAFFIC ROUTE', 'NOT REPORTED',\n",
              "       'CENTER TURN LANE', 'DRIVEWAY', 'L-INTERSECTION'], dtype=object)"
            ]
          },
          "metadata": {},
          "execution_count": 16
        }
      ],
      "source": [
        "merged_df['TRAFFICWAY_TYPE'].unique()"
      ]
    },
    {
      "cell_type": "code",
      "execution_count": 17,
      "id": "122d6559-3c12-4566-b47e-c1cac0cf6ef3",
      "metadata": {
        "id": "122d6559-3c12-4566-b47e-c1cac0cf6ef3"
      },
      "outputs": [],
      "source": [
        "intersection_map = {\n",
        "    # Common intersections\n",
        "    'FOUR WAY': 'Intersection',\n",
        "    'T-INTERSECTION': 'Intersection',\n",
        "    'Y-INTERSECTION': 'Intersection',\n",
        "    'L-INTERSECTION': 'Intersection',\n",
        "    'FIVE POINT, OR MORE': 'Intersection',\n",
        "    'ROUNDABOUT': 'Intersection',\n",
        "\n",
        "    # Divided roads\n",
        "    'DIVIDED - W/MEDIAN BARRIER': 'Divided Road',\n",
        "    'DIVIDED - W/MEDIAN (NOT RAISED)': 'Divided Road',\n",
        "\n",
        "    # Non-divided\n",
        "    'NOT DIVIDED': 'Undivided Road',\n",
        "    'ONE-WAY': 'Undivided Road',\n",
        "    'CENTER TURN LANE': 'Undivided Road',\n",
        "\n",
        "    # Special or non-road spaces\n",
        "    'PARKING LOT': 'Other Road Environment',\n",
        "    'RAMP': 'Other Road Environment',\n",
        "    'ALLEY': 'Other Road Environment',\n",
        "    'DRIVEWAY': 'Other Road Environment',\n",
        "    'TRAFFIC ROUTE': 'Other Road Environment',\n",
        "\n",
        "    # Unknowns & misc\n",
        "    'UNKNOWN': 'Unknown',\n",
        "    'UNKNOWN INTERSECTION TYPE': 'Unknown',\n",
        "    'NOT REPORTED': 'Unknown',\n",
        "    'OTHER': 'Other'\n",
        "}\n",
        "merged_df['TRAFFICWAY_TYPE'] = merged_df['TRAFFICWAY_TYPE'].map(intersection_map)"
      ]
    },
    {
      "cell_type": "code",
      "execution_count": 18,
      "id": "3e7e1ae4-c3ef-48cf-82e0-eefafdeaffb3",
      "metadata": {
        "id": "3e7e1ae4-c3ef-48cf-82e0-eefafdeaffb3"
      },
      "outputs": [],
      "source": [
        "merged_df['SEX'].unique()\n",
        "merged_df['SEX'] = merged_df['SEX'].replace('X', 'Unspecified')"
      ]
    },
    {
      "cell_type": "code",
      "execution_count": 19,
      "id": "b5c9d918-e747-427d-aea2-b8cec47d5649",
      "metadata": {
        "colab": {
          "base_uri": "https://localhost:8080/",
          "height": 0
        },
        "id": "b5c9d918-e747-427d-aea2-b8cec47d5649",
        "outputId": "a104c429-94a5-44bc-d7ac-544dbec8e1ca"
      },
      "outputs": [
        {
          "output_type": "execute_result",
          "data": {
            "text/plain": [
              "array(['FAILED TO YIELD', 'NONE', 'IMPROPER TURN', 'IMPROPER BACKING',\n",
              "       'DISREGARDED CONTROL DEVICES', 'UNKNOWN', 'FOLLOWED TOO CLOSELY',\n",
              "       'IMPROPER PARKING', 'OTHER', 'OVERCORRECTED',\n",
              "       'IMPROPER LANE CHANGE', 'EMERGENCY VEHICLE ON CALL',\n",
              "       'TOO FAST FOR CONDITIONS', 'IMPROPER PASSING', 'WRONG WAY/SIDE',\n",
              "       'STOPPED SCHOOL BUS', 'CELL PHONE USE OTHER THAN TEXTING',\n",
              "       'EVADING POLICE VEHICLE', 'TEXTING', 'LICENSE RESTRICTIONS'],\n",
              "      dtype=object)"
            ]
          },
          "metadata": {},
          "execution_count": 19
        }
      ],
      "source": [
        "merged_df['DRIVER_ACTION'].unique()"
      ]
    },
    {
      "cell_type": "code",
      "execution_count": 20,
      "id": "3766b56b-2542-4e69-9533-8021be6542e0",
      "metadata": {
        "id": "3766b56b-2542-4e69-9533-8021be6542e0"
      },
      "outputs": [],
      "source": [
        "driver_action_map = {\n",
        "    # Common driving violations\n",
        "    'FAILED TO YIELD': 'Failure to Yield',\n",
        "    'DISREGARDED CONTROL DEVICES': 'Traffic Violation',\n",
        "    'WRONG WAY/SIDE': 'Traffic Violation',\n",
        "    'STOPPED SCHOOL BUS': 'Traffic Violation',\n",
        "\n",
        "    # Speed and spacing\n",
        "    'TOO FAST FOR CONDITIONS': 'Unsafe Speed',\n",
        "    'FOLLOWED TOO CLOSELY': 'Unsafe Speed',\n",
        "\n",
        "    # Maneuver-related\n",
        "    'IMPROPER TURN': 'Improper Maneuver',\n",
        "    'IMPROPER LANE CHANGE': 'Improper Maneuver',\n",
        "    'IMPROPER BACKING': 'Improper Maneuver',\n",
        "    'IMPROPER PASSING': 'Improper Maneuver',\n",
        "    'IMPROPER PARKING': 'Improper Maneuver',\n",
        "    'OVERCORRECTED': 'Improper Maneuver',\n",
        "\n",
        "    # Distraction\n",
        "    'TEXTING': 'Distracted',\n",
        "    'CELL PHONE USE OTHER THAN TEXTING': 'Distracted',\n",
        "\n",
        "    # Legal / unusual edge cases\n",
        "    'LICENSE RESTRICTIONS': 'Legal Issue',\n",
        "    'EMERGENCY VEHICLE ON CALL': 'Special Vehicle Action',\n",
        "    'EVADING POLICE VEHICLE': 'Evasive/Illegal Action',\n",
        "\n",
        "    # General\n",
        "    'NONE': 'None',\n",
        "    'UNKNOWN': 'Unknown',\n",
        "    'OTHER': 'Other'\n",
        "}\n",
        "merged_df['DRIVER_ACTION'] = merged_df['DRIVER_ACTION'].map(driver_action_map)"
      ]
    },
    {
      "cell_type": "code",
      "execution_count": 21,
      "id": "6ee2f665-fe87-4297-be76-d7e692ad8111",
      "metadata": {
        "colab": {
          "base_uri": "https://localhost:8080/",
          "height": 0
        },
        "id": "6ee2f665-fe87-4297-be76-d7e692ad8111",
        "outputId": "f7228163-d314-4588-8ff6-648e76352827"
      },
      "outputs": [
        {
          "output_type": "execute_result",
          "data": {
            "text/plain": [
              "array(['NOT OBSCURED', 'UNKNOWN', 'PARKED VEHICLES', 'OTHER',\n",
              "       'MOVING VEHICLES', 'WINDSHIELD (WATER/ICE)', 'BLINDED - SUNLIGHT',\n",
              "       'SIGNBOARD', 'BUILDINGS', 'TREES, PLANTS', 'BLINDED - HEADLIGHTS',\n",
              "       'BLOWING MATERIALS', 'EMBANKMENT', 'HILLCREST'], dtype=object)"
            ]
          },
          "metadata": {},
          "execution_count": 21
        }
      ],
      "source": [
        "merged_df['DRIVER_VISION'].unique()"
      ]
    },
    {
      "cell_type": "code",
      "execution_count": 22,
      "id": "7e8d69da-c113-444e-8ea9-b9bf324b3069",
      "metadata": {
        "id": "7e8d69da-c113-444e-8ea9-b9bf324b3069"
      },
      "outputs": [],
      "source": [
        "driver_vision_map = {\n",
        "    'NOT OBSCURED': 'Clear Vision',\n",
        "    'UNKNOWN': 'Unknown',\n",
        "    'OTHER': 'Other',\n",
        "\n",
        "    # Light-related visibility issues\n",
        "    'BLINDED - SUNLIGHT': 'Glare',\n",
        "    'BLINDED - HEADLIGHTS': 'Glare',\n",
        "\n",
        "    # Environmental/material obstruction\n",
        "    'BLOWING MATERIALS': 'Environmental Obstruction',\n",
        "    'WINDSHIELD (WATER/ICE)': 'Environmental Obstruction',\n",
        "\n",
        "    # Physical/static object obstruction\n",
        "    'MOVING VEHICLES': 'Vehicle Obstruction',\n",
        "    'PARKED VEHICLES': 'Vehicle Obstruction',\n",
        "    'HILLCREST': 'Physical Obstruction',\n",
        "    'TREES, PLANTS': 'Physical Obstruction',\n",
        "    'BUILDINGS': 'Physical Obstruction',\n",
        "    'SIGNBOARD': 'Physical Obstruction',\n",
        "    'EMBANKMENT': 'Physical Obstruction'\n",
        "}\n",
        "merged_df['DRIVER_VISION'] = merged_df['DRIVER_VISION'].map(driver_vision_map)"
      ]
    },
    {
      "cell_type": "code",
      "execution_count": 23,
      "id": "yKukQzBHzX4l",
      "metadata": {
        "id": "yKukQzBHzX4l"
      },
      "outputs": [],
      "source": [
        "sec_cause_map = {\n",
        "    'DISTRACTION - FROM INSIDE VEHICLE': 'Distraction',\n",
        "    'DISTRACTION - FROM OUTSIDE VEHICLE': 'Distraction',\n",
        "    'DISTRACTION - OTHER ELECTRONIC DEVICE (NAVIGATION DEVICE, DVD PLAYER, ETC.)': 'Distraction',\n",
        "    'TEXTING': 'Distraction',\n",
        "    'CELL PHONE USE OTHER THAN TEXTING': 'Distraction',\n",
        "    'UNABLE TO DETERMINE': 'Unknown/NA',\n",
        "    'NOT APPLICABLE': 'Unknown/NA',\n",
        "    'WEATHER': 'Environment',\n",
        "    'ROAD CONSTRUCTION/MAINTENANCE': 'Environment',\n",
        "    'ROAD ENGINEERING/SURFACE/MARKING DEFECTS': 'Environment',\n",
        "    'FAILING TO YIELD RIGHT-OF-WAY': 'Traffic Violations',\n",
        "    'FAILING TO REDUCE SPEED TO AVOID CRASH': 'Traffic Violations',\n",
        "    'DISREGARDING STOP SIGN': 'Traffic Violations',\n",
        "    'DISREGARDING TRAFFIC SIGNALS': 'Traffic Violations',\n",
        "    'DISREGARDING YIELD SIGN': 'Traffic Violations',\n",
        "    'DISREGARDING ROAD MARKINGS': 'Traffic Violations',\n",
        "    'DISREGARDING OTHER TRAFFIC SIGNS': 'Traffic Violations',\n",
        "    'DRIVING SKILLS/KNOWLEDGE/EXPERIENCE': 'Driver Behavior',\n",
        "    'IMPROPER TURNING/NO SIGNAL': 'Driver Behavior',\n",
        "    'IMPROPER OVERTAKING/PASSING': 'Driver Behavior',\n",
        "    'FOLLOWING TOO CLOSELY': 'Driver Behavior',\n",
        "    'IMPROPER LANE USAGE': 'Driver Behavior',\n",
        "    'DRIVING ON WRONG SIDE/WRONG WAY': 'Driver Behavior',\n",
        "    'IMPROPER BACKING': 'Driver Behavior',\n",
        "    'EXCEEDING SAFE SPEED FOR CONDITIONS': 'Driver Behavior',\n",
        "    'EXCEEDING AUTHORIZED SPEED LIMIT': 'Driver Behavior',\n",
        "    'TURNING RIGHT ON RED': 'Driver Behavior',\n",
        "    'PASSING STOPPED SCHOOL BUS': 'Driver Behavior',\n",
        "    'EQUIPMENT - VEHICLE CONDITION': 'Vehicle or Driver Condition',\n",
        "    'PHYSICAL CONDITION OF DRIVER': 'Vehicle or Driver Condition',\n",
        "    'HAD BEEN DRINKING (USE WHEN ARREST IS NOT MADE)': 'Substance Use',\n",
        "    'UNDER THE INFLUENCE OF ALCOHOL/DRUGS (USE WHEN ARREST IS EFFECTED)': 'Substance Use',\n",
        "    'OPERATING VEHICLE IN ERRATIC, RECKLESS, CARELESS, NEGLIGENT OR AGGRESSIVE MANNER': 'Driver Behavior',\n",
        "    'VISION OBSCURED (SIGNS, TREE LIMBS, BUILDINGS, ETC.)': 'Environment',\n",
        "    'EMERGENCY VEHICLE ON CALL': 'Other or Unusual',\n",
        "    'EVASIVE ACTION DUE TO ANIMAL, OBJECT, NONMOTORIST': 'Other or Unusual',\n",
        "    'ANIMAL': 'Other or Unusual',\n",
        "    'RELATED TO BUS STOP': 'Other or Unusual',\n",
        "    'BICYCLE ADVANCING LEGALLY ON RED LIGHT': 'Other or Unusual',\n",
        "    'MOTORCYCLE ADVANCING LEGALLY ON RED LIGHT': 'Other or Unusual',\n",
        "    'OBSTRUCTED CROSSWALKS': 'Other or Unusual',\n",
        "}\n",
        "merged_df['SEC_CONTRIBUTORY_CAUSE'] = merged_df['SEC_CONTRIBUTORY_CAUSE'].map(sec_cause_map)\n"
      ]
    },
    {
      "cell_type": "code",
      "execution_count": 24,
      "id": "wl8u76TaKSYo",
      "metadata": {
        "id": "wl8u76TaKSYo"
      },
      "outputs": [],
      "source": [
        "selectedcolumns= ['CRASH_RECORD_ID',\n",
        "                  'CRASH_DATE'\n",
        "]\n",
        "\n",
        "merged_df = merged_df.drop(columns=[col for col in selectedcolumns if col in merged_df.columns])\n"
      ]
    },
    {
      "cell_type": "code",
      "execution_count": 25,
      "id": "_5_IFatyyz2A",
      "metadata": {
        "colab": {
          "base_uri": "https://localhost:8080/",
          "height": 0
        },
        "id": "_5_IFatyyz2A",
        "outputId": "01b4ebd7-fe6e-4c1d-b2a4-4db3791638a0"
      },
      "outputs": [
        {
          "output_type": "stream",
          "name": "stdout",
          "text": [
            "Columns and their number of unique values:\n",
            "\n",
            "LOCATION                   248066\n",
            "BEAT_OF_OCCURRENCE            271\n",
            "VEHICLE_YEAR                  230\n",
            "AGE                           114\n",
            "POSTED_SPEED_LIMIT             46\n",
            "MANEUVER                       28\n",
            "CRASH_HOUR                     24\n",
            "VEHICLE_TYPE                   21\n",
            "VEHICLE_DEFECT                 17\n",
            "NUM_UNITS                      16\n",
            "WEATHER_CONDITION              12\n",
            "PHYSICAL_CONDITION             12\n",
            "CRASH_MONTH                    12\n",
            "DRIVER_ACTION                  11\n",
            "DEVICE_CONDITION                8\n",
            "SEC_CONTRIBUTORY_CAUSE          8\n",
            "PRIM_CONTRIBUTORY_CAUSE         8\n",
            "ROAD_DEFECT                     7\n",
            "ROADWAY_SURFACE_COND            7\n",
            "CRASH_DAY_OF_WEEK               7\n",
            "DRIVER_VISION                   7\n",
            "TRAFFICWAY_TYPE                 6\n",
            "LIGHTING_CONDITION              6\n",
            "FIRST_CRASH_TYPE                4\n",
            "BAC_RESULT                      4\n",
            "TRAFFIC_CONTROL_DEVICE          3\n",
            "SEX                             3\n",
            "PERSON_TYPE                     1\n",
            "dtype: int64\n"
          ]
        }
      ],
      "source": [
        "unique_counts = merged_df.nunique().sort_values(ascending=False)\n",
        "\n",
        "print(\"Columns and their number of unique values:\\n\")\n",
        "print(unique_counts)\n"
      ]
    },
    {
      "cell_type": "code",
      "execution_count": 26,
      "id": "2UfXu7ibzOBo",
      "metadata": {
        "id": "2UfXu7ibzOBo"
      },
      "outputs": [],
      "source": [
        "# Drop high-cardinality columns\n",
        "merged_df = merged_df.drop(columns=['LOCATION', 'BEAT_OF_OCCURRENCE'])\n",
        "\n",
        "# Bin VEHICLE_YEAR\n",
        "merged_df['VEHICLE_YEAR_BINNED'] = pd.cut(\n",
        "    merged_df['VEHICLE_YEAR'],\n",
        "    bins=[0, 1999, 2009, 2015, 2025],\n",
        "    labels=['<2000', '2000-2009', '2010-2015', '2016+']\n",
        ")\n",
        "\n",
        "# Bin AGE\n",
        "merged_df['AGE_BINNED'] = pd.cut(\n",
        "    merged_df['AGE'],\n",
        "    bins=[0, 18, 25, 35, 50, 65, 100],\n",
        "    labels=['<18', '18–25', '26–35', '36–50', '51–65', '65+']\n",
        ")\n",
        "\n",
        "# Drop original high-cardinality columns\n",
        "merged_df = merged_df.drop(columns=['VEHICLE_YEAR', 'AGE'])\n"
      ]
    },
    {
      "cell_type": "code",
      "execution_count": 27,
      "id": "VuqzNi-jU8L0",
      "metadata": {
        "id": "VuqzNi-jU8L0"
      },
      "outputs": [],
      "source": [
        "df_clean = merged_df"
      ]
    },
    {
      "cell_type": "code",
      "execution_count": 28,
      "id": "pO2t4d8bSppA",
      "metadata": {
        "colab": {
          "base_uri": "https://localhost:8080/",
          "height": 0
        },
        "id": "pO2t4d8bSppA",
        "outputId": "a17a2cd6-6c92-4aaa-8207-945dea0fe8cc"
      },
      "outputs": [
        {
          "output_type": "stream",
          "name": "stdout",
          "text": [
            "Categorical columns: ['TRAFFIC_CONTROL_DEVICE', 'DEVICE_CONDITION', 'WEATHER_CONDITION', 'LIGHTING_CONDITION', 'FIRST_CRASH_TYPE', 'TRAFFICWAY_TYPE', 'ROADWAY_SURFACE_COND', 'ROAD_DEFECT', 'PRIM_CONTRIBUTORY_CAUSE', 'SEC_CONTRIBUTORY_CAUSE', 'VEHICLE_DEFECT', 'VEHICLE_TYPE', 'MANEUVER', 'PERSON_TYPE', 'SEX', 'DRIVER_ACTION', 'DRIVER_VISION', 'PHYSICAL_CONDITION', 'BAC_RESULT', 'VEHICLE_YEAR_BINNED', 'AGE_BINNED']\n"
          ]
        },
        {
          "output_type": "execute_result",
          "data": {
            "text/plain": [
              "['POSTED_SPEED_LIMIT',\n",
              " 'NUM_UNITS',\n",
              " 'CRASH_HOUR',\n",
              " 'CRASH_DAY_OF_WEEK',\n",
              " 'CRASH_MONTH']"
            ]
          },
          "metadata": {},
          "execution_count": 28
        }
      ],
      "source": [
        "# get the numeric cols and the cat cols\n",
        "num_original_columns = df_clean.select_dtypes(include=np.number).columns.tolist()\n",
        "categorical_cols = df_clean.select_dtypes(exclude=np.number).columns.tolist()\n",
        "\n",
        "print(\"Categorical columns:\", categorical_cols)\n",
        "num_original_columns"
      ]
    },
    {
      "cell_type": "markdown",
      "id": "GnDA36IWjKDt",
      "metadata": {
        "id": "GnDA36IWjKDt"
      },
      "source": [
        "# ANN"
      ]
    },
    {
      "cell_type": "markdown",
      "id": "fBEb3u-ujMka",
      "metadata": {
        "id": "fBEb3u-ujMka"
      },
      "source": [
        "### Encoding\n",
        "\n",
        "The target variable was highly imbalanced, with some classes dominating the dataset.\n",
        "\n",
        "To avoid bias toward majority classes, Random OverSampling was applied:\n",
        "\n",
        "*   Used RandomOverSampler\n",
        "*   Oversampled only the training data to avoid data leakage\n",
        "*   Balanced all classes to have approximately equal representation"
      ]
    },
    {
      "cell_type": "code",
      "execution_count": 29,
      "id": "EQ0gDDIejJn-",
      "metadata": {
        "id": "EQ0gDDIejJn-"
      },
      "outputs": [],
      "source": [
        "df_filter = df_clean[df_clean['PRIM_CONTRIBUTORY_CAUSE'] != 'Unknown/NA'].copy()\n",
        "\n",
        "X = df_filter.drop('PRIM_CONTRIBUTORY_CAUSE', axis=1)\n",
        "y = df_filter['PRIM_CONTRIBUTORY_CAUSE']\n",
        "\n",
        "le = LabelEncoder()\n",
        "y_encoded = le.fit_transform(y)\n",
        "\n",
        "cat_cols = X.select_dtypes(exclude=np.number).columns.tolist()\n",
        "num_cols = X.select_dtypes(include=np.number).columns.tolist()\n",
        "\n",
        "preprocessor = ColumnTransformer(transformers=[\n",
        "    ('num', StandardScaler(), num_cols),\n",
        "    ('cat', OneHotEncoder(handle_unknown='ignore'), cat_cols)])\n",
        "\n",
        "X_train, X_test, y_train, y_test = train_test_split(X, y_encoded, test_size=0.2, random_state=42, stratify=y_encoded)\n",
        "\n",
        "\n",
        "X_train_processed = preprocessor.fit_transform(X_train)\n",
        "X_test_processed = preprocessor.transform(X_test)\n"
      ]
    },
    {
      "cell_type": "code",
      "source": [
        "from sklearn.compose import ColumnTransformer\n",
        "\n",
        "def get_feature_names(preprocessor):\n",
        "    output_features = []\n",
        "    for name, transformer, cols in preprocessor.transformers_:\n",
        "        if hasattr(transformer, 'get_feature_names_out'):\n",
        "            names = transformer.get_feature_names_out(cols)\n",
        "        else:\n",
        "            names = cols\n",
        "        output_features.extend(names)\n",
        "    return output_features\n",
        "\n",
        "feature_names = get_feature_names(preprocessor)\n"
      ],
      "metadata": {
        "id": "YqK9EsdYaMHR"
      },
      "id": "YqK9EsdYaMHR",
      "execution_count": 30,
      "outputs": []
    },
    {
      "cell_type": "code",
      "source": [
        "le = LabelEncoder()\n",
        "le.fit(y)\n",
        "#class mappings\n",
        "class_names = le.classes_\n",
        "print(class_names)\n"
      ],
      "metadata": {
        "colab": {
          "base_uri": "https://localhost:8080/",
          "height": 0
        },
        "id": "3FDqVU4be9e0",
        "outputId": "40de084d-dfa4-40f8-f900-998e589c86ec"
      },
      "id": "3FDqVU4be9e0",
      "execution_count": 31,
      "outputs": [
        {
          "output_type": "stream",
          "name": "stdout",
          "text": [
            "['Distraction' 'Driver Behavior' 'Environment' 'Other or Unusual'\n",
            " 'Substance Use' 'Traffic Violations' 'Vehicle or Driver Condition']\n"
          ]
        }
      ]
    },
    {
      "cell_type": "code",
      "execution_count": 32,
      "id": "u68KHGyCSfbp",
      "metadata": {
        "id": "u68KHGyCSfbp"
      },
      "outputs": [],
      "source": [
        "X_train_scaled = np.nan_to_num(X_train_processed, nan=0.0)\n",
        "X_test_scaled = np.nan_to_num(X_test_processed, nan=0.0)\n"
      ]
    },
    {
      "cell_type": "code",
      "execution_count": 33,
      "id": "94OP6QBNWr5f",
      "metadata": {
        "colab": {
          "base_uri": "https://localhost:8080/",
          "height": 0
        },
        "id": "94OP6QBNWr5f",
        "outputId": "9fc25462-805e-480f-fac7-ace84196f64f"
      },
      "outputs": [
        {
          "output_type": "stream",
          "name": "stdout",
          "text": [
            "After Resampling (Full): Counter({np.int64(5): 650903, np.int64(1): 650903, np.int64(4): 650903, np.int64(2): 650903, np.int64(0): 650903, np.int64(6): 650903, np.int64(3): 650903})\n",
            "After Resampling (Capped): Counter({np.int64(5): 21618, np.int64(1): 21583, np.int64(0): 21503, np.int64(6): 21392, np.int64(3): 21335, np.int64(4): 21298, np.int64(2): 21271})\n"
          ]
        }
      ],
      "source": [
        "from imblearn.over_sampling import RandomOverSampler\n",
        "from collections import Counter\n",
        "\n",
        "\n",
        "ros = RandomOverSampler(random_state=42)\n",
        "X_train_resampled, y_train_resampled = ros.fit_resample(X_train_scaled, y_train)\n",
        "\n",
        "print(\"After Resampling (Full):\", Counter(y_train_resampled))\n",
        "\n",
        "\n",
        "max_size = 150_000\n",
        "if X_train_resampled.shape[0] > max_size:\n",
        "    idx = np.random.choice(X_train_resampled.shape[0], max_size, replace=False)\n",
        "    X_train_resampled = X_train_resampled[idx]\n",
        "    y_train_resampled = y_train_resampled[idx]\n",
        "\n",
        "print(\"After Resampling (Capped):\", Counter(y_train_resampled))\n"
      ]
    },
    {
      "cell_type": "code",
      "execution_count": 34,
      "id": "AnPpiTJTK780",
      "metadata": {
        "id": "AnPpiTJTK780"
      },
      "outputs": [],
      "source": [
        "from sklearn.utils.class_weight import compute_class_weight\n",
        "class_weights_array = compute_class_weight(\n",
        "    class_weight='balanced',\n",
        "    classes=np.unique(y_train_resampled),\n",
        "    y=y_train_resampled\n",
        ")\n",
        "\n",
        "class_weights = dict(enumerate(class_weights_array))"
      ]
    },
    {
      "cell_type": "markdown",
      "source": [
        "### Model Building\n",
        "Multiple architectures and training configurations were tested. The iterations are explained below\n",
        "\n",
        "\n",
        "1.  **Baseline ANN**\n",
        "\n",
        "Architecture: 256 → 128 (ReLU) → softmax\n",
        "\n",
        "Regularization: Dropout (0.3, 0.2)\n",
        "\n",
        "Training: 20 epochs, batch size = 64\n",
        "\n",
        "Limitations: Mild overfitting, limited depth, and small batch size led to suboptimal performance.\n",
        "\n",
        "\n",
        "2.   **Larger Batch Size**\n",
        "\n",
        "Batch size increased to 256 for more stable gradient updates. Slight performance improvement but overfitting still evident.\n",
        "\n",
        "\n",
        "3.   **Batch Normalization & Early Stopping**\n",
        "\n",
        "Added BatchNormalization after each dense layer\n",
        "\n",
        "EarlyStopping introduced to avoid overfitting\n",
        "\n",
        "Learning rate reduced to 0.0001, training extended to 100 epochs\n",
        "\n",
        "Resulted in better generalization and more stable learning.\n",
        "\n",
        "4.  **Deeper Network + Resampled Data**\n",
        "\n",
        "Architecture: 512 → 256 → 128 → 64 → softmax\n",
        "\n",
        "Dropout increased (0.3 → 0.2) for stronger regularization\n",
        "\n",
        "Training on resampled data to address class imbalance\n",
        "\n",
        "Hyperparameters tuned:\n",
        "\n",
        "*   Learning rate: 0.0002\n",
        "*   Batch size: 512\n",
        "*   Patience: 5\n",
        "\n",
        "\n",
        "5.   **Final Model: Cross-Validated ANN**\n",
        "\n",
        "Introduced 3-fold Stratified K-Fold Cross-Validation for robust evaluation\n",
        "\n",
        "Metrics averaged across folds:\n",
        "\n",
        "Accuracy, Precision, Recall, F1\n",
        "\n",
        "Provided reliable performance estimates and further confirmed model stability.\n"
      ],
      "metadata": {
        "id": "7zT73lVAqvmX"
      },
      "id": "7zT73lVAqvmX"
    },
    {
      "cell_type": "markdown",
      "source": [
        "### Final Model Hyperparameters\n",
        "\n",
        "Optimizer - *Adam*\n",
        "\n",
        "Learning Rate - *0.0002*\n",
        "\n",
        "Loss Function - *Sparse Categorical Crossentropy*\n",
        "\n",
        "Epochs - *Up to 50 (Early Stopping applied)*\n",
        "\n",
        "Batch Size - *512*\n",
        "\n",
        "Early Stopping Patience - *5*\n",
        "\n",
        "Dropout Rates - *0.3 (first 2 layers), 0.2 (last 2 layers)*\n",
        "\n",
        "Cross-Validation - *Stratified K-Fold (3 splits)*"
      ],
      "metadata": {
        "id": "pNJjDhx7rkEt"
      },
      "id": "pNJjDhx7rkEt"
    },
    {
      "cell_type": "code",
      "source": [
        "from sklearn.model_selection import StratifiedKFold\n",
        "from sklearn.metrics import accuracy_score, precision_score, recall_score, f1_score\n",
        "from tensorflow.keras.models import Sequential\n",
        "from tensorflow.keras.layers import Dense, Dropout, BatchNormalization\n",
        "from tensorflow.keras.optimizers import Adam\n",
        "from tensorflow.keras.callbacks import EarlyStopping\n",
        "import numpy as np\n",
        "\n",
        "if hasattr(X_train_resampled, \"toarray\"):\n",
        "    X_train_resampled_dense = X_train_resampled.toarray()\n",
        "else:\n",
        "    X_train_resampled_dense = X_train_resampled\n",
        "\n",
        "cv_results = {\"accuracy\": [], \"precision\": [], \"recall\": [], \"f1\": []}\n",
        "kfold = StratifiedKFold(n_splits=3, shuffle=True, random_state=42)\n",
        "\n",
        "for train_idx, val_idx in kfold.split(X_train_resampled_dense, y_train_resampled):\n",
        "    X_train_fold = X_train_resampled_dense[train_idx]\n",
        "    y_train_fold = y_train_resampled[train_idx]\n",
        "    X_val_fold = X_train_resampled_dense[val_idx]\n",
        "    y_val_fold = y_train_resampled[val_idx]\n",
        "\n",
        "    model = Sequential([\n",
        "        Dense(512, input_dim=X_train_fold.shape[1], activation='relu'),\n",
        "        BatchNormalization(),\n",
        "        Dropout(0.3),\n",
        "        Dense(256, activation='relu'),\n",
        "        BatchNormalization(),\n",
        "        Dropout(0.3),\n",
        "        Dense(128, activation='relu'),\n",
        "        BatchNormalization(),\n",
        "        Dropout(0.2),\n",
        "        Dense(64, activation='relu'),\n",
        "        BatchNormalization(),\n",
        "        Dropout(0.2),\n",
        "        Dense(len(np.unique(y_train_resampled)), activation='softmax')\n",
        "    ])\n",
        "\n",
        "    model.compile(optimizer=Adam(learning_rate=0.0002),\n",
        "                  loss='sparse_categorical_crossentropy',\n",
        "                  metrics=['accuracy'])\n",
        "\n",
        "    early_stop = EarlyStopping(monitor='val_loss', patience=5, restore_best_weights=True)\n",
        "\n",
        "    model.fit(X_train_fold, y_train_fold,\n",
        "              validation_data=(X_val_fold, y_val_fold),\n",
        "              epochs=50,\n",
        "              batch_size=512,\n",
        "              verbose=1,\n",
        "              callbacks=[early_stop])\n",
        "\n",
        "    y_pred_probs = model.predict(X_val_fold)\n",
        "    y_pred = np.argmax(y_pred_probs, axis=1)\n",
        "\n",
        "    cv_results[\"accuracy\"].append(accuracy_score(y_val_fold, y_pred))\n",
        "    cv_results[\"precision\"].append(precision_score(y_val_fold, y_pred, average='weighted', zero_division=0))\n",
        "    cv_results[\"recall\"].append(recall_score(y_val_fold, y_pred, average='weighted', zero_division=0))\n",
        "    cv_results[\"f1\"].append(f1_score(y_val_fold, y_pred, average='weighted', zero_division=0))\n",
        "\n",
        "for metric in cv_results:\n",
        "    print(f\"{metric.capitalize()}: {np.mean(cv_results[metric]):.4f}\")"
      ],
      "metadata": {
        "colab": {
          "base_uri": "https://localhost:8080/",
          "height": 0
        },
        "id": "XC5rrAZWMMqq",
        "outputId": "04509f1a-26f0-4e07-92d3-a0047bd77309"
      },
      "id": "XC5rrAZWMMqq",
      "execution_count": 35,
      "outputs": [
        {
          "output_type": "stream",
          "name": "stdout",
          "text": [
            "Epoch 1/50\n",
            "\u001b[1m196/196\u001b[0m \u001b[32m━━━━━━━━━━━━━━━━━━━━\u001b[0m\u001b[37m\u001b[0m \u001b[1m14s\u001b[0m 32ms/step - accuracy: 0.2425 - loss: 2.2189 - val_accuracy: 0.3048 - val_loss: 1.7371\n",
            "Epoch 2/50\n",
            "\u001b[1m196/196\u001b[0m \u001b[32m━━━━━━━━━━━━━━━━━━━━\u001b[0m\u001b[37m\u001b[0m \u001b[1m1s\u001b[0m 4ms/step - accuracy: 0.4073 - loss: 1.5977 - val_accuracy: 0.4746 - val_loss: 1.3963\n",
            "Epoch 3/50\n",
            "\u001b[1m196/196\u001b[0m \u001b[32m━━━━━━━━━━━━━━━━━━━━\u001b[0m\u001b[37m\u001b[0m \u001b[1m1s\u001b[0m 5ms/step - accuracy: 0.4568 - loss: 1.4626 - val_accuracy: 0.5222 - val_loss: 1.2946\n",
            "Epoch 4/50\n",
            "\u001b[1m196/196\u001b[0m \u001b[32m━━━━━━━━━━━━━━━━━━━━\u001b[0m\u001b[37m\u001b[0m \u001b[1m1s\u001b[0m 5ms/step - accuracy: 0.4880 - loss: 1.3838 - val_accuracy: 0.5353 - val_loss: 1.2625\n",
            "Epoch 5/50\n",
            "\u001b[1m196/196\u001b[0m \u001b[32m━━━━━━━━━━━━━━━━━━━━\u001b[0m\u001b[37m\u001b[0m \u001b[1m1s\u001b[0m 5ms/step - accuracy: 0.5063 - loss: 1.3440 - val_accuracy: 0.5431 - val_loss: 1.2422\n",
            "Epoch 6/50\n",
            "\u001b[1m196/196\u001b[0m \u001b[32m━━━━━━━━━━━━━━━━━━━━\u001b[0m\u001b[37m\u001b[0m \u001b[1m1s\u001b[0m 5ms/step - accuracy: 0.5201 - loss: 1.3123 - val_accuracy: 0.5491 - val_loss: 1.2255\n",
            "Epoch 7/50\n",
            "\u001b[1m196/196\u001b[0m \u001b[32m━━━━━━━━━━━━━━━━━━━━\u001b[0m\u001b[37m\u001b[0m \u001b[1m1s\u001b[0m 6ms/step - accuracy: 0.5295 - loss: 1.2825 - val_accuracy: 0.5519 - val_loss: 1.2161\n",
            "Epoch 8/50\n",
            "\u001b[1m196/196\u001b[0m \u001b[32m━━━━━━━━━━━━━━━━━━━━\u001b[0m\u001b[37m\u001b[0m \u001b[1m1s\u001b[0m 7ms/step - accuracy: 0.5360 - loss: 1.2697 - val_accuracy: 0.5565 - val_loss: 1.2050\n",
            "Epoch 9/50\n",
            "\u001b[1m196/196\u001b[0m \u001b[32m━━━━━━━━━━━━━━━━━━━━\u001b[0m\u001b[37m\u001b[0m \u001b[1m1s\u001b[0m 6ms/step - accuracy: 0.5427 - loss: 1.2505 - val_accuracy: 0.5588 - val_loss: 1.1960\n",
            "Epoch 10/50\n",
            "\u001b[1m196/196\u001b[0m \u001b[32m━━━━━━━━━━━━━━━━━━━━\u001b[0m\u001b[37m\u001b[0m \u001b[1m1s\u001b[0m 5ms/step - accuracy: 0.5426 - loss: 1.2424 - val_accuracy: 0.5620 - val_loss: 1.1885\n",
            "Epoch 11/50\n",
            "\u001b[1m196/196\u001b[0m \u001b[32m━━━━━━━━━━━━━━━━━━━━\u001b[0m\u001b[37m\u001b[0m \u001b[1m1s\u001b[0m 5ms/step - accuracy: 0.5464 - loss: 1.2338 - val_accuracy: 0.5645 - val_loss: 1.1808\n",
            "Epoch 12/50\n",
            "\u001b[1m196/196\u001b[0m \u001b[32m━━━━━━━━━━━━━━━━━━━━\u001b[0m\u001b[37m\u001b[0m \u001b[1m1s\u001b[0m 5ms/step - accuracy: 0.5544 - loss: 1.2209 - val_accuracy: 0.5681 - val_loss: 1.1722\n",
            "Epoch 13/50\n",
            "\u001b[1m196/196\u001b[0m \u001b[32m━━━━━━━━━━━━━━━━━━━━\u001b[0m\u001b[37m\u001b[0m \u001b[1m1s\u001b[0m 5ms/step - accuracy: 0.5570 - loss: 1.2054 - val_accuracy: 0.5698 - val_loss: 1.1651\n",
            "Epoch 14/50\n",
            "\u001b[1m196/196\u001b[0m \u001b[32m━━━━━━━━━━━━━━━━━━━━\u001b[0m\u001b[37m\u001b[0m \u001b[1m1s\u001b[0m 5ms/step - accuracy: 0.5607 - loss: 1.1993 - val_accuracy: 0.5715 - val_loss: 1.1591\n",
            "Epoch 15/50\n",
            "\u001b[1m196/196\u001b[0m \u001b[32m━━━━━━━━━━━━━━━━━━━━\u001b[0m\u001b[37m\u001b[0m \u001b[1m1s\u001b[0m 5ms/step - accuracy: 0.5634 - loss: 1.1874 - val_accuracy: 0.5726 - val_loss: 1.1528\n",
            "Epoch 16/50\n",
            "\u001b[1m196/196\u001b[0m \u001b[32m━━━━━━━━━━━━━━━━━━━━\u001b[0m\u001b[37m\u001b[0m \u001b[1m1s\u001b[0m 5ms/step - accuracy: 0.5656 - loss: 1.1788 - val_accuracy: 0.5776 - val_loss: 1.1447\n",
            "Epoch 17/50\n",
            "\u001b[1m196/196\u001b[0m \u001b[32m━━━━━━━━━━━━━━━━━━━━\u001b[0m\u001b[37m\u001b[0m \u001b[1m1s\u001b[0m 5ms/step - accuracy: 0.5691 - loss: 1.1715 - val_accuracy: 0.5795 - val_loss: 1.1367\n",
            "Epoch 18/50\n",
            "\u001b[1m196/196\u001b[0m \u001b[32m━━━━━━━━━━━━━━━━━━━━\u001b[0m\u001b[37m\u001b[0m \u001b[1m1s\u001b[0m 5ms/step - accuracy: 0.5720 - loss: 1.1596 - val_accuracy: 0.5818 - val_loss: 1.1310\n",
            "Epoch 19/50\n",
            "\u001b[1m196/196\u001b[0m \u001b[32m━━━━━━━━━━━━━━━━━━━━\u001b[0m\u001b[37m\u001b[0m \u001b[1m2s\u001b[0m 7ms/step - accuracy: 0.5779 - loss: 1.1480 - val_accuracy: 0.5854 - val_loss: 1.1248\n",
            "Epoch 20/50\n",
            "\u001b[1m196/196\u001b[0m \u001b[32m━━━━━━━━━━━━━━━━━━━━\u001b[0m\u001b[37m\u001b[0m \u001b[1m1s\u001b[0m 7ms/step - accuracy: 0.5784 - loss: 1.1463 - val_accuracy: 0.5860 - val_loss: 1.1175\n",
            "Epoch 21/50\n",
            "\u001b[1m196/196\u001b[0m \u001b[32m━━━━━━━━━━━━━━━━━━━━\u001b[0m\u001b[37m\u001b[0m \u001b[1m2s\u001b[0m 5ms/step - accuracy: 0.5840 - loss: 1.1373 - val_accuracy: 0.5896 - val_loss: 1.1137\n",
            "Epoch 22/50\n",
            "\u001b[1m196/196\u001b[0m \u001b[32m━━━━━━━━━━━━━━━━━━━━\u001b[0m\u001b[37m\u001b[0m \u001b[1m1s\u001b[0m 5ms/step - accuracy: 0.5812 - loss: 1.1329 - val_accuracy: 0.5923 - val_loss: 1.1051\n",
            "Epoch 23/50\n",
            "\u001b[1m196/196\u001b[0m \u001b[32m━━━━━━━━━━━━━━━━━━━━\u001b[0m\u001b[37m\u001b[0m \u001b[1m1s\u001b[0m 5ms/step - accuracy: 0.5890 - loss: 1.1219 - val_accuracy: 0.5962 - val_loss: 1.0997\n",
            "Epoch 24/50\n",
            "\u001b[1m196/196\u001b[0m \u001b[32m━━━━━━━━━━━━━━━━━━━━\u001b[0m\u001b[37m\u001b[0m \u001b[1m1s\u001b[0m 5ms/step - accuracy: 0.5936 - loss: 1.1128 - val_accuracy: 0.5986 - val_loss: 1.0927\n",
            "Epoch 25/50\n",
            "\u001b[1m196/196\u001b[0m \u001b[32m━━━━━━━━━━━━━━━━━━━━\u001b[0m\u001b[37m\u001b[0m \u001b[1m1s\u001b[0m 5ms/step - accuracy: 0.5965 - loss: 1.1033 - val_accuracy: 0.6000 - val_loss: 1.0873\n",
            "Epoch 26/50\n",
            "\u001b[1m196/196\u001b[0m \u001b[32m━━━━━━━━━━━━━━━━━━━━\u001b[0m\u001b[37m\u001b[0m \u001b[1m1s\u001b[0m 5ms/step - accuracy: 0.5949 - loss: 1.0987 - val_accuracy: 0.6023 - val_loss: 1.0817\n",
            "Epoch 27/50\n",
            "\u001b[1m196/196\u001b[0m \u001b[32m━━━━━━━━━━━━━━━━━━━━\u001b[0m\u001b[37m\u001b[0m \u001b[1m1s\u001b[0m 5ms/step - accuracy: 0.5966 - loss: 1.0964 - val_accuracy: 0.6048 - val_loss: 1.0787\n",
            "Epoch 28/50\n",
            "\u001b[1m196/196\u001b[0m \u001b[32m━━━━━━━━━━━━━━━━━━━━\u001b[0m\u001b[37m\u001b[0m \u001b[1m1s\u001b[0m 5ms/step - accuracy: 0.6000 - loss: 1.0930 - val_accuracy: 0.6058 - val_loss: 1.0749\n",
            "Epoch 29/50\n",
            "\u001b[1m196/196\u001b[0m \u001b[32m━━━━━━━━━━━━━━━━━━━━\u001b[0m\u001b[37m\u001b[0m \u001b[1m2s\u001b[0m 7ms/step - accuracy: 0.6044 - loss: 1.0766 - val_accuracy: 0.6076 - val_loss: 1.0692\n",
            "Epoch 30/50\n",
            "\u001b[1m196/196\u001b[0m \u001b[32m━━━━━━━━━━━━━━━━━━━━\u001b[0m\u001b[37m\u001b[0m \u001b[1m2s\u001b[0m 5ms/step - accuracy: 0.6059 - loss: 1.0711 - val_accuracy: 0.6093 - val_loss: 1.0624\n",
            "Epoch 31/50\n",
            "\u001b[1m196/196\u001b[0m \u001b[32m━━━━━━━━━━━━━━━━━━━━\u001b[0m\u001b[37m\u001b[0m \u001b[1m1s\u001b[0m 5ms/step - accuracy: 0.6094 - loss: 1.0693 - val_accuracy: 0.6103 - val_loss: 1.0595\n",
            "Epoch 32/50\n",
            "\u001b[1m196/196\u001b[0m \u001b[32m━━━━━━━━━━━━━━━━━━━━\u001b[0m\u001b[37m\u001b[0m \u001b[1m1s\u001b[0m 5ms/step - accuracy: 0.6140 - loss: 1.0518 - val_accuracy: 0.6133 - val_loss: 1.0555\n",
            "Epoch 33/50\n",
            "\u001b[1m196/196\u001b[0m \u001b[32m━━━━━━━━━━━━━━━━━━━━\u001b[0m\u001b[37m\u001b[0m \u001b[1m1s\u001b[0m 5ms/step - accuracy: 0.6085 - loss: 1.0589 - val_accuracy: 0.6165 - val_loss: 1.0505\n",
            "Epoch 34/50\n",
            "\u001b[1m196/196\u001b[0m \u001b[32m━━━━━━━━━━━━━━━━━━━━\u001b[0m\u001b[37m\u001b[0m \u001b[1m1s\u001b[0m 5ms/step - accuracy: 0.6121 - loss: 1.0513 - val_accuracy: 0.6167 - val_loss: 1.0464\n",
            "Epoch 35/50\n",
            "\u001b[1m196/196\u001b[0m \u001b[32m━━━━━━━━━━━━━━━━━━━━\u001b[0m\u001b[37m\u001b[0m \u001b[1m1s\u001b[0m 5ms/step - accuracy: 0.6159 - loss: 1.0431 - val_accuracy: 0.6177 - val_loss: 1.0419\n",
            "Epoch 36/50\n",
            "\u001b[1m196/196\u001b[0m \u001b[32m━━━━━━━━━━━━━━━━━━━━\u001b[0m\u001b[37m\u001b[0m \u001b[1m1s\u001b[0m 5ms/step - accuracy: 0.6174 - loss: 1.0394 - val_accuracy: 0.6191 - val_loss: 1.0421\n",
            "Epoch 37/50\n",
            "\u001b[1m196/196\u001b[0m \u001b[32m━━━━━━━━━━━━━━━━━━━━\u001b[0m\u001b[37m\u001b[0m \u001b[1m1s\u001b[0m 5ms/step - accuracy: 0.6213 - loss: 1.0324 - val_accuracy: 0.6211 - val_loss: 1.0354\n",
            "Epoch 38/50\n",
            "\u001b[1m196/196\u001b[0m \u001b[32m━━━━━━━━━━━━━━━━━━━━\u001b[0m\u001b[37m\u001b[0m \u001b[1m2s\u001b[0m 7ms/step - accuracy: 0.6207 - loss: 1.0311 - val_accuracy: 0.6223 - val_loss: 1.0328\n",
            "Epoch 39/50\n",
            "\u001b[1m196/196\u001b[0m \u001b[32m━━━━━━━━━━━━━━━━━━━━\u001b[0m\u001b[37m\u001b[0m \u001b[1m1s\u001b[0m 7ms/step - accuracy: 0.6226 - loss: 1.0277 - val_accuracy: 0.6218 - val_loss: 1.0297\n",
            "Epoch 40/50\n",
            "\u001b[1m196/196\u001b[0m \u001b[32m━━━━━━━━━━━━━━━━━━━━\u001b[0m\u001b[37m\u001b[0m \u001b[1m2s\u001b[0m 5ms/step - accuracy: 0.6249 - loss: 1.0161 - val_accuracy: 0.6231 - val_loss: 1.0299\n",
            "Epoch 41/50\n",
            "\u001b[1m196/196\u001b[0m \u001b[32m━━━━━━━━━━━━━━━━━━━━\u001b[0m\u001b[37m\u001b[0m \u001b[1m1s\u001b[0m 5ms/step - accuracy: 0.6248 - loss: 1.0133 - val_accuracy: 0.6254 - val_loss: 1.0252\n",
            "Epoch 42/50\n",
            "\u001b[1m196/196\u001b[0m \u001b[32m━━━━━━━━━━━━━━━━━━━━\u001b[0m\u001b[37m\u001b[0m \u001b[1m1s\u001b[0m 5ms/step - accuracy: 0.6262 - loss: 1.0127 - val_accuracy: 0.6248 - val_loss: 1.0232\n",
            "Epoch 43/50\n",
            "\u001b[1m196/196\u001b[0m \u001b[32m━━━━━━━━━━━━━━━━━━━━\u001b[0m\u001b[37m\u001b[0m \u001b[1m1s\u001b[0m 5ms/step - accuracy: 0.6292 - loss: 1.0042 - val_accuracy: 0.6271 - val_loss: 1.0208\n",
            "Epoch 44/50\n",
            "\u001b[1m196/196\u001b[0m \u001b[32m━━━━━━━━━━━━━━━━━━━━\u001b[0m\u001b[37m\u001b[0m \u001b[1m1s\u001b[0m 5ms/step - accuracy: 0.6322 - loss: 0.9961 - val_accuracy: 0.6270 - val_loss: 1.0169\n",
            "Epoch 45/50\n",
            "\u001b[1m196/196\u001b[0m \u001b[32m━━━━━━━━━━━━━━━━━━━━\u001b[0m\u001b[37m\u001b[0m \u001b[1m1s\u001b[0m 5ms/step - accuracy: 0.6321 - loss: 0.9986 - val_accuracy: 0.6289 - val_loss: 1.0137\n",
            "Epoch 46/50\n",
            "\u001b[1m196/196\u001b[0m \u001b[32m━━━━━━━━━━━━━━━━━━━━\u001b[0m\u001b[37m\u001b[0m \u001b[1m1s\u001b[0m 5ms/step - accuracy: 0.6344 - loss: 0.9918 - val_accuracy: 0.6303 - val_loss: 1.0098\n",
            "Epoch 47/50\n",
            "\u001b[1m196/196\u001b[0m \u001b[32m━━━━━━━━━━━━━━━━━━━━\u001b[0m\u001b[37m\u001b[0m \u001b[1m1s\u001b[0m 5ms/step - accuracy: 0.6332 - loss: 0.9942 - val_accuracy: 0.6308 - val_loss: 1.0105\n",
            "Epoch 48/50\n",
            "\u001b[1m196/196\u001b[0m \u001b[32m━━━━━━━━━━━━━━━━━━━━\u001b[0m\u001b[37m\u001b[0m \u001b[1m1s\u001b[0m 6ms/step - accuracy: 0.6404 - loss: 0.9819 - val_accuracy: 0.6319 - val_loss: 1.0075\n",
            "Epoch 49/50\n",
            "\u001b[1m196/196\u001b[0m \u001b[32m━━━━━━━━━━━━━━━━━━━━\u001b[0m\u001b[37m\u001b[0m \u001b[1m1s\u001b[0m 7ms/step - accuracy: 0.6410 - loss: 0.9776 - val_accuracy: 0.6323 - val_loss: 1.0068\n",
            "Epoch 50/50\n",
            "\u001b[1m196/196\u001b[0m \u001b[32m━━━━━━━━━━━━━━━━━━━━\u001b[0m\u001b[37m\u001b[0m \u001b[1m2s\u001b[0m 5ms/step - accuracy: 0.6382 - loss: 0.9788 - val_accuracy: 0.6347 - val_loss: 1.0023\n",
            "\u001b[1m1563/1563\u001b[0m \u001b[32m━━━━━━━━━━━━━━━━━━━━\u001b[0m\u001b[37m\u001b[0m \u001b[1m3s\u001b[0m 2ms/step\n",
            "Epoch 1/50\n",
            "\u001b[1m196/196\u001b[0m \u001b[32m━━━━━━━━━━━━━━━━━━━━\u001b[0m\u001b[37m\u001b[0m \u001b[1m11s\u001b[0m 22ms/step - accuracy: 0.2508 - loss: 2.2032 - val_accuracy: 0.2461 - val_loss: 1.7752\n",
            "Epoch 2/50\n",
            "\u001b[1m196/196\u001b[0m \u001b[32m━━━━━━━━━━━━━━━━━━━━\u001b[0m\u001b[37m\u001b[0m \u001b[1m1s\u001b[0m 5ms/step - accuracy: 0.4035 - loss: 1.6076 - val_accuracy: 0.4817 - val_loss: 1.3779\n",
            "Epoch 3/50\n",
            "\u001b[1m196/196\u001b[0m \u001b[32m━━━━━━━━━━━━━━━━━━━━\u001b[0m\u001b[37m\u001b[0m \u001b[1m1s\u001b[0m 5ms/step - accuracy: 0.4519 - loss: 1.4723 - val_accuracy: 0.5269 - val_loss: 1.2840\n",
            "Epoch 4/50\n",
            "\u001b[1m196/196\u001b[0m \u001b[32m━━━━━━━━━━━━━━━━━━━━\u001b[0m\u001b[37m\u001b[0m \u001b[1m1s\u001b[0m 5ms/step - accuracy: 0.4876 - loss: 1.3867 - val_accuracy: 0.5420 - val_loss: 1.2493\n",
            "Epoch 5/50\n",
            "\u001b[1m196/196\u001b[0m \u001b[32m━━━━━━━━━━━━━━━━━━━━\u001b[0m\u001b[37m\u001b[0m \u001b[1m1s\u001b[0m 5ms/step - accuracy: 0.5037 - loss: 1.3488 - val_accuracy: 0.5483 - val_loss: 1.2318\n",
            "Epoch 6/50\n",
            "\u001b[1m196/196\u001b[0m \u001b[32m━━━━━━━━━━━━━━━━━━━━\u001b[0m\u001b[37m\u001b[0m \u001b[1m1s\u001b[0m 5ms/step - accuracy: 0.5180 - loss: 1.3176 - val_accuracy: 0.5529 - val_loss: 1.2181\n",
            "Epoch 7/50\n",
            "\u001b[1m196/196\u001b[0m \u001b[32m━━━━━━━━━━━━━━━━━━━━\u001b[0m\u001b[37m\u001b[0m \u001b[1m2s\u001b[0m 8ms/step - accuracy: 0.5240 - loss: 1.2947 - val_accuracy: 0.5583 - val_loss: 1.2053\n",
            "Epoch 8/50\n",
            "\u001b[1m196/196\u001b[0m \u001b[32m━━━━━━━━━━━━━━━━━━━━\u001b[0m\u001b[37m\u001b[0m \u001b[1m2s\u001b[0m 5ms/step - accuracy: 0.5314 - loss: 1.2796 - val_accuracy: 0.5593 - val_loss: 1.1968\n",
            "Epoch 9/50\n",
            "\u001b[1m196/196\u001b[0m \u001b[32m━━━━━━━━━━━━━━━━━━━━\u001b[0m\u001b[37m\u001b[0m \u001b[1m1s\u001b[0m 5ms/step - accuracy: 0.5385 - loss: 1.2590 - val_accuracy: 0.5609 - val_loss: 1.1893\n",
            "Epoch 10/50\n",
            "\u001b[1m196/196\u001b[0m \u001b[32m━━━━━━━━━━━━━━━━━━━━\u001b[0m\u001b[37m\u001b[0m \u001b[1m1s\u001b[0m 5ms/step - accuracy: 0.5399 - loss: 1.2467 - val_accuracy: 0.5654 - val_loss: 1.1818\n",
            "Epoch 11/50\n",
            "\u001b[1m196/196\u001b[0m \u001b[32m━━━━━━━━━━━━━━━━━━━━\u001b[0m\u001b[37m\u001b[0m \u001b[1m1s\u001b[0m 5ms/step - accuracy: 0.5458 - loss: 1.2415 - val_accuracy: 0.5681 - val_loss: 1.1742\n",
            "Epoch 12/50\n",
            "\u001b[1m196/196\u001b[0m \u001b[32m━━━━━━━━━━━━━━━━━━━━\u001b[0m\u001b[37m\u001b[0m \u001b[1m1s\u001b[0m 5ms/step - accuracy: 0.5500 - loss: 1.2273 - val_accuracy: 0.5698 - val_loss: 1.1690\n",
            "Epoch 13/50\n",
            "\u001b[1m196/196\u001b[0m \u001b[32m━━━━━━━━━━━━━━━━━━━━\u001b[0m\u001b[37m\u001b[0m \u001b[1m1s\u001b[0m 5ms/step - accuracy: 0.5552 - loss: 1.2149 - val_accuracy: 0.5724 - val_loss: 1.1605\n",
            "Epoch 14/50\n",
            "\u001b[1m196/196\u001b[0m \u001b[32m━━━━━━━━━━━━━━━━━━━━\u001b[0m\u001b[37m\u001b[0m \u001b[1m1s\u001b[0m 5ms/step - accuracy: 0.5566 - loss: 1.2101 - val_accuracy: 0.5751 - val_loss: 1.1537\n",
            "Epoch 15/50\n",
            "\u001b[1m196/196\u001b[0m \u001b[32m━━━━━━━━━━━━━━━━━━━━\u001b[0m\u001b[37m\u001b[0m \u001b[1m1s\u001b[0m 5ms/step - accuracy: 0.5606 - loss: 1.2016 - val_accuracy: 0.5793 - val_loss: 1.1463\n",
            "Epoch 16/50\n",
            "\u001b[1m196/196\u001b[0m \u001b[32m━━━━━━━━━━━━━━━━━━━━\u001b[0m\u001b[37m\u001b[0m \u001b[1m2s\u001b[0m 8ms/step - accuracy: 0.5636 - loss: 1.1876 - val_accuracy: 0.5796 - val_loss: 1.1408\n",
            "Epoch 17/50\n",
            "\u001b[1m196/196\u001b[0m \u001b[32m━━━━━━━━━━━━━━━━━━━━\u001b[0m\u001b[37m\u001b[0m \u001b[1m2s\u001b[0m 5ms/step - accuracy: 0.5648 - loss: 1.1850 - val_accuracy: 0.5838 - val_loss: 1.1329\n",
            "Epoch 18/50\n",
            "\u001b[1m196/196\u001b[0m \u001b[32m━━━━━━━━━━━━━━━━━━━━\u001b[0m\u001b[37m\u001b[0m \u001b[1m1s\u001b[0m 5ms/step - accuracy: 0.5694 - loss: 1.1753 - val_accuracy: 0.5848 - val_loss: 1.1265\n",
            "Epoch 19/50\n",
            "\u001b[1m196/196\u001b[0m \u001b[32m━━━━━━━━━━━━━━━━━━━━\u001b[0m\u001b[37m\u001b[0m \u001b[1m1s\u001b[0m 5ms/step - accuracy: 0.5742 - loss: 1.1650 - val_accuracy: 0.5886 - val_loss: 1.1190\n",
            "Epoch 20/50\n",
            "\u001b[1m196/196\u001b[0m \u001b[32m━━━━━━━━━━━━━━━━━━━━\u001b[0m\u001b[37m\u001b[0m \u001b[1m1s\u001b[0m 5ms/step - accuracy: 0.5769 - loss: 1.1540 - val_accuracy: 0.5888 - val_loss: 1.1141\n",
            "Epoch 21/50\n",
            "\u001b[1m196/196\u001b[0m \u001b[32m━━━━━━━━━━━━━━━━━━━━\u001b[0m\u001b[37m\u001b[0m \u001b[1m1s\u001b[0m 5ms/step - accuracy: 0.5821 - loss: 1.1417 - val_accuracy: 0.5931 - val_loss: 1.1075\n",
            "Epoch 22/50\n",
            "\u001b[1m196/196\u001b[0m \u001b[32m━━━━━━━━━━━━━━━━━━━━\u001b[0m\u001b[37m\u001b[0m \u001b[1m1s\u001b[0m 5ms/step - accuracy: 0.5819 - loss: 1.1403 - val_accuracy: 0.5972 - val_loss: 1.0994\n",
            "Epoch 23/50\n",
            "\u001b[1m196/196\u001b[0m \u001b[32m━━━━━━━━━━━━━━━━━━━━\u001b[0m\u001b[37m\u001b[0m \u001b[1m1s\u001b[0m 5ms/step - accuracy: 0.5863 - loss: 1.1322 - val_accuracy: 0.5973 - val_loss: 1.0946\n",
            "Epoch 24/50\n",
            "\u001b[1m196/196\u001b[0m \u001b[32m━━━━━━━━━━━━━━━━━━━━\u001b[0m\u001b[37m\u001b[0m \u001b[1m1s\u001b[0m 5ms/step - accuracy: 0.5880 - loss: 1.1185 - val_accuracy: 0.6008 - val_loss: 1.0883\n",
            "Epoch 25/50\n",
            "\u001b[1m196/196\u001b[0m \u001b[32m━━━━━━━━━━━━━━━━━━━━\u001b[0m\u001b[37m\u001b[0m \u001b[1m1s\u001b[0m 5ms/step - accuracy: 0.5913 - loss: 1.1137 - val_accuracy: 0.6028 - val_loss: 1.0824\n",
            "Epoch 26/50\n",
            "\u001b[1m196/196\u001b[0m \u001b[32m━━━━━━━━━━━━━━━━━━━━\u001b[0m\u001b[37m\u001b[0m \u001b[1m1s\u001b[0m 7ms/step - accuracy: 0.5915 - loss: 1.1103 - val_accuracy: 0.6047 - val_loss: 1.0772\n",
            "Epoch 27/50\n",
            "\u001b[1m196/196\u001b[0m \u001b[32m━━━━━━━━━━━━━━━━━━━━\u001b[0m\u001b[37m\u001b[0m \u001b[1m2s\u001b[0m 5ms/step - accuracy: 0.5999 - loss: 1.0951 - val_accuracy: 0.6056 - val_loss: 1.0752\n",
            "Epoch 28/50\n",
            "\u001b[1m196/196\u001b[0m \u001b[32m━━━━━━━━━━━━━━━━━━━━\u001b[0m\u001b[37m\u001b[0m \u001b[1m1s\u001b[0m 5ms/step - accuracy: 0.5992 - loss: 1.0905 - val_accuracy: 0.6088 - val_loss: 1.0659\n",
            "Epoch 29/50\n",
            "\u001b[1m196/196\u001b[0m \u001b[32m━━━━━━━━━━━━━━━━━━━━\u001b[0m\u001b[37m\u001b[0m \u001b[1m1s\u001b[0m 5ms/step - accuracy: 0.6031 - loss: 1.0830 - val_accuracy: 0.6104 - val_loss: 1.0609\n",
            "Epoch 30/50\n",
            "\u001b[1m196/196\u001b[0m \u001b[32m━━━━━━━━━━━━━━━━━━━━\u001b[0m\u001b[37m\u001b[0m \u001b[1m1s\u001b[0m 5ms/step - accuracy: 0.6035 - loss: 1.0814 - val_accuracy: 0.6120 - val_loss: 1.0576\n",
            "Epoch 31/50\n",
            "\u001b[1m196/196\u001b[0m \u001b[32m━━━━━━━━━━━━━━━━━━━━\u001b[0m\u001b[37m\u001b[0m \u001b[1m1s\u001b[0m 5ms/step - accuracy: 0.6055 - loss: 1.0759 - val_accuracy: 0.6136 - val_loss: 1.0518\n",
            "Epoch 32/50\n",
            "\u001b[1m196/196\u001b[0m \u001b[32m━━━━━━━━━━━━━━━━━━━━\u001b[0m\u001b[37m\u001b[0m \u001b[1m1s\u001b[0m 5ms/step - accuracy: 0.6076 - loss: 1.0701 - val_accuracy: 0.6159 - val_loss: 1.0472\n",
            "Epoch 33/50\n",
            "\u001b[1m196/196\u001b[0m \u001b[32m━━━━━━━━━━━━━━━━━━━━\u001b[0m\u001b[37m\u001b[0m \u001b[1m1s\u001b[0m 5ms/step - accuracy: 0.6113 - loss: 1.0587 - val_accuracy: 0.6164 - val_loss: 1.0446\n",
            "Epoch 34/50\n",
            "\u001b[1m196/196\u001b[0m \u001b[32m━━━━━━━━━━━━━━━━━━━━\u001b[0m\u001b[37m\u001b[0m \u001b[1m1s\u001b[0m 5ms/step - accuracy: 0.6118 - loss: 1.0588 - val_accuracy: 0.6190 - val_loss: 1.0395\n",
            "Epoch 35/50\n",
            "\u001b[1m196/196\u001b[0m \u001b[32m━━━━━━━━━━━━━━━━━━━━\u001b[0m\u001b[37m\u001b[0m \u001b[1m1s\u001b[0m 5ms/step - accuracy: 0.6129 - loss: 1.0495 - val_accuracy: 0.6174 - val_loss: 1.0380\n",
            "Epoch 36/50\n",
            "\u001b[1m196/196\u001b[0m \u001b[32m━━━━━━━━━━━━━━━━━━━━\u001b[0m\u001b[37m\u001b[0m \u001b[1m1s\u001b[0m 7ms/step - accuracy: 0.6160 - loss: 1.0432 - val_accuracy: 0.6205 - val_loss: 1.0328\n",
            "Epoch 37/50\n",
            "\u001b[1m196/196\u001b[0m \u001b[32m━━━━━━━━━━━━━━━━━━━━\u001b[0m\u001b[37m\u001b[0m \u001b[1m2s\u001b[0m 5ms/step - accuracy: 0.6169 - loss: 1.0427 - val_accuracy: 0.6212 - val_loss: 1.0307\n",
            "Epoch 38/50\n",
            "\u001b[1m196/196\u001b[0m \u001b[32m━━━━━━━━━━━━━━━━━━━━\u001b[0m\u001b[37m\u001b[0m \u001b[1m1s\u001b[0m 5ms/step - accuracy: 0.6182 - loss: 1.0346 - val_accuracy: 0.6227 - val_loss: 1.0253\n",
            "Epoch 39/50\n",
            "\u001b[1m196/196\u001b[0m \u001b[32m━━━━━━━━━━━━━━━━━━━━\u001b[0m\u001b[37m\u001b[0m \u001b[1m1s\u001b[0m 5ms/step - accuracy: 0.6231 - loss: 1.0274 - val_accuracy: 0.6259 - val_loss: 1.0225\n",
            "Epoch 40/50\n",
            "\u001b[1m196/196\u001b[0m \u001b[32m━━━━━━━━━━━━━━━━━━━━\u001b[0m\u001b[37m\u001b[0m \u001b[1m1s\u001b[0m 6ms/step - accuracy: 0.6232 - loss: 1.0291 - val_accuracy: 0.6268 - val_loss: 1.0206\n",
            "Epoch 41/50\n",
            "\u001b[1m196/196\u001b[0m \u001b[32m━━━━━━━━━━━━━━━━━━━━\u001b[0m\u001b[37m\u001b[0m \u001b[1m1s\u001b[0m 6ms/step - accuracy: 0.6241 - loss: 1.0215 - val_accuracy: 0.6261 - val_loss: 1.0186\n",
            "Epoch 42/50\n",
            "\u001b[1m196/196\u001b[0m \u001b[32m━━━━━━━━━━━━━━━━━━━━\u001b[0m\u001b[37m\u001b[0m \u001b[1m1s\u001b[0m 5ms/step - accuracy: 0.6241 - loss: 1.0202 - val_accuracy: 0.6274 - val_loss: 1.0160\n",
            "Epoch 43/50\n",
            "\u001b[1m196/196\u001b[0m \u001b[32m━━━━━━━━━━━━━━━━━━━━\u001b[0m\u001b[37m\u001b[0m \u001b[1m1s\u001b[0m 6ms/step - accuracy: 0.6268 - loss: 1.0129 - val_accuracy: 0.6308 - val_loss: 1.0113\n",
            "Epoch 44/50\n",
            "\u001b[1m196/196\u001b[0m \u001b[32m━━━━━━━━━━━━━━━━━━━━\u001b[0m\u001b[37m\u001b[0m \u001b[1m1s\u001b[0m 5ms/step - accuracy: 0.6303 - loss: 1.0078 - val_accuracy: 0.6316 - val_loss: 1.0062\n",
            "Epoch 45/50\n",
            "\u001b[1m196/196\u001b[0m \u001b[32m━━━━━━━━━━━━━━━━━━━━\u001b[0m\u001b[37m\u001b[0m \u001b[1m1s\u001b[0m 6ms/step - accuracy: 0.6299 - loss: 1.0022 - val_accuracy: 0.6329 - val_loss: 1.0048\n",
            "Epoch 46/50\n",
            "\u001b[1m196/196\u001b[0m \u001b[32m━━━━━━━━━━━━━━━━━━━━\u001b[0m\u001b[37m\u001b[0m \u001b[1m2s\u001b[0m 6ms/step - accuracy: 0.6309 - loss: 1.0021 - val_accuracy: 0.6321 - val_loss: 1.0024\n",
            "Epoch 47/50\n",
            "\u001b[1m196/196\u001b[0m \u001b[32m━━━━━━━━━━━━━━━━━━━━\u001b[0m\u001b[37m\u001b[0m \u001b[1m1s\u001b[0m 5ms/step - accuracy: 0.6311 - loss: 0.9984 - val_accuracy: 0.6313 - val_loss: 1.0029\n",
            "Epoch 48/50\n",
            "\u001b[1m196/196\u001b[0m \u001b[32m━━━━━━━━━━━━━━━━━━━━\u001b[0m\u001b[37m\u001b[0m \u001b[1m1s\u001b[0m 5ms/step - accuracy: 0.6324 - loss: 0.9928 - val_accuracy: 0.6345 - val_loss: 0.9961\n",
            "Epoch 49/50\n",
            "\u001b[1m196/196\u001b[0m \u001b[32m━━━━━━━━━━━━━━━━━━━━\u001b[0m\u001b[37m\u001b[0m \u001b[1m1s\u001b[0m 5ms/step - accuracy: 0.6372 - loss: 0.9907 - val_accuracy: 0.6354 - val_loss: 0.9961\n",
            "Epoch 50/50\n",
            "\u001b[1m196/196\u001b[0m \u001b[32m━━━━━━━━━━━━━━━━━━━━\u001b[0m\u001b[37m\u001b[0m \u001b[1m1s\u001b[0m 6ms/step - accuracy: 0.6361 - loss: 0.9828 - val_accuracy: 0.6358 - val_loss: 0.9933\n",
            "\u001b[1m1563/1563\u001b[0m \u001b[32m━━━━━━━━━━━━━━━━━━━━\u001b[0m\u001b[37m\u001b[0m \u001b[1m3s\u001b[0m 2ms/step\n",
            "Epoch 1/50\n",
            "\u001b[1m196/196\u001b[0m \u001b[32m━━━━━━━━━━━━━━━━━━━━\u001b[0m\u001b[37m\u001b[0m \u001b[1m11s\u001b[0m 23ms/step - accuracy: 0.2376 - loss: 2.2310 - val_accuracy: 0.3079 - val_loss: 1.7520\n",
            "Epoch 2/50\n",
            "\u001b[1m196/196\u001b[0m \u001b[32m━━━━━━━━━━━━━━━━━━━━\u001b[0m\u001b[37m\u001b[0m \u001b[1m1s\u001b[0m 6ms/step - accuracy: 0.3915 - loss: 1.6281 - val_accuracy: 0.4678 - val_loss: 1.4258\n",
            "Epoch 3/50\n",
            "\u001b[1m196/196\u001b[0m \u001b[32m━━━━━━━━━━━━━━━━━━━━\u001b[0m\u001b[37m\u001b[0m \u001b[1m1s\u001b[0m 6ms/step - accuracy: 0.4506 - loss: 1.4731 - val_accuracy: 0.5211 - val_loss: 1.3044\n",
            "Epoch 4/50\n",
            "\u001b[1m196/196\u001b[0m \u001b[32m━━━━━━━━━━━━━━━━━━━━\u001b[0m\u001b[37m\u001b[0m \u001b[1m2s\u001b[0m 8ms/step - accuracy: 0.4864 - loss: 1.3978 - val_accuracy: 0.5354 - val_loss: 1.2604\n",
            "Epoch 5/50\n",
            "\u001b[1m196/196\u001b[0m \u001b[32m━━━━━━━━━━━━━━━━━━━━\u001b[0m\u001b[37m\u001b[0m \u001b[1m2s\u001b[0m 8ms/step - accuracy: 0.4977 - loss: 1.3551 - val_accuracy: 0.5452 - val_loss: 1.2372\n",
            "Epoch 6/50\n",
            "\u001b[1m196/196\u001b[0m \u001b[32m━━━━━━━━━━━━━━━━━━━━\u001b[0m\u001b[37m\u001b[0m \u001b[1m2s\u001b[0m 6ms/step - accuracy: 0.5138 - loss: 1.3214 - val_accuracy: 0.5505 - val_loss: 1.2220\n",
            "Epoch 7/50\n",
            "\u001b[1m196/196\u001b[0m \u001b[32m━━━━━━━━━━━━━━━━━━━━\u001b[0m\u001b[37m\u001b[0m \u001b[1m1s\u001b[0m 5ms/step - accuracy: 0.5276 - loss: 1.3005 - val_accuracy: 0.5549 - val_loss: 1.2098\n",
            "Epoch 8/50\n",
            "\u001b[1m196/196\u001b[0m \u001b[32m━━━━━━━━━━━━━━━━━━━━\u001b[0m\u001b[37m\u001b[0m \u001b[1m1s\u001b[0m 5ms/step - accuracy: 0.5298 - loss: 1.2757 - val_accuracy: 0.5578 - val_loss: 1.2012\n",
            "Epoch 9/50\n",
            "\u001b[1m196/196\u001b[0m \u001b[32m━━━━━━━━━━━━━━━━━━━━\u001b[0m\u001b[37m\u001b[0m \u001b[1m1s\u001b[0m 5ms/step - accuracy: 0.5379 - loss: 1.2587 - val_accuracy: 0.5604 - val_loss: 1.1935\n",
            "Epoch 10/50\n",
            "\u001b[1m196/196\u001b[0m \u001b[32m━━━━━━━━━━━━━━━━━━━━\u001b[0m\u001b[37m\u001b[0m \u001b[1m1s\u001b[0m 6ms/step - accuracy: 0.5402 - loss: 1.2539 - val_accuracy: 0.5628 - val_loss: 1.1863\n",
            "Epoch 11/50\n",
            "\u001b[1m196/196\u001b[0m \u001b[32m━━━━━━━━━━━━━━━━━━━━\u001b[0m\u001b[37m\u001b[0m \u001b[1m1s\u001b[0m 5ms/step - accuracy: 0.5458 - loss: 1.2421 - val_accuracy: 0.5654 - val_loss: 1.1785\n",
            "Epoch 12/50\n",
            "\u001b[1m196/196\u001b[0m \u001b[32m━━━━━━━━━━━━━━━━━━━━\u001b[0m\u001b[37m\u001b[0m \u001b[1m1s\u001b[0m 5ms/step - accuracy: 0.5486 - loss: 1.2287 - val_accuracy: 0.5677 - val_loss: 1.1722\n",
            "Epoch 13/50\n",
            "\u001b[1m196/196\u001b[0m \u001b[32m━━━━━━━━━━━━━━━━━━━━\u001b[0m\u001b[37m\u001b[0m \u001b[1m2s\u001b[0m 7ms/step - accuracy: 0.5563 - loss: 1.2130 - val_accuracy: 0.5713 - val_loss: 1.1644\n",
            "Epoch 14/50\n",
            "\u001b[1m196/196\u001b[0m \u001b[32m━━━━━━━━━━━━━━━━━━━━\u001b[0m\u001b[37m\u001b[0m \u001b[1m1s\u001b[0m 7ms/step - accuracy: 0.5541 - loss: 1.2136 - val_accuracy: 0.5731 - val_loss: 1.1574\n",
            "Epoch 15/50\n",
            "\u001b[1m196/196\u001b[0m \u001b[32m━━━━━━━━━━━━━━━━━━━━\u001b[0m\u001b[37m\u001b[0m \u001b[1m2s\u001b[0m 5ms/step - accuracy: 0.5595 - loss: 1.2033 - val_accuracy: 0.5759 - val_loss: 1.1514\n",
            "Epoch 16/50\n",
            "\u001b[1m196/196\u001b[0m \u001b[32m━━━━━━━━━━━━━━━━━━━━\u001b[0m\u001b[37m\u001b[0m \u001b[1m1s\u001b[0m 5ms/step - accuracy: 0.5622 - loss: 1.1924 - val_accuracy: 0.5768 - val_loss: 1.1451\n",
            "Epoch 17/50\n",
            "\u001b[1m196/196\u001b[0m \u001b[32m━━━━━━━━━━━━━━━━━━━━\u001b[0m\u001b[37m\u001b[0m \u001b[1m1s\u001b[0m 5ms/step - accuracy: 0.5676 - loss: 1.1824 - val_accuracy: 0.5811 - val_loss: 1.1368\n",
            "Epoch 18/50\n",
            "\u001b[1m196/196\u001b[0m \u001b[32m━━━━━━━━━━━━━━━━━━━━\u001b[0m\u001b[37m\u001b[0m \u001b[1m1s\u001b[0m 5ms/step - accuracy: 0.5688 - loss: 1.1788 - val_accuracy: 0.5832 - val_loss: 1.1310\n",
            "Epoch 19/50\n",
            "\u001b[1m196/196\u001b[0m \u001b[32m━━━━━━━━━━━━━━━━━━━━\u001b[0m\u001b[37m\u001b[0m \u001b[1m1s\u001b[0m 6ms/step - accuracy: 0.5705 - loss: 1.1703 - val_accuracy: 0.5871 - val_loss: 1.1236\n",
            "Epoch 20/50\n",
            "\u001b[1m196/196\u001b[0m \u001b[32m━━━━━━━━━━━━━━━━━━━━\u001b[0m\u001b[37m\u001b[0m \u001b[1m1s\u001b[0m 5ms/step - accuracy: 0.5764 - loss: 1.1553 - val_accuracy: 0.5889 - val_loss: 1.1163\n",
            "Epoch 21/50\n",
            "\u001b[1m196/196\u001b[0m \u001b[32m━━━━━━━━━━━━━━━━━━━━\u001b[0m\u001b[37m\u001b[0m \u001b[1m1s\u001b[0m 5ms/step - accuracy: 0.5787 - loss: 1.1489 - val_accuracy: 0.5906 - val_loss: 1.1103\n",
            "Epoch 22/50\n",
            "\u001b[1m196/196\u001b[0m \u001b[32m━━━━━━━━━━━━━━━━━━━━\u001b[0m\u001b[37m\u001b[0m \u001b[1m1s\u001b[0m 6ms/step - accuracy: 0.5805 - loss: 1.1430 - val_accuracy: 0.5931 - val_loss: 1.1035\n",
            "Epoch 23/50\n",
            "\u001b[1m196/196\u001b[0m \u001b[32m━━━━━━━━━━━━━━━━━━━━\u001b[0m\u001b[37m\u001b[0m \u001b[1m2s\u001b[0m 7ms/step - accuracy: 0.5845 - loss: 1.1331 - val_accuracy: 0.5956 - val_loss: 1.0984\n",
            "Epoch 24/50\n",
            "\u001b[1m196/196\u001b[0m \u001b[32m━━━━━━━━━━━━━━━━━━━━\u001b[0m\u001b[37m\u001b[0m \u001b[1m1s\u001b[0m 7ms/step - accuracy: 0.5857 - loss: 1.1256 - val_accuracy: 0.5978 - val_loss: 1.0914\n",
            "Epoch 25/50\n",
            "\u001b[1m196/196\u001b[0m \u001b[32m━━━━━━━━━━━━━━━━━━━━\u001b[0m\u001b[37m\u001b[0m \u001b[1m2s\u001b[0m 5ms/step - accuracy: 0.5926 - loss: 1.1157 - val_accuracy: 0.6002 - val_loss: 1.0860\n",
            "Epoch 26/50\n",
            "\u001b[1m196/196\u001b[0m \u001b[32m━━━━━━━━━━━━━━━━━━━━\u001b[0m\u001b[37m\u001b[0m \u001b[1m1s\u001b[0m 5ms/step - accuracy: 0.5923 - loss: 1.1135 - val_accuracy: 0.6044 - val_loss: 1.0793\n",
            "Epoch 27/50\n",
            "\u001b[1m196/196\u001b[0m \u001b[32m━━━━━━━━━━━━━━━━━━━━\u001b[0m\u001b[37m\u001b[0m \u001b[1m1s\u001b[0m 5ms/step - accuracy: 0.5932 - loss: 1.1112 - val_accuracy: 0.6066 - val_loss: 1.0730\n",
            "Epoch 28/50\n",
            "\u001b[1m196/196\u001b[0m \u001b[32m━━━━━━━━━━━━━━━━━━━━\u001b[0m\u001b[37m\u001b[0m \u001b[1m1s\u001b[0m 5ms/step - accuracy: 0.5983 - loss: 1.0908 - val_accuracy: 0.6073 - val_loss: 1.0702\n",
            "Epoch 29/50\n",
            "\u001b[1m196/196\u001b[0m \u001b[32m━━━━━━━━━━━━━━━━━━━━\u001b[0m\u001b[37m\u001b[0m \u001b[1m1s\u001b[0m 5ms/step - accuracy: 0.6009 - loss: 1.0904 - val_accuracy: 0.6084 - val_loss: 1.0670\n",
            "Epoch 30/50\n",
            "\u001b[1m196/196\u001b[0m \u001b[32m━━━━━━━━━━━━━━━━━━━━\u001b[0m\u001b[37m\u001b[0m \u001b[1m1s\u001b[0m 6ms/step - accuracy: 0.6047 - loss: 1.0783 - val_accuracy: 0.6114 - val_loss: 1.0606\n",
            "Epoch 31/50\n",
            "\u001b[1m196/196\u001b[0m \u001b[32m━━━━━━━━━━━━━━━━━━━━\u001b[0m\u001b[37m\u001b[0m \u001b[1m1s\u001b[0m 5ms/step - accuracy: 0.6039 - loss: 1.0740 - val_accuracy: 0.6126 - val_loss: 1.0574\n",
            "Epoch 32/50\n",
            "\u001b[1m196/196\u001b[0m \u001b[32m━━━━━━━━━━━━━━━━━━━━\u001b[0m\u001b[37m\u001b[0m \u001b[1m1s\u001b[0m 6ms/step - accuracy: 0.6068 - loss: 1.0722 - val_accuracy: 0.6131 - val_loss: 1.0539\n",
            "Epoch 33/50\n",
            "\u001b[1m196/196\u001b[0m \u001b[32m━━━━━━━━━━━━━━━━━━━━\u001b[0m\u001b[37m\u001b[0m \u001b[1m2s\u001b[0m 6ms/step - accuracy: 0.6053 - loss: 1.0690 - val_accuracy: 0.6144 - val_loss: 1.0481\n",
            "Epoch 34/50\n",
            "\u001b[1m196/196\u001b[0m \u001b[32m━━━━━━━━━━━━━━━━━━━━\u001b[0m\u001b[37m\u001b[0m \u001b[1m1s\u001b[0m 6ms/step - accuracy: 0.6145 - loss: 1.0542 - val_accuracy: 0.6163 - val_loss: 1.0444\n",
            "Epoch 35/50\n",
            "\u001b[1m196/196\u001b[0m \u001b[32m━━━━━━━━━━━━━━━━━━━━\u001b[0m\u001b[37m\u001b[0m \u001b[1m1s\u001b[0m 6ms/step - accuracy: 0.6140 - loss: 1.0554 - val_accuracy: 0.6169 - val_loss: 1.0434\n",
            "Epoch 36/50\n",
            "\u001b[1m196/196\u001b[0m \u001b[32m━━━━━━━━━━━━━━━━━━━━\u001b[0m\u001b[37m\u001b[0m \u001b[1m1s\u001b[0m 6ms/step - accuracy: 0.6165 - loss: 1.0445 - val_accuracy: 0.6183 - val_loss: 1.0378\n",
            "Epoch 37/50\n",
            "\u001b[1m196/196\u001b[0m \u001b[32m━━━━━━━━━━━━━━━━━━━━\u001b[0m\u001b[37m\u001b[0m \u001b[1m1s\u001b[0m 6ms/step - accuracy: 0.6151 - loss: 1.0463 - val_accuracy: 0.6196 - val_loss: 1.0338\n",
            "Epoch 38/50\n",
            "\u001b[1m196/196\u001b[0m \u001b[32m━━━━━━━━━━━━━━━━━━━━\u001b[0m\u001b[37m\u001b[0m \u001b[1m1s\u001b[0m 5ms/step - accuracy: 0.6196 - loss: 1.0378 - val_accuracy: 0.6200 - val_loss: 1.0316\n",
            "Epoch 39/50\n",
            "\u001b[1m196/196\u001b[0m \u001b[32m━━━━━━━━━━━━━━━━━━━━\u001b[0m\u001b[37m\u001b[0m \u001b[1m1s\u001b[0m 5ms/step - accuracy: 0.6186 - loss: 1.0307 - val_accuracy: 0.6226 - val_loss: 1.0281\n",
            "Epoch 40/50\n",
            "\u001b[1m196/196\u001b[0m \u001b[32m━━━━━━━━━━━━━━━━━━━━\u001b[0m\u001b[37m\u001b[0m \u001b[1m1s\u001b[0m 6ms/step - accuracy: 0.6239 - loss: 1.0233 - val_accuracy: 0.6246 - val_loss: 1.0233\n",
            "Epoch 41/50\n",
            "\u001b[1m196/196\u001b[0m \u001b[32m━━━━━━━━━━━━━━━━━━━━\u001b[0m\u001b[37m\u001b[0m \u001b[1m1s\u001b[0m 6ms/step - accuracy: 0.6208 - loss: 1.0250 - val_accuracy: 0.6253 - val_loss: 1.0207\n",
            "Epoch 42/50\n",
            "\u001b[1m196/196\u001b[0m \u001b[32m━━━━━━━━━━━━━━━━━━━━\u001b[0m\u001b[37m\u001b[0m \u001b[1m2s\u001b[0m 9ms/step - accuracy: 0.6260 - loss: 1.0160 - val_accuracy: 0.6258 - val_loss: 1.0176\n",
            "Epoch 43/50\n",
            "\u001b[1m196/196\u001b[0m \u001b[32m━━━━━━━━━━━━━━━━━━━━\u001b[0m\u001b[37m\u001b[0m \u001b[1m2s\u001b[0m 5ms/step - accuracy: 0.6261 - loss: 1.0142 - val_accuracy: 0.6279 - val_loss: 1.0165\n",
            "Epoch 44/50\n",
            "\u001b[1m196/196\u001b[0m \u001b[32m━━━━━━━━━━━━━━━━━━━━\u001b[0m\u001b[37m\u001b[0m \u001b[1m1s\u001b[0m 5ms/step - accuracy: 0.6270 - loss: 1.0081 - val_accuracy: 0.6282 - val_loss: 1.0126\n",
            "Epoch 45/50\n",
            "\u001b[1m196/196\u001b[0m \u001b[32m━━━━━━━━━━━━━━━━━━━━\u001b[0m\u001b[37m\u001b[0m \u001b[1m1s\u001b[0m 5ms/step - accuracy: 0.6290 - loss: 1.0070 - val_accuracy: 0.6285 - val_loss: 1.0110\n",
            "Epoch 46/50\n",
            "\u001b[1m196/196\u001b[0m \u001b[32m━━━━━━━━━━━━━━━━━━━━\u001b[0m\u001b[37m\u001b[0m \u001b[1m1s\u001b[0m 5ms/step - accuracy: 0.6328 - loss: 1.0010 - val_accuracy: 0.6281 - val_loss: 1.0113\n",
            "Epoch 47/50\n",
            "\u001b[1m196/196\u001b[0m \u001b[32m━━━━━━━━━━━━━━━━━━━━\u001b[0m\u001b[37m\u001b[0m \u001b[1m1s\u001b[0m 6ms/step - accuracy: 0.6333 - loss: 0.9940 - val_accuracy: 0.6308 - val_loss: 1.0049\n",
            "Epoch 48/50\n",
            "\u001b[1m196/196\u001b[0m \u001b[32m━━━━━━━━━━━━━━━━━━━━\u001b[0m\u001b[37m\u001b[0m \u001b[1m1s\u001b[0m 5ms/step - accuracy: 0.6352 - loss: 0.9925 - val_accuracy: 0.6319 - val_loss: 1.0036\n",
            "Epoch 49/50\n",
            "\u001b[1m196/196\u001b[0m \u001b[32m━━━━━━━━━━━━━━━━━━━━\u001b[0m\u001b[37m\u001b[0m \u001b[1m1s\u001b[0m 5ms/step - accuracy: 0.6349 - loss: 0.9883 - val_accuracy: 0.6304 - val_loss: 1.0040\n",
            "Epoch 50/50\n",
            "\u001b[1m196/196\u001b[0m \u001b[32m━━━━━━━━━━━━━━━━━━━━\u001b[0m\u001b[37m\u001b[0m \u001b[1m1s\u001b[0m 5ms/step - accuracy: 0.6354 - loss: 0.9879 - val_accuracy: 0.6343 - val_loss: 0.9982\n",
            "\u001b[1m1563/1563\u001b[0m \u001b[32m━━━━━━━━━━━━━━━━━━━━\u001b[0m\u001b[37m\u001b[0m \u001b[1m4s\u001b[0m 2ms/step\n",
            "Accuracy: 0.6349\n",
            "Precision: 0.6336\n",
            "Recall: 0.6349\n",
            "F1: 0.6289\n"
          ]
        }
      ]
    },
    {
      "cell_type": "code",
      "source": [
        "from sklearn.metrics import classification_report\n",
        "\n",
        "y_pred = model.predict(X_test_scaled).argmax(axis=1)\n",
        "print(classification_report(y_test, y_pred,target_names=class_names, zero_division=0))\n",
        "\n",
        "precision = precision_score(y_test, y_pred, average='weighted', zero_division=0)\n",
        "recall = recall_score(y_test, y_pred, average='weighted', zero_division=0)\n",
        "f1 = f1_score(y_test, y_pred, average='weighted', zero_division=0)\n",
        "\n",
        "print(f\"Weighted Precision: {precision:.4f}\")\n",
        "print(f\"Weighted Recall: {recall:.4f}\")\n",
        "print(f\"Weighted F1-Score: {f1:.4f}\")\n"
      ],
      "metadata": {
        "colab": {
          "base_uri": "https://localhost:8080/",
          "height": 0
        },
        "id": "-Lo_NnStPEHx",
        "outputId": "c7356e0a-97a3-4024-fbde-ede02353a180"
      },
      "id": "-Lo_NnStPEHx",
      "execution_count": 36,
      "outputs": [
        {
          "output_type": "stream",
          "name": "stdout",
          "text": [
            "\u001b[1m9003/9003\u001b[0m \u001b[32m━━━━━━━━━━━━━━━━━━━━\u001b[0m\u001b[37m\u001b[0m \u001b[1m32s\u001b[0m 3ms/step\n",
            "                             precision    recall  f1-score   support\n",
            "\n",
            "                Distraction       0.11      0.46      0.18      7115\n",
            "            Driver Behavior       0.83      0.47      0.60    162726\n",
            "                Environment       0.25      0.75      0.38     11419\n",
            "           Other or Unusual       0.07      0.57      0.13      1246\n",
            "              Substance Use       0.23      0.81      0.36      3187\n",
            "         Traffic Violations       0.62      0.65      0.64     82757\n",
            "Vehicle or Driver Condition       0.28      0.34      0.31     19628\n",
            "\n",
            "                   accuracy                           0.53    288078\n",
            "                  macro avg       0.34      0.58      0.37    288078\n",
            "               weighted avg       0.68      0.53      0.56    288078\n",
            "\n",
            "Weighted Precision: 0.6793\n",
            "Weighted Recall: 0.5275\n",
            "Weighted F1-Score: 0.5646\n"
          ]
        }
      ]
    },
    {
      "cell_type": "markdown",
      "source": [
        "The model performs very well on high-volume classes\n",
        "\n",
        "Low precision on rare classes suggests the model tends to overpredict frequent classes.\n",
        "\n",
        "Overall performance is balanced but not ideal for minority classes — future work may explore focal loss or custom class weighting."
      ],
      "metadata": {
        "id": "3MOE-llwrXMM"
      },
      "id": "3MOE-llwrXMM"
    },
    {
      "cell_type": "code",
      "source": [
        "import shap\n",
        "\n",
        "X_explain = X_test_processed[:500]\n",
        "if hasattr(X_explain, \"toarray\"):\n",
        "    X_explain = X_explain.toarray()\n",
        "\n",
        "explainer = shap.KernelExplainer(model.predict, X_explain[:100])\n",
        "shap_values = explainer.shap_values(X_explain[:100], nsamples=100)\n",
        "shap.summary_plot(shap_values, X_explain[:100],plot_type=\"bar\", feature_names=feature_names,class_names=class_names, plot_size=(12, 8) )"
      ],
      "metadata": {
        "id": "ALK6cZjmR2uB",
        "collapsed": true,
        "colab": {
          "base_uri": "https://localhost:8080/",
          "height": 4348,
          "referenced_widgets": [
            "9dc02f39df394db882e95421aa548a44",
            "6f5f8f97776c4d9783f5a32d126d0802",
            "fdd594a0f1d74591bff94bf1eda32f16",
            "c5a2dc54b7f046c8ab27a219d115af49",
            "53b68c6148ac4bb787581c3c83fada25",
            "cdfcc668f16041188f6c6eb9ddddfc0a",
            "9a5d61e8a26f4353989a4b24084b98f2",
            "56b067ae1b28433b9137bbd1d1d3407a",
            "11b7a22d91cd4e34ba90bed94ce032d2",
            "8e171694d1a14e819fbe543b34cc601c",
            "bff7735e57a04300b689ba29d08a5154"
          ]
        },
        "outputId": "976ca182-1e80-45ac-91df-95985b342535"
      },
      "id": "ALK6cZjmR2uB",
      "execution_count": 40,
      "outputs": [
        {
          "output_type": "stream",
          "name": "stdout",
          "text": [
            "\u001b[1m4/4\u001b[0m \u001b[32m━━━━━━━━━━━━━━━━━━━━\u001b[0m\u001b[37m\u001b[0m \u001b[1m0s\u001b[0m 12ms/step\n"
          ]
        },
        {
          "output_type": "display_data",
          "data": {
            "text/plain": [
              "  0%|          | 0/100 [00:00<?, ?it/s]"
            ],
            "application/vnd.jupyter.widget-view+json": {
              "version_major": 2,
              "version_minor": 0,
              "model_id": "9dc02f39df394db882e95421aa548a44"
            }
          },
          "metadata": {}
        },
        {
          "output_type": "stream",
          "name": "stdout",
          "text": [
            "\u001b[1m1/1\u001b[0m \u001b[32m━━━━━━━━━━━━━━━━━━━━\u001b[0m\u001b[37m\u001b[0m \u001b[1m0s\u001b[0m 65ms/step\n",
            "\u001b[1m313/313\u001b[0m \u001b[32m━━━━━━━━━━━━━━━━━━━━\u001b[0m\u001b[37m\u001b[0m \u001b[1m1s\u001b[0m 2ms/step\n",
            "\u001b[1m1/1\u001b[0m \u001b[32m━━━━━━━━━━━━━━━━━━━━\u001b[0m\u001b[37m\u001b[0m \u001b[1m0s\u001b[0m 107ms/step\n",
            "\u001b[1m313/313\u001b[0m \u001b[32m━━━━━━━━━━━━━━━━━━━━\u001b[0m\u001b[37m\u001b[0m \u001b[1m1s\u001b[0m 4ms/step\n",
            "\u001b[1m1/1\u001b[0m \u001b[32m━━━━━━━━━━━━━━━━━━━━\u001b[0m\u001b[37m\u001b[0m \u001b[1m0s\u001b[0m 100ms/step\n",
            "\u001b[1m313/313\u001b[0m \u001b[32m━━━━━━━━━━━━━━━━━━━━\u001b[0m\u001b[37m\u001b[0m \u001b[1m1s\u001b[0m 3ms/step\n",
            "\u001b[1m1/1\u001b[0m \u001b[32m━━━━━━━━━━━━━━━━━━━━\u001b[0m\u001b[37m\u001b[0m \u001b[1m0s\u001b[0m 34ms/step\n",
            "\u001b[1m313/313\u001b[0m \u001b[32m━━━━━━━━━━━━━━━━━━━━\u001b[0m\u001b[37m\u001b[0m \u001b[1m0s\u001b[0m 2ms/step\n",
            "\u001b[1m1/1\u001b[0m \u001b[32m━━━━━━━━━━━━━━━━━━━━\u001b[0m\u001b[37m\u001b[0m \u001b[1m0s\u001b[0m 34ms/step\n",
            "\u001b[1m313/313\u001b[0m \u001b[32m━━━━━━━━━━━━━━━━━━━━\u001b[0m\u001b[37m\u001b[0m \u001b[1m1s\u001b[0m 2ms/step\n",
            "\u001b[1m1/1\u001b[0m \u001b[32m━━━━━━━━━━━━━━━━━━━━\u001b[0m\u001b[37m\u001b[0m \u001b[1m0s\u001b[0m 33ms/step\n",
            "\u001b[1m313/313\u001b[0m \u001b[32m━━━━━━━━━━━━━━━━━━━━\u001b[0m\u001b[37m\u001b[0m \u001b[1m1s\u001b[0m 2ms/step\n",
            "\u001b[1m1/1\u001b[0m \u001b[32m━━━━━━━━━━━━━━━━━━━━\u001b[0m\u001b[37m\u001b[0m \u001b[1m0s\u001b[0m 33ms/step\n",
            "\u001b[1m313/313\u001b[0m \u001b[32m━━━━━━━━━━━━━━━━━━━━\u001b[0m\u001b[37m\u001b[0m \u001b[1m0s\u001b[0m 2ms/step\n",
            "\u001b[1m1/1\u001b[0m \u001b[32m━━━━━━━━━━━━━━━━━━━━\u001b[0m\u001b[37m\u001b[0m \u001b[1m0s\u001b[0m 33ms/step\n",
            "\u001b[1m313/313\u001b[0m \u001b[32m━━━━━━━━━━━━━━━━━━━━\u001b[0m\u001b[37m\u001b[0m \u001b[1m1s\u001b[0m 2ms/step\n",
            "\u001b[1m1/1\u001b[0m \u001b[32m━━━━━━━━━━━━━━━━━━━━\u001b[0m\u001b[37m\u001b[0m \u001b[1m0s\u001b[0m 35ms/step\n",
            "\u001b[1m313/313\u001b[0m \u001b[32m━━━━━━━━━━━━━━━━━━━━\u001b[0m\u001b[37m\u001b[0m \u001b[1m0s\u001b[0m 2ms/step\n",
            "\u001b[1m1/1\u001b[0m \u001b[32m━━━━━━━━━━━━━━━━━━━━\u001b[0m\u001b[37m\u001b[0m \u001b[1m0s\u001b[0m 34ms/step\n",
            "\u001b[1m313/313\u001b[0m \u001b[32m━━━━━━━━━━━━━━━━━━━━\u001b[0m\u001b[37m\u001b[0m \u001b[1m0s\u001b[0m 1ms/step\n",
            "\u001b[1m1/1\u001b[0m \u001b[32m━━━━━━━━━━━━━━━━━━━━\u001b[0m\u001b[37m\u001b[0m \u001b[1m0s\u001b[0m 34ms/step\n",
            "\u001b[1m313/313\u001b[0m \u001b[32m━━━━━━━━━━━━━━━━━━━━\u001b[0m\u001b[37m\u001b[0m \u001b[1m1s\u001b[0m 2ms/step\n",
            "\u001b[1m1/1\u001b[0m \u001b[32m━━━━━━━━━━━━━━━━━━━━\u001b[0m\u001b[37m\u001b[0m \u001b[1m0s\u001b[0m 34ms/step\n",
            "\u001b[1m313/313\u001b[0m \u001b[32m━━━━━━━━━━━━━━━━━━━━\u001b[0m\u001b[37m\u001b[0m \u001b[1m0s\u001b[0m 1ms/step\n",
            "\u001b[1m1/1\u001b[0m \u001b[32m━━━━━━━━━━━━━━━━━━━━\u001b[0m\u001b[37m\u001b[0m \u001b[1m0s\u001b[0m 48ms/step\n",
            "\u001b[1m313/313\u001b[0m \u001b[32m━━━━━━━━━━━━━━━━━━━━\u001b[0m\u001b[37m\u001b[0m \u001b[1m1s\u001b[0m 2ms/step\n",
            "\u001b[1m1/1\u001b[0m \u001b[32m━━━━━━━━━━━━━━━━━━━━\u001b[0m\u001b[37m\u001b[0m \u001b[1m0s\u001b[0m 50ms/step\n",
            "\u001b[1m313/313\u001b[0m \u001b[32m━━━━━━━━━━━━━━━━━━━━\u001b[0m\u001b[37m\u001b[0m \u001b[1m1s\u001b[0m 2ms/step\n",
            "\u001b[1m1/1\u001b[0m \u001b[32m━━━━━━━━━━━━━━━━━━━━\u001b[0m\u001b[37m\u001b[0m \u001b[1m0s\u001b[0m 34ms/step\n",
            "\u001b[1m313/313\u001b[0m \u001b[32m━━━━━━━━━━━━━━━━━━━━\u001b[0m\u001b[37m\u001b[0m \u001b[1m0s\u001b[0m 2ms/step\n",
            "\u001b[1m1/1\u001b[0m \u001b[32m━━━━━━━━━━━━━━━━━━━━\u001b[0m\u001b[37m\u001b[0m \u001b[1m0s\u001b[0m 35ms/step\n",
            "\u001b[1m313/313\u001b[0m \u001b[32m━━━━━━━━━━━━━━━━━━━━\u001b[0m\u001b[37m\u001b[0m \u001b[1m0s\u001b[0m 2ms/step\n",
            "\u001b[1m1/1\u001b[0m \u001b[32m━━━━━━━━━━━━━━━━━━━━\u001b[0m\u001b[37m\u001b[0m \u001b[1m0s\u001b[0m 32ms/step\n",
            "\u001b[1m313/313\u001b[0m \u001b[32m━━━━━━━━━━━━━━━━━━━━\u001b[0m\u001b[37m\u001b[0m \u001b[1m0s\u001b[0m 2ms/step\n",
            "\u001b[1m1/1\u001b[0m \u001b[32m━━━━━━━━━━━━━━━━━━━━\u001b[0m\u001b[37m\u001b[0m \u001b[1m0s\u001b[0m 33ms/step\n",
            "\u001b[1m313/313\u001b[0m \u001b[32m━━━━━━━━━━━━━━━━━━━━\u001b[0m\u001b[37m\u001b[0m \u001b[1m0s\u001b[0m 2ms/step\n",
            "\u001b[1m1/1\u001b[0m \u001b[32m━━━━━━━━━━━━━━━━━━━━\u001b[0m\u001b[37m\u001b[0m \u001b[1m0s\u001b[0m 35ms/step\n",
            "\u001b[1m313/313\u001b[0m \u001b[32m━━━━━━━━━━━━━━━━━━━━\u001b[0m\u001b[37m\u001b[0m \u001b[1m0s\u001b[0m 2ms/step\n",
            "\u001b[1m1/1\u001b[0m \u001b[32m━━━━━━━━━━━━━━━━━━━━\u001b[0m\u001b[37m\u001b[0m \u001b[1m0s\u001b[0m 36ms/step\n",
            "\u001b[1m313/313\u001b[0m \u001b[32m━━━━━━━━━━━━━━━━━━━━\u001b[0m\u001b[37m\u001b[0m \u001b[1m0s\u001b[0m 2ms/step\n",
            "\u001b[1m1/1\u001b[0m \u001b[32m━━━━━━━━━━━━━━━━━━━━\u001b[0m\u001b[37m\u001b[0m \u001b[1m0s\u001b[0m 35ms/step\n",
            "\u001b[1m313/313\u001b[0m \u001b[32m━━━━━━━━━━━━━━━━━━━━\u001b[0m\u001b[37m\u001b[0m \u001b[1m0s\u001b[0m 2ms/step\n",
            "\u001b[1m1/1\u001b[0m \u001b[32m━━━━━━━━━━━━━━━━━━━━\u001b[0m\u001b[37m\u001b[0m \u001b[1m0s\u001b[0m 32ms/step\n",
            "\u001b[1m313/313\u001b[0m \u001b[32m━━━━━━━━━━━━━━━━━━━━\u001b[0m\u001b[37m\u001b[0m \u001b[1m0s\u001b[0m 1ms/step\n",
            "\u001b[1m1/1\u001b[0m \u001b[32m━━━━━━━━━━━━━━━━━━━━\u001b[0m\u001b[37m\u001b[0m \u001b[1m0s\u001b[0m 36ms/step\n",
            "\u001b[1m313/313\u001b[0m \u001b[32m━━━━━━━━━━━━━━━━━━━━\u001b[0m\u001b[37m\u001b[0m \u001b[1m1s\u001b[0m 2ms/step\n",
            "\u001b[1m1/1\u001b[0m \u001b[32m━━━━━━━━━━━━━━━━━━━━\u001b[0m\u001b[37m\u001b[0m \u001b[1m0s\u001b[0m 33ms/step\n",
            "\u001b[1m313/313\u001b[0m \u001b[32m━━━━━━━━━━━━━━━━━━━━\u001b[0m\u001b[37m\u001b[0m \u001b[1m1s\u001b[0m 2ms/step\n",
            "\u001b[1m1/1\u001b[0m \u001b[32m━━━━━━━━━━━━━━━━━━━━\u001b[0m\u001b[37m\u001b[0m \u001b[1m0s\u001b[0m 32ms/step\n",
            "\u001b[1m313/313\u001b[0m \u001b[32m━━━━━━━━━━━━━━━━━━━━\u001b[0m\u001b[37m\u001b[0m \u001b[1m0s\u001b[0m 1ms/step\n",
            "\u001b[1m1/1\u001b[0m \u001b[32m━━━━━━━━━━━━━━━━━━━━\u001b[0m\u001b[37m\u001b[0m \u001b[1m0s\u001b[0m 32ms/step\n",
            "\u001b[1m313/313\u001b[0m \u001b[32m━━━━━━━━━━━━━━━━━━━━\u001b[0m\u001b[37m\u001b[0m \u001b[1m1s\u001b[0m 2ms/step\n",
            "\u001b[1m1/1\u001b[0m \u001b[32m━━━━━━━━━━━━━━━━━━━━\u001b[0m\u001b[37m\u001b[0m \u001b[1m0s\u001b[0m 49ms/step\n",
            "\u001b[1m313/313\u001b[0m \u001b[32m━━━━━━━━━━━━━━━━━━━━\u001b[0m\u001b[37m\u001b[0m \u001b[1m1s\u001b[0m 2ms/step\n",
            "\u001b[1m1/1\u001b[0m \u001b[32m━━━━━━━━━━━━━━━━━━━━\u001b[0m\u001b[37m\u001b[0m \u001b[1m0s\u001b[0m 33ms/step\n",
            "\u001b[1m313/313\u001b[0m \u001b[32m━━━━━━━━━━━━━━━━━━━━\u001b[0m\u001b[37m\u001b[0m \u001b[1m0s\u001b[0m 2ms/step\n",
            "\u001b[1m1/1\u001b[0m \u001b[32m━━━━━━━━━━━━━━━━━━━━\u001b[0m\u001b[37m\u001b[0m \u001b[1m0s\u001b[0m 33ms/step\n",
            "\u001b[1m313/313\u001b[0m \u001b[32m━━━━━━━━━━━━━━━━━━━━\u001b[0m\u001b[37m\u001b[0m \u001b[1m0s\u001b[0m 2ms/step\n",
            "\u001b[1m1/1\u001b[0m \u001b[32m━━━━━━━━━━━━━━━━━━━━\u001b[0m\u001b[37m\u001b[0m \u001b[1m0s\u001b[0m 35ms/step\n",
            "\u001b[1m313/313\u001b[0m \u001b[32m━━━━━━━━━━━━━━━━━━━━\u001b[0m\u001b[37m\u001b[0m \u001b[1m0s\u001b[0m 1ms/step\n",
            "\u001b[1m1/1\u001b[0m \u001b[32m━━━━━━━━━━━━━━━━━━━━\u001b[0m\u001b[37m\u001b[0m \u001b[1m0s\u001b[0m 33ms/step\n",
            "\u001b[1m313/313\u001b[0m \u001b[32m━━━━━━━━━━━━━━━━━━━━\u001b[0m\u001b[37m\u001b[0m \u001b[1m0s\u001b[0m 1ms/step\n",
            "\u001b[1m1/1\u001b[0m \u001b[32m━━━━━━━━━━━━━━━━━━━━\u001b[0m\u001b[37m\u001b[0m \u001b[1m0s\u001b[0m 34ms/step\n",
            "\u001b[1m313/313\u001b[0m \u001b[32m━━━━━━━━━━━━━━━━━━━━\u001b[0m\u001b[37m\u001b[0m \u001b[1m0s\u001b[0m 1ms/step\n",
            "\u001b[1m1/1\u001b[0m \u001b[32m━━━━━━━━━━━━━━━━━━━━\u001b[0m\u001b[37m\u001b[0m \u001b[1m0s\u001b[0m 34ms/step\n",
            "\u001b[1m313/313\u001b[0m \u001b[32m━━━━━━━━━━━━━━━━━━━━\u001b[0m\u001b[37m\u001b[0m \u001b[1m0s\u001b[0m 2ms/step\n",
            "\u001b[1m1/1\u001b[0m \u001b[32m━━━━━━━━━━━━━━━━━━━━\u001b[0m\u001b[37m\u001b[0m \u001b[1m0s\u001b[0m 31ms/step\n",
            "\u001b[1m313/313\u001b[0m \u001b[32m━━━━━━━━━━━━━━━━━━━━\u001b[0m\u001b[37m\u001b[0m \u001b[1m1s\u001b[0m 2ms/step\n",
            "\u001b[1m1/1\u001b[0m \u001b[32m━━━━━━━━━━━━━━━━━━━━\u001b[0m\u001b[37m\u001b[0m \u001b[1m0s\u001b[0m 32ms/step\n",
            "\u001b[1m313/313\u001b[0m \u001b[32m━━━━━━━━━━━━━━━━━━━━\u001b[0m\u001b[37m\u001b[0m \u001b[1m0s\u001b[0m 1ms/step\n",
            "\u001b[1m1/1\u001b[0m \u001b[32m━━━━━━━━━━━━━━━━━━━━\u001b[0m\u001b[37m\u001b[0m \u001b[1m0s\u001b[0m 34ms/step\n",
            "\u001b[1m313/313\u001b[0m \u001b[32m━━━━━━━━━━━━━━━━━━━━\u001b[0m\u001b[37m\u001b[0m \u001b[1m0s\u001b[0m 2ms/step\n",
            "\u001b[1m1/1\u001b[0m \u001b[32m━━━━━━━━━━━━━━━━━━━━\u001b[0m\u001b[37m\u001b[0m \u001b[1m0s\u001b[0m 36ms/step\n",
            "\u001b[1m313/313\u001b[0m \u001b[32m━━━━━━━━━━━━━━━━━━━━\u001b[0m\u001b[37m\u001b[0m \u001b[1m1s\u001b[0m 2ms/step\n",
            "\u001b[1m1/1\u001b[0m \u001b[32m━━━━━━━━━━━━━━━━━━━━\u001b[0m\u001b[37m\u001b[0m \u001b[1m0s\u001b[0m 32ms/step\n",
            "\u001b[1m313/313\u001b[0m \u001b[32m━━━━━━━━━━━━━━━━━━━━\u001b[0m\u001b[37m\u001b[0m \u001b[1m0s\u001b[0m 2ms/step\n",
            "\u001b[1m1/1\u001b[0m \u001b[32m━━━━━━━━━━━━━━━━━━━━\u001b[0m\u001b[37m\u001b[0m \u001b[1m0s\u001b[0m 35ms/step\n",
            "\u001b[1m313/313\u001b[0m \u001b[32m━━━━━━━━━━━━━━━━━━━━\u001b[0m\u001b[37m\u001b[0m \u001b[1m0s\u001b[0m 2ms/step\n",
            "\u001b[1m1/1\u001b[0m \u001b[32m━━━━━━━━━━━━━━━━━━━━\u001b[0m\u001b[37m\u001b[0m \u001b[1m0s\u001b[0m 35ms/step\n",
            "\u001b[1m313/313\u001b[0m \u001b[32m━━━━━━━━━━━━━━━━━━━━\u001b[0m\u001b[37m\u001b[0m \u001b[1m1s\u001b[0m 2ms/step\n",
            "\u001b[1m1/1\u001b[0m \u001b[32m━━━━━━━━━━━━━━━━━━━━\u001b[0m\u001b[37m\u001b[0m \u001b[1m0s\u001b[0m 46ms/step\n",
            "\u001b[1m313/313\u001b[0m \u001b[32m━━━━━━━━━━━━━━━━━━━━\u001b[0m\u001b[37m\u001b[0m \u001b[1m1s\u001b[0m 2ms/step\n",
            "\u001b[1m1/1\u001b[0m \u001b[32m━━━━━━━━━━━━━━━━━━━━\u001b[0m\u001b[37m\u001b[0m \u001b[1m0s\u001b[0m 56ms/step\n",
            "\u001b[1m313/313\u001b[0m \u001b[32m━━━━━━━━━━━━━━━━━━━━\u001b[0m\u001b[37m\u001b[0m \u001b[1m1s\u001b[0m 2ms/step\n",
            "\u001b[1m1/1\u001b[0m \u001b[32m━━━━━━━━━━━━━━━━━━━━\u001b[0m\u001b[37m\u001b[0m \u001b[1m0s\u001b[0m 33ms/step\n",
            "\u001b[1m313/313\u001b[0m \u001b[32m━━━━━━━━━━━━━━━━━━━━\u001b[0m\u001b[37m\u001b[0m \u001b[1m0s\u001b[0m 1ms/step\n",
            "\u001b[1m1/1\u001b[0m \u001b[32m━━━━━━━━━━━━━━━━━━━━\u001b[0m\u001b[37m\u001b[0m \u001b[1m0s\u001b[0m 34ms/step\n",
            "\u001b[1m313/313\u001b[0m \u001b[32m━━━━━━━━━━━━━━━━━━━━\u001b[0m\u001b[37m\u001b[0m \u001b[1m1s\u001b[0m 2ms/step\n",
            "\u001b[1m1/1\u001b[0m \u001b[32m━━━━━━━━━━━━━━━━━━━━\u001b[0m\u001b[37m\u001b[0m \u001b[1m0s\u001b[0m 35ms/step\n",
            "\u001b[1m313/313\u001b[0m \u001b[32m━━━━━━━━━━━━━━━━━━━━\u001b[0m\u001b[37m\u001b[0m \u001b[1m1s\u001b[0m 2ms/step\n",
            "\u001b[1m1/1\u001b[0m \u001b[32m━━━━━━━━━━━━━━━━━━━━\u001b[0m\u001b[37m\u001b[0m \u001b[1m0s\u001b[0m 33ms/step\n",
            "\u001b[1m313/313\u001b[0m \u001b[32m━━━━━━━━━━━━━━━━━━━━\u001b[0m\u001b[37m\u001b[0m \u001b[1m1s\u001b[0m 2ms/step\n",
            "\u001b[1m1/1\u001b[0m \u001b[32m━━━━━━━━━━━━━━━━━━━━\u001b[0m\u001b[37m\u001b[0m \u001b[1m0s\u001b[0m 35ms/step\n",
            "\u001b[1m313/313\u001b[0m \u001b[32m━━━━━━━━━━━━━━━━━━━━\u001b[0m\u001b[37m\u001b[0m \u001b[1m1s\u001b[0m 2ms/step\n",
            "\u001b[1m1/1\u001b[0m \u001b[32m━━━━━━━━━━━━━━━━━━━━\u001b[0m\u001b[37m\u001b[0m \u001b[1m0s\u001b[0m 34ms/step\n",
            "\u001b[1m313/313\u001b[0m \u001b[32m━━━━━━━━━━━━━━━━━━━━\u001b[0m\u001b[37m\u001b[0m \u001b[1m1s\u001b[0m 2ms/step\n",
            "\u001b[1m1/1\u001b[0m \u001b[32m━━━━━━━━━━━━━━━━━━━━\u001b[0m\u001b[37m\u001b[0m \u001b[1m0s\u001b[0m 33ms/step\n",
            "\u001b[1m313/313\u001b[0m \u001b[32m━━━━━━━━━━━━━━━━━━━━\u001b[0m\u001b[37m\u001b[0m \u001b[1m1s\u001b[0m 2ms/step\n",
            "\u001b[1m1/1\u001b[0m \u001b[32m━━━━━━━━━━━━━━━━━━━━\u001b[0m\u001b[37m\u001b[0m \u001b[1m0s\u001b[0m 45ms/step\n",
            "\u001b[1m313/313\u001b[0m \u001b[32m━━━━━━━━━━━━━━━━━━━━\u001b[0m\u001b[37m\u001b[0m \u001b[1m1s\u001b[0m 2ms/step\n",
            "\u001b[1m1/1\u001b[0m \u001b[32m━━━━━━━━━━━━━━━━━━━━\u001b[0m\u001b[37m\u001b[0m \u001b[1m0s\u001b[0m 33ms/step\n",
            "\u001b[1m313/313\u001b[0m \u001b[32m━━━━━━━━━━━━━━━━━━━━\u001b[0m\u001b[37m\u001b[0m \u001b[1m1s\u001b[0m 2ms/step\n",
            "\u001b[1m1/1\u001b[0m \u001b[32m━━━━━━━━━━━━━━━━━━━━\u001b[0m\u001b[37m\u001b[0m \u001b[1m0s\u001b[0m 33ms/step\n",
            "\u001b[1m313/313\u001b[0m \u001b[32m━━━━━━━━━━━━━━━━━━━━\u001b[0m\u001b[37m\u001b[0m \u001b[1m1s\u001b[0m 2ms/step\n",
            "\u001b[1m1/1\u001b[0m \u001b[32m━━━━━━━━━━━━━━━━━━━━\u001b[0m\u001b[37m\u001b[0m \u001b[1m0s\u001b[0m 48ms/step\n",
            "\u001b[1m313/313\u001b[0m \u001b[32m━━━━━━━━━━━━━━━━━━━━\u001b[0m\u001b[37m\u001b[0m \u001b[1m1s\u001b[0m 2ms/step\n",
            "\u001b[1m1/1\u001b[0m \u001b[32m━━━━━━━━━━━━━━━━━━━━\u001b[0m\u001b[37m\u001b[0m \u001b[1m0s\u001b[0m 56ms/step\n",
            "\u001b[1m313/313\u001b[0m \u001b[32m━━━━━━━━━━━━━━━━━━━━\u001b[0m\u001b[37m\u001b[0m \u001b[1m1s\u001b[0m 2ms/step\n",
            "\u001b[1m1/1\u001b[0m \u001b[32m━━━━━━━━━━━━━━━━━━━━\u001b[0m\u001b[37m\u001b[0m \u001b[1m0s\u001b[0m 35ms/step\n",
            "\u001b[1m313/313\u001b[0m \u001b[32m━━━━━━━━━━━━━━━━━━━━\u001b[0m\u001b[37m\u001b[0m \u001b[1m1s\u001b[0m 2ms/step\n",
            "\u001b[1m1/1\u001b[0m \u001b[32m━━━━━━━━━━━━━━━━━━━━\u001b[0m\u001b[37m\u001b[0m \u001b[1m0s\u001b[0m 33ms/step\n",
            "\u001b[1m313/313\u001b[0m \u001b[32m━━━━━━━━━━━━━━━━━━━━\u001b[0m\u001b[37m\u001b[0m \u001b[1m1s\u001b[0m 2ms/step\n",
            "\u001b[1m1/1\u001b[0m \u001b[32m━━━━━━━━━━━━━━━━━━━━\u001b[0m\u001b[37m\u001b[0m \u001b[1m0s\u001b[0m 35ms/step\n",
            "\u001b[1m313/313\u001b[0m \u001b[32m━━━━━━━━━━━━━━━━━━━━\u001b[0m\u001b[37m\u001b[0m \u001b[1m1s\u001b[0m 2ms/step\n",
            "\u001b[1m1/1\u001b[0m \u001b[32m━━━━━━━━━━━━━━━━━━━━\u001b[0m\u001b[37m\u001b[0m \u001b[1m0s\u001b[0m 32ms/step\n",
            "\u001b[1m313/313\u001b[0m \u001b[32m━━━━━━━━━━━━━━━━━━━━\u001b[0m\u001b[37m\u001b[0m \u001b[1m1s\u001b[0m 2ms/step\n",
            "\u001b[1m1/1\u001b[0m \u001b[32m━━━━━━━━━━━━━━━━━━━━\u001b[0m\u001b[37m\u001b[0m \u001b[1m0s\u001b[0m 34ms/step\n",
            "\u001b[1m313/313\u001b[0m \u001b[32m━━━━━━━━━━━━━━━━━━━━\u001b[0m\u001b[37m\u001b[0m \u001b[1m1s\u001b[0m 2ms/step\n",
            "\u001b[1m1/1\u001b[0m \u001b[32m━━━━━━━━━━━━━━━━━━━━\u001b[0m\u001b[37m\u001b[0m \u001b[1m0s\u001b[0m 33ms/step\n",
            "\u001b[1m313/313\u001b[0m \u001b[32m━━━━━━━━━━━━━━━━━━━━\u001b[0m\u001b[37m\u001b[0m \u001b[1m1s\u001b[0m 2ms/step\n",
            "\u001b[1m1/1\u001b[0m \u001b[32m━━━━━━━━━━━━━━━━━━━━\u001b[0m\u001b[37m\u001b[0m \u001b[1m0s\u001b[0m 31ms/step\n",
            "\u001b[1m313/313\u001b[0m \u001b[32m━━━━━━━━━━━━━━━━━━━━\u001b[0m\u001b[37m\u001b[0m \u001b[1m1s\u001b[0m 2ms/step\n",
            "\u001b[1m1/1\u001b[0m \u001b[32m━━━━━━━━━━━━━━━━━━━━\u001b[0m\u001b[37m\u001b[0m \u001b[1m0s\u001b[0m 33ms/step\n",
            "\u001b[1m313/313\u001b[0m \u001b[32m━━━━━━━━━━━━━━━━━━━━\u001b[0m\u001b[37m\u001b[0m \u001b[1m1s\u001b[0m 2ms/step\n",
            "\u001b[1m1/1\u001b[0m \u001b[32m━━━━━━━━━━━━━━━━━━━━\u001b[0m\u001b[37m\u001b[0m \u001b[1m0s\u001b[0m 49ms/step\n",
            "\u001b[1m313/313\u001b[0m \u001b[32m━━━━━━━━━━━━━━━━━━━━\u001b[0m\u001b[37m\u001b[0m \u001b[1m1s\u001b[0m 2ms/step\n",
            "\u001b[1m1/1\u001b[0m \u001b[32m━━━━━━━━━━━━━━━━━━━━\u001b[0m\u001b[37m\u001b[0m \u001b[1m0s\u001b[0m 71ms/step\n",
            "\u001b[1m313/313\u001b[0m \u001b[32m━━━━━━━━━━━━━━━━━━━━\u001b[0m\u001b[37m\u001b[0m \u001b[1m1s\u001b[0m 2ms/step\n",
            "\u001b[1m1/1\u001b[0m \u001b[32m━━━━━━━━━━━━━━━━━━━━\u001b[0m\u001b[37m\u001b[0m \u001b[1m0s\u001b[0m 31ms/step\n",
            "\u001b[1m313/313\u001b[0m \u001b[32m━━━━━━━━━━━━━━━━━━━━\u001b[0m\u001b[37m\u001b[0m \u001b[1m0s\u001b[0m 2ms/step\n",
            "\u001b[1m1/1\u001b[0m \u001b[32m━━━━━━━━━━━━━━━━━━━━\u001b[0m\u001b[37m\u001b[0m \u001b[1m0s\u001b[0m 34ms/step\n",
            "\u001b[1m313/313\u001b[0m \u001b[32m━━━━━━━━━━━━━━━━━━━━\u001b[0m\u001b[37m\u001b[0m \u001b[1m1s\u001b[0m 2ms/step\n",
            "\u001b[1m1/1\u001b[0m \u001b[32m━━━━━━━━━━━━━━━━━━━━\u001b[0m\u001b[37m\u001b[0m \u001b[1m0s\u001b[0m 33ms/step\n",
            "\u001b[1m313/313\u001b[0m \u001b[32m━━━━━━━━━━━━━━━━━━━━\u001b[0m\u001b[37m\u001b[0m \u001b[1m1s\u001b[0m 2ms/step\n",
            "\u001b[1m1/1\u001b[0m \u001b[32m━━━━━━━━━━━━━━━━━━━━\u001b[0m\u001b[37m\u001b[0m \u001b[1m0s\u001b[0m 35ms/step\n",
            "\u001b[1m313/313\u001b[0m \u001b[32m━━━━━━━━━━━━━━━━━━━━\u001b[0m\u001b[37m\u001b[0m \u001b[1m1s\u001b[0m 2ms/step\n",
            "\u001b[1m1/1\u001b[0m \u001b[32m━━━━━━━━━━━━━━━━━━━━\u001b[0m\u001b[37m\u001b[0m \u001b[1m0s\u001b[0m 33ms/step\n",
            "\u001b[1m313/313\u001b[0m \u001b[32m━━━━━━━━━━━━━━━━━━━━\u001b[0m\u001b[37m\u001b[0m \u001b[1m1s\u001b[0m 2ms/step\n",
            "\u001b[1m1/1\u001b[0m \u001b[32m━━━━━━━━━━━━━━━━━━━━\u001b[0m\u001b[37m\u001b[0m \u001b[1m0s\u001b[0m 33ms/step\n",
            "\u001b[1m313/313\u001b[0m \u001b[32m━━━━━━━━━━━━━━━━━━━━\u001b[0m\u001b[37m\u001b[0m \u001b[1m0s\u001b[0m 2ms/step\n",
            "\u001b[1m1/1\u001b[0m \u001b[32m━━━━━━━━━━━━━━━━━━━━\u001b[0m\u001b[37m\u001b[0m \u001b[1m0s\u001b[0m 34ms/step\n",
            "\u001b[1m313/313\u001b[0m \u001b[32m━━━━━━━━━━━━━━━━━━━━\u001b[0m\u001b[37m\u001b[0m \u001b[1m1s\u001b[0m 2ms/step\n",
            "\u001b[1m1/1\u001b[0m \u001b[32m━━━━━━━━━━━━━━━━━━━━\u001b[0m\u001b[37m\u001b[0m \u001b[1m0s\u001b[0m 32ms/step\n",
            "\u001b[1m313/313\u001b[0m \u001b[32m━━━━━━━━━━━━━━━━━━━━\u001b[0m\u001b[37m\u001b[0m \u001b[1m0s\u001b[0m 2ms/step\n",
            "\u001b[1m1/1\u001b[0m \u001b[32m━━━━━━━━━━━━━━━━━━━━\u001b[0m\u001b[37m\u001b[0m \u001b[1m0s\u001b[0m 32ms/step\n",
            "\u001b[1m313/313\u001b[0m \u001b[32m━━━━━━━━━━━━━━━━━━━━\u001b[0m\u001b[37m\u001b[0m \u001b[1m1s\u001b[0m 2ms/step\n",
            "\u001b[1m1/1\u001b[0m \u001b[32m━━━━━━━━━━━━━━━━━━━━\u001b[0m\u001b[37m\u001b[0m \u001b[1m0s\u001b[0m 36ms/step\n",
            "\u001b[1m313/313\u001b[0m \u001b[32m━━━━━━━━━━━━━━━━━━━━\u001b[0m\u001b[37m\u001b[0m \u001b[1m1s\u001b[0m 2ms/step\n",
            "\u001b[1m1/1\u001b[0m \u001b[32m━━━━━━━━━━━━━━━━━━━━\u001b[0m\u001b[37m\u001b[0m \u001b[1m0s\u001b[0m 46ms/step\n",
            "\u001b[1m313/313\u001b[0m \u001b[32m━━━━━━━━━━━━━━━━━━━━\u001b[0m\u001b[37m\u001b[0m \u001b[1m1s\u001b[0m 2ms/step\n",
            "\u001b[1m1/1\u001b[0m \u001b[32m━━━━━━━━━━━━━━━━━━━━\u001b[0m\u001b[37m\u001b[0m \u001b[1m0s\u001b[0m 55ms/step\n",
            "\u001b[1m313/313\u001b[0m \u001b[32m━━━━━━━━━━━━━━━━━━━━\u001b[0m\u001b[37m\u001b[0m \u001b[1m1s\u001b[0m 2ms/step\n",
            "\u001b[1m1/1\u001b[0m \u001b[32m━━━━━━━━━━━━━━━━━━━━\u001b[0m\u001b[37m\u001b[0m \u001b[1m0s\u001b[0m 32ms/step\n",
            "\u001b[1m313/313\u001b[0m \u001b[32m━━━━━━━━━━━━━━━━━━━━\u001b[0m\u001b[37m\u001b[0m \u001b[1m0s\u001b[0m 2ms/step\n",
            "\u001b[1m1/1\u001b[0m \u001b[32m━━━━━━━━━━━━━━━━━━━━\u001b[0m\u001b[37m\u001b[0m \u001b[1m0s\u001b[0m 32ms/step\n",
            "\u001b[1m313/313\u001b[0m \u001b[32m━━━━━━━━━━━━━━━━━━━━\u001b[0m\u001b[37m\u001b[0m \u001b[1m0s\u001b[0m 2ms/step\n",
            "\u001b[1m1/1\u001b[0m \u001b[32m━━━━━━━━━━━━━━━━━━━━\u001b[0m\u001b[37m\u001b[0m \u001b[1m0s\u001b[0m 35ms/step\n",
            "\u001b[1m313/313\u001b[0m \u001b[32m━━━━━━━━━━━━━━━━━━━━\u001b[0m\u001b[37m\u001b[0m \u001b[1m1s\u001b[0m 2ms/step\n",
            "\u001b[1m1/1\u001b[0m \u001b[32m━━━━━━━━━━━━━━━━━━━━\u001b[0m\u001b[37m\u001b[0m \u001b[1m0s\u001b[0m 34ms/step\n",
            "\u001b[1m313/313\u001b[0m \u001b[32m━━━━━━━━━━━━━━━━━━━━\u001b[0m\u001b[37m\u001b[0m \u001b[1m0s\u001b[0m 2ms/step\n",
            "\u001b[1m1/1\u001b[0m \u001b[32m━━━━━━━━━━━━━━━━━━━━\u001b[0m\u001b[37m\u001b[0m \u001b[1m0s\u001b[0m 32ms/step\n",
            "\u001b[1m313/313\u001b[0m \u001b[32m━━━━━━━━━━━━━━━━━━━━\u001b[0m\u001b[37m\u001b[0m \u001b[1m0s\u001b[0m 2ms/step\n",
            "\u001b[1m1/1\u001b[0m \u001b[32m━━━━━━━━━━━━━━━━━━━━\u001b[0m\u001b[37m\u001b[0m \u001b[1m0s\u001b[0m 31ms/step\n",
            "\u001b[1m313/313\u001b[0m \u001b[32m━━━━━━━━━━━━━━━━━━━━\u001b[0m\u001b[37m\u001b[0m \u001b[1m0s\u001b[0m 2ms/step\n",
            "\u001b[1m1/1\u001b[0m \u001b[32m━━━━━━━━━━━━━━━━━━━━\u001b[0m\u001b[37m\u001b[0m \u001b[1m0s\u001b[0m 34ms/step\n",
            "\u001b[1m313/313\u001b[0m \u001b[32m━━━━━━━━━━━━━━━━━━━━\u001b[0m\u001b[37m\u001b[0m \u001b[1m0s\u001b[0m 2ms/step\n",
            "\u001b[1m1/1\u001b[0m \u001b[32m━━━━━━━━━━━━━━━━━━━━\u001b[0m\u001b[37m\u001b[0m \u001b[1m0s\u001b[0m 32ms/step\n",
            "\u001b[1m313/313\u001b[0m \u001b[32m━━━━━━━━━━━━━━━━━━━━\u001b[0m\u001b[37m\u001b[0m \u001b[1m1s\u001b[0m 2ms/step\n",
            "\u001b[1m1/1\u001b[0m \u001b[32m━━━━━━━━━━━━━━━━━━━━\u001b[0m\u001b[37m\u001b[0m \u001b[1m0s\u001b[0m 32ms/step\n",
            "\u001b[1m313/313\u001b[0m \u001b[32m━━━━━━━━━━━━━━━━━━━━\u001b[0m\u001b[37m\u001b[0m \u001b[1m0s\u001b[0m 1ms/step\n",
            "\u001b[1m1/1\u001b[0m \u001b[32m━━━━━━━━━━━━━━━━━━━━\u001b[0m\u001b[37m\u001b[0m \u001b[1m0s\u001b[0m 31ms/step\n",
            "\u001b[1m313/313\u001b[0m \u001b[32m━━━━━━━━━━━━━━━━━━━━\u001b[0m\u001b[37m\u001b[0m \u001b[1m0s\u001b[0m 1ms/step\n",
            "\u001b[1m1/1\u001b[0m \u001b[32m━━━━━━━━━━━━━━━━━━━━\u001b[0m\u001b[37m\u001b[0m \u001b[1m0s\u001b[0m 30ms/step\n",
            "\u001b[1m313/313\u001b[0m \u001b[32m━━━━━━━━━━━━━━━━━━━━\u001b[0m\u001b[37m\u001b[0m \u001b[1m1s\u001b[0m 2ms/step\n",
            "\u001b[1m1/1\u001b[0m \u001b[32m━━━━━━━━━━━━━━━━━━━━\u001b[0m\u001b[37m\u001b[0m \u001b[1m0s\u001b[0m 32ms/step\n",
            "\u001b[1m313/313\u001b[0m \u001b[32m━━━━━━━━━━━━━━━━━━━━\u001b[0m\u001b[37m\u001b[0m \u001b[1m1s\u001b[0m 2ms/step\n",
            "\u001b[1m1/1\u001b[0m \u001b[32m━━━━━━━━━━━━━━━━━━━━\u001b[0m\u001b[37m\u001b[0m \u001b[1m0s\u001b[0m 53ms/step\n",
            "\u001b[1m313/313\u001b[0m \u001b[32m━━━━━━━━━━━━━━━━━━━━\u001b[0m\u001b[37m\u001b[0m \u001b[1m1s\u001b[0m 2ms/step\n",
            "\u001b[1m1/1\u001b[0m \u001b[32m━━━━━━━━━━━━━━━━━━━━\u001b[0m\u001b[37m\u001b[0m \u001b[1m0s\u001b[0m 30ms/step\n",
            "\u001b[1m313/313\u001b[0m \u001b[32m━━━━━━━━━━━━━━━━━━━━\u001b[0m\u001b[37m\u001b[0m \u001b[1m0s\u001b[0m 1ms/step\n",
            "\u001b[1m1/1\u001b[0m \u001b[32m━━━━━━━━━━━━━━━━━━━━\u001b[0m\u001b[37m\u001b[0m \u001b[1m0s\u001b[0m 31ms/step\n",
            "\u001b[1m313/313\u001b[0m \u001b[32m━━━━━━━━━━━━━━━━━━━━\u001b[0m\u001b[37m\u001b[0m \u001b[1m0s\u001b[0m 2ms/step\n",
            "\u001b[1m1/1\u001b[0m \u001b[32m━━━━━━━━━━━━━━━━━━━━\u001b[0m\u001b[37m\u001b[0m \u001b[1m0s\u001b[0m 32ms/step\n",
            "\u001b[1m313/313\u001b[0m \u001b[32m━━━━━━━━━━━━━━━━━━━━\u001b[0m\u001b[37m\u001b[0m \u001b[1m0s\u001b[0m 2ms/step\n",
            "\u001b[1m1/1\u001b[0m \u001b[32m━━━━━━━━━━━━━━━━━━━━\u001b[0m\u001b[37m\u001b[0m \u001b[1m0s\u001b[0m 32ms/step\n",
            "\u001b[1m313/313\u001b[0m \u001b[32m━━━━━━━━━━━━━━━━━━━━\u001b[0m\u001b[37m\u001b[0m \u001b[1m1s\u001b[0m 2ms/step\n",
            "\u001b[1m1/1\u001b[0m \u001b[32m━━━━━━━━━━━━━━━━━━━━\u001b[0m\u001b[37m\u001b[0m \u001b[1m0s\u001b[0m 30ms/step\n",
            "\u001b[1m313/313\u001b[0m \u001b[32m━━━━━━━━━━━━━━━━━━━━\u001b[0m\u001b[37m\u001b[0m \u001b[1m0s\u001b[0m 2ms/step\n",
            "\u001b[1m1/1\u001b[0m \u001b[32m━━━━━━━━━━━━━━━━━━━━\u001b[0m\u001b[37m\u001b[0m \u001b[1m0s\u001b[0m 31ms/step\n",
            "\u001b[1m313/313\u001b[0m \u001b[32m━━━━━━━━━━━━━━━━━━━━\u001b[0m\u001b[37m\u001b[0m \u001b[1m0s\u001b[0m 1ms/step\n",
            "\u001b[1m1/1\u001b[0m \u001b[32m━━━━━━━━━━━━━━━━━━━━\u001b[0m\u001b[37m\u001b[0m \u001b[1m0s\u001b[0m 32ms/step\n",
            "\u001b[1m313/313\u001b[0m \u001b[32m━━━━━━━━━━━━━━━━━━━━\u001b[0m\u001b[37m\u001b[0m \u001b[1m0s\u001b[0m 1ms/step\n",
            "\u001b[1m1/1\u001b[0m \u001b[32m━━━━━━━━━━━━━━━━━━━━\u001b[0m\u001b[37m\u001b[0m \u001b[1m0s\u001b[0m 31ms/step\n",
            "\u001b[1m313/313\u001b[0m \u001b[32m━━━━━━━━━━━━━━━━━━━━\u001b[0m\u001b[37m\u001b[0m \u001b[1m1s\u001b[0m 2ms/step\n",
            "\u001b[1m1/1\u001b[0m \u001b[32m━━━━━━━━━━━━━━━━━━━━\u001b[0m\u001b[37m\u001b[0m \u001b[1m0s\u001b[0m 30ms/step\n",
            "\u001b[1m313/313\u001b[0m \u001b[32m━━━━━━━━━━━━━━━━━━━━\u001b[0m\u001b[37m\u001b[0m \u001b[1m1s\u001b[0m 2ms/step\n",
            "\u001b[1m1/1\u001b[0m \u001b[32m━━━━━━━━━━━━━━━━━━━━\u001b[0m\u001b[37m\u001b[0m \u001b[1m0s\u001b[0m 31ms/step\n",
            "\u001b[1m313/313\u001b[0m \u001b[32m━━━━━━━━━━━━━━━━━━━━\u001b[0m\u001b[37m\u001b[0m \u001b[1m0s\u001b[0m 1ms/step\n",
            "\u001b[1m1/1\u001b[0m \u001b[32m━━━━━━━━━━━━━━━━━━━━\u001b[0m\u001b[37m\u001b[0m \u001b[1m0s\u001b[0m 32ms/step\n",
            "\u001b[1m313/313\u001b[0m \u001b[32m━━━━━━━━━━━━━━━━━━━━\u001b[0m\u001b[37m\u001b[0m \u001b[1m0s\u001b[0m 2ms/step\n"
          ]
        },
        {
          "output_type": "display_data",
          "data": {
            "text/plain": [
              "<Figure size 1200x800 with 1 Axes>"
            ],
            "image/png": "[encoded data removed]"
          },
          "metadata": {}
        }
      ]
    }
  ],
  "metadata": {
    "colab": {
      "provenance": [],
      "gpuType": "T4"
    },
    "kernelspec": {
      "display_name": "Python [conda env:base] *",
      "language": "python",
      "name": "conda-base-py"
    },
    "language_info": {
      "codemirror_mode": {
        "name": "ipython",
        "version": 3
      },
      "file_extension": ".py",
      "mimetype": "text/x-python",
      "name": "python",
      "nbconvert_exporter": "python",
      "pygments_lexer": "ipython3",
      "version": "3.12.7"
    },
    "accelerator": "GPU",
    "widgets": {
      "application/vnd.jupyter.widget-state+json": {
        "9dc02f39df394db882e95421aa548a44": {
          "model_module": "@jupyter-widgets/controls",
          "model_name": "HBoxModel",
          "model_module_version": "1.5.0",
          "state": {
            "_dom_classes": [],
            "_model_module": "@jupyter-widgets/controls",
            "_model_module_version": "1.5.0",
            "_model_name": "HBoxModel",
            "_view_count": null,
            "_view_module": "@jupyter-widgets/controls",
            "_view_module_version": "1.5.0",
            "_view_name": "HBoxView",
            "box_style": "",
            "children": [
              "IPY_MODEL_6f5f8f97776c4d9783f5a32d126d0802",
              "IPY_MODEL_fdd594a0f1d74591bff94bf1eda32f16",
              "IPY_MODEL_c5a2dc54b7f046c8ab27a219d115af49"
            ],
            "layout": "IPY_MODEL_53b68c6148ac4bb787581c3c83fada25"
          }
        },
        "6f5f8f97776c4d9783f5a32d126d0802": {
          "model_module": "@jupyter-widgets/controls",
          "model_name": "HTMLModel",
          "model_module_version": "1.5.0",
          "state": {
            "_dom_classes": [],
            "_model_module": "@jupyter-widgets/controls",
            "_model_module_version": "1.5.0",
            "_model_name": "HTMLModel",
            "_view_count": null,
            "_view_module": "@jupyter-widgets/controls",
            "_view_module_version": "1.5.0",
            "_view_name": "HTMLView",
            "description": "",
            "description_tooltip": null,
            "layout": "IPY_MODEL_cdfcc668f16041188f6c6eb9ddddfc0a",
            "placeholder": "​",
            "style": "IPY_MODEL_9a5d61e8a26f4353989a4b24084b98f2",
            "value": "100%"
          }
        },
        "fdd594a0f1d74591bff94bf1eda32f16": {
          "model_module": "@jupyter-widgets/controls",
          "model_name": "FloatProgressModel",
          "model_module_version": "1.5.0",
          "state": {
            "_dom_classes": [],
            "_model_module": "@jupyter-widgets/controls",
            "_model_module_version": "1.5.0",
            "_model_name": "FloatProgressModel",
            "_view_count": null,
            "_view_module": "@jupyter-widgets/controls",
            "_view_module_version": "1.5.0",
            "_view_name": "ProgressView",
            "bar_style": "success",
            "description": "",
            "description_tooltip": null,
            "layout": "IPY_MODEL_56b067ae1b28433b9137bbd1d1d3407a",
            "max": 100,
            "min": 0,
            "orientation": "horizontal",
            "style": "IPY_MODEL_11b7a22d91cd4e34ba90bed94ce032d2",
            "value": 100
          }
        },
        "c5a2dc54b7f046c8ab27a219d115af49": {
          "model_module": "@jupyter-widgets/controls",
          "model_name": "HTMLModel",
          "model_module_version": "1.5.0",
          "state": {
            "_dom_classes": [],
            "_model_module": "@jupyter-widgets/controls",
            "_model_module_version": "1.5.0",
            "_model_name": "HTMLModel",
            "_view_count": null,
            "_view_module": "@jupyter-widgets/controls",
            "_view_module_version": "1.5.0",
            "_view_name": "HTMLView",
            "description": "",
            "description_tooltip": null,
            "layout": "IPY_MODEL_8e171694d1a14e819fbe543b34cc601c",
            "placeholder": "​",
            "style": "IPY_MODEL_bff7735e57a04300b689ba29d08a5154",
            "value": " 100/100 [01:43&lt;00:00,  1.12it/s]"
          }
        },
        "53b68c6148ac4bb787581c3c83fada25": {
          "model_module": "@jupyter-widgets/base",
          "model_name": "LayoutModel",
          "model_module_version": "1.2.0",
          "state": {
            "_model_module": "@jupyter-widgets/base",
            "_model_module_version": "1.2.0",
            "_model_name": "LayoutModel",
            "_view_count": null,
            "_view_module": "@jupyter-widgets/base",
            "_view_module_version": "1.2.0",
            "_view_name": "LayoutView",
            "align_content": null,
            "align_items": null,
            "align_self": null,
            "border": null,
            "bottom": null,
            "display": null,
            "flex": null,
            "flex_flow": null,
            "grid_area": null,
            "grid_auto_columns": null,
            "grid_auto_flow": null,
            "grid_auto_rows": null,
            "grid_column": null,
            "grid_gap": null,
            "grid_row": null,
            "grid_template_areas": null,
            "grid_template_columns": null,
            "grid_template_rows": null,
            "height": null,
            "justify_content": null,
            "justify_items": null,
            "left": null,
            "margin": null,
            "max_height": null,
            "max_width": null,
            "min_height": null,
            "min_width": null,
            "object_fit": null,
            "object_position": null,
            "order": null,
            "overflow": null,
            "overflow_x": null,
            "overflow_y": null,
            "padding": null,
            "right": null,
            "top": null,
            "visibility": null,
            "width": null
          }
        },
        "cdfcc668f16041188f6c6eb9ddddfc0a": {
          "model_module": "@jupyter-widgets/base",
          "model_name": "LayoutModel",
          "model_module_version": "1.2.0",
          "state": {
            "_model_module": "@jupyter-widgets/base",
            "_model_module_version": "1.2.0",
            "_model_name": "LayoutModel",
            "_view_count": null,
            "_view_module": "@jupyter-widgets/base",
            "_view_module_version": "1.2.0",
            "_view_name": "LayoutView",
            "align_content": null,
            "align_items": null,
            "align_self": null,
            "border": null,
            "bottom": null,
            "display": null,
            "flex": null,
            "flex_flow": null,
            "grid_area": null,
            "grid_auto_columns": null,
            "grid_auto_flow": null,
            "grid_auto_rows": null,
            "grid_column": null,
            "grid_gap": null,
            "grid_row": null,
            "grid_template_areas": null,
            "grid_template_columns": null,
            "grid_template_rows": null,
            "height": null,
            "justify_content": null,
            "justify_items": null,
            "left": null,
            "margin": null,
            "max_height": null,
            "max_width": null,
            "min_height": null,
            "min_width": null,
            "object_fit": null,
            "object_position": null,
            "order": null,
            "overflow": null,
            "overflow_x": null,
            "overflow_y": null,
            "padding": null,
            "right": null,
            "top": null,
            "visibility": null,
            "width": null
          }
        },
        "9a5d61e8a26f4353989a4b24084b98f2": {
          "model_module": "@jupyter-widgets/controls",
          "model_name": "DescriptionStyleModel",
          "model_module_version": "1.5.0",
          "state": {
            "_model_module": "@jupyter-widgets/controls",
            "_model_module_version": "1.5.0",
            "_model_name": "DescriptionStyleModel",
            "_view_count": null,
            "_view_module": "@jupyter-widgets/base",
            "_view_module_version": "1.2.0",
            "_view_name": "StyleView",
            "description_width": ""
          }
        },
        "56b067ae1b28433b9137bbd1d1d3407a": {
          "model_module": "@jupyter-widgets/base",
          "model_name": "LayoutModel",
          "model_module_version": "1.2.0",
          "state": {
            "_model_module": "@jupyter-widgets/base",
            "_model_module_version": "1.2.0",
            "_model_name": "LayoutModel",
            "_view_count": null,
            "_view_module": "@jupyter-widgets/base",
            "_view_module_version": "1.2.0",
            "_view_name": "LayoutView",
            "align_content": null,
            "align_items": null,
            "align_self": null,
            "border": null,
            "bottom": null,
            "display": null,
            "flex": null,
            "flex_flow": null,
            "grid_area": null,
            "grid_auto_columns": null,
            "grid_auto_flow": null,
            "grid_auto_rows": null,
            "grid_column": null,
            "grid_gap": null,
            "grid_row": null,
            "grid_template_areas": null,
            "grid_template_columns": null,
            "grid_template_rows": null,
            "height": null,
            "justify_content": null,
            "justify_items": null,
            "left": null,
            "margin": null,
            "max_height": null,
            "max_width": null,
            "min_height": null,
            "min_width": null,
            "object_fit": null,
            "object_position": null,
            "order": null,
            "overflow": null,
            "overflow_x": null,
            "overflow_y": null,
            "padding": null,
            "right": null,
            "top": null,
            "visibility": null,
            "width": null
          }
        },
        "11b7a22d91cd4e34ba90bed94ce032d2": {
          "model_module": "@jupyter-widgets/controls",
          "model_name": "ProgressStyleModel",
          "model_module_version": "1.5.0",
          "state": {
            "_model_module": "@jupyter-widgets/controls",
            "_model_module_version": "1.5.0",
            "_model_name": "ProgressStyleModel",
            "_view_count": null,
            "_view_module": "@jupyter-widgets/base",
            "_view_module_version": "1.2.0",
            "_view_name": "StyleView",
            "bar_color": null,
            "description_width": ""
          }
        },
        "8e171694d1a14e819fbe543b34cc601c": {
          "model_module": "@jupyter-widgets/base",
          "model_name": "LayoutModel",
          "model_module_version": "1.2.0",
          "state": {
            "_model_module": "@jupyter-widgets/base",
            "_model_module_version": "1.2.0",
            "_model_name": "LayoutModel",
            "_view_count": null,
            "_view_module": "@jupyter-widgets/base",
            "_view_module_version": "1.2.0",
            "_view_name": "LayoutView",
            "align_content": null,
            "align_items": null,
            "align_self": null,
            "border": null,
            "bottom": null,
            "display": null,
            "flex": null,
            "flex_flow": null,
            "grid_area": null,
            "grid_auto_columns": null,
            "grid_auto_flow": null,
            "grid_auto_rows": null,
            "grid_column": null,
            "grid_gap": null,
            "grid_row": null,
            "grid_template_areas": null,
            "grid_template_columns": null,
            "grid_template_rows": null,
            "height": null,
            "justify_content": null,
            "justify_items": null,
            "left": null,
            "margin": null,
            "max_height": null,
            "max_width": null,
            "min_height": null,
            "min_width": null,
            "object_fit": null,
            "object_position": null,
            "order": null,
            "overflow": null,
            "overflow_x": null,
            "overflow_y": null,
            "padding": null,
            "right": null,
            "top": null,
            "visibility": null,
            "width": null
          }
        },
        "bff7735e57a04300b689ba29d08a5154": {
          "model_module": "@jupyter-widgets/controls",
          "model_name": "DescriptionStyleModel",
          "model_module_version": "1.5.0",
          "state": {
            "_model_module": "@jupyter-widgets/controls",
            "_model_module_version": "1.5.0",
            "_model_name": "DescriptionStyleModel",
            "_view_count": null,
            "_view_module": "@jupyter-widgets/base",
            "_view_module_version": "1.2.0",
            "_view_name": "StyleView",
            "description_width": ""
          }
        }
      }
    }
  },
  "nbformat": 4,
  "nbformat_minor": 5
}