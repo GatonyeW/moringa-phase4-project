{
 "cells": [
  {
   "cell_type": "code",
   "execution_count": 5,
   "metadata": {},
   "outputs": [],
   "source": [
    "import pandas as pd \n",
    "import numpy as np"
   ]
  },
  {
   "cell_type": "code",
   "execution_count": 6,
   "metadata": {},
   "outputs": [
    {
     "name": "stderr",
     "output_type": "stream",
     "text": [
      "C:\\Users\\HP\\anaconda3\\envs\\learn-env\\lib\\site-packages\\IPython\\core\\interactiveshell.py:3145: DtypeWarning: Columns (20,39,40,41,43,47,48,49,52,54,57,58,60,70) have mixed types.Specify dtype option on import or set low_memory=False.\n",
      "  has_raised = await self.run_ast_nodes(code_ast.body, cell_name,\n",
      "C:\\Users\\HP\\anaconda3\\envs\\learn-env\\lib\\site-packages\\IPython\\core\\interactiveshell.py:3145: DtypeWarning: Columns (19,28) have mixed types.Specify dtype option on import or set low_memory=False.\n",
      "  has_raised = await self.run_ast_nodes(code_ast.body, cell_name,\n"
     ]
    }
   ],
   "source": [
    "df_vehicles=pd.read_csv(\"Traffic_Crashes_-_Vehicles_20250414.csv\")\n",
    "df_people=pd.read_csv(\"Traffic_Crashes_-_People_20250414.csv\")\n",
    "df_crashes=pd.read_csv(\"Traffic_Crashes_-_Crashes_20250414 (1).csv\")"
   ]
  },
  {
   "cell_type": "code",
   "execution_count": 7,
   "metadata": {},
   "outputs": [
    {
     "data": {
      "text/html": [
       "<div>\n",
       "<style scoped>\n",
       "    .dataframe tbody tr th:only-of-type {\n",
       "        vertical-align: middle;\n",
       "    }\n",
       "\n",
       "    .dataframe tbody tr th {\n",
       "        vertical-align: top;\n",
       "    }\n",
       "\n",
       "    .dataframe thead th {\n",
       "        text-align: right;\n",
       "    }\n",
       "</style>\n",
       "<table border=\"1\" class=\"dataframe\">\n",
       "  <thead>\n",
       "    <tr style=\"text-align: right;\">\n",
       "      <th></th>\n",
       "      <th>CRASH_UNIT_ID</th>\n",
       "      <th>CRASH_RECORD_ID</th>\n",
       "      <th>CRASH_DATE</th>\n",
       "      <th>UNIT_NO</th>\n",
       "      <th>UNIT_TYPE</th>\n",
       "      <th>NUM_PASSENGERS</th>\n",
       "      <th>VEHICLE_ID</th>\n",
       "      <th>CMRC_VEH_I</th>\n",
       "      <th>MAKE</th>\n",
       "      <th>MODEL</th>\n",
       "      <th>...</th>\n",
       "      <th>TRAILER1_LENGTH</th>\n",
       "      <th>TRAILER2_LENGTH</th>\n",
       "      <th>TOTAL_VEHICLE_LENGTH</th>\n",
       "      <th>AXLE_CNT</th>\n",
       "      <th>VEHICLE_CONFIG</th>\n",
       "      <th>CARGO_BODY_TYPE</th>\n",
       "      <th>LOAD_TYPE</th>\n",
       "      <th>HAZMAT_OUT_OF_SERVICE_I</th>\n",
       "      <th>MCS_OUT_OF_SERVICE_I</th>\n",
       "      <th>HAZMAT_CLASS</th>\n",
       "    </tr>\n",
       "  </thead>\n",
       "  <tbody>\n",
       "    <tr>\n",
       "      <th>0</th>\n",
       "      <td>10</td>\n",
       "      <td>2e31858c0e411f0bdcb337fb7c415aa93763cf2f23e02f...</td>\n",
       "      <td>08/04/2015 12:40:00 PM</td>\n",
       "      <td>1</td>\n",
       "      <td>DRIVER</td>\n",
       "      <td>NaN</td>\n",
       "      <td>10.0</td>\n",
       "      <td>NaN</td>\n",
       "      <td>FORD</td>\n",
       "      <td>Focus</td>\n",
       "      <td>...</td>\n",
       "      <td>NaN</td>\n",
       "      <td>NaN</td>\n",
       "      <td>NaN</td>\n",
       "      <td>NaN</td>\n",
       "      <td>NaN</td>\n",
       "      <td>NaN</td>\n",
       "      <td>NaN</td>\n",
       "      <td>NaN</td>\n",
       "      <td>NaN</td>\n",
       "      <td>NaN</td>\n",
       "    </tr>\n",
       "    <tr>\n",
       "      <th>1</th>\n",
       "      <td>100</td>\n",
       "      <td>e73b35bd7651b0c6693162bee0666db159b28901437009...</td>\n",
       "      <td>07/31/2015 05:50:00 PM</td>\n",
       "      <td>1</td>\n",
       "      <td>DRIVER</td>\n",
       "      <td>NaN</td>\n",
       "      <td>96.0</td>\n",
       "      <td>NaN</td>\n",
       "      <td>NISSAN</td>\n",
       "      <td>Pathfinder</td>\n",
       "      <td>...</td>\n",
       "      <td>NaN</td>\n",
       "      <td>NaN</td>\n",
       "      <td>NaN</td>\n",
       "      <td>NaN</td>\n",
       "      <td>NaN</td>\n",
       "      <td>NaN</td>\n",
       "      <td>NaN</td>\n",
       "      <td>NaN</td>\n",
       "      <td>NaN</td>\n",
       "      <td>NaN</td>\n",
       "    </tr>\n",
       "    <tr>\n",
       "      <th>2</th>\n",
       "      <td>1000</td>\n",
       "      <td>f2b1adeb85a15112e4fb7db74bff440d6ca53ff7a21e10...</td>\n",
       "      <td>09/02/2015 11:45:00 AM</td>\n",
       "      <td>1</td>\n",
       "      <td>DRIVER</td>\n",
       "      <td>NaN</td>\n",
       "      <td>954.0</td>\n",
       "      <td>NaN</td>\n",
       "      <td>FORD</td>\n",
       "      <td>F150</td>\n",
       "      <td>...</td>\n",
       "      <td>NaN</td>\n",
       "      <td>NaN</td>\n",
       "      <td>NaN</td>\n",
       "      <td>NaN</td>\n",
       "      <td>NaN</td>\n",
       "      <td>NaN</td>\n",
       "      <td>NaN</td>\n",
       "      <td>NaN</td>\n",
       "      <td>NaN</td>\n",
       "      <td>NaN</td>\n",
       "    </tr>\n",
       "    <tr>\n",
       "      <th>3</th>\n",
       "      <td>10000</td>\n",
       "      <td>15a3e24fce3ce7cd2b02d44013d1a93ff2fbdca80632ec...</td>\n",
       "      <td>10/31/2015 09:30:00 PM</td>\n",
       "      <td>2</td>\n",
       "      <td>DRIVER</td>\n",
       "      <td>NaN</td>\n",
       "      <td>9561.0</td>\n",
       "      <td>NaN</td>\n",
       "      <td>HYUNDAI</td>\n",
       "      <td>SONATA</td>\n",
       "      <td>...</td>\n",
       "      <td>NaN</td>\n",
       "      <td>NaN</td>\n",
       "      <td>NaN</td>\n",
       "      <td>NaN</td>\n",
       "      <td>NaN</td>\n",
       "      <td>NaN</td>\n",
       "      <td>NaN</td>\n",
       "      <td>NaN</td>\n",
       "      <td>NaN</td>\n",
       "      <td>NaN</td>\n",
       "    </tr>\n",
       "    <tr>\n",
       "      <th>4</th>\n",
       "      <td>100000</td>\n",
       "      <td>1d3c178880366c77deaf06b8c3198429112a1c8e8807ed...</td>\n",
       "      <td>11/16/2016 01:00:00 PM</td>\n",
       "      <td>2</td>\n",
       "      <td>PARKED</td>\n",
       "      <td>NaN</td>\n",
       "      <td>96745.0</td>\n",
       "      <td>NaN</td>\n",
       "      <td>TOYOTA MOTOR COMPANY, LTD.</td>\n",
       "      <td>RAV4 (sport utility)</td>\n",
       "      <td>...</td>\n",
       "      <td>NaN</td>\n",
       "      <td>NaN</td>\n",
       "      <td>NaN</td>\n",
       "      <td>NaN</td>\n",
       "      <td>NaN</td>\n",
       "      <td>NaN</td>\n",
       "      <td>NaN</td>\n",
       "      <td>NaN</td>\n",
       "      <td>NaN</td>\n",
       "      <td>NaN</td>\n",
       "    </tr>\n",
       "  </tbody>\n",
       "</table>\n",
       "<p>5 rows × 71 columns</p>\n",
       "</div>"
      ],
      "text/plain": [
       "   CRASH_UNIT_ID                                    CRASH_RECORD_ID  \\\n",
       "0             10  2e31858c0e411f0bdcb337fb7c415aa93763cf2f23e02f...   \n",
       "1            100  e73b35bd7651b0c6693162bee0666db159b28901437009...   \n",
       "2           1000  f2b1adeb85a15112e4fb7db74bff440d6ca53ff7a21e10...   \n",
       "3          10000  15a3e24fce3ce7cd2b02d44013d1a93ff2fbdca80632ec...   \n",
       "4         100000  1d3c178880366c77deaf06b8c3198429112a1c8e8807ed...   \n",
       "\n",
       "               CRASH_DATE  UNIT_NO UNIT_TYPE  NUM_PASSENGERS  VEHICLE_ID  \\\n",
       "0  08/04/2015 12:40:00 PM        1    DRIVER             NaN        10.0   \n",
       "1  07/31/2015 05:50:00 PM        1    DRIVER             NaN        96.0   \n",
       "2  09/02/2015 11:45:00 AM        1    DRIVER             NaN       954.0   \n",
       "3  10/31/2015 09:30:00 PM        2    DRIVER             NaN      9561.0   \n",
       "4  11/16/2016 01:00:00 PM        2    PARKED             NaN     96745.0   \n",
       "\n",
       "  CMRC_VEH_I                        MAKE                 MODEL  ...  \\\n",
       "0        NaN                        FORD                 Focus  ...   \n",
       "1        NaN                      NISSAN            Pathfinder  ...   \n",
       "2        NaN                        FORD                  F150  ...   \n",
       "3        NaN                     HYUNDAI                SONATA  ...   \n",
       "4        NaN  TOYOTA MOTOR COMPANY, LTD.  RAV4 (sport utility)  ...   \n",
       "\n",
       "  TRAILER1_LENGTH  TRAILER2_LENGTH TOTAL_VEHICLE_LENGTH AXLE_CNT  \\\n",
       "0             NaN              NaN                  NaN      NaN   \n",
       "1             NaN              NaN                  NaN      NaN   \n",
       "2             NaN              NaN                  NaN      NaN   \n",
       "3             NaN              NaN                  NaN      NaN   \n",
       "4             NaN              NaN                  NaN      NaN   \n",
       "\n",
       "  VEHICLE_CONFIG CARGO_BODY_TYPE LOAD_TYPE HAZMAT_OUT_OF_SERVICE_I  \\\n",
       "0            NaN             NaN       NaN                     NaN   \n",
       "1            NaN             NaN       NaN                     NaN   \n",
       "2            NaN             NaN       NaN                     NaN   \n",
       "3            NaN             NaN       NaN                     NaN   \n",
       "4            NaN             NaN       NaN                     NaN   \n",
       "\n",
       "  MCS_OUT_OF_SERVICE_I  HAZMAT_CLASS  \n",
       "0                  NaN           NaN  \n",
       "1                  NaN           NaN  \n",
       "2                  NaN           NaN  \n",
       "3                  NaN           NaN  \n",
       "4                  NaN           NaN  \n",
       "\n",
       "[5 rows x 71 columns]"
      ]
     },
     "execution_count": 7,
     "metadata": {},
     "output_type": "execute_result"
    }
   ],
   "source": [
    "df_vehicles.head()"
   ]
  },
  {
   "cell_type": "code",
   "execution_count": 8,
   "metadata": {},
   "outputs": [
    {
     "data": {
      "text/html": [
       "<div>\n",
       "<style scoped>\n",
       "    .dataframe tbody tr th:only-of-type {\n",
       "        vertical-align: middle;\n",
       "    }\n",
       "\n",
       "    .dataframe tbody tr th {\n",
       "        vertical-align: top;\n",
       "    }\n",
       "\n",
       "    .dataframe thead th {\n",
       "        text-align: right;\n",
       "    }\n",
       "</style>\n",
       "<table border=\"1\" class=\"dataframe\">\n",
       "  <thead>\n",
       "    <tr style=\"text-align: right;\">\n",
       "      <th></th>\n",
       "      <th>CRASH_RECORD_ID</th>\n",
       "      <th>CRASH_DATE_EST_I</th>\n",
       "      <th>CRASH_DATE</th>\n",
       "      <th>POSTED_SPEED_LIMIT</th>\n",
       "      <th>TRAFFIC_CONTROL_DEVICE</th>\n",
       "      <th>DEVICE_CONDITION</th>\n",
       "      <th>WEATHER_CONDITION</th>\n",
       "      <th>LIGHTING_CONDITION</th>\n",
       "      <th>FIRST_CRASH_TYPE</th>\n",
       "      <th>TRAFFICWAY_TYPE</th>\n",
       "      <th>...</th>\n",
       "      <th>INJURIES_NON_INCAPACITATING</th>\n",
       "      <th>INJURIES_REPORTED_NOT_EVIDENT</th>\n",
       "      <th>INJURIES_NO_INDICATION</th>\n",
       "      <th>INJURIES_UNKNOWN</th>\n",
       "      <th>CRASH_HOUR</th>\n",
       "      <th>CRASH_DAY_OF_WEEK</th>\n",
       "      <th>CRASH_MONTH</th>\n",
       "      <th>LATITUDE</th>\n",
       "      <th>LONGITUDE</th>\n",
       "      <th>LOCATION</th>\n",
       "    </tr>\n",
       "  </thead>\n",
       "  <tbody>\n",
       "    <tr>\n",
       "      <th>0</th>\n",
       "      <td>6c1659069e9c6285a650e70d6f9b574ed5f64c12888479...</td>\n",
       "      <td>NaN</td>\n",
       "      <td>08/18/2023 12:50:00 PM</td>\n",
       "      <td>15</td>\n",
       "      <td>OTHER</td>\n",
       "      <td>FUNCTIONING PROPERLY</td>\n",
       "      <td>CLEAR</td>\n",
       "      <td>DAYLIGHT</td>\n",
       "      <td>REAR END</td>\n",
       "      <td>OTHER</td>\n",
       "      <td>...</td>\n",
       "      <td>1.0</td>\n",
       "      <td>0.0</td>\n",
       "      <td>1.0</td>\n",
       "      <td>0.0</td>\n",
       "      <td>12</td>\n",
       "      <td>6</td>\n",
       "      <td>8</td>\n",
       "      <td>NaN</td>\n",
       "      <td>NaN</td>\n",
       "      <td>NaN</td>\n",
       "    </tr>\n",
       "    <tr>\n",
       "      <th>1</th>\n",
       "      <td>5f54a59fcb087b12ae5b1acff96a3caf4f2d37e79f8db4...</td>\n",
       "      <td>NaN</td>\n",
       "      <td>07/29/2023 02:45:00 PM</td>\n",
       "      <td>30</td>\n",
       "      <td>TRAFFIC SIGNAL</td>\n",
       "      <td>FUNCTIONING PROPERLY</td>\n",
       "      <td>CLEAR</td>\n",
       "      <td>DAYLIGHT</td>\n",
       "      <td>PARKED MOTOR VEHICLE</td>\n",
       "      <td>DIVIDED - W/MEDIAN (NOT RAISED)</td>\n",
       "      <td>...</td>\n",
       "      <td>0.0</td>\n",
       "      <td>0.0</td>\n",
       "      <td>1.0</td>\n",
       "      <td>0.0</td>\n",
       "      <td>14</td>\n",
       "      <td>7</td>\n",
       "      <td>7</td>\n",
       "      <td>41.854120</td>\n",
       "      <td>-87.665902</td>\n",
       "      <td>POINT (-87.665902342962 41.854120262952)</td>\n",
       "    </tr>\n",
       "    <tr>\n",
       "      <th>2</th>\n",
       "      <td>61fcb8c1eb522a6469b460e2134df3d15f82e81fd93e9c...</td>\n",
       "      <td>NaN</td>\n",
       "      <td>08/18/2023 05:58:00 PM</td>\n",
       "      <td>30</td>\n",
       "      <td>NO CONTROLS</td>\n",
       "      <td>NO CONTROLS</td>\n",
       "      <td>CLEAR</td>\n",
       "      <td>DAYLIGHT</td>\n",
       "      <td>PEDALCYCLIST</td>\n",
       "      <td>NOT DIVIDED</td>\n",
       "      <td>...</td>\n",
       "      <td>1.0</td>\n",
       "      <td>0.0</td>\n",
       "      <td>1.0</td>\n",
       "      <td>0.0</td>\n",
       "      <td>17</td>\n",
       "      <td>6</td>\n",
       "      <td>8</td>\n",
       "      <td>41.942976</td>\n",
       "      <td>-87.761883</td>\n",
       "      <td>POINT (-87.761883496974 41.942975745006)</td>\n",
       "    </tr>\n",
       "    <tr>\n",
       "      <th>3</th>\n",
       "      <td>004cd14d0303a9163aad69a2d7f341b7da2a8572b2ab33...</td>\n",
       "      <td>NaN</td>\n",
       "      <td>11/26/2019 08:38:00 AM</td>\n",
       "      <td>25</td>\n",
       "      <td>NO CONTROLS</td>\n",
       "      <td>NO CONTROLS</td>\n",
       "      <td>CLEAR</td>\n",
       "      <td>DAYLIGHT</td>\n",
       "      <td>PEDESTRIAN</td>\n",
       "      <td>ONE-WAY</td>\n",
       "      <td>...</td>\n",
       "      <td>0.0</td>\n",
       "      <td>0.0</td>\n",
       "      <td>1.0</td>\n",
       "      <td>0.0</td>\n",
       "      <td>8</td>\n",
       "      <td>3</td>\n",
       "      <td>11</td>\n",
       "      <td>NaN</td>\n",
       "      <td>NaN</td>\n",
       "      <td>NaN</td>\n",
       "    </tr>\n",
       "    <tr>\n",
       "      <th>4</th>\n",
       "      <td>a1d5f0ea90897745365a4cbb06cc60329a120d89753fac...</td>\n",
       "      <td>NaN</td>\n",
       "      <td>08/18/2023 10:45:00 AM</td>\n",
       "      <td>20</td>\n",
       "      <td>NO CONTROLS</td>\n",
       "      <td>NO CONTROLS</td>\n",
       "      <td>CLEAR</td>\n",
       "      <td>DAYLIGHT</td>\n",
       "      <td>FIXED OBJECT</td>\n",
       "      <td>OTHER</td>\n",
       "      <td>...</td>\n",
       "      <td>0.0</td>\n",
       "      <td>0.0</td>\n",
       "      <td>1.0</td>\n",
       "      <td>0.0</td>\n",
       "      <td>10</td>\n",
       "      <td>6</td>\n",
       "      <td>8</td>\n",
       "      <td>NaN</td>\n",
       "      <td>NaN</td>\n",
       "      <td>NaN</td>\n",
       "    </tr>\n",
       "  </tbody>\n",
       "</table>\n",
       "<p>5 rows × 48 columns</p>\n",
       "</div>"
      ],
      "text/plain": [
       "                                     CRASH_RECORD_ID CRASH_DATE_EST_I  \\\n",
       "0  6c1659069e9c6285a650e70d6f9b574ed5f64c12888479...              NaN   \n",
       "1  5f54a59fcb087b12ae5b1acff96a3caf4f2d37e79f8db4...              NaN   \n",
       "2  61fcb8c1eb522a6469b460e2134df3d15f82e81fd93e9c...              NaN   \n",
       "3  004cd14d0303a9163aad69a2d7f341b7da2a8572b2ab33...              NaN   \n",
       "4  a1d5f0ea90897745365a4cbb06cc60329a120d89753fac...              NaN   \n",
       "\n",
       "               CRASH_DATE  POSTED_SPEED_LIMIT TRAFFIC_CONTROL_DEVICE  \\\n",
       "0  08/18/2023 12:50:00 PM                  15                  OTHER   \n",
       "1  07/29/2023 02:45:00 PM                  30         TRAFFIC SIGNAL   \n",
       "2  08/18/2023 05:58:00 PM                  30            NO CONTROLS   \n",
       "3  11/26/2019 08:38:00 AM                  25            NO CONTROLS   \n",
       "4  08/18/2023 10:45:00 AM                  20            NO CONTROLS   \n",
       "\n",
       "       DEVICE_CONDITION WEATHER_CONDITION LIGHTING_CONDITION  \\\n",
       "0  FUNCTIONING PROPERLY             CLEAR           DAYLIGHT   \n",
       "1  FUNCTIONING PROPERLY             CLEAR           DAYLIGHT   \n",
       "2           NO CONTROLS             CLEAR           DAYLIGHT   \n",
       "3           NO CONTROLS             CLEAR           DAYLIGHT   \n",
       "4           NO CONTROLS             CLEAR           DAYLIGHT   \n",
       "\n",
       "       FIRST_CRASH_TYPE                  TRAFFICWAY_TYPE  ...  \\\n",
       "0              REAR END                            OTHER  ...   \n",
       "1  PARKED MOTOR VEHICLE  DIVIDED - W/MEDIAN (NOT RAISED)  ...   \n",
       "2          PEDALCYCLIST                      NOT DIVIDED  ...   \n",
       "3            PEDESTRIAN                          ONE-WAY  ...   \n",
       "4          FIXED OBJECT                            OTHER  ...   \n",
       "\n",
       "   INJURIES_NON_INCAPACITATING INJURIES_REPORTED_NOT_EVIDENT  \\\n",
       "0                          1.0                           0.0   \n",
       "1                          0.0                           0.0   \n",
       "2                          1.0                           0.0   \n",
       "3                          0.0                           0.0   \n",
       "4                          0.0                           0.0   \n",
       "\n",
       "  INJURIES_NO_INDICATION INJURIES_UNKNOWN CRASH_HOUR CRASH_DAY_OF_WEEK  \\\n",
       "0                    1.0              0.0         12                 6   \n",
       "1                    1.0              0.0         14                 7   \n",
       "2                    1.0              0.0         17                 6   \n",
       "3                    1.0              0.0          8                 3   \n",
       "4                    1.0              0.0         10                 6   \n",
       "\n",
       "  CRASH_MONTH   LATITUDE  LONGITUDE                                  LOCATION  \n",
       "0           8        NaN        NaN                                       NaN  \n",
       "1           7  41.854120 -87.665902  POINT (-87.665902342962 41.854120262952)  \n",
       "2           8  41.942976 -87.761883  POINT (-87.761883496974 41.942975745006)  \n",
       "3          11        NaN        NaN                                       NaN  \n",
       "4           8        NaN        NaN                                       NaN  \n",
       "\n",
       "[5 rows x 48 columns]"
      ]
     },
     "execution_count": 8,
     "metadata": {},
     "output_type": "execute_result"
    }
   ],
   "source": [
    "df_crashes.head()"
   ]
  },
  {
   "cell_type": "code",
   "execution_count": 9,
   "metadata": {},
   "outputs": [
    {
     "name": "stdout",
     "output_type": "stream",
     "text": [
      "<class 'pandas.core.frame.DataFrame'>\n",
      "RangeIndex: 935000 entries, 0 to 934999\n",
      "Data columns (total 48 columns):\n",
      " #   Column                         Non-Null Count   Dtype  \n",
      "---  ------                         --------------   -----  \n",
      " 0   CRASH_RECORD_ID                935000 non-null  object \n",
      " 1   CRASH_DATE_EST_I               68663 non-null   object \n",
      " 2   CRASH_DATE                     935000 non-null  object \n",
      " 3   POSTED_SPEED_LIMIT             935000 non-null  int64  \n",
      " 4   TRAFFIC_CONTROL_DEVICE         935000 non-null  object \n",
      " 5   DEVICE_CONDITION               935000 non-null  object \n",
      " 6   WEATHER_CONDITION              935000 non-null  object \n",
      " 7   LIGHTING_CONDITION             935000 non-null  object \n",
      " 8   FIRST_CRASH_TYPE               935000 non-null  object \n",
      " 9   TRAFFICWAY_TYPE                935000 non-null  object \n",
      " 10  LANE_CNT                       199023 non-null  float64\n",
      " 11  ALIGNMENT                      935000 non-null  object \n",
      " 12  ROADWAY_SURFACE_COND           935000 non-null  object \n",
      " 13  ROAD_DEFECT                    935000 non-null  object \n",
      " 14  REPORT_TYPE                    905231 non-null  object \n",
      " 15  CRASH_TYPE                     935000 non-null  object \n",
      " 16  INTERSECTION_RELATED_I         215017 non-null  object \n",
      " 17  NOT_RIGHT_OF_WAY_I             42417 non-null   object \n",
      " 18  HIT_AND_RUN_I                  293289 non-null  object \n",
      " 19  DAMAGE                         935000 non-null  object \n",
      " 20  DATE_POLICE_NOTIFIED           935000 non-null  object \n",
      " 21  PRIM_CONTRIBUTORY_CAUSE        935000 non-null  object \n",
      " 22  SEC_CONTRIBUTORY_CAUSE         935000 non-null  object \n",
      " 23  STREET_NO                      935000 non-null  int64  \n",
      " 24  STREET_DIRECTION               934996 non-null  object \n",
      " 25  STREET_NAME                    934999 non-null  object \n",
      " 26  BEAT_OF_OCCURRENCE             934995 non-null  float64\n",
      " 27  PHOTOS_TAKEN_I                 12955 non-null   object \n",
      " 28  STATEMENTS_TAKEN_I             21797 non-null   object \n",
      " 29  DOORING_I                      2916 non-null    object \n",
      " 30  WORK_ZONE_I                    5129 non-null    object \n",
      " 31  WORK_ZONE_TYPE                 3944 non-null    object \n",
      " 32  WORKERS_PRESENT_I              1320 non-null    object \n",
      " 33  NUM_UNITS                      935000 non-null  int64  \n",
      " 34  MOST_SEVERE_INJURY             932943 non-null  object \n",
      " 35  INJURIES_TOTAL                 932957 non-null  float64\n",
      " 36  INJURIES_FATAL                 932957 non-null  float64\n",
      " 37  INJURIES_INCAPACITATING        932957 non-null  float64\n",
      " 38  INJURIES_NON_INCAPACITATING    932957 non-null  float64\n",
      " 39  INJURIES_REPORTED_NOT_EVIDENT  932957 non-null  float64\n",
      " 40  INJURIES_NO_INDICATION         932957 non-null  float64\n",
      " 41  INJURIES_UNKNOWN               932957 non-null  float64\n",
      " 42  CRASH_HOUR                     935000 non-null  int64  \n",
      " 43  CRASH_DAY_OF_WEEK              935000 non-null  int64  \n",
      " 44  CRASH_MONTH                    935000 non-null  int64  \n",
      " 45  LATITUDE                       928103 non-null  float64\n",
      " 46  LONGITUDE                      928103 non-null  float64\n",
      " 47  LOCATION                       928103 non-null  object \n",
      "dtypes: float64(11), int64(6), object(31)\n",
      "memory usage: 342.4+ MB\n"
     ]
    }
   ],
   "source": [
    "df_crashes.info()"
   ]
  },
  {
   "cell_type": "code",
   "execution_count": 10,
   "metadata": {},
   "outputs": [
    {
     "data": {
      "text/html": [
       "<div>\n",
       "<style scoped>\n",
       "    .dataframe tbody tr th:only-of-type {\n",
       "        vertical-align: middle;\n",
       "    }\n",
       "\n",
       "    .dataframe tbody tr th {\n",
       "        vertical-align: top;\n",
       "    }\n",
       "\n",
       "    .dataframe thead th {\n",
       "        text-align: right;\n",
       "    }\n",
       "</style>\n",
       "<table border=\"1\" class=\"dataframe\">\n",
       "  <thead>\n",
       "    <tr style=\"text-align: right;\">\n",
       "      <th></th>\n",
       "      <th>PERSON_ID</th>\n",
       "      <th>PERSON_TYPE</th>\n",
       "      <th>CRASH_RECORD_ID</th>\n",
       "      <th>VEHICLE_ID</th>\n",
       "      <th>CRASH_DATE</th>\n",
       "      <th>SEAT_NO</th>\n",
       "      <th>CITY</th>\n",
       "      <th>STATE</th>\n",
       "      <th>ZIPCODE</th>\n",
       "      <th>SEX</th>\n",
       "      <th>...</th>\n",
       "      <th>EMS_RUN_NO</th>\n",
       "      <th>DRIVER_ACTION</th>\n",
       "      <th>DRIVER_VISION</th>\n",
       "      <th>PHYSICAL_CONDITION</th>\n",
       "      <th>PEDPEDAL_ACTION</th>\n",
       "      <th>PEDPEDAL_VISIBILITY</th>\n",
       "      <th>PEDPEDAL_LOCATION</th>\n",
       "      <th>BAC_RESULT</th>\n",
       "      <th>BAC_RESULT VALUE</th>\n",
       "      <th>CELL_PHONE_USE</th>\n",
       "    </tr>\n",
       "  </thead>\n",
       "  <tbody>\n",
       "    <tr>\n",
       "      <th>0</th>\n",
       "      <td>O749947</td>\n",
       "      <td>DRIVER</td>\n",
       "      <td>81dc0de2ed92aa62baccab641fa377be7feb1cc47e6554...</td>\n",
       "      <td>834816.0</td>\n",
       "      <td>09/28/2019 03:30:00 AM</td>\n",
       "      <td>NaN</td>\n",
       "      <td>CHICAGO</td>\n",
       "      <td>IL</td>\n",
       "      <td>60651</td>\n",
       "      <td>M</td>\n",
       "      <td>...</td>\n",
       "      <td>NaN</td>\n",
       "      <td>UNKNOWN</td>\n",
       "      <td>UNKNOWN</td>\n",
       "      <td>UNKNOWN</td>\n",
       "      <td>NaN</td>\n",
       "      <td>NaN</td>\n",
       "      <td>NaN</td>\n",
       "      <td>TEST NOT OFFERED</td>\n",
       "      <td>NaN</td>\n",
       "      <td>NaN</td>\n",
       "    </tr>\n",
       "    <tr>\n",
       "      <th>1</th>\n",
       "      <td>O871921</td>\n",
       "      <td>DRIVER</td>\n",
       "      <td>af84fb5c8d996fcd3aefd36593c3a02e6e7509eeb27568...</td>\n",
       "      <td>827212.0</td>\n",
       "      <td>04/13/2020 10:50:00 PM</td>\n",
       "      <td>NaN</td>\n",
       "      <td>CHICAGO</td>\n",
       "      <td>IL</td>\n",
       "      <td>60620</td>\n",
       "      <td>M</td>\n",
       "      <td>...</td>\n",
       "      <td>NaN</td>\n",
       "      <td>NONE</td>\n",
       "      <td>NOT OBSCURED</td>\n",
       "      <td>NORMAL</td>\n",
       "      <td>NaN</td>\n",
       "      <td>NaN</td>\n",
       "      <td>NaN</td>\n",
       "      <td>TEST NOT OFFERED</td>\n",
       "      <td>NaN</td>\n",
       "      <td>NaN</td>\n",
       "    </tr>\n",
       "    <tr>\n",
       "      <th>2</th>\n",
       "      <td>O10018</td>\n",
       "      <td>DRIVER</td>\n",
       "      <td>71162af7bf22799b776547132ebf134b5b438dcf3dac6b...</td>\n",
       "      <td>9579.0</td>\n",
       "      <td>11/01/2015 05:00:00 AM</td>\n",
       "      <td>NaN</td>\n",
       "      <td>NaN</td>\n",
       "      <td>NaN</td>\n",
       "      <td>NaN</td>\n",
       "      <td>X</td>\n",
       "      <td>...</td>\n",
       "      <td>NaN</td>\n",
       "      <td>IMPROPER BACKING</td>\n",
       "      <td>UNKNOWN</td>\n",
       "      <td>UNKNOWN</td>\n",
       "      <td>NaN</td>\n",
       "      <td>NaN</td>\n",
       "      <td>NaN</td>\n",
       "      <td>TEST NOT OFFERED</td>\n",
       "      <td>NaN</td>\n",
       "      <td>NaN</td>\n",
       "    </tr>\n",
       "    <tr>\n",
       "      <th>3</th>\n",
       "      <td>O10038</td>\n",
       "      <td>DRIVER</td>\n",
       "      <td>c21c476e2ccc41af550b5d858d22aaac4ffc88745a1700...</td>\n",
       "      <td>9598.0</td>\n",
       "      <td>11/01/2015 08:00:00 AM</td>\n",
       "      <td>NaN</td>\n",
       "      <td>NaN</td>\n",
       "      <td>NaN</td>\n",
       "      <td>NaN</td>\n",
       "      <td>X</td>\n",
       "      <td>...</td>\n",
       "      <td>NaN</td>\n",
       "      <td>UNKNOWN</td>\n",
       "      <td>UNKNOWN</td>\n",
       "      <td>UNKNOWN</td>\n",
       "      <td>NaN</td>\n",
       "      <td>NaN</td>\n",
       "      <td>NaN</td>\n",
       "      <td>TEST NOT OFFERED</td>\n",
       "      <td>NaN</td>\n",
       "      <td>NaN</td>\n",
       "    </tr>\n",
       "    <tr>\n",
       "      <th>4</th>\n",
       "      <td>O10039</td>\n",
       "      <td>DRIVER</td>\n",
       "      <td>eb390a4c8e114c69488f5fb8a097fe629f5a92fd528cf4...</td>\n",
       "      <td>9600.0</td>\n",
       "      <td>11/01/2015 10:15:00 AM</td>\n",
       "      <td>NaN</td>\n",
       "      <td>NaN</td>\n",
       "      <td>NaN</td>\n",
       "      <td>NaN</td>\n",
       "      <td>X</td>\n",
       "      <td>...</td>\n",
       "      <td>NaN</td>\n",
       "      <td>UNKNOWN</td>\n",
       "      <td>UNKNOWN</td>\n",
       "      <td>UNKNOWN</td>\n",
       "      <td>NaN</td>\n",
       "      <td>NaN</td>\n",
       "      <td>NaN</td>\n",
       "      <td>TEST NOT OFFERED</td>\n",
       "      <td>NaN</td>\n",
       "      <td>NaN</td>\n",
       "    </tr>\n",
       "  </tbody>\n",
       "</table>\n",
       "<p>5 rows × 29 columns</p>\n",
       "</div>"
      ],
      "text/plain": [
       "  PERSON_ID PERSON_TYPE                                    CRASH_RECORD_ID  \\\n",
       "0   O749947      DRIVER  81dc0de2ed92aa62baccab641fa377be7feb1cc47e6554...   \n",
       "1   O871921      DRIVER  af84fb5c8d996fcd3aefd36593c3a02e6e7509eeb27568...   \n",
       "2    O10018      DRIVER  71162af7bf22799b776547132ebf134b5b438dcf3dac6b...   \n",
       "3    O10038      DRIVER  c21c476e2ccc41af550b5d858d22aaac4ffc88745a1700...   \n",
       "4    O10039      DRIVER  eb390a4c8e114c69488f5fb8a097fe629f5a92fd528cf4...   \n",
       "\n",
       "   VEHICLE_ID              CRASH_DATE  SEAT_NO     CITY STATE ZIPCODE SEX  \\\n",
       "0    834816.0  09/28/2019 03:30:00 AM      NaN  CHICAGO    IL   60651   M   \n",
       "1    827212.0  04/13/2020 10:50:00 PM      NaN  CHICAGO    IL   60620   M   \n",
       "2      9579.0  11/01/2015 05:00:00 AM      NaN      NaN   NaN     NaN   X   \n",
       "3      9598.0  11/01/2015 08:00:00 AM      NaN      NaN   NaN     NaN   X   \n",
       "4      9600.0  11/01/2015 10:15:00 AM      NaN      NaN   NaN     NaN   X   \n",
       "\n",
       "   ...  EMS_RUN_NO     DRIVER_ACTION DRIVER_VISION PHYSICAL_CONDITION  \\\n",
       "0  ...         NaN           UNKNOWN       UNKNOWN            UNKNOWN   \n",
       "1  ...         NaN              NONE  NOT OBSCURED             NORMAL   \n",
       "2  ...         NaN  IMPROPER BACKING       UNKNOWN            UNKNOWN   \n",
       "3  ...         NaN           UNKNOWN       UNKNOWN            UNKNOWN   \n",
       "4  ...         NaN           UNKNOWN       UNKNOWN            UNKNOWN   \n",
       "\n",
       "  PEDPEDAL_ACTION PEDPEDAL_VISIBILITY PEDPEDAL_LOCATION        BAC_RESULT  \\\n",
       "0             NaN                 NaN               NaN  TEST NOT OFFERED   \n",
       "1             NaN                 NaN               NaN  TEST NOT OFFERED   \n",
       "2             NaN                 NaN               NaN  TEST NOT OFFERED   \n",
       "3             NaN                 NaN               NaN  TEST NOT OFFERED   \n",
       "4             NaN                 NaN               NaN  TEST NOT OFFERED   \n",
       "\n",
       "  BAC_RESULT VALUE CELL_PHONE_USE  \n",
       "0              NaN            NaN  \n",
       "1              NaN            NaN  \n",
       "2              NaN            NaN  \n",
       "3              NaN            NaN  \n",
       "4              NaN            NaN  \n",
       "\n",
       "[5 rows x 29 columns]"
      ]
     },
     "execution_count": 10,
     "metadata": {},
     "output_type": "execute_result"
    }
   ],
   "source": [
    "df_people.head()"
   ]
  },
  {
   "cell_type": "code",
   "execution_count": 11,
   "metadata": {},
   "outputs": [
    {
     "name": "stdout",
     "output_type": "stream",
     "text": [
      "<class 'pandas.core.frame.DataFrame'>\n",
      "RangeIndex: 1906958 entries, 0 to 1906957\n",
      "Data columns (total 71 columns):\n",
      " #   Column                    Dtype  \n",
      "---  ------                    -----  \n",
      " 0   CRASH_UNIT_ID             int64  \n",
      " 1   CRASH_RECORD_ID           object \n",
      " 2   CRASH_DATE                object \n",
      " 3   UNIT_NO                   int64  \n",
      " 4   UNIT_TYPE                 object \n",
      " 5   NUM_PASSENGERS            float64\n",
      " 6   VEHICLE_ID                float64\n",
      " 7   CMRC_VEH_I                object \n",
      " 8   MAKE                      object \n",
      " 9   MODEL                     object \n",
      " 10  LIC_PLATE_STATE           object \n",
      " 11  VEHICLE_YEAR              float64\n",
      " 12  VEHICLE_DEFECT            object \n",
      " 13  VEHICLE_TYPE              object \n",
      " 14  VEHICLE_USE               object \n",
      " 15  TRAVEL_DIRECTION          object \n",
      " 16  MANEUVER                  object \n",
      " 17  TOWED_I                   object \n",
      " 18  FIRE_I                    object \n",
      " 19  OCCUPANT_CNT              float64\n",
      " 20  EXCEED_SPEED_LIMIT_I      object \n",
      " 21  TOWED_BY                  object \n",
      " 22  TOWED_TO                  object \n",
      " 23  AREA_00_I                 object \n",
      " 24  AREA_01_I                 object \n",
      " 25  AREA_02_I                 object \n",
      " 26  AREA_03_I                 object \n",
      " 27  AREA_04_I                 object \n",
      " 28  AREA_05_I                 object \n",
      " 29  AREA_06_I                 object \n",
      " 30  AREA_07_I                 object \n",
      " 31  AREA_08_I                 object \n",
      " 32  AREA_09_I                 object \n",
      " 33  AREA_10_I                 object \n",
      " 34  AREA_11_I                 object \n",
      " 35  AREA_12_I                 object \n",
      " 36  AREA_99_I                 object \n",
      " 37  FIRST_CONTACT_POINT       object \n",
      " 38  CMV_ID                    float64\n",
      " 39  USDOT_NO                  object \n",
      " 40  CCMC_NO                   object \n",
      " 41  ILCC_NO                   object \n",
      " 42  COMMERCIAL_SRC            object \n",
      " 43  GVWR                      object \n",
      " 44  CARRIER_NAME              object \n",
      " 45  CARRIER_STATE             object \n",
      " 46  CARRIER_CITY              object \n",
      " 47  HAZMAT_PLACARDS_I         object \n",
      " 48  HAZMAT_NAME               object \n",
      " 49  UN_NO                     object \n",
      " 50  HAZMAT_PRESENT_I          object \n",
      " 51  HAZMAT_REPORT_I           object \n",
      " 52  HAZMAT_REPORT_NO          object \n",
      " 53  MCS_REPORT_I              object \n",
      " 54  MCS_REPORT_NO             object \n",
      " 55  HAZMAT_VIO_CAUSE_CRASH_I  object \n",
      " 56  MCS_VIO_CAUSE_CRASH_I     object \n",
      " 57  IDOT_PERMIT_NO            object \n",
      " 58  WIDE_LOAD_I               object \n",
      " 59  TRAILER1_WIDTH            object \n",
      " 60  TRAILER2_WIDTH            object \n",
      " 61  TRAILER1_LENGTH           float64\n",
      " 62  TRAILER2_LENGTH           float64\n",
      " 63  TOTAL_VEHICLE_LENGTH      float64\n",
      " 64  AXLE_CNT                  float64\n",
      " 65  VEHICLE_CONFIG            object \n",
      " 66  CARGO_BODY_TYPE           object \n",
      " 67  LOAD_TYPE                 object \n",
      " 68  HAZMAT_OUT_OF_SERVICE_I   object \n",
      " 69  MCS_OUT_OF_SERVICE_I      object \n",
      " 70  HAZMAT_CLASS              object \n",
      "dtypes: float64(9), int64(2), object(60)\n",
      "memory usage: 1.0+ GB\n"
     ]
    }
   ],
   "source": [
    "df_vehicles.info()"
   ]
  },
  {
   "cell_type": "code",
   "execution_count": 12,
   "metadata": {},
   "outputs": [],
   "source": [
    "#removing unnecessary columns which are from 23 column onward\n",
    "df_vehicles1 = df_vehicles.iloc[:, :23]"
   ]
  },
  {
   "cell_type": "code",
   "execution_count": 13,
   "metadata": {},
   "outputs": [
    {
     "name": "stdout",
     "output_type": "stream",
     "text": [
      "<class 'pandas.core.frame.DataFrame'>\n",
      "RangeIndex: 1906958 entries, 0 to 1906957\n",
      "Data columns (total 23 columns):\n",
      " #   Column                Dtype  \n",
      "---  ------                -----  \n",
      " 0   CRASH_UNIT_ID         int64  \n",
      " 1   CRASH_RECORD_ID       object \n",
      " 2   CRASH_DATE            object \n",
      " 3   UNIT_NO               int64  \n",
      " 4   UNIT_TYPE             object \n",
      " 5   NUM_PASSENGERS        float64\n",
      " 6   VEHICLE_ID            float64\n",
      " 7   CMRC_VEH_I            object \n",
      " 8   MAKE                  object \n",
      " 9   MODEL                 object \n",
      " 10  LIC_PLATE_STATE       object \n",
      " 11  VEHICLE_YEAR          float64\n",
      " 12  VEHICLE_DEFECT        object \n",
      " 13  VEHICLE_TYPE          object \n",
      " 14  VEHICLE_USE           object \n",
      " 15  TRAVEL_DIRECTION      object \n",
      " 16  MANEUVER              object \n",
      " 17  TOWED_I               object \n",
      " 18  FIRE_I                object \n",
      " 19  OCCUPANT_CNT          float64\n",
      " 20  EXCEED_SPEED_LIMIT_I  object \n",
      " 21  TOWED_BY              object \n",
      " 22  TOWED_TO              object \n",
      "dtypes: float64(4), int64(2), object(17)\n",
      "memory usage: 334.6+ MB\n"
     ]
    }
   ],
   "source": [
    "df_vehicles1.info()"
   ]
  },
  {
   "cell_type": "code",
   "execution_count": 14,
   "metadata": {},
   "outputs": [
    {
     "name": "stdout",
     "output_type": "stream",
     "text": [
      "<class 'pandas.core.frame.DataFrame'>\n",
      "RangeIndex: 2052949 entries, 0 to 2052948\n",
      "Data columns (total 29 columns):\n",
      " #   Column                 Dtype  \n",
      "---  ------                 -----  \n",
      " 0   PERSON_ID              object \n",
      " 1   PERSON_TYPE            object \n",
      " 2   CRASH_RECORD_ID        object \n",
      " 3   VEHICLE_ID             float64\n",
      " 4   CRASH_DATE             object \n",
      " 5   SEAT_NO                float64\n",
      " 6   CITY                   object \n",
      " 7   STATE                  object \n",
      " 8   ZIPCODE                object \n",
      " 9   SEX                    object \n",
      " 10  AGE                    float64\n",
      " 11  DRIVERS_LICENSE_STATE  object \n",
      " 12  DRIVERS_LICENSE_CLASS  object \n",
      " 13  SAFETY_EQUIPMENT       object \n",
      " 14  AIRBAG_DEPLOYED        object \n",
      " 15  EJECTION               object \n",
      " 16  INJURY_CLASSIFICATION  object \n",
      " 17  HOSPITAL               object \n",
      " 18  EMS_AGENCY             object \n",
      " 19  EMS_RUN_NO             object \n",
      " 20  DRIVER_ACTION          object \n",
      " 21  DRIVER_VISION          object \n",
      " 22  PHYSICAL_CONDITION     object \n",
      " 23  PEDPEDAL_ACTION        object \n",
      " 24  PEDPEDAL_VISIBILITY    object \n",
      " 25  PEDPEDAL_LOCATION      object \n",
      " 26  BAC_RESULT             object \n",
      " 27  BAC_RESULT VALUE       float64\n",
      " 28  CELL_PHONE_USE         object \n",
      "dtypes: float64(4), object(25)\n",
      "memory usage: 454.2+ MB\n"
     ]
    }
   ],
   "source": [
    "df_people.info()"
   ]
  },
  {
   "cell_type": "code",
   "execution_count": 15,
   "metadata": {},
   "outputs": [
    {
     "data": {
      "text/plain": [
       "array(['DRIVER', 'PASSENGER', 'PEDESTRIAN', 'BICYCLE',\n",
       "       'NON-MOTOR VEHICLE', 'NON-CONTACT VEHICLE'], dtype=object)"
      ]
     },
     "execution_count": 15,
     "metadata": {},
     "output_type": "execute_result"
    }
   ],
   "source": [
    "df_people[\"PERSON_TYPE\"].unique()"
   ]
  },
  {
   "cell_type": "code",
   "execution_count": 16,
   "metadata": {},
   "outputs": [],
   "source": [
    "#lets focus only on drivers, so i have filtered the driver value from the people dataframe\n",
    "df_people1=df_people[df_people[\"PERSON_TYPE\"]==\"DRIVER\"]"
   ]
  },
  {
   "cell_type": "code",
   "execution_count": 17,
   "metadata": {},
   "outputs": [
    {
     "data": {
      "text/plain": [
       "array(['DRIVER', 'PARKED', 'BICYCLE', nan, 'PEDESTRIAN', 'DRIVERLESS',\n",
       "       'NON-CONTACT VEHICLE', 'NON-MOTOR VEHICLE', 'DISABLED VEHICLE',\n",
       "       'EQUESTRIAN'], dtype=object)"
      ]
     },
     "execution_count": 17,
     "metadata": {},
     "output_type": "execute_result"
    }
   ],
   "source": [
    "df_vehicles[\"UNIT_TYPE\"].unique()"
   ]
  },
  {
   "cell_type": "code",
   "execution_count": 18,
   "metadata": {},
   "outputs": [],
   "source": [
    "#i am also filtering the driver for the vehicles\n",
    "df_vehicles1=df_vehicles1[df_vehicles1[\"UNIT_TYPE\"]==\"DRIVER\"]"
   ]
  },
  {
   "cell_type": "code",
   "execution_count": 19,
   "metadata": {},
   "outputs": [],
   "source": [
    "df_driver = pd.merge(df_vehicles1, df_people1, on='CRASH_RECORD_ID', how='inner')"
   ]
  },
  {
   "cell_type": "code",
   "execution_count": 20,
   "metadata": {},
   "outputs": [
    {
     "name": "stdout",
     "output_type": "stream",
     "text": [
      "<class 'pandas.core.frame.DataFrame'>\n",
      "Int64Index: 3017507 entries, 0 to 3017506\n",
      "Data columns (total 51 columns):\n",
      " #   Column                 Dtype  \n",
      "---  ------                 -----  \n",
      " 0   CRASH_UNIT_ID          int64  \n",
      " 1   CRASH_RECORD_ID        object \n",
      " 2   CRASH_DATE_x           object \n",
      " 3   UNIT_NO                int64  \n",
      " 4   UNIT_TYPE              object \n",
      " 5   NUM_PASSENGERS         float64\n",
      " 6   VEHICLE_ID_x           float64\n",
      " 7   CMRC_VEH_I             object \n",
      " 8   MAKE                   object \n",
      " 9   MODEL                  object \n",
      " 10  LIC_PLATE_STATE        object \n",
      " 11  VEHICLE_YEAR           float64\n",
      " 12  VEHICLE_DEFECT         object \n",
      " 13  VEHICLE_TYPE           object \n",
      " 14  VEHICLE_USE            object \n",
      " 15  TRAVEL_DIRECTION       object \n",
      " 16  MANEUVER               object \n",
      " 17  TOWED_I                object \n",
      " 18  FIRE_I                 object \n",
      " 19  OCCUPANT_CNT           float64\n",
      " 20  EXCEED_SPEED_LIMIT_I   object \n",
      " 21  TOWED_BY               object \n",
      " 22  TOWED_TO               object \n",
      " 23  PERSON_ID              object \n",
      " 24  PERSON_TYPE            object \n",
      " 25  VEHICLE_ID_y           float64\n",
      " 26  CRASH_DATE_y           object \n",
      " 27  SEAT_NO                float64\n",
      " 28  CITY                   object \n",
      " 29  STATE                  object \n",
      " 30  ZIPCODE                object \n",
      " 31  SEX                    object \n",
      " 32  AGE                    float64\n",
      " 33  DRIVERS_LICENSE_STATE  object \n",
      " 34  DRIVERS_LICENSE_CLASS  object \n",
      " 35  SAFETY_EQUIPMENT       object \n",
      " 36  AIRBAG_DEPLOYED        object \n",
      " 37  EJECTION               object \n",
      " 38  INJURY_CLASSIFICATION  object \n",
      " 39  HOSPITAL               object \n",
      " 40  EMS_AGENCY             object \n",
      " 41  EMS_RUN_NO             object \n",
      " 42  DRIVER_ACTION          object \n",
      " 43  DRIVER_VISION          object \n",
      " 44  PHYSICAL_CONDITION     object \n",
      " 45  PEDPEDAL_ACTION        object \n",
      " 46  PEDPEDAL_VISIBILITY    object \n",
      " 47  PEDPEDAL_LOCATION      object \n",
      " 48  BAC_RESULT             object \n",
      " 49  BAC_RESULT VALUE       float64\n",
      " 50  CELL_PHONE_USE         object \n",
      "dtypes: float64(8), int64(2), object(41)\n",
      "memory usage: 1.2+ GB\n"
     ]
    }
   ],
   "source": [
    "df_driver.info()"
   ]
  },
  {
   "cell_type": "code",
   "execution_count": 21,
   "metadata": {},
   "outputs": [],
   "source": [
    "#Clean up duplicate columns where .x and .y are the same\n",
    "for col in df_driver.columns:\n",
    "    if col.endswith('_x'):\n",
    "        base_col = col[:-2]\n",
    "        col_y = base_col + '_y'\n",
    "        if col_y in df_driver.columns:\n",
    "            if df_driver[col].equals(df_driver[col_y]):\n",
    "                df_driver[base_col] = df_driver[col]\n",
    "                df_driver.drop([col, col_y], axis=1, inplace=True)"
   ]
  },
  {
   "cell_type": "code",
   "execution_count": 22,
   "metadata": {},
   "outputs": [
    {
     "name": "stdout",
     "output_type": "stream",
     "text": [
      "<class 'pandas.core.frame.DataFrame'>\n",
      "Int64Index: 3017507 entries, 0 to 3017506\n",
      "Data columns (total 51 columns):\n",
      " #   Column                 Dtype  \n",
      "---  ------                 -----  \n",
      " 0   CRASH_UNIT_ID          int64  \n",
      " 1   CRASH_RECORD_ID        object \n",
      " 2   CRASH_DATE_x           object \n",
      " 3   UNIT_NO                int64  \n",
      " 4   UNIT_TYPE              object \n",
      " 5   NUM_PASSENGERS         float64\n",
      " 6   VEHICLE_ID_x           float64\n",
      " 7   CMRC_VEH_I             object \n",
      " 8   MAKE                   object \n",
      " 9   MODEL                  object \n",
      " 10  LIC_PLATE_STATE        object \n",
      " 11  VEHICLE_YEAR           float64\n",
      " 12  VEHICLE_DEFECT         object \n",
      " 13  VEHICLE_TYPE           object \n",
      " 14  VEHICLE_USE            object \n",
      " 15  TRAVEL_DIRECTION       object \n",
      " 16  MANEUVER               object \n",
      " 17  TOWED_I                object \n",
      " 18  FIRE_I                 object \n",
      " 19  OCCUPANT_CNT           float64\n",
      " 20  EXCEED_SPEED_LIMIT_I   object \n",
      " 21  TOWED_BY               object \n",
      " 22  TOWED_TO               object \n",
      " 23  PERSON_ID              object \n",
      " 24  PERSON_TYPE            object \n",
      " 25  VEHICLE_ID_y           float64\n",
      " 26  CRASH_DATE_y           object \n",
      " 27  SEAT_NO                float64\n",
      " 28  CITY                   object \n",
      " 29  STATE                  object \n",
      " 30  ZIPCODE                object \n",
      " 31  SEX                    object \n",
      " 32  AGE                    float64\n",
      " 33  DRIVERS_LICENSE_STATE  object \n",
      " 34  DRIVERS_LICENSE_CLASS  object \n",
      " 35  SAFETY_EQUIPMENT       object \n",
      " 36  AIRBAG_DEPLOYED        object \n",
      " 37  EJECTION               object \n",
      " 38  INJURY_CLASSIFICATION  object \n",
      " 39  HOSPITAL               object \n",
      " 40  EMS_AGENCY             object \n",
      " 41  EMS_RUN_NO             object \n",
      " 42  DRIVER_ACTION          object \n",
      " 43  DRIVER_VISION          object \n",
      " 44  PHYSICAL_CONDITION     object \n",
      " 45  PEDPEDAL_ACTION        object \n",
      " 46  PEDPEDAL_VISIBILITY    object \n",
      " 47  PEDPEDAL_LOCATION      object \n",
      " 48  BAC_RESULT             object \n",
      " 49  BAC_RESULT VALUE       float64\n",
      " 50  CELL_PHONE_USE         object \n",
      "dtypes: float64(8), int64(2), object(41)\n",
      "memory usage: 1.2+ GB\n"
     ]
    }
   ],
   "source": [
    "df_driver.info()"
   ]
  },
  {
   "cell_type": "code",
   "execution_count": 23,
   "metadata": {},
   "outputs": [],
   "source": [
    "df_driver.drop(['VEHICLE_ID_y', 'CRASH_DATE_y','VEHICLE_ID_x', 'CRASH_DATE_x' ], axis=1, inplace=True)"
   ]
  },
  {
   "cell_type": "code",
   "execution_count": 24,
   "metadata": {},
   "outputs": [],
   "source": [
    "#joining the crash dataframe to the new dataframe\n",
    "merged_df = pd.merge(df_crashes, df_driver, on='CRASH_RECORD_ID', how='inner')\n"
   ]
  },
  {
   "cell_type": "code",
   "execution_count": 25,
   "metadata": {},
   "outputs": [
    {
     "name": "stdout",
     "output_type": "stream",
     "text": [
      "<class 'pandas.core.frame.DataFrame'>\n",
      "Int64Index: 3017507 entries, 0 to 3017506\n",
      "Data columns (total 94 columns):\n",
      " #   Column                         Dtype  \n",
      "---  ------                         -----  \n",
      " 0   CRASH_RECORD_ID                object \n",
      " 1   CRASH_DATE_EST_I               object \n",
      " 2   CRASH_DATE                     object \n",
      " 3   POSTED_SPEED_LIMIT             int64  \n",
      " 4   TRAFFIC_CONTROL_DEVICE         object \n",
      " 5   DEVICE_CONDITION               object \n",
      " 6   WEATHER_CONDITION              object \n",
      " 7   LIGHTING_CONDITION             object \n",
      " 8   FIRST_CRASH_TYPE               object \n",
      " 9   TRAFFICWAY_TYPE                object \n",
      " 10  LANE_CNT                       float64\n",
      " 11  ALIGNMENT                      object \n",
      " 12  ROADWAY_SURFACE_COND           object \n",
      " 13  ROAD_DEFECT                    object \n",
      " 14  REPORT_TYPE                    object \n",
      " 15  CRASH_TYPE                     object \n",
      " 16  INTERSECTION_RELATED_I         object \n",
      " 17  NOT_RIGHT_OF_WAY_I             object \n",
      " 18  HIT_AND_RUN_I                  object \n",
      " 19  DAMAGE                         object \n",
      " 20  DATE_POLICE_NOTIFIED           object \n",
      " 21  PRIM_CONTRIBUTORY_CAUSE        object \n",
      " 22  SEC_CONTRIBUTORY_CAUSE         object \n",
      " 23  STREET_NO                      int64  \n",
      " 24  STREET_DIRECTION               object \n",
      " 25  STREET_NAME                    object \n",
      " 26  BEAT_OF_OCCURRENCE             float64\n",
      " 27  PHOTOS_TAKEN_I                 object \n",
      " 28  STATEMENTS_TAKEN_I             object \n",
      " 29  DOORING_I                      object \n",
      " 30  WORK_ZONE_I                    object \n",
      " 31  WORK_ZONE_TYPE                 object \n",
      " 32  WORKERS_PRESENT_I              object \n",
      " 33  NUM_UNITS                      int64  \n",
      " 34  MOST_SEVERE_INJURY             object \n",
      " 35  INJURIES_TOTAL                 float64\n",
      " 36  INJURIES_FATAL                 float64\n",
      " 37  INJURIES_INCAPACITATING        float64\n",
      " 38  INJURIES_NON_INCAPACITATING    float64\n",
      " 39  INJURIES_REPORTED_NOT_EVIDENT  float64\n",
      " 40  INJURIES_NO_INDICATION         float64\n",
      " 41  INJURIES_UNKNOWN               float64\n",
      " 42  CRASH_HOUR                     int64  \n",
      " 43  CRASH_DAY_OF_WEEK              int64  \n",
      " 44  CRASH_MONTH                    int64  \n",
      " 45  LATITUDE                       float64\n",
      " 46  LONGITUDE                      float64\n",
      " 47  LOCATION                       object \n",
      " 48  CRASH_UNIT_ID                  int64  \n",
      " 49  UNIT_NO                        int64  \n",
      " 50  UNIT_TYPE                      object \n",
      " 51  NUM_PASSENGERS                 float64\n",
      " 52  CMRC_VEH_I                     object \n",
      " 53  MAKE                           object \n",
      " 54  MODEL                          object \n",
      " 55  LIC_PLATE_STATE                object \n",
      " 56  VEHICLE_YEAR                   float64\n",
      " 57  VEHICLE_DEFECT                 object \n",
      " 58  VEHICLE_TYPE                   object \n",
      " 59  VEHICLE_USE                    object \n",
      " 60  TRAVEL_DIRECTION               object \n",
      " 61  MANEUVER                       object \n",
      " 62  TOWED_I                        object \n",
      " 63  FIRE_I                         object \n",
      " 64  OCCUPANT_CNT                   float64\n",
      " 65  EXCEED_SPEED_LIMIT_I           object \n",
      " 66  TOWED_BY                       object \n",
      " 67  TOWED_TO                       object \n",
      " 68  PERSON_ID                      object \n",
      " 69  PERSON_TYPE                    object \n",
      " 70  SEAT_NO                        float64\n",
      " 71  CITY                           object \n",
      " 72  STATE                          object \n",
      " 73  ZIPCODE                        object \n",
      " 74  SEX                            object \n",
      " 75  AGE                            float64\n",
      " 76  DRIVERS_LICENSE_STATE          object \n",
      " 77  DRIVERS_LICENSE_CLASS          object \n",
      " 78  SAFETY_EQUIPMENT               object \n",
      " 79  AIRBAG_DEPLOYED                object \n",
      " 80  EJECTION                       object \n",
      " 81  INJURY_CLASSIFICATION          object \n",
      " 82  HOSPITAL                       object \n",
      " 83  EMS_AGENCY                     object \n",
      " 84  EMS_RUN_NO                     object \n",
      " 85  DRIVER_ACTION                  object \n",
      " 86  DRIVER_VISION                  object \n",
      " 87  PHYSICAL_CONDITION             object \n",
      " 88  PEDPEDAL_ACTION                object \n",
      " 89  PEDPEDAL_VISIBILITY            object \n",
      " 90  PEDPEDAL_LOCATION              object \n",
      " 91  BAC_RESULT                     object \n",
      " 92  BAC_RESULT VALUE               float64\n",
      " 93  CELL_PHONE_USE                 object \n",
      "dtypes: float64(17), int64(8), object(69)\n",
      "memory usage: 2.1+ GB\n"
     ]
    }
   ],
   "source": [
    "merged_df.info()"
   ]
  },
  {
   "cell_type": "code",
   "execution_count": 26,
   "metadata": {},
   "outputs": [
    {
     "data": {
      "text/plain": [
       "array(['NO INDICATION OF INJURY', 'NONINCAPACITATING INJURY',\n",
       "       'REPORTED, NOT EVIDENT', 'INCAPACITATING INJURY', 'FATAL'],\n",
       "      dtype=object)"
      ]
     },
     "execution_count": 26,
     "metadata": {},
     "output_type": "execute_result"
    }
   ],
   "source": [
    "merged_df[\"INJURY_CLASSIFICATION\"].unique()"
   ]
  },
  {
   "cell_type": "code",
   "execution_count": 27,
   "metadata": {},
   "outputs": [],
   "source": [
    "column= [\"POSTED_SPEED_LIMIT\",\"TRAFFIC_CONTROL_DEVICE\",\"DEVICE_CONDITION\", \"WEATHER_CONDITION\", \"LIGHTING_CONDITION\", \"FIRST_CRASH_TYPE\", \"TRAFFICWAY_TYPE\", \"LANE_CNT\", \"ALIGNMENT\", \"ROADWAY_SURFACE_COND\", \"ROAD_DEFECT\",\"CRASH_TYPE\",\"DAMAGE\",\"PRIM_CONTRIBUTORY_CAUSE\", \"SEC_CONTRIBUTORY_CAUSE\",\"DOORING_I\", \"WORK_ZONE_I\",\n",
    "         \"NUM_UNITS\",\"CRASH_HOUR\", \"CRASH_DAY_OF_WEEK\", \"CRASH_MONTH\",\"MAKE\", \"MODEL\",\"VEHICLE_YEAR\",\"VEHICLE_USE\", \"TRAVEL_DIRECTION\",\"EXCEED_SPEED_LIMIT_I\",\"PERSON_TYPE\",\"SEX\", \"AGE\",\"SAFETY_EQUIPMENT\", \"AIRBAG_DEPLOYED\",\"EJECTION\",\"DRIVER_ACTION\", \"DRIVER_VISION\",\n",
    "         \"BAC_RESULT\", \"BAC_RESULT VALUE\", \"CELL_PHONE_USE\",\"INJURY_CLASSIFICATION\"]"
   ]
  },
  {
   "cell_type": "code",
   "execution_count": 28,
   "metadata": {},
   "outputs": [],
   "source": [
    "filtered_df = merged_df[column]"
   ]
  },
  {
   "cell_type": "code",
   "execution_count": 29,
   "metadata": {},
   "outputs": [
    {
     "name": "stdout",
     "output_type": "stream",
     "text": [
      "<class 'pandas.core.frame.DataFrame'>\n",
      "Int64Index: 3017507 entries, 0 to 3017506\n",
      "Data columns (total 39 columns):\n",
      " #   Column                   Dtype  \n",
      "---  ------                   -----  \n",
      " 0   POSTED_SPEED_LIMIT       int64  \n",
      " 1   TRAFFIC_CONTROL_DEVICE   object \n",
      " 2   DEVICE_CONDITION         object \n",
      " 3   WEATHER_CONDITION        object \n",
      " 4   LIGHTING_CONDITION       object \n",
      " 5   FIRST_CRASH_TYPE         object \n",
      " 6   TRAFFICWAY_TYPE          object \n",
      " 7   LANE_CNT                 float64\n",
      " 8   ALIGNMENT                object \n",
      " 9   ROADWAY_SURFACE_COND     object \n",
      " 10  ROAD_DEFECT              object \n",
      " 11  CRASH_TYPE               object \n",
      " 12  DAMAGE                   object \n",
      " 13  PRIM_CONTRIBUTORY_CAUSE  object \n",
      " 14  SEC_CONTRIBUTORY_CAUSE   object \n",
      " 15  DOORING_I                object \n",
      " 16  WORK_ZONE_I              object \n",
      " 17  NUM_UNITS                int64  \n",
      " 18  CRASH_HOUR               int64  \n",
      " 19  CRASH_DAY_OF_WEEK        int64  \n",
      " 20  CRASH_MONTH              int64  \n",
      " 21  MAKE                     object \n",
      " 22  MODEL                    object \n",
      " 23  VEHICLE_YEAR             float64\n",
      " 24  VEHICLE_USE              object \n",
      " 25  TRAVEL_DIRECTION         object \n",
      " 26  EXCEED_SPEED_LIMIT_I     object \n",
      " 27  PERSON_TYPE              object \n",
      " 28  SEX                      object \n",
      " 29  AGE                      float64\n",
      " 30  SAFETY_EQUIPMENT         object \n",
      " 31  AIRBAG_DEPLOYED          object \n",
      " 32  EJECTION                 object \n",
      " 33  DRIVER_ACTION            object \n",
      " 34  DRIVER_VISION            object \n",
      " 35  BAC_RESULT               object \n",
      " 36  BAC_RESULT VALUE         float64\n",
      " 37  CELL_PHONE_USE           object \n",
      " 38  INJURY_CLASSIFICATION    object \n",
      "dtypes: float64(4), int64(5), object(30)\n",
      "memory usage: 920.9+ MB\n"
     ]
    }
   ],
   "source": [
    "filtered_df.info()"
   ]
  },
  {
   "cell_type": "code",
   "execution_count": 30,
   "metadata": {},
   "outputs": [
    {
     "data": {
      "text/plain": [
       "POSTED_SPEED_LIMIT               0\n",
       "TRAFFIC_CONTROL_DEVICE           0\n",
       "DEVICE_CONDITION                 0\n",
       "WEATHER_CONDITION                0\n",
       "LIGHTING_CONDITION               0\n",
       "FIRST_CRASH_TYPE                 0\n",
       "TRAFFICWAY_TYPE                  0\n",
       "LANE_CNT                   2362689\n",
       "ALIGNMENT                        0\n",
       "ROADWAY_SURFACE_COND             0\n",
       "ROAD_DEFECT                      0\n",
       "CRASH_TYPE                       0\n",
       "DAMAGE                           0\n",
       "PRIM_CONTRIBUTORY_CAUSE          0\n",
       "SEC_CONTRIBUTORY_CAUSE           0\n",
       "DOORING_I                  3014121\n",
       "WORK_ZONE_I                3001359\n",
       "NUM_UNITS                        0\n",
       "CRASH_HOUR                       0\n",
       "CRASH_DAY_OF_WEEK                0\n",
       "CRASH_MONTH                      0\n",
       "MAKE                          2052\n",
       "MODEL                         2318\n",
       "VEHICLE_YEAR                455533\n",
       "VEHICLE_USE                   2043\n",
       "TRAVEL_DIRECTION              2043\n",
       "EXCEED_SPEED_LIMIT_I       3013410\n",
       "PERSON_TYPE                      0\n",
       "SEX                            142\n",
       "AGE                         720990\n",
       "SAFETY_EQUIPMENT                 0\n",
       "AIRBAG_DEPLOYED                  0\n",
       "EJECTION                         0\n",
       "DRIVER_ACTION                    0\n",
       "DRIVER_VISION                    0\n",
       "BAC_RESULT                       0\n",
       "BAC_RESULT VALUE           3014090\n",
       "CELL_PHONE_USE             3015493\n",
       "INJURY_CLASSIFICATION            0\n",
       "dtype: int64"
      ]
     },
     "execution_count": 30,
     "metadata": {},
     "output_type": "execute_result"
    }
   ],
   "source": [
    "filtered_df.isnull().sum()"
   ]
  },
  {
   "cell_type": "code",
   "execution_count": 31,
   "metadata": {},
   "outputs": [
    {
     "data": {
      "text/plain": [
       "array(['FOLLOWING TOO CLOSELY', 'FAILING TO REDUCE SPEED TO AVOID CRASH',\n",
       "       'UNABLE TO DETERMINE', 'IMPROPER BACKING',\n",
       "       'IMPROPER TURNING/NO SIGNAL', 'NOT APPLICABLE', 'WEATHER',\n",
       "       'IMPROPER OVERTAKING/PASSING',\n",
       "       'DRIVING SKILLS/KNOWLEDGE/EXPERIENCE', 'IMPROPER LANE USAGE',\n",
       "       'VISION OBSCURED (SIGNS, TREE LIMBS, BUILDINGS, ETC.)',\n",
       "       'ROAD ENGINEERING/SURFACE/MARKING DEFECTS',\n",
       "       'FAILING TO YIELD RIGHT-OF-WAY', 'EQUIPMENT - VEHICLE CONDITION',\n",
       "       'RELATED TO BUS STOP', 'DISREGARDING OTHER TRAFFIC SIGNS',\n",
       "       'DRIVING ON WRONG SIDE/WRONG WAY', 'ROAD CONSTRUCTION/MAINTENANCE',\n",
       "       'DISTRACTION - FROM INSIDE VEHICLE', 'ANIMAL', 'TEXTING',\n",
       "       'DISREGARDING TRAFFIC SIGNALS', 'DISREGARDING ROAD MARKINGS',\n",
       "       'CELL PHONE USE OTHER THAN TEXTING', 'DISREGARDING STOP SIGN',\n",
       "       'OPERATING VEHICLE IN ERRATIC, RECKLESS, CARELESS, NEGLIGENT OR AGGRESSIVE MANNER',\n",
       "       'EXCEEDING AUTHORIZED SPEED LIMIT',\n",
       "       'DISTRACTION - FROM OUTSIDE VEHICLE',\n",
       "       'PHYSICAL CONDITION OF DRIVER',\n",
       "       'EXCEEDING SAFE SPEED FOR CONDITIONS', 'DISREGARDING YIELD SIGN',\n",
       "       'TURNING RIGHT ON RED',\n",
       "       'UNDER THE INFLUENCE OF ALCOHOL/DRUGS (USE WHEN ARREST IS EFFECTED)',\n",
       "       'EVASIVE ACTION DUE TO ANIMAL, OBJECT, NONMOTORIST',\n",
       "       'HAD BEEN DRINKING (USE WHEN ARREST IS NOT MADE)',\n",
       "       'DISTRACTION - OTHER ELECTRONIC DEVICE (NAVIGATION DEVICE, DVD PLAYER, ETC.)',\n",
       "       'OBSTRUCTED CROSSWALKS', 'BICYCLE ADVANCING LEGALLY ON RED LIGHT',\n",
       "       'PASSING STOPPED SCHOOL BUS',\n",
       "       'MOTORCYCLE ADVANCING LEGALLY ON RED LIGHT'], dtype=object)"
      ]
     },
     "execution_count": 31,
     "metadata": {},
     "output_type": "execute_result"
    }
   ],
   "source": [
    "merged_df[\"PRIM_CONTRIBUTORY_CAUSE\"].unique() "
   ]
  },
  {
   "cell_type": "code",
   "execution_count": 32,
   "metadata": {},
   "outputs": [
    {
     "name": "stderr",
     "output_type": "stream",
     "text": [
      "<ipython-input-32-53f125747183>:61: SettingWithCopyWarning: \n",
      "A value is trying to be set on a copy of a slice from a DataFrame.\n",
      "Try using .loc[row_indexer,col_indexer] = value instead\n",
      "\n",
      "See the caveats in the documentation: https://pandas.pydata.org/pandas-docs/stable/user_guide/indexing.html#returning-a-view-versus-a-copy\n",
      "  filtered_df[\"PRIM_CONTRIBUTORY_CAUSE\"]= filtered_df[\"PRIM_CONTRIBUTORY_CAUSE\"].map(group_map)\n"
     ]
    }
   ],
   "source": [
    "#changing the y to fewer levels\n",
    "group_map = {\n",
    "    #  Driver Behavior\n",
    "    'FOLLOWING TOO CLOSELY': 'Driver Behavior',\n",
    "    'FAILING TO REDUCE SPEED TO AVOID CRASH': 'Driver Behavior',\n",
    "    'IMPROPER BACKING': 'Driver Behavior',\n",
    "    'IMPROPER TURNING/NO SIGNAL': 'Driver Behavior',\n",
    "    'IMPROPER LANE USAGE': 'Driver Behavior',\n",
    "    'IMPROPER OVERTAKING/PASSING': 'Driver Behavior',\n",
    "    'DRIVING ON WRONG SIDE/WRONG WAY': 'Driver Behavior',\n",
    "    'OPERATING VEHICLE IN ERRATIC, RECKLESS, CARELESS, NEGLIGENT OR AGGRESSIVE MANNER': 'Driver Behavior',\n",
    "    'EXCEEDING AUTHORIZED SPEED LIMIT': 'Driver Behavior',\n",
    "    'EXCEEDING SAFE SPEED FOR CONDITIONS': 'Driver Behavior',\n",
    "\n",
    "    # Distraction\n",
    "    'DISTRACTION - FROM INSIDE VEHICLE': 'Distraction',\n",
    "    'DISTRACTION - FROM OUTSIDE VEHICLE': 'Distraction',\n",
    "    'DISTRACTION - OTHER ELECTRONIC DEVICE (NAVIGATION DEVICE, DVD PLAYER, ETC.)': 'Distraction',\n",
    "    'TEXTING': 'Distraction',\n",
    "    'CELL PHONE USE OTHER THAN TEXTING': 'Distraction',\n",
    "\n",
    "    # Traffic Rule Violations\n",
    "    'FAILING TO YIELD RIGHT-OF-WAY': 'Traffic Violations',\n",
    "    'DISREGARDING OTHER TRAFFIC SIGNS': 'Traffic Violations',\n",
    "    'DISREGARDING TRAFFIC SIGNALS': 'Traffic Violations',\n",
    "    'DISREGARDING ROAD MARKINGS': 'Traffic Violations',\n",
    "    'DISREGARDING STOP SIGN': 'Traffic Violations',\n",
    "    'DISREGARDING YIELD SIGN': 'Traffic Violations',\n",
    "    'TURNING RIGHT ON RED': 'Traffic Violations',\n",
    "\n",
    "    # Environmental Factors\n",
    "    'WEATHER': 'Environment',\n",
    "    'VISION OBSCURED (SIGNS, TREE LIMBS, BUILDINGS, ETC.)': 'Environment',\n",
    "    'ROAD ENGINEERING/SURFACE/MARKING DEFECTS': 'Environment',\n",
    "    'ROAD CONSTRUCTION/MAINTENANCE': 'Environment',\n",
    "    'OBSTRUCTED CROSSWALKS': 'Environment',\n",
    "\n",
    "    # Substance Use\n",
    "    'UNDER THE INFLUENCE OF ALCOHOL/DRUGS (USE WHEN ARREST IS EFFECTED)': 'Substance Use',\n",
    "    'HAD BEEN DRINKING (USE WHEN ARREST IS NOT MADE)': 'Substance Use',\n",
    "\n",
    "    #Vehicle/Driver Condition\n",
    "    'EQUIPMENT - VEHICLE CONDITION': 'Vehicle or Driver Condition',\n",
    "    'DRIVING SKILLS/KNOWLEDGE/EXPERIENCE': 'Vehicle or Driver Condition',\n",
    "    'PHYSICAL CONDITION OF DRIVER': 'Vehicle or Driver Condition',\n",
    "\n",
    "    #Other / Unusual Situations\n",
    "    'RELATED TO BUS STOP': 'Other or Unusual',\n",
    "    'PASSING STOPPED SCHOOL BUS': 'Other or Unusual',\n",
    "    'EVASIVE ACTION DUE TO ANIMAL, OBJECT, NONMOTORIST': 'Other or Unusual',\n",
    "    'ANIMAL': 'Other or Unusual',\n",
    "    'BICYCLE ADVANCING LEGALLY ON RED LIGHT': 'Other or Unusual',\n",
    "    'MOTORCYCLE ADVANCING LEGALLY ON RED LIGHT': 'Other or Unusual',\n",
    "\n",
    "    #Unknown / Not Applicable\n",
    "    'UNABLE TO DETERMINE': 'Unknown/NA',\n",
    "    'NOT APPLICABLE': 'Unknown/NA'\n",
    "}\n",
    "\n",
    "# Apply the mapping\n",
    "filtered_df[\"PRIM_CONTRIBUTORY_CAUSE\"]= filtered_df[\"PRIM_CONTRIBUTORY_CAUSE\"].map(group_map)"
   ]
  },
  {
   "cell_type": "code",
   "execution_count": 33,
   "metadata": {},
   "outputs": [
    {
     "data": {
      "text/plain": [
       "array(['NO INDICATION OF INJURY', 'NONINCAPACITATING INJURY',\n",
       "       'REPORTED, NOT EVIDENT', 'INCAPACITATING INJURY', 'FATAL'],\n",
       "      dtype=object)"
      ]
     },
     "execution_count": 33,
     "metadata": {},
     "output_type": "execute_result"
    }
   ],
   "source": [
    "filtered_df['INJURY_CLASSIFICATION'].unique()"
   ]
  },
  {
   "cell_type": "code",
   "execution_count": 34,
   "metadata": {},
   "outputs": [
    {
     "name": "stderr",
     "output_type": "stream",
     "text": [
      "<ipython-input-34-7d8fd98a8b88>:9: SettingWithCopyWarning: \n",
      "A value is trying to be set on a copy of a slice from a DataFrame.\n",
      "Try using .loc[row_indexer,col_indexer] = value instead\n",
      "\n",
      "See the caveats in the documentation: https://pandas.pydata.org/pandas-docs/stable/user_guide/indexing.html#returning-a-view-versus-a-copy\n",
      "  filtered_df['INJURY_CLASSIFICATION'] = filtered_df['INJURY_CLASSIFICATION'].map(injury_map)\n"
     ]
    }
   ],
   "source": [
    "#injury mapping into 4 levels\n",
    "injury_map = {\n",
    "    'FATAL': 'Fatal',\n",
    "    'INCAPACITATING INJURY': 'Severe Injury',\n",
    "    'NONINCAPACITATING INJURY': 'Minor Injury',\n",
    "    'REPORTED, NOT EVIDENT': 'Minor Injury',\n",
    "    'NO INDICATION OF INJURY': 'No Injury'\n",
    "}\n",
    "filtered_df['INJURY_CLASSIFICATION'] = filtered_df['INJURY_CLASSIFICATION'].map(injury_map)"
   ]
  },
  {
   "cell_type": "code",
   "execution_count": 35,
   "metadata": {},
   "outputs": [
    {
     "data": {
      "text/plain": [
       "array(['No Injury', 'Minor Injury', 'Severe Injury', 'Fatal'],\n",
       "      dtype=object)"
      ]
     },
     "execution_count": 35,
     "metadata": {},
     "output_type": "execute_result"
    }
   ],
   "source": [
    "filtered_df['INJURY_CLASSIFICATION'].unique()"
   ]
  },
  {
   "cell_type": "code",
   "execution_count": 36,
   "metadata": {},
   "outputs": [],
   "source": [
    "#deleting the columns that have a lot of missing values\n",
    "filtered_df = filtered_df.drop(['DOORING_I', 'WORK_ZONE_I', 'BAC_RESULT VALUE','LANE_CNT','CELL_PHONE_USE','EXCEED_SPEED_LIMIT_I'], axis=1)"
   ]
  },
  {
   "cell_type": "code",
   "execution_count": 37,
   "metadata": {},
   "outputs": [
    {
     "data": {
      "text/plain": [
       "POSTED_SPEED_LIMIT              0\n",
       "TRAFFIC_CONTROL_DEVICE          0\n",
       "DEVICE_CONDITION                0\n",
       "WEATHER_CONDITION               0\n",
       "LIGHTING_CONDITION              0\n",
       "FIRST_CRASH_TYPE                0\n",
       "TRAFFICWAY_TYPE                 0\n",
       "ALIGNMENT                       0\n",
       "ROADWAY_SURFACE_COND            0\n",
       "ROAD_DEFECT                     0\n",
       "CRASH_TYPE                      0\n",
       "DAMAGE                          0\n",
       "PRIM_CONTRIBUTORY_CAUSE         0\n",
       "SEC_CONTRIBUTORY_CAUSE          0\n",
       "NUM_UNITS                       0\n",
       "CRASH_HOUR                      0\n",
       "CRASH_DAY_OF_WEEK               0\n",
       "CRASH_MONTH                     0\n",
       "MAKE                         2052\n",
       "MODEL                        2318\n",
       "VEHICLE_YEAR               455533\n",
       "VEHICLE_USE                  2043\n",
       "TRAVEL_DIRECTION             2043\n",
       "PERSON_TYPE                     0\n",
       "SEX                           142\n",
       "AGE                        720990\n",
       "SAFETY_EQUIPMENT                0\n",
       "AIRBAG_DEPLOYED                 0\n",
       "EJECTION                        0\n",
       "DRIVER_ACTION                   0\n",
       "DRIVER_VISION                   0\n",
       "BAC_RESULT                      0\n",
       "INJURY_CLASSIFICATION           0\n",
       "dtype: int64"
      ]
     },
     "execution_count": 37,
     "metadata": {},
     "output_type": "execute_result"
    }
   ],
   "source": [
    "filtered_df.isnull().sum()"
   ]
  },
  {
   "cell_type": "code",
   "execution_count": 38,
   "metadata": {},
   "outputs": [
    {
     "data": {
      "text/plain": [
       "array([  45.,   69.,   nan,   36.,   26.,   29.,   70.,   30.,   48.,\n",
       "         42.,   43.,   23.,   64.,   35.,   57.,   46.,   67.,   73.,\n",
       "         24.,   33.,   47.,   28.,   21.,   25.,   60.,   55.,   61.,\n",
       "         38.,   41.,   37.,   66.,   83.,   39.,   27.,   51.,   56.,\n",
       "         53.,   17.,   44.,   52.,   40.,   65.,   22.,   71.,   32.,\n",
       "         34.,   58.,   31.,   20.,   49.,   18.,   54.,   19.,    0.,\n",
       "         63.,   62.,   59.,   72.,   50.,   68.,   16.,   80.,   77.,\n",
       "         78.,   74.,   76.,   86.,   79.,   75.,   84.,   14.,   87.,\n",
       "         88.,   91.,   81.,   82.,   15.,   95.,   85.,    1.,   13.,\n",
       "         89.,   93.,   10.,   92.,    2.,    4.,   90.,   12.,    6.,\n",
       "          7.,   94.,    3.,   11.,   97.,   99.,   98.,    8.,   96.,\n",
       "          5.,  109.,  107.,    9.,  100.,  102.,  103.,  -47.,  110.,\n",
       "         -1.,  101.,  -49.,  104.,  106., -177.,  108.])"
      ]
     },
     "execution_count": 38,
     "metadata": {},
     "output_type": "execute_result"
    }
   ],
   "source": [
    "filtered_df['AGE'].unique()"
   ]
  },
  {
   "cell_type": "code",
   "execution_count": 39,
   "metadata": {},
   "outputs": [],
   "source": [
    "# Delete rows where both age and  VEHICLE_YEAR are missing\n",
    "filtered_df = filtered_df[~(filtered_df['VEHICLE_YEAR'].isnull() | filtered_df['AGE'].isnull())]"
   ]
  },
  {
   "cell_type": "code",
   "execution_count": 40,
   "metadata": {},
   "outputs": [
    {
     "data": {
      "text/plain": [
       "POSTED_SPEED_LIMIT           0\n",
       "TRAFFIC_CONTROL_DEVICE       0\n",
       "DEVICE_CONDITION             0\n",
       "WEATHER_CONDITION            0\n",
       "LIGHTING_CONDITION           0\n",
       "FIRST_CRASH_TYPE             0\n",
       "TRAFFICWAY_TYPE              0\n",
       "ALIGNMENT                    0\n",
       "ROADWAY_SURFACE_COND         0\n",
       "ROAD_DEFECT                  0\n",
       "CRASH_TYPE                   0\n",
       "DAMAGE                       0\n",
       "PRIM_CONTRIBUTORY_CAUSE      0\n",
       "SEC_CONTRIBUTORY_CAUSE       0\n",
       "NUM_UNITS                    0\n",
       "CRASH_HOUR                   0\n",
       "CRASH_DAY_OF_WEEK            0\n",
       "CRASH_MONTH                  0\n",
       "MAKE                         5\n",
       "MODEL                      208\n",
       "VEHICLE_YEAR                 0\n",
       "VEHICLE_USE                  0\n",
       "TRAVEL_DIRECTION             0\n",
       "PERSON_TYPE                  0\n",
       "SEX                          0\n",
       "AGE                          0\n",
       "SAFETY_EQUIPMENT             0\n",
       "AIRBAG_DEPLOYED              0\n",
       "EJECTION                     0\n",
       "DRIVER_ACTION                0\n",
       "DRIVER_VISION                0\n",
       "BAC_RESULT                   0\n",
       "INJURY_CLASSIFICATION        0\n",
       "dtype: int64"
      ]
     },
     "execution_count": 40,
     "metadata": {},
     "output_type": "execute_result"
    }
   ],
   "source": [
    "filtered_df.isnull().sum()"
   ]
  },
  {
   "cell_type": "code",
   "execution_count": 41,
   "metadata": {},
   "outputs": [
    {
     "data": {
      "text/plain": [
       "array(['PILOT', 'HARLEY-DAVIDSON', 'TRUCK', ..., 'AUTO UNION',\n",
       "       'MID-CAL FORKLIFT, INC.', 'CORSA'], dtype=object)"
      ]
     },
     "execution_count": 41,
     "metadata": {},
     "output_type": "execute_result"
    }
   ],
   "source": [
    "filtered_df['MODEL'].unique()"
   ]
  },
  {
   "cell_type": "code",
   "execution_count": 42,
   "metadata": {},
   "outputs": [],
   "source": [
    "#filling the nan value of the maker and model with unknown\n",
    "filtered_df['MODEL'] = filtered_df['MODEL'].fillna('Unknown')\n",
    "filtered_df['MAKE'] = filtered_df['MAKE'].fillna('Unknown')"
   ]
  },
  {
   "cell_type": "code",
   "execution_count": 43,
   "metadata": {},
   "outputs": [
    {
     "data": {
      "text/plain": [
       "POSTED_SPEED_LIMIT         0\n",
       "TRAFFIC_CONTROL_DEVICE     0\n",
       "DEVICE_CONDITION           0\n",
       "WEATHER_CONDITION          0\n",
       "LIGHTING_CONDITION         0\n",
       "FIRST_CRASH_TYPE           0\n",
       "TRAFFICWAY_TYPE            0\n",
       "ALIGNMENT                  0\n",
       "ROADWAY_SURFACE_COND       0\n",
       "ROAD_DEFECT                0\n",
       "CRASH_TYPE                 0\n",
       "DAMAGE                     0\n",
       "PRIM_CONTRIBUTORY_CAUSE    0\n",
       "SEC_CONTRIBUTORY_CAUSE     0\n",
       "NUM_UNITS                  0\n",
       "CRASH_HOUR                 0\n",
       "CRASH_DAY_OF_WEEK          0\n",
       "CRASH_MONTH                0\n",
       "MAKE                       0\n",
       "MODEL                      0\n",
       "VEHICLE_YEAR               0\n",
       "VEHICLE_USE                0\n",
       "TRAVEL_DIRECTION           0\n",
       "PERSON_TYPE                0\n",
       "SEX                        0\n",
       "AGE                        0\n",
       "SAFETY_EQUIPMENT           0\n",
       "AIRBAG_DEPLOYED            0\n",
       "EJECTION                   0\n",
       "DRIVER_ACTION              0\n",
       "DRIVER_VISION              0\n",
       "BAC_RESULT                 0\n",
       "INJURY_CLASSIFICATION      0\n",
       "dtype: int64"
      ]
     },
     "execution_count": 43,
     "metadata": {},
     "output_type": "execute_result"
    }
   ],
   "source": [
    "filtered_df.isnull().sum()"
   ]
  },
  {
   "cell_type": "code",
   "execution_count": 44,
   "metadata": {},
   "outputs": [
    {
     "name": "stdout",
     "output_type": "stream",
     "text": [
      "<class 'pandas.core.frame.DataFrame'>\n",
      "Int64Index: 2099394 entries, 0 to 3017506\n",
      "Data columns (total 33 columns):\n",
      " #   Column                   Dtype  \n",
      "---  ------                   -----  \n",
      " 0   POSTED_SPEED_LIMIT       int64  \n",
      " 1   TRAFFIC_CONTROL_DEVICE   object \n",
      " 2   DEVICE_CONDITION         object \n",
      " 3   WEATHER_CONDITION        object \n",
      " 4   LIGHTING_CONDITION       object \n",
      " 5   FIRST_CRASH_TYPE         object \n",
      " 6   TRAFFICWAY_TYPE          object \n",
      " 7   ALIGNMENT                object \n",
      " 8   ROADWAY_SURFACE_COND     object \n",
      " 9   ROAD_DEFECT              object \n",
      " 10  CRASH_TYPE               object \n",
      " 11  DAMAGE                   object \n",
      " 12  PRIM_CONTRIBUTORY_CAUSE  object \n",
      " 13  SEC_CONTRIBUTORY_CAUSE   object \n",
      " 14  NUM_UNITS                int64  \n",
      " 15  CRASH_HOUR               int64  \n",
      " 16  CRASH_DAY_OF_WEEK        int64  \n",
      " 17  CRASH_MONTH              int64  \n",
      " 18  MAKE                     object \n",
      " 19  MODEL                    object \n",
      " 20  VEHICLE_YEAR             float64\n",
      " 21  VEHICLE_USE              object \n",
      " 22  TRAVEL_DIRECTION         object \n",
      " 23  PERSON_TYPE              object \n",
      " 24  SEX                      object \n",
      " 25  AGE                      float64\n",
      " 26  SAFETY_EQUIPMENT         object \n",
      " 27  AIRBAG_DEPLOYED          object \n",
      " 28  EJECTION                 object \n",
      " 29  DRIVER_ACTION            object \n",
      " 30  DRIVER_VISION            object \n",
      " 31  BAC_RESULT               object \n",
      " 32  INJURY_CLASSIFICATION    object \n",
      "dtypes: float64(2), int64(5), object(26)\n",
      "memory usage: 544.6+ MB\n"
     ]
    }
   ],
   "source": [
    "filtered_df.info()"
   ]
  },
  {
   "cell_type": "code",
   "execution_count": 45,
   "metadata": {},
   "outputs": [],
   "source": [
    "#fixing the datatypes so it is easier for modelling"
   ]
  },
  {
   "cell_type": "code",
   "execution_count": 46,
   "metadata": {},
   "outputs": [
    {
     "data": {
      "text/plain": [
       "array(['OTHER', 'NO CONTROLS', 'TRAFFIC SIGNAL', 'STOP SIGN/FLASHER',\n",
       "       'UNKNOWN', 'OTHER WARNING SIGN', 'OTHER REG. SIGN', 'YIELD',\n",
       "       'PEDESTRIAN CROSSING SIGN', 'LANE USE MARKING',\n",
       "       'RAILROAD CROSSING GATE', 'FLASHING CONTROL SIGNAL', 'SCHOOL ZONE',\n",
       "       'POLICE/FLAGMAN', 'DELINEATORS', 'OTHER RAILROAD CROSSING',\n",
       "       'RR CROSSING SIGN', 'NO PASSING', 'BICYCLE CROSSING SIGN'],\n",
       "      dtype=object)"
      ]
     },
     "execution_count": 46,
     "metadata": {},
     "output_type": "execute_result"
    }
   ],
   "source": [
    "filtered_df['TRAFFIC_CONTROL_DEVICE'].unique()"
   ]
  },
  {
   "cell_type": "code",
   "execution_count": 47,
   "metadata": {},
   "outputs": [],
   "source": [
    "#reducing the number of levels\n",
    "control_map = {\n",
    "    'TRAFFIC SIGNAL': 'Signal Control',\n",
    "    'STOP SIGN/FLASHER': 'Stop Control',\n",
    "    'YIELD': 'Yield Control',\n",
    "    'FLASHING CONTROL SIGNAL': 'Signal Control',\n",
    "    'POLICE/FLAGMAN': 'Manual Control',\n",
    "\n",
    "    'NO CONTROLS': 'No Control',\n",
    "    'UNKNOWN': 'Unknown',\n",
    "    'OTHER': 'Other',\n",
    "\n",
    "    'OTHER REG. SIGN': 'Regulatory Sign',\n",
    "    'OTHER WARNING SIGN': 'Warning Sign',\n",
    "    'NO PASSING': 'Regulatory Sign',\n",
    "    'LANE USE MARKING': 'Road Marking',\n",
    "\n",
    "    'PEDESTRIAN CROSSING SIGN': 'Pedestrian Control',\n",
    "    'BICYCLE CROSSING SIGN': 'Pedestrian Control',\n",
    "    'SCHOOL ZONE': 'Pedestrian Control',\n",
    "\n",
    "    'RAILROAD CROSSING GATE': 'Railroad Control',\n",
    "    'RR CROSSING SIGN': 'Railroad Control',\n",
    "    'OTHER RAILROAD CROSSING': 'Railroad Control',\n",
    "\n",
    "    'DELINEATORS': 'Other'\n",
    "}\n",
    "filtered_df['TRAFFIC_CONTROL_DEVICE'] = filtered_df['TRAFFIC_CONTROL_DEVICE'].map(control_map)"
   ]
  },
  {
   "cell_type": "code",
   "execution_count": 48,
   "metadata": {},
   "outputs": [
    {
     "data": {
      "text/plain": [
       "array(['FUNCTIONING PROPERLY', 'NO CONTROLS', 'FUNCTIONING IMPROPERLY',\n",
       "       'UNKNOWN', 'OTHER', 'NOT FUNCTIONING', 'MISSING',\n",
       "       'WORN REFLECTIVE MATERIAL'], dtype=object)"
      ]
     },
     "execution_count": 48,
     "metadata": {},
     "output_type": "execute_result"
    }
   ],
   "source": [
    "filtered_df['DEVICE_CONDITION'].unique()"
   ]
  },
  {
   "cell_type": "code",
   "execution_count": 49,
   "metadata": {},
   "outputs": [
    {
     "data": {
      "text/plain": [
       "array(['CLEAR', 'SNOW', 'UNKNOWN', 'RAIN', 'CLOUDY/OVERCAST',\n",
       "       'FOG/SMOKE/HAZE', 'BLOWING SNOW', 'FREEZING RAIN/DRIZZLE', 'OTHER',\n",
       "       'SLEET/HAIL', 'SEVERE CROSS WIND GATE', 'BLOWING SAND, SOIL, DIRT'],\n",
       "      dtype=object)"
      ]
     },
     "execution_count": 49,
     "metadata": {},
     "output_type": "execute_result"
    }
   ],
   "source": [
    "filtered_df['WEATHER_CONDITION'].unique()"
   ]
  },
  {
   "cell_type": "code",
   "execution_count": 50,
   "metadata": {},
   "outputs": [],
   "source": [
    "weather_map = {\n",
    "    'CLEAR': 'Clear',\n",
    "    'CLOUDY/OVERCAST': 'Cloudy',\n",
    "    \n",
    "    'RAIN': 'Rain',\n",
    "    'FREEZING RAIN/DRIZZLE': 'Rain',\n",
    "    'SLEET/HAIL': 'Rain',\n",
    "\n",
    "    'SNOW': 'Snow',\n",
    "    'BLOWING SNOW': 'Snow',\n",
    "\n",
    "    'FOG/SMOKE/HAZE': 'Low Visibility',\n",
    "    'BLOWING SAND, SOIL, DIRT': 'Low Visibility',\n",
    "    'SEVERE CROSS WIND GATE': 'Low Visibility',\n",
    "\n",
    "    'UNKNOWN': 'Unknown',\n",
    "    'OTHER': 'Other'\n",
    "}\n",
    "filtered_df['WEATHER_CONDITION'] = filtered_df['WEATHER_CONDITION'].map(weather_map)"
   ]
  },
  {
   "cell_type": "code",
   "execution_count": 51,
   "metadata": {},
   "outputs": [
    {
     "data": {
      "text/plain": [
       "array(['DAYLIGHT', 'DARKNESS, LIGHTED ROAD', 'DARKNESS', 'UNKNOWN',\n",
       "       'DUSK', 'DAWN'], dtype=object)"
      ]
     },
     "execution_count": 51,
     "metadata": {},
     "output_type": "execute_result"
    }
   ],
   "source": [
    "filtered_df['LIGHTING_CONDITION'].unique()"
   ]
  },
  {
   "cell_type": "code",
   "execution_count": 52,
   "metadata": {},
   "outputs": [],
   "source": [
    "lighting_map = {\n",
    "    'DAYLIGHT': 'Day',\n",
    "    'DAWN': 'Twilight',\n",
    "    'DUSK': 'Twilight',\n",
    "    \n",
    "    'DARKNESS, LIGHTED ROAD': 'Night - Lighted',\n",
    "    'DARKNESS': 'Night - Unlighted',\n",
    "    \n",
    "    'UNKNOWN': 'Unknown'\n",
    "}\n",
    "filtered_df['LIGHTING_CONDITION'] = filtered_df['LIGHTING_CONDITION'].map(lighting_map)"
   ]
  },
  {
   "cell_type": "code",
   "execution_count": 53,
   "metadata": {},
   "outputs": [
    {
     "data": {
      "text/plain": [
       "array(['REAR END', 'PEDALCYCLIST', 'FIXED OBJECT', 'TURNING', 'ANGLE',\n",
       "       'SIDESWIPE SAME DIRECTION', 'SIDESWIPE OPPOSITE DIRECTION',\n",
       "       'REAR TO SIDE', 'PEDESTRIAN', 'PARKED MOTOR VEHICLE',\n",
       "       'REAR TO FRONT', 'OTHER OBJECT', 'HEAD ON', 'OTHER NONCOLLISION',\n",
       "       'OVERTURNED', 'REAR TO REAR', 'TRAIN', 'ANIMAL'], dtype=object)"
      ]
     },
     "execution_count": 53,
     "metadata": {},
     "output_type": "execute_result"
    }
   ],
   "source": [
    "filtered_df['FIRST_CRASH_TYPE'].unique()"
   ]
  },
  {
   "cell_type": "code",
   "execution_count": 54,
   "metadata": {},
   "outputs": [],
   "source": [
    "crash_type_map = {\n",
    "    # Vehicle-to-Vehicle\n",
    "    'REAR END': 'Vehicle Collision',\n",
    "    'HEAD ON': 'Vehicle Collision',\n",
    "    'ANGLE': 'Vehicle Collision',\n",
    "    'TURNING': 'Vehicle Collision',\n",
    "    'SIDESWIPE SAME DIRECTION': 'Vehicle Collision',\n",
    "    'SIDESWIPE OPPOSITE DIRECTION': 'Vehicle Collision',\n",
    "    'REAR TO FRONT': 'Vehicle Collision',\n",
    "    'REAR TO REAR': 'Vehicle Collision',\n",
    "    'REAR TO SIDE': 'Vehicle Collision',\n",
    "\n",
    "    # Vulnerable Road Users\n",
    "    'PEDESTRIAN': 'Vulnerable User',\n",
    "    'PEDALCYCLIST': 'Vulnerable User',\n",
    "\n",
    "    # Stationary or Object\n",
    "    'FIXED OBJECT': 'Fixed Object',\n",
    "    'PARKED MOTOR VEHICLE': 'Fixed Object',\n",
    "    'OTHER OBJECT': 'Fixed Object',\n",
    "    'OTHER NONCOLLISION': 'Fixed Object',\n",
    "\n",
    "    # Other or Special Cases\n",
    "    'TRAIN': 'Special',\n",
    "    'ANIMAL': 'Special',\n",
    "    'OVERTURNED': 'Special'\n",
    "}\n",
    "filtered_df['FIRST_CRASH_TYPE'] = filtered_df['FIRST_CRASH_TYPE'].map(crash_type_map)"
   ]
  },
  {
   "cell_type": "code",
   "execution_count": 55,
   "metadata": {},
   "outputs": [
    {
     "data": {
      "text/plain": [
       "array(['OTHER', 'NOT DIVIDED', 'FOUR WAY', 'ONE-WAY', 'PARKING LOT',\n",
       "       'DIVIDED - W/MEDIAN BARRIER', 'T-INTERSECTION',\n",
       "       'DIVIDED - W/MEDIAN (NOT RAISED)', 'UNKNOWN', 'RAMP', 'ALLEY',\n",
       "       'UNKNOWN INTERSECTION TYPE', 'TRAFFIC ROUTE',\n",
       "       'FIVE POINT, OR MORE', 'DRIVEWAY', 'CENTER TURN LANE',\n",
       "       'Y-INTERSECTION', 'L-INTERSECTION', 'ROUNDABOUT', 'NOT REPORTED'],\n",
       "      dtype=object)"
      ]
     },
     "execution_count": 55,
     "metadata": {},
     "output_type": "execute_result"
    }
   ],
   "source": [
    "filtered_df['TRAFFICWAY_TYPE'].unique()"
   ]
  },
  {
   "cell_type": "code",
   "execution_count": 56,
   "metadata": {},
   "outputs": [],
   "source": [
    "intersection_map = {\n",
    "    # Common intersections\n",
    "    'FOUR WAY': 'Intersection',\n",
    "    'T-INTERSECTION': 'Intersection',\n",
    "    'Y-INTERSECTION': 'Intersection',\n",
    "    'L-INTERSECTION': 'Intersection',\n",
    "    'FIVE POINT, OR MORE': 'Intersection',\n",
    "    'ROUNDABOUT': 'Intersection',\n",
    "\n",
    "    # Divided roads\n",
    "    'DIVIDED - W/MEDIAN BARRIER': 'Divided Road',\n",
    "    'DIVIDED - W/MEDIAN (NOT RAISED)': 'Divided Road',\n",
    "\n",
    "    # Non-divided\n",
    "    'NOT DIVIDED': 'Undivided Road',\n",
    "    'ONE-WAY': 'Undivided Road',\n",
    "    'CENTER TURN LANE': 'Undivided Road',\n",
    "\n",
    "    # Special or non-road spaces\n",
    "    'PARKING LOT': 'Other Road Environment',\n",
    "    'RAMP': 'Other Road Environment',\n",
    "    'ALLEY': 'Other Road Environment',\n",
    "    'DRIVEWAY': 'Other Road Environment',\n",
    "    'TRAFFIC ROUTE': 'Other Road Environment',\n",
    "\n",
    "    # Unknowns & misc\n",
    "    'UNKNOWN': 'Unknown',\n",
    "    'UNKNOWN INTERSECTION TYPE': 'Unknown',\n",
    "    'NOT REPORTED': 'Unknown',\n",
    "    'OTHER': 'Other'\n",
    "}\n",
    "filtered_df['TRAFFICWAY_TYPE'] = filtered_df['TRAFFICWAY_TYPE'].map(intersection_map)"
   ]
  },
  {
   "cell_type": "code",
   "execution_count": 57,
   "metadata": {},
   "outputs": [
    {
     "data": {
      "text/plain": [
       "array(['STRAIGHT AND LEVEL', 'CURVE, LEVEL', 'CURVE ON GRADE',\n",
       "       'STRAIGHT ON GRADE', 'STRAIGHT ON HILLCREST', 'CURVE ON HILLCREST'],\n",
       "      dtype=object)"
      ]
     },
     "execution_count": 57,
     "metadata": {},
     "output_type": "execute_result"
    }
   ],
   "source": [
    "filtered_df['ALIGNMENT'].unique()"
   ]
  },
  {
   "cell_type": "code",
   "execution_count": 58,
   "metadata": {},
   "outputs": [
    {
     "data": {
      "text/plain": [
       "array(['DRY', 'UNKNOWN', 'SNOW OR SLUSH', 'WET', 'OTHER', 'ICE',\n",
       "       'SAND, MUD, DIRT'], dtype=object)"
      ]
     },
     "execution_count": 58,
     "metadata": {},
     "output_type": "execute_result"
    }
   ],
   "source": [
    "filtered_df['ROADWAY_SURFACE_COND'].unique()"
   ]
  },
  {
   "cell_type": "code",
   "execution_count": 59,
   "metadata": {},
   "outputs": [],
   "source": [
    "surface_map = {\n",
    "    'DRY': 'Dry',\n",
    "    'WET': 'Wet',\n",
    "    \n",
    "    'SNOW OR SLUSH': 'Snowy/Icy',\n",
    "    'ICE': 'Snowy/Icy',\n",
    "    \n",
    "    'SAND, MUD, DIRT': 'Unstable Surface',\n",
    "    \n",
    "    'OTHER': 'Other',\n",
    "    'UNKNOWN': 'Unknown'\n",
    "}\n",
    "filtered_df['ROADWAY_SURFACE_COND'] = filtered_df['ROADWAY_SURFACE_COND'].map(surface_map)"
   ]
  },
  {
   "cell_type": "code",
   "execution_count": 60,
   "metadata": {},
   "outputs": [
    {
     "data": {
      "text/plain": [
       "array(['INJURY AND / OR TOW DUE TO CRASH', 'NO INJURY / DRIVE AWAY'],\n",
       "      dtype=object)"
      ]
     },
     "execution_count": 60,
     "metadata": {},
     "output_type": "execute_result"
    }
   ],
   "source": [
    "filtered_df['CRASH_TYPE'].unique()"
   ]
  },
  {
   "cell_type": "code",
   "execution_count": 61,
   "metadata": {},
   "outputs": [
    {
     "data": {
      "text/plain": [
       "array(['OVER $1,500', '$501 - $1,500', '$500 OR LESS'], dtype=object)"
      ]
     },
     "execution_count": 61,
     "metadata": {},
     "output_type": "execute_result"
    }
   ],
   "source": [
    "filtered_df['DAMAGE'].unique()"
   ]
  },
  {
   "cell_type": "code",
   "execution_count": 62,
   "metadata": {},
   "outputs": [
    {
     "data": {
      "text/plain": [
       "array(['HONDA', 'HARLEY-DAVIDSON', 'GENERAL MOTORS CORPORATION (GMC)',\n",
       "       ..., 'EMPIRE GENERATOR CORPORATION',\n",
       "       'LINCOLN ELECTRIC COMPANY, INC. (CLEVELAND, OH)',\n",
       "       'MID-CAL FORKLIFT, INC.'], dtype=object)"
      ]
     },
     "execution_count": 62,
     "metadata": {},
     "output_type": "execute_result"
    }
   ],
   "source": [
    "filtered_df['MAKE'].unique()"
   ]
  },
  {
   "cell_type": "code",
   "execution_count": 63,
   "metadata": {},
   "outputs": [
    {
     "data": {
      "text/plain": [
       "1174"
      ]
     },
     "execution_count": 63,
     "metadata": {},
     "output_type": "execute_result"
    }
   ],
   "source": [
    "filtered_df['MAKE'].nunique()"
   ]
  },
  {
   "cell_type": "code",
   "execution_count": 64,
   "metadata": {},
   "outputs": [],
   "source": [
    "# make the maker to 20 level\n",
    "make_counts = filtered_df['MAKE'].value_counts()\n",
    "top_makes = make_counts.head(20).index\n",
    "\n",
    "filtered_df['MAKE_REDUCED'] = filtered_df['MAKE'].apply(\n",
    "    lambda x: x if x in top_makes else 'OTHER'\n",
    ")"
   ]
  },
  {
   "cell_type": "code",
   "execution_count": 65,
   "metadata": {},
   "outputs": [
    {
     "data": {
      "text/plain": [
       "array(['HONDA', 'HARLEY-DAVIDSON', 'GENERAL MOTORS CORPORATION (GMC)',\n",
       "       ..., 'EMPIRE GENERATOR CORPORATION',\n",
       "       'LINCOLN ELECTRIC COMPANY, INC. (CLEVELAND, OH)',\n",
       "       'MID-CAL FORKLIFT, INC.'], dtype=object)"
      ]
     },
     "execution_count": 65,
     "metadata": {},
     "output_type": "execute_result"
    }
   ],
   "source": [
    "filtered_df['MAKE'].unique()"
   ]
  },
  {
   "cell_type": "code",
   "execution_count": 66,
   "metadata": {},
   "outputs": [],
   "source": [
    "# make the model to 20 level\n",
    "model_counts =filtered_df['MODEL'].value_counts()\n",
    "top_models = model_counts.head(20).index\n",
    "\n",
    "filtered_df['MODEL_REDUCED'] = filtered_df['MODEL'].apply(\n",
    "    lambda x: x if x in top_models else 'OTHER'\n",
    ")"
   ]
  },
  {
   "cell_type": "code",
   "execution_count": 67,
   "metadata": {},
   "outputs": [
    {
     "data": {
      "text/plain": [
       "array(['PERSONAL', 'CONSTRUCTION/MAINTENANCE', 'UNKNOWN/NA', 'OTHER',\n",
       "       'RIDESHARE SERVICE', 'NOT IN USE', 'CTA',\n",
       "       'COMMERCIAL - SINGLE UNIT', 'POLICE', 'CAMPER/RV - SINGLE UNIT',\n",
       "       'COMMERCIAL - MULTI-UNIT', 'TAXI/FOR HIRE', 'AMBULANCE',\n",
       "       'SCHOOL BUS', 'DRIVER EDUCATION', 'MASS TRANSIT', 'OTHER TRANSIT',\n",
       "       'FIRE', 'CAMPER/RV - TOWED/MULTI-UNIT', 'STATE OWNED', 'TOW TRUCK',\n",
       "       'HOUSE TRAILER', 'LAWN CARE/LANDSCAPING', 'AGRICULTURE',\n",
       "       'MILITARY'], dtype=object)"
      ]
     },
     "execution_count": 67,
     "metadata": {},
     "output_type": "execute_result"
    }
   ],
   "source": [
    "filtered_df['VEHICLE_USE'].unique()"
   ]
  },
  {
   "cell_type": "code",
   "execution_count": 68,
   "metadata": {},
   "outputs": [],
   "source": [
    "vehicle_use_map = {\n",
    "    # Personal and unknown\n",
    "    'PERSONAL': 'Personal',\n",
    "    'UNKNOWN/NA': 'Unknown',\n",
    "    'NOT IN USE': 'Unknown',\n",
    "    'OTHER': 'Other',\n",
    "\n",
    "    # Public transport\n",
    "    'CTA': 'Public Transit',\n",
    "    'MASS TRANSIT': 'Public Transit',\n",
    "    'OTHER TRANSIT': 'Public Transit',\n",
    "    'SCHOOL BUS': 'Public Transit',\n",
    "\n",
    "    # Emergency\n",
    "    'POLICE': 'Emergency',\n",
    "    'AMBULANCE': 'Emergency',\n",
    "    'FIRE': 'Emergency',\n",
    "\n",
    "    # Commercial\n",
    "    'COMMERCIAL - SINGLE UNIT': 'Commercial',\n",
    "    'COMMERCIAL - MULTI-UNIT': 'Commercial',\n",
    "    'TAXI/FOR HIRE': 'Commercial',\n",
    "    'RIDESHARE SERVICE': 'Commercial',\n",
    "    'TOW TRUCK': 'Commercial',\n",
    "\n",
    "    # Recreational\n",
    "    'CAMPER/RV - SINGLE UNIT': 'Recreational',\n",
    "    'CAMPER/RV - TOWED/MULTI-UNIT': 'Recreational',\n",
    "    'HOUSE TRAILER': 'Recreational',\n",
    "\n",
    "    # Government / state\n",
    "    'STATE OWNED': 'Government',\n",
    "\n",
    "    # Construction and agriculture\n",
    "    'CONSTRUCTION/MAINTENANCE': 'Work Vehicle',\n",
    "    'LAWN CARE/LANDSCAPING': 'Work Vehicle',\n",
    "    'AGRICULTURE': 'Work Vehicle',\n",
    "\n",
    "    # Military and driver training\n",
    "    'MILITARY': 'Government',\n",
    "    'DRIVER EDUCATION': 'Other'\n",
    "}\n",
    "filtered_df['VEHICLE_USE'] = filtered_df['VEHICLE_USE'].map(vehicle_use_map)"
   ]
  },
  {
   "cell_type": "code",
   "execution_count": 69,
   "metadata": {},
   "outputs": [
    {
     "data": {
      "text/plain": [
       "array(['W', 'S', 'E', 'N', 'UNKNOWN', 'SE', 'NW', 'SW', 'NE'],\n",
       "      dtype=object)"
      ]
     },
     "execution_count": 69,
     "metadata": {},
     "output_type": "execute_result"
    }
   ],
   "source": [
    "filtered_df['TRAVEL_DIRECTION'].unique()"
   ]
  },
  {
   "cell_type": "code",
   "execution_count": 70,
   "metadata": {},
   "outputs": [],
   "source": [
    "filtered_df['PERSON_TYPE'].unique()\n",
    "filtered_df.drop('PERSON_TYPE', axis=1, inplace=True)"
   ]
  },
  {
   "cell_type": "code",
   "execution_count": 71,
   "metadata": {},
   "outputs": [],
   "source": [
    "filtered_df['SEX'].unique()\n",
    "filtered_df['SEX'] = filtered_df['SEX'].replace('X', 'Unspecified')"
   ]
  },
  {
   "cell_type": "code",
   "execution_count": 72,
   "metadata": {},
   "outputs": [
    {
     "data": {
      "text/plain": [
       "array(['SAFETY BELT USED', 'HELMET NOT USED', 'USAGE UNKNOWN',\n",
       "       'NONE PRESENT', 'SAFETY BELT NOT USED',\n",
       "       'DOT COMPLIANT MOTORCYCLE HELMET', 'HELMET USED',\n",
       "       'SHOULD/LAP BELT USED IMPROPERLY',\n",
       "       'NOT DOT COMPLIANT MOTORCYCLE HELMET', 'STRETCHER', 'WHEELCHAIR',\n",
       "       'CHILD RESTRAINT USED'], dtype=object)"
      ]
     },
     "execution_count": 72,
     "metadata": {},
     "output_type": "execute_result"
    }
   ],
   "source": [
    "filtered_df['SAFETY_EQUIPMENT'].unique()"
   ]
  },
  {
   "cell_type": "code",
   "execution_count": 73,
   "metadata": {},
   "outputs": [],
   "source": [
    "restraint_map = {\n",
    "    # Used properly\n",
    "    'SAFETY BELT USED': 'Used',\n",
    "    'HELMET USED': 'Used',\n",
    "    'DOT COMPLIANT MOTORCYCLE HELMET': 'Used',\n",
    "    'CHILD RESTRAINT USED': 'Used',\n",
    "\n",
    "    # Used improperly\n",
    "    'SHOULD/LAP BELT USED IMPROPERLY': 'Improper Use',\n",
    "\n",
    "    # Not used\n",
    "    'SAFETY BELT NOT USED': 'Not Used',\n",
    "    'HELMET NOT USED': 'Not Used',\n",
    "    'NOT DOT COMPLIANT MOTORCYCLE HELMET': 'Not Used',\n",
    "\n",
    "    # Not applicable or unknown\n",
    "    'NONE PRESENT': 'None/Unknown',\n",
    "    'USAGE UNKNOWN': 'None/Unknown',\n",
    "    'STRETCHER': 'None/Unknown',\n",
    "    'WHEELCHAIR': 'None/Unknown'\n",
    "}\n",
    "filtered_df['SAFETY_EQUIPMENT'] = filtered_df['SAFETY_EQUIPMENT'].map(restraint_map)"
   ]
  },
  {
   "cell_type": "code",
   "execution_count": 74,
   "metadata": {},
   "outputs": [
    {
     "data": {
      "text/plain": [
       "array(['NOT APPLICABLE', 'DID NOT DEPLOY', 'DEPLOYED, FRONT',\n",
       "       'DEPLOYMENT UNKNOWN', 'DEPLOYED, COMBINATION', 'DEPLOYED, SIDE',\n",
       "       'DEPLOYED OTHER (KNEE, AIR, BELT, ETC.)'], dtype=object)"
      ]
     },
     "execution_count": 74,
     "metadata": {},
     "output_type": "execute_result"
    }
   ],
   "source": [
    "filtered_df['AIRBAG_DEPLOYED'].unique()"
   ]
  },
  {
   "cell_type": "code",
   "execution_count": 75,
   "metadata": {},
   "outputs": [],
   "source": [
    "airbag_map = {\n",
    "    'NOT APPLICABLE': 'Not Applicable',\n",
    "    'DID NOT DEPLOY': 'Did Not Deploy',\n",
    "    'DEPLOYMENT UNKNOWN': 'Unknown',\n",
    "    'DEPLOYED, FRONT': 'Deployed',\n",
    "    'DEPLOYED, SIDE': 'Deployed',\n",
    "    'DEPLOYED, COMBINATION': 'Deployed',\n",
    "    'DEPLOYED OTHER (KNEE, AIR, BELT, ETC.)': 'Deployed'\n",
    "}\n",
    "filtered_df['AIRBAG_DEPLOYED'] = filtered_df['AIRBAG_DEPLOYED'].map(restraint_map)"
   ]
  },
  {
   "cell_type": "code",
   "execution_count": 76,
   "metadata": {},
   "outputs": [
    {
     "data": {
      "text/plain": [
       "array(['NONE', 'PARTIALLY EJECTED', 'UNKNOWN', 'TRAPPED/EXTRICATED',\n",
       "       'TOTALLY EJECTED'], dtype=object)"
      ]
     },
     "execution_count": 76,
     "metadata": {},
     "output_type": "execute_result"
    }
   ],
   "source": [
    "filtered_df['EJECTION'].unique()"
   ]
  },
  {
   "cell_type": "code",
   "execution_count": 77,
   "metadata": {},
   "outputs": [
    {
     "data": {
      "text/plain": [
       "array(['FAILED TO YIELD', 'NONE', 'UNKNOWN', 'FOLLOWED TOO CLOSELY',\n",
       "       'OTHER', 'IMPROPER TURN', 'TOO FAST FOR CONDITIONS',\n",
       "       'IMPROPER LANE CHANGE', 'IMPROPER BACKING', 'IMPROPER PASSING',\n",
       "       'IMPROPER PARKING', 'DISREGARDED CONTROL DEVICES',\n",
       "       'EMERGENCY VEHICLE ON CALL', 'TEXTING', 'OVERCORRECTED',\n",
       "       'WRONG WAY/SIDE', 'EVADING POLICE VEHICLE', 'LICENSE RESTRICTIONS',\n",
       "       'CELL PHONE USE OTHER THAN TEXTING', 'STOPPED SCHOOL BUS'],\n",
       "      dtype=object)"
      ]
     },
     "execution_count": 77,
     "metadata": {},
     "output_type": "execute_result"
    }
   ],
   "source": [
    "filtered_df['DRIVER_ACTION'].unique()"
   ]
  },
  {
   "cell_type": "code",
   "execution_count": 78,
   "metadata": {},
   "outputs": [],
   "source": [
    "driver_action_map = {\n",
    "    # Common driving violations\n",
    "    'FAILED TO YIELD': 'Failure to Yield',\n",
    "    'DISREGARDED CONTROL DEVICES': 'Traffic Violation',\n",
    "    'WRONG WAY/SIDE': 'Traffic Violation',\n",
    "    'STOPPED SCHOOL BUS': 'Traffic Violation',\n",
    "\n",
    "    # Speed and spacing\n",
    "    'TOO FAST FOR CONDITIONS': 'Unsafe Speed',\n",
    "    'FOLLOWED TOO CLOSELY': 'Unsafe Speed',\n",
    "\n",
    "    # Maneuver-related\n",
    "    'IMPROPER TURN': 'Improper Maneuver',\n",
    "    'IMPROPER LANE CHANGE': 'Improper Maneuver',\n",
    "    'IMPROPER BACKING': 'Improper Maneuver',\n",
    "    'IMPROPER PASSING': 'Improper Maneuver',\n",
    "    'IMPROPER PARKING': 'Improper Maneuver',\n",
    "    'OVERCORRECTED': 'Improper Maneuver',\n",
    "\n",
    "    # Distraction\n",
    "    'TEXTING': 'Distracted',\n",
    "    'CELL PHONE USE OTHER THAN TEXTING': 'Distracted',\n",
    "\n",
    "    # Legal / unusual edge cases\n",
    "    'LICENSE RESTRICTIONS': 'Legal Issue',\n",
    "    'EMERGENCY VEHICLE ON CALL': 'Special Vehicle Action',\n",
    "    'EVADING POLICE VEHICLE': 'Evasive/Illegal Action',\n",
    "\n",
    "    # General\n",
    "    'NONE': 'None',\n",
    "    'UNKNOWN': 'Unknown',\n",
    "    'OTHER': 'Other'\n",
    "}\n",
    "filtered_df['DRIVER_ACTION'] = filtered_df['DRIVER_ACTION'].map(driver_action_map)"
   ]
  },
  {
   "cell_type": "code",
   "execution_count": 79,
   "metadata": {},
   "outputs": [
    {
     "data": {
      "text/plain": [
       "array(['NOT OBSCURED', 'UNKNOWN', 'MOVING VEHICLES', 'OTHER',\n",
       "       'WINDSHIELD (WATER/ICE)', 'PARKED VEHICLES', 'BLINDED - SUNLIGHT',\n",
       "       'HILLCREST', 'TREES, PLANTS', 'BLOWING MATERIALS', 'BUILDINGS',\n",
       "       'BLINDED - HEADLIGHTS', 'EMBANKMENT', 'SIGNBOARD'], dtype=object)"
      ]
     },
     "execution_count": 79,
     "metadata": {},
     "output_type": "execute_result"
    }
   ],
   "source": [
    "filtered_df['DRIVER_VISION'].unique()"
   ]
  },
  {
   "cell_type": "code",
   "execution_count": 80,
   "metadata": {},
   "outputs": [],
   "source": [
    "driver_vision_map = {\n",
    "    'NOT OBSCURED': 'Clear Vision',\n",
    "    'UNKNOWN': 'Unknown',\n",
    "    'OTHER': 'Other',\n",
    "\n",
    "    # Light-related visibility issues\n",
    "    'BLINDED - SUNLIGHT': 'Glare',\n",
    "    'BLINDED - HEADLIGHTS': 'Glare',\n",
    "\n",
    "    # Environmental/material obstruction\n",
    "    'BLOWING MATERIALS': 'Environmental Obstruction',\n",
    "    'WINDSHIELD (WATER/ICE)': 'Environmental Obstruction',\n",
    "\n",
    "    # Physical/static object obstruction\n",
    "    'MOVING VEHICLES': 'Vehicle Obstruction',\n",
    "    'PARKED VEHICLES': 'Vehicle Obstruction',\n",
    "    'HILLCREST': 'Physical Obstruction',\n",
    "    'TREES, PLANTS': 'Physical Obstruction',\n",
    "    'BUILDINGS': 'Physical Obstruction',\n",
    "    'SIGNBOARD': 'Physical Obstruction',\n",
    "    'EMBANKMENT': 'Physical Obstruction'\n",
    "}\n",
    "filtered_df['DRIVER_VISION'] = filtered_df['DRIVER_VISION'].map(driver_vision_map)"
   ]
  },
  {
   "cell_type": "code",
   "execution_count": 81,
   "metadata": {},
   "outputs": [
    {
     "data": {
      "text/plain": [
       "array(['TEST NOT OFFERED', 'TEST REFUSED',\n",
       "       'TEST PERFORMED, RESULTS UNKNOWN', 'TEST TAKEN'], dtype=object)"
      ]
     },
     "execution_count": 81,
     "metadata": {},
     "output_type": "execute_result"
    }
   ],
   "source": [
    "filtered_df['BAC_RESULT'].unique()"
   ]
  },
  {
   "cell_type": "code",
   "execution_count": 82,
   "metadata": {},
   "outputs": [
    {
     "data": {
      "text/plain": [
       "array(['No Injury', 'Minor Injury', 'Severe Injury', 'Fatal'],\n",
       "      dtype=object)"
      ]
     },
     "execution_count": 82,
     "metadata": {},
     "output_type": "execute_result"
    }
   ],
   "source": [
    "filtered_df['INJURY_CLASSIFICATION'].unique()"
   ]
  },
  {
   "cell_type": "code",
   "execution_count": 83,
   "metadata": {},
   "outputs": [
    {
     "data": {
      "text/plain": [
       "array(['Driver Behavior', 'Unknown/NA', 'Environment',\n",
       "       'Vehicle or Driver Condition', 'Traffic Violations',\n",
       "       'Other or Unusual', 'Distraction', 'Substance Use'], dtype=object)"
      ]
     },
     "execution_count": 83,
     "metadata": {},
     "output_type": "execute_result"
    }
   ],
   "source": [
    "#joining the primary and secondary cause under one column\n",
    "filtered_df[\"PRIM_CONTRIBUTORY_CAUSE\"].unique()"
   ]
  },
  {
   "cell_type": "code",
   "execution_count": 84,
   "metadata": {},
   "outputs": [
    {
     "data": {
      "text/plain": [
       "array(['DISTRACTION - FROM INSIDE VEHICLE', 'UNABLE TO DETERMINE',\n",
       "       'DRIVING SKILLS/KNOWLEDGE/EXPERIENCE', 'NOT APPLICABLE', 'WEATHER',\n",
       "       'FAILING TO YIELD RIGHT-OF-WAY',\n",
       "       'FAILING TO REDUCE SPEED TO AVOID CRASH',\n",
       "       'IMPROPER TURNING/NO SIGNAL', 'IMPROPER OVERTAKING/PASSING',\n",
       "       'FOLLOWING TOO CLOSELY', 'DISREGARDING STOP SIGN',\n",
       "       'IMPROPER LANE USAGE', 'DISTRACTION - FROM OUTSIDE VEHICLE',\n",
       "       'DISREGARDING TRAFFIC SIGNALS', 'DRIVING ON WRONG SIDE/WRONG WAY',\n",
       "       'EQUIPMENT - VEHICLE CONDITION', 'IMPROPER BACKING',\n",
       "       'VISION OBSCURED (SIGNS, TREE LIMBS, BUILDINGS, ETC.)',\n",
       "       'OPERATING VEHICLE IN ERRATIC, RECKLESS, CARELESS, NEGLIGENT OR AGGRESSIVE MANNER',\n",
       "       'PHYSICAL CONDITION OF DRIVER', 'ROAD CONSTRUCTION/MAINTENANCE',\n",
       "       'EXCEEDING SAFE SPEED FOR CONDITIONS',\n",
       "       'BICYCLE ADVANCING LEGALLY ON RED LIGHT',\n",
       "       'EXCEEDING AUTHORIZED SPEED LIMIT',\n",
       "       'DISTRACTION - OTHER ELECTRONIC DEVICE (NAVIGATION DEVICE, DVD PLAYER, ETC.)',\n",
       "       'UNDER THE INFLUENCE OF ALCOHOL/DRUGS (USE WHEN ARREST IS EFFECTED)',\n",
       "       'ROAD ENGINEERING/SURFACE/MARKING DEFECTS',\n",
       "       'EVASIVE ACTION DUE TO ANIMAL, OBJECT, NONMOTORIST', 'ANIMAL',\n",
       "       'DISREGARDING ROAD MARKINGS', 'DISREGARDING OTHER TRAFFIC SIGNS',\n",
       "       'CELL PHONE USE OTHER THAN TEXTING',\n",
       "       'HAD BEEN DRINKING (USE WHEN ARREST IS NOT MADE)',\n",
       "       'PASSING STOPPED SCHOOL BUS', 'RELATED TO BUS STOP',\n",
       "       'MOTORCYCLE ADVANCING LEGALLY ON RED LIGHT',\n",
       "       'DISREGARDING YIELD SIGN', 'TEXTING', 'TURNING RIGHT ON RED',\n",
       "       'OBSTRUCTED CROSSWALKS'], dtype=object)"
      ]
     },
     "execution_count": 84,
     "metadata": {},
     "output_type": "execute_result"
    }
   ],
   "source": [
    "filtered_df[\"SEC_CONTRIBUTORY_CAUSE\"].unique()"
   ]
  },
  {
   "cell_type": "code",
   "execution_count": 85,
   "metadata": {},
   "outputs": [],
   "source": [
    "sec_cause_map = {\n",
    "    'DISTRACTION - FROM INSIDE VEHICLE': 'Distraction',\n",
    "    'DISTRACTION - FROM OUTSIDE VEHICLE': 'Distraction',\n",
    "    'DISTRACTION - OTHER ELECTRONIC DEVICE (NAVIGATION DEVICE, DVD PLAYER, ETC.)': 'Distraction',\n",
    "    'TEXTING': 'Distraction',\n",
    "    'CELL PHONE USE OTHER THAN TEXTING': 'Distraction',\n",
    "    'UNABLE TO DETERMINE': 'Unknown/NA',\n",
    "    'NOT APPLICABLE': 'Unknown/NA',\n",
    "    'WEATHER': 'Environment',\n",
    "    'ROAD CONSTRUCTION/MAINTENANCE': 'Environment',\n",
    "    'ROAD ENGINEERING/SURFACE/MARKING DEFECTS': 'Environment',\n",
    "    'FAILING TO YIELD RIGHT-OF-WAY': 'Traffic Violations',\n",
    "    'FAILING TO REDUCE SPEED TO AVOID CRASH': 'Traffic Violations',\n",
    "    'DISREGARDING STOP SIGN': 'Traffic Violations',\n",
    "    'DISREGARDING TRAFFIC SIGNALS': 'Traffic Violations',\n",
    "    'DISREGARDING YIELD SIGN': 'Traffic Violations',\n",
    "    'DISREGARDING ROAD MARKINGS': 'Traffic Violations',\n",
    "    'DISREGARDING OTHER TRAFFIC SIGNS': 'Traffic Violations',\n",
    "    'DRIVING SKILLS/KNOWLEDGE/EXPERIENCE': 'Driver Behavior',\n",
    "    'IMPROPER TURNING/NO SIGNAL': 'Driver Behavior',\n",
    "    'IMPROPER OVERTAKING/PASSING': 'Driver Behavior',\n",
    "    'FOLLOWING TOO CLOSELY': 'Driver Behavior',\n",
    "    'IMPROPER LANE USAGE': 'Driver Behavior',\n",
    "    'DRIVING ON WRONG SIDE/WRONG WAY': 'Driver Behavior',\n",
    "    'IMPROPER BACKING': 'Driver Behavior',\n",
    "    'EXCEEDING SAFE SPEED FOR CONDITIONS': 'Driver Behavior',\n",
    "    'EXCEEDING AUTHORIZED SPEED LIMIT': 'Driver Behavior',\n",
    "    'TURNING RIGHT ON RED': 'Driver Behavior',\n",
    "    'PASSING STOPPED SCHOOL BUS': 'Driver Behavior',\n",
    "    'EQUIPMENT - VEHICLE CONDITION': 'Vehicle or Driver Condition',\n",
    "    'PHYSICAL CONDITION OF DRIVER': 'Vehicle or Driver Condition',\n",
    "    'HAD BEEN DRINKING (USE WHEN ARREST IS NOT MADE)': 'Substance Use',\n",
    "    'UNDER THE INFLUENCE OF ALCOHOL/DRUGS (USE WHEN ARREST IS EFFECTED)': 'Substance Use',\n",
    "    'OPERATING VEHICLE IN ERRATIC, RECKLESS, CARELESS, NEGLIGENT OR AGGRESSIVE MANNER': 'Driver Behavior',\n",
    "    'VISION OBSCURED (SIGNS, TREE LIMBS, BUILDINGS, ETC.)': 'Environment',\n",
    "    'EMERGENCY VEHICLE ON CALL': 'Other or Unusual',\n",
    "    'EVASIVE ACTION DUE TO ANIMAL, OBJECT, NONMOTORIST': 'Other or Unusual',\n",
    "    'ANIMAL': 'Other or Unusual',\n",
    "    'RELATED TO BUS STOP': 'Other or Unusual',\n",
    "    'BICYCLE ADVANCING LEGALLY ON RED LIGHT': 'Other or Unusual',\n",
    "    'MOTORCYCLE ADVANCING LEGALLY ON RED LIGHT': 'Other or Unusual',\n",
    "    'OBSTRUCTED CROSSWALKS': 'Other or Unusual',\n",
    "}\n",
    "filtered_df['SEC_CONTRIBUTORY_CAUSE'] = filtered_df['SEC_CONTRIBUTORY_CAUSE'].map(sec_cause_map)\n",
    "\n",
    "# Combine into one column\n",
    "def combine_causes(row):\n",
    "    if row['PRIM_CONTRIBUTORY_CAUSE'] == row['SEC_CONTRIBUTORY_CAUSE']:\n",
    "        return row['PRIM_CONTRIBUTORY_CAUSE']\n",
    "    else:\n",
    "        return f\"{row['PRIM_CONTRIBUTORY_CAUSE']} + {row['SEC_CONTRIBUTORY_CAUSE']}\"\n",
    "\n",
    "filtered_df['accident_cause'] = filtered_df.apply(combine_causes, axis=1)\n",
    "\n",
    "# drop the primary and secondary columns\n",
    "filtered_df.drop(columns=['PRIM_CONTRIBUTORY_CAUSE', 'SEC_CONTRIBUTORY_CAUSE'], inplace=True)"
   ]
  },
  {
   "cell_type": "markdown",
   "metadata": {},
   "source": [
    "# Encoding"
   ]
  },
  {
   "cell_type": "code",
   "execution_count": 90,
   "metadata": {},
   "outputs": [
    {
     "name": "stdout",
     "output_type": "stream",
     "text": [
      "Categorical Columns to Encode: ['TRAFFIC_CONTROL_DEVICE', 'DEVICE_CONDITION', 'WEATHER_CONDITION', 'LIGHTING_CONDITION', 'FIRST_CRASH_TYPE', 'TRAFFICWAY_TYPE', 'ALIGNMENT', 'ROADWAY_SURFACE_COND', 'ROAD_DEFECT', 'CRASH_TYPE', 'DAMAGE', 'MAKE', 'MODEL', 'VEHICLE_USE', 'TRAVEL_DIRECTION', 'SEX', 'SAFETY_EQUIPMENT', 'AIRBAG_DEPLOYED', 'EJECTION', 'DRIVER_ACTION', 'DRIVER_VISION', 'BAC_RESULT', 'INJURY_CLASSIFICATION', 'MAKE_REDUCED', 'MODEL_REDUCED', 'accident_cause']\n"
     ]
    }
   ],
   "source": [
    "#Identify catgeorical columns\n",
    "cat_cols = filtered_df.select_dtypes(include='object').columns.tolist()\n",
    "print(\"Categorical Columns to Encode:\", cat_cols)"
   ]
  },
  {
   "cell_type": "code",
   "execution_count": 92,
   "metadata": {},
   "outputs": [],
   "source": [
    "# Encode categorical columns\n",
    "from sklearn.preprocessing import LabelEncoder\n",
    "encoded_df = filtered_df.copy()\n",
    "le = LabelEncoder()\n",
    "\n"
   ]
  },
  {
   "cell_type": "code",
   "execution_count": 93,
   "metadata": {},
   "outputs": [],
   "source": [
    "for col in [\n",
    "    'TRAFFIC_CONTROL_DEVICE', 'DEVICE_CONDITION', 'WEATHER_CONDITION',\n",
    "    'LIGHTING_CONDITION', 'FIRST_CRASH_TYPE', 'TRAFFICWAY_TYPE',\n",
    "    'ALIGNMENT', 'ROADWAY_SURFACE_COND', 'ROAD_DEFECT', 'CRASH_TYPE',\n",
    "    'DAMAGE', 'MAKE', 'MODEL', 'VEHICLE_USE', 'TRAVEL_DIRECTION', 'SEX',\n",
    "    'SAFETY_EQUIPMENT', 'AIRBAG_DEPLOYED', 'EJECTION', 'DRIVER_ACTION',\n",
    "    'DRIVER_VISION', 'BAC_RESULT', 'INJURY_CLASSIFICATION',\n",
    "    'MAKE_REDUCED', 'MODEL_REDUCED', 'accident_cause'\n",
    "]:\n",
    "    try:\n",
    "        encoded_df[col] = le.fit_transform(encoded_df[col].astype(str))\n",
    "    except Exception as e:\n",
    "        print(f\"Could not encode {col}: {e}\")"
   ]
  },
  {
   "cell_type": "code",
   "execution_count": 94,
   "metadata": {},
   "outputs": [],
   "source": [
    "#Target and Features\n",
    "X = encoded_df.drop('accident_cause', axis=1)\n",
    "y = encoded_df['accident_cause']"
   ]
  },
  {
   "cell_type": "code",
   "execution_count": 95,
   "metadata": {},
   "outputs": [],
   "source": [
    "# Train-Test Split\n",
    "from sklearn.model_selection import train_test_split\n",
    "X_train, X_test, y_train, y_test = train_test_split(\n",
    "    X, y,\n",
    "    test_size=0.2,\n",
    "    stratify=y,\n",
    "    random_state=42\n",
    ")"
   ]
  },
  {
   "cell_type": "code",
   "execution_count": 96,
   "metadata": {},
   "outputs": [],
   "source": [
    "#Scale Features\n",
    "from sklearn.preprocessing import StandardScaler\n",
    "scaler = StandardScaler()\n",
    "X_train_scaled = scaler.fit_transform(X_train)\n",
    "X_test_scaled = scaler.transform(X_test)"
   ]
  },
  {
   "cell_type": "markdown",
   "metadata": {},
   "source": [
    "# Modeling"
   ]
  },
  {
   "cell_type": "code",
   "execution_count": 104,
   "metadata": {},
   "outputs": [],
   "source": [
    "#Random Forest\n",
    "from sklearn.ensemble import RandomForestClassifier  # or RandomForestRegressor if it's regression\n",
    "rf_model = RandomForestClassifier(n_estimators=10, random_state=42)"
   ]
  },
  {
   "cell_type": "code",
   "execution_count": 105,
   "metadata": {},
   "outputs": [],
   "source": [
    "rf_model = RandomForestClassifier(n_estimators=50, max_depth=10, random_state=42)"
   ]
  }
 ],
 "metadata": {
  "kernelspec": {
   "display_name": "Python (learn-env)",
   "language": "python",
   "name": "learn-env"
  },
  "language_info": {
   "codemirror_mode": {
    "name": "ipython",
    "version": 3
   },
   "file_extension": ".py",
   "mimetype": "text/x-python",
   "name": "python",
   "nbconvert_exporter": "python",
   "pygments_lexer": "ipython3",
   "version": "3.8.5"
  }
 },
 "nbformat": 4,
 "nbformat_minor": 5
}
