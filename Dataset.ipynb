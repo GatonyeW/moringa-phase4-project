{
  "nbformat": 4,
  "nbformat_minor": 0,
  "metadata": {
    "colab": {
      "provenance": []
    },
    "kernelspec": {
      "name": "python3",
      "display_name": "Python 3"
    },
    "language_info": {
      "name": "python"
    }
  },
  "cells": [
    {
      "cell_type": "code",
      "source": [
        "from google.colab import drive\n",
        "drive.mount('/content/drive')"
      ],
      "metadata": {
        "colab": {
          "base_uri": "https://localhost:8080/"
        },
        "id": "zxY3CAzdAMJw",
        "outputId": "abd25f0f-4ea3-4122-e2ae-a92a718860e1"
      },
      "execution_count": null,
      "outputs": [
        {
          "output_type": "stream",
          "name": "stdout",
          "text": [
            "Mounted at /content/drive\n"
          ]
        }
      ]
    },
    {
      "cell_type": "code",
      "source": [
        "import pandas as pd"
      ],
      "metadata": {
        "id": "SeTEhii_ESBq"
      },
      "execution_count": null,
      "outputs": []
    },
    {
      "cell_type": "code",
      "execution_count": null,
      "metadata": {
        "id": "O01rRnsiAKwT"
      },
      "outputs": [],
      "source": [
        "#load the dataset\n",
        "df_crashes = pd.read_csv('/content/drive/MyDrive/Phase4/Project/P4Dataset/Traffic_Crashes_-_Crashes_20250414.csv', low_memory=False)\n",
        "df_people = pd.read_csv('/content/drive/MyDrive/Phase4/Project/P4Dataset/Traffic_Crashes_-_People_20250414.csv', low_memory=False)\n",
        "df_vehicles = pd.read_csv('/content/drive/MyDrive/Phase4/Project/P4Dataset/Traffic_Crashes_-_Vehicles_20250414.csv', low_memory=False)"
      ]
    },
    {
      "cell_type": "code",
      "source": [
        "for col in df_people.columns:\n",
        "    print(col)"
      ],
      "metadata": {
        "colab": {
          "base_uri": "https://localhost:8080/"
        },
        "id": "Nl5tLuHIEJlw",
        "outputId": "11a64fe8-2e77-419a-8bad-5db6025ca6ec"
      },
      "execution_count": null,
      "outputs": [
        {
          "output_type": "stream",
          "name": "stdout",
          "text": [
            "PERSON_ID\n",
            "PERSON_TYPE\n",
            "CRASH_RECORD_ID\n",
            "VEHICLE_ID\n",
            "CRASH_DATE\n",
            "SEAT_NO\n",
            "CITY\n",
            "STATE\n",
            "ZIPCODE\n",
            "SEX\n",
            "AGE\n",
            "DRIVERS_LICENSE_STATE\n",
            "DRIVERS_LICENSE_CLASS\n",
            "SAFETY_EQUIPMENT\n",
            "AIRBAG_DEPLOYED\n",
            "EJECTION\n",
            "INJURY_CLASSIFICATION\n",
            "HOSPITAL\n",
            "EMS_AGENCY\n",
            "EMS_RUN_NO\n",
            "DRIVER_ACTION\n",
            "DRIVER_VISION\n",
            "PHYSICAL_CONDITION\n",
            "PEDPEDAL_ACTION\n",
            "PEDPEDAL_VISIBILITY\n",
            "PEDPEDAL_LOCATION\n",
            "BAC_RESULT\n",
            "BAC_RESULT VALUE\n",
            "CELL_PHONE_USE\n"
          ]
        }
      ]
    },
    {
      "cell_type": "code",
      "source": [
        "dropcolumns= ['PERSON_ID',\n",
        "                  'VEHICLE_ID',\n",
        "                  'CRASH_DATE',\n",
        "                  'SEAT_NO',\n",
        "                  'CITY',\n",
        "                  'STATE',\n",
        "                  'ZIPCODE',\n",
        "                  'DRIVERS_LICENSE_STATE', 'DRIVERS_LICENSE_CLASS','SAFETY_EQUIPMENT','AIRBAG_DEPLOYED',\n",
        "'EJECTION',\n",
        "'INJURY_CLASSIFICATION',\n",
        "'HOSPITAL',\n",
        "'EMS_AGENCY',\n",
        "'EMS_RUN_NO'\n",
        "]\n",
        "\n",
        "df_people_cleaned = df_people.drop(columns=[col for col in dropcolumns if col in df_people.columns])\n",
        "#df_people_cleaned =df_people"
      ],
      "metadata": {
        "id": "mxFDSoK5AOgW"
      },
      "execution_count": null,
      "outputs": []
    },
    {
      "cell_type": "code",
      "source": [
        "for col in df_people_cleaned.columns:\n",
        "    print(col)"
      ],
      "metadata": {
        "colab": {
          "base_uri": "https://localhost:8080/"
        },
        "id": "3uHN38zxJSg8",
        "outputId": "06032ca0-296c-4ffc-d22b-3bdb61b9b187"
      },
      "execution_count": null,
      "outputs": [
        {
          "output_type": "stream",
          "name": "stdout",
          "text": [
            "PERSON_TYPE\n",
            "CRASH_RECORD_ID\n",
            "SEX\n",
            "AGE\n",
            "DRIVER_ACTION\n",
            "DRIVER_VISION\n",
            "PHYSICAL_CONDITION\n",
            "PEDPEDAL_ACTION\n",
            "PEDPEDAL_VISIBILITY\n",
            "PEDPEDAL_LOCATION\n",
            "BAC_RESULT\n",
            "BAC_RESULT VALUE\n",
            "CELL_PHONE_USE\n"
          ]
        }
      ]
    },
    {
      "cell_type": "code",
      "source": [
        "df_vehicles = df_vehicles.iloc[:, :21]"
      ],
      "metadata": {
        "id": "TTkdrEBCJnr4"
      },
      "execution_count": null,
      "outputs": []
    },
    {
      "cell_type": "code",
      "source": [
        "for col in df_vehicles.columns:\n",
        "    print(col)"
      ],
      "metadata": {
        "colab": {
          "base_uri": "https://localhost:8080/"
        },
        "id": "-Ywh4-YpFMPM",
        "outputId": "5273a7e2-dc5d-4002-94ca-9b5ffb140ef9"
      },
      "execution_count": null,
      "outputs": [
        {
          "output_type": "stream",
          "name": "stdout",
          "text": [
            "CRASH_UNIT_ID\n",
            "CRASH_RECORD_ID\n",
            "CRASH_DATE\n",
            "UNIT_NO\n",
            "UNIT_TYPE\n",
            "NUM_PASSENGERS\n",
            "VEHICLE_ID\n",
            "CMRC_VEH_I\n",
            "MAKE\n",
            "MODEL\n",
            "LIC_PLATE_STATE\n",
            "VEHICLE_YEAR\n",
            "VEHICLE_DEFECT\n",
            "VEHICLE_TYPE\n",
            "VEHICLE_USE\n",
            "TRAVEL_DIRECTION\n",
            "MANEUVER\n",
            "TOWED_I\n",
            "FIRE_I\n",
            "OCCUPANT_CNT\n",
            "EXCEED_SPEED_LIMIT_I\n"
          ]
        }
      ]
    },
    {
      "cell_type": "code",
      "source": [
        "vehdropcolumns= ['CRASH_UNIT_ID',\n",
        "                  'CRASH_DATE',\n",
        "                  'UNIT_NO',\n",
        "                  'UNIT_TYPE',\n",
        "                  'NUM_PASSENGERS',\n",
        "                  'VEHICLE_ID',\n",
        "                  'LIC_PLATE_STATE',\n",
        "                  'CMRC_VEH_I',\n",
        "                  'MAKE',\n",
        "'MODEL',\n",
        "'LIC_PLATE_STATE',\n",
        "                  'VEHICLE_USE',\n",
        "                  'TRAVEL_DIRECTION',\n",
        "                  'FIRE_I',\n",
        "                  'OCCUPANT_CNT',\n",
        "                  'TOWED_I'        ]\n",
        "\n",
        "df_vehicles_cleaned = df_vehicles.drop(columns=[col for col in vehdropcolumns if col in df_vehicles.columns])"
      ],
      "metadata": {
        "id": "9Sdht1ZnFZF_"
      },
      "execution_count": null,
      "outputs": []
    },
    {
      "cell_type": "code",
      "source": [
        "for col in df_vehicles_cleaned.columns:\n",
        "    print(col)"
      ],
      "metadata": {
        "colab": {
          "base_uri": "https://localhost:8080/"
        },
        "id": "CThc0eJsNWJG",
        "outputId": "96894187-aba0-4a2d-9000-0008e0359553"
      },
      "execution_count": null,
      "outputs": [
        {
          "output_type": "stream",
          "name": "stdout",
          "text": [
            "CRASH_RECORD_ID\n",
            "VEHICLE_YEAR\n",
            "VEHICLE_DEFECT\n",
            "VEHICLE_TYPE\n",
            "MANEUVER\n",
            "EXCEED_SPEED_LIMIT_I\n"
          ]
        }
      ]
    },
    {
      "cell_type": "code",
      "source": [
        "for col in df_crashes.columns:\n",
        "    print(col)"
      ],
      "metadata": {
        "colab": {
          "base_uri": "https://localhost:8080/"
        },
        "id": "ogz3BGqjNhYS",
        "outputId": "a7840400-2a98-4eb5-ade0-0c888136f844"
      },
      "execution_count": null,
      "outputs": [
        {
          "output_type": "stream",
          "name": "stdout",
          "text": [
            "CRASH_RECORD_ID\n",
            "CRASH_DATE_EST_I\n",
            "CRASH_DATE\n",
            "POSTED_SPEED_LIMIT\n",
            "TRAFFIC_CONTROL_DEVICE\n",
            "DEVICE_CONDITION\n",
            "WEATHER_CONDITION\n",
            "LIGHTING_CONDITION\n",
            "FIRST_CRASH_TYPE\n",
            "TRAFFICWAY_TYPE\n",
            "LANE_CNT\n",
            "ALIGNMENT\n",
            "ROADWAY_SURFACE_COND\n",
            "ROAD_DEFECT\n",
            "REPORT_TYPE\n",
            "CRASH_TYPE\n",
            "INTERSECTION_RELATED_I\n",
            "NOT_RIGHT_OF_WAY_I\n",
            "HIT_AND_RUN_I\n",
            "DAMAGE\n",
            "DATE_POLICE_NOTIFIED\n",
            "PRIM_CONTRIBUTORY_CAUSE\n",
            "SEC_CONTRIBUTORY_CAUSE\n",
            "STREET_NO\n",
            "STREET_DIRECTION\n",
            "STREET_NAME\n",
            "BEAT_OF_OCCURRENCE\n",
            "PHOTOS_TAKEN_I\n",
            "STATEMENTS_TAKEN_I\n",
            "DOORING_I\n",
            "WORK_ZONE_I\n",
            "WORK_ZONE_TYPE\n",
            "WORKERS_PRESENT_I\n",
            "NUM_UNITS\n",
            "MOST_SEVERE_INJURY\n",
            "INJURIES_TOTAL\n",
            "INJURIES_FATAL\n",
            "INJURIES_INCAPACITATING\n",
            "INJURIES_NON_INCAPACITATING\n",
            "INJURIES_REPORTED_NOT_EVIDENT\n",
            "INJURIES_NO_INDICATION\n",
            "INJURIES_UNKNOWN\n",
            "CRASH_HOUR\n",
            "CRASH_DAY_OF_WEEK\n",
            "CRASH_MONTH\n",
            "LATITUDE\n",
            "LONGITUDE\n",
            "LOCATION\n"
          ]
        }
      ]
    },
    {
      "cell_type": "code",
      "source": [
        "crashdropcolumns = [\n",
        "    'CRASH_DATE_EST_I', 'LANE_CNT', 'ALIGNMENT', 'REPORT_TYPE', 'CRASH_TYPE',\n",
        "    'INTERSECTION_RELATED_I', 'NOT_RIGHT_OF_WAY_I', 'HIT_AND_RUN_I', 'DAMAGE',\n",
        "    'DATE_POLICE_NOTIFIED', 'STREET_NO', 'STREET_DIRECTION', 'STREET_NAME',\n",
        "    'PHOTOS_TAKEN_I', 'STATEMENTS_TAKEN_I', 'DOORING_I', 'WORK_ZONE_I',\n",
        "    'WORK_ZONE_TYPE', 'WORKERS_PRESENT_I', 'MOST_SEVERE_INJURY', 'INJURIES_TOTAL',\n",
        "    'INJURIES_FATAL', 'INJURIES_INCAPACITATING', 'INJURIES_NON_INCAPACITATING',\n",
        "    'INJURIES_REPORTED_NOT_EVIDENT', 'INJURIES_NO_INDICATION', 'INJURIES_UNKNOWN',\n",
        "    'LATITUDE', 'LONGITUDE'\n",
        "]\n",
        "df_crashes_cleaned = df_crashes.drop(columns=[col for col in crashdropcolumns if col in df_crashes.columns])"
      ],
      "metadata": {
        "id": "88DVU4HUB93B"
      },
      "execution_count": null,
      "outputs": []
    },
    {
      "cell_type": "code",
      "source": [
        "df_people_cleaned.to_csv('df_people_cleaned.csv', index=False)"
      ],
      "metadata": {
        "id": "JS7B6HysF7Pt"
      },
      "execution_count": null,
      "outputs": []
    },
    {
      "cell_type": "code",
      "source": [
        "df_vehicles_cleaned.to_csv('df_vehicles_cleaned.csv', index=False)"
      ],
      "metadata": {
        "id": "r-nisaBLF4_v"
      },
      "execution_count": null,
      "outputs": []
    },
    {
      "cell_type": "code",
      "source": [
        "df_crashes_cleaned.to_csv('df_crashes_cleaned.csv', index=False)"
      ],
      "metadata": {
        "id": "KzYS_VczDQFv"
      },
      "execution_count": null,
      "outputs": []
    }
  ]
}