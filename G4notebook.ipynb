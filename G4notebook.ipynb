{
  "cells": [
    {
      "cell_type": "code",
      "execution_count": 1,
      "id": "17edf575-2f40-4a9a-827e-5690545d2cc1",
      "metadata": {
        "id": "17edf575-2f40-4a9a-827e-5690545d2cc1"
      },
      "outputs": [],
      "source": [
        "import pandas as pd\n",
        "import numpy as np"
      ]
    },
    {
      "cell_type": "code",
      "source": [
        "import pandas as pd\n",
        "import numpy as np\n",
        "from sklearn.preprocessing import LabelEncoder, StandardScaler\n",
        "from sklearn.model_selection import train_test_split\n",
        "from sklearn.linear_model import LogisticRegression\n",
        "from sklearn.ensemble import RandomForestClassifier, GradientBoostingClassifier\n",
        "from sklearn.neighbors import KNeighborsClassifier\n",
        "from xgboost import XGBClassifier\n",
        "from tensorflow.keras.models import Sequential\n",
        "from tensorflow.keras.layers import Dense, Dropout\n",
        "from tensorflow.keras.utils import to_categorical\n",
        "import shap\n",
        "import matplotlib.pyplot as plt\n",
        "import seaborn as sns\n",
        "\n",
        "\n",
        "import warnings\n",
        "warnings.filterwarnings('ignore')"
      ],
      "metadata": {
        "id": "7Hfy4AnXCHXX"
      },
      "id": "7Hfy4AnXCHXX",
      "execution_count": 2,
      "outputs": []
    },
    {
      "cell_type": "code",
      "source": [
        "from google.colab import drive\n",
        "drive.mount('/content/drive')"
      ],
      "metadata": {
        "colab": {
          "base_uri": "https://localhost:8080/"
        },
        "id": "61FcphWICNyl",
        "outputId": "7b2c1cc2-12b0-4f20-c2bd-fdbad40fcaaf"
      },
      "id": "61FcphWICNyl",
      "execution_count": 3,
      "outputs": [
        {
          "output_type": "stream",
          "name": "stdout",
          "text": [
            "Mounted at /content/drive\n"
          ]
        }
      ]
    },
    {
      "cell_type": "code",
      "execution_count": 4,
      "id": "72b410b8-ed96-4e27-bf0e-050fbb811305",
      "metadata": {
        "id": "72b410b8-ed96-4e27-bf0e-050fbb811305"
      },
      "outputs": [],
      "source": [
        "df_crashes = pd.read_csv('/content/drive/MyDrive/Phase4/Project/P4Dataset/Refined_Traffic_Crashes_-_Crashes_20250412.csv', low_memory=False)\n",
        "df_people = pd.read_csv('/content/drive/MyDrive/Phase4/Project/P4Dataset/df_people_cleaned.csv', low_memory=False)\n",
        "df_vehicles = pd.read_csv('/content/drive/MyDrive/Phase4/Project/P4Dataset/df_vehicles_cleaned.csv', low_memory=False)"
      ]
    },
    {
      "cell_type": "markdown",
      "source": [
        "# Data Understanding"
      ],
      "metadata": {
        "id": "ucp4MyJ-CqPH"
      },
      "id": "ucp4MyJ-CqPH"
    },
    {
      "cell_type": "code",
      "execution_count": 5,
      "id": "765a9c0f-6d29-47c5-9dbf-235f07c3470b",
      "metadata": {
        "id": "765a9c0f-6d29-47c5-9dbf-235f07c3470b",
        "colab": {
          "base_uri": "https://localhost:8080/"
        },
        "outputId": "ee42e118-c0e9-4148-8eb7-6b27696e127f"
      },
      "outputs": [
        {
          "output_type": "stream",
          "name": "stdout",
          "text": [
            "<class 'pandas.core.frame.DataFrame'>\n",
            "RangeIndex: 2052949 entries, 0 to 2052948\n",
            "Data columns (total 13 columns):\n",
            " #   Column               Dtype  \n",
            "---  ------               -----  \n",
            " 0   PERSON_TYPE          object \n",
            " 1   CRASH_RECORD_ID      object \n",
            " 2   SEX                  object \n",
            " 3   AGE                  float64\n",
            " 4   DRIVER_ACTION        object \n",
            " 5   DRIVER_VISION        object \n",
            " 6   PHYSICAL_CONDITION   object \n",
            " 7   PEDPEDAL_ACTION      object \n",
            " 8   PEDPEDAL_VISIBILITY  object \n",
            " 9   PEDPEDAL_LOCATION    object \n",
            " 10  BAC_RESULT           object \n",
            " 11  BAC_RESULT VALUE     float64\n",
            " 12  CELL_PHONE_USE       object \n",
            "dtypes: float64(2), object(11)\n",
            "memory usage: 203.6+ MB\n"
          ]
        }
      ],
      "source": [
        "df_people.info()"
      ]
    },
    {
      "cell_type": "code",
      "execution_count": 6,
      "id": "0458cb30-496f-4b4d-b399-d81fc28d03f3",
      "metadata": {
        "id": "0458cb30-496f-4b4d-b399-d81fc28d03f3",
        "outputId": "5ba196f6-feb0-4182-80cf-929c9d312948",
        "colab": {
          "base_uri": "https://localhost:8080/"
        }
      },
      "outputs": [
        {
          "output_type": "execute_result",
          "data": {
            "text/plain": [
              "array(['DRIVER', 'PASSENGER', 'PEDESTRIAN', 'BICYCLE',\n",
              "       'NON-MOTOR VEHICLE', 'NON-CONTACT VEHICLE'], dtype=object)"
            ]
          },
          "metadata": {},
          "execution_count": 6
        }
      ],
      "source": [
        "df_people[\"PERSON_TYPE\"].unique()"
      ]
    },
    {
      "cell_type": "code",
      "execution_count": 7,
      "id": "90f606d2-5ef3-4bef-9d8f-678f6a116925",
      "metadata": {
        "id": "90f606d2-5ef3-4bef-9d8f-678f6a116925"
      },
      "outputs": [],
      "source": [
        "#lets focus only on drivers, so i have filtered the driver value from the people dataframe\n",
        "df_people1=df_people[df_people[\"PERSON_TYPE\"]==\"DRIVER\"]"
      ]
    },
    {
      "cell_type": "code",
      "execution_count": 8,
      "id": "710cc83d-c0e5-496e-a7e5-8fbcd04eb5eb",
      "metadata": {
        "id": "710cc83d-c0e5-496e-a7e5-8fbcd04eb5eb",
        "colab": {
          "base_uri": "https://localhost:8080/"
        },
        "outputId": "55b06c21-4e0d-4637-a7dc-59778b53c6d2"
      },
      "outputs": [
        {
          "output_type": "stream",
          "name": "stdout",
          "text": [
            "<class 'pandas.core.frame.DataFrame'>\n",
            "RangeIndex: 1906958 entries, 0 to 1906957\n",
            "Data columns (total 6 columns):\n",
            " #   Column                Dtype  \n",
            "---  ------                -----  \n",
            " 0   CRASH_RECORD_ID       object \n",
            " 1   VEHICLE_YEAR          float64\n",
            " 2   VEHICLE_DEFECT        object \n",
            " 3   VEHICLE_TYPE          object \n",
            " 4   MANEUVER              object \n",
            " 5   EXCEED_SPEED_LIMIT_I  object \n",
            "dtypes: float64(1), object(5)\n",
            "memory usage: 87.3+ MB\n"
          ]
        }
      ],
      "source": [
        "df_vehicles.info()"
      ]
    },
    {
      "cell_type": "markdown",
      "source": [
        "# Data Cleaning"
      ],
      "metadata": {
        "id": "8sjMHkW0C0Xv"
      },
      "id": "8sjMHkW0C0Xv"
    },
    {
      "cell_type": "code",
      "execution_count": 9,
      "id": "7852c673-6667-46ce-9882-c2509c121b53",
      "metadata": {
        "id": "7852c673-6667-46ce-9882-c2509c121b53"
      },
      "outputs": [],
      "source": [
        "df_driver = pd.merge(df_vehicles, df_people1, on='CRASH_RECORD_ID', how='inner')"
      ]
    },
    {
      "cell_type": "code",
      "execution_count": 10,
      "id": "a6600b77-27da-426e-9e51-51ee8d631215",
      "metadata": {
        "id": "a6600b77-27da-426e-9e51-51ee8d631215",
        "colab": {
          "base_uri": "https://localhost:8080/"
        },
        "outputId": "53d680ca-b46d-4d8d-d873-ad68e8606c4a"
      },
      "outputs": [
        {
          "output_type": "stream",
          "name": "stdout",
          "text": [
            "<class 'pandas.core.frame.DataFrame'>\n",
            "RangeIndex: 3340730 entries, 0 to 3340729\n",
            "Data columns (total 18 columns):\n",
            " #   Column                Dtype  \n",
            "---  ------                -----  \n",
            " 0   CRASH_RECORD_ID       object \n",
            " 1   VEHICLE_YEAR          float64\n",
            " 2   VEHICLE_DEFECT        object \n",
            " 3   VEHICLE_TYPE          object \n",
            " 4   MANEUVER              object \n",
            " 5   EXCEED_SPEED_LIMIT_I  object \n",
            " 6   PERSON_TYPE           object \n",
            " 7   SEX                   object \n",
            " 8   AGE                   float64\n",
            " 9   DRIVER_ACTION         object \n",
            " 10  DRIVER_VISION         object \n",
            " 11  PHYSICAL_CONDITION    object \n",
            " 12  PEDPEDAL_ACTION       object \n",
            " 13  PEDPEDAL_VISIBILITY   object \n",
            " 14  PEDPEDAL_LOCATION     object \n",
            " 15  BAC_RESULT            object \n",
            " 16  BAC_RESULT VALUE      float64\n",
            " 17  CELL_PHONE_USE        object \n",
            "dtypes: float64(3), object(15)\n",
            "memory usage: 458.8+ MB\n"
          ]
        }
      ],
      "source": [
        "df_driver.info()"
      ]
    },
    {
      "cell_type": "code",
      "execution_count": 11,
      "id": "5a864eac-d196-48b5-8ef3-39d3f583dc65",
      "metadata": {
        "id": "5a864eac-d196-48b5-8ef3-39d3f583dc65"
      },
      "outputs": [],
      "source": [
        "#joining the crash dataframe to the new dataframe\n",
        "merged_df = pd.merge(df_crashes, df_driver, on='CRASH_RECORD_ID', how='inner')\n"
      ]
    },
    {
      "cell_type": "code",
      "execution_count": 12,
      "id": "ae9d8d95-89ce-4765-862f-d3b83ff8d03e",
      "metadata": {
        "id": "ae9d8d95-89ce-4765-862f-d3b83ff8d03e",
        "colab": {
          "base_uri": "https://localhost:8080/"
        },
        "outputId": "3ed2a098-67d1-4d15-c969-47f0dc03884f"
      },
      "outputs": [
        {
          "output_type": "stream",
          "name": "stdout",
          "text": [
            "<class 'pandas.core.frame.DataFrame'>\n",
            "RangeIndex: 3337561 entries, 0 to 3337560\n",
            "Data columns (total 36 columns):\n",
            " #   Column                   Dtype  \n",
            "---  ------                   -----  \n",
            " 0   CRASH_RECORD_ID          object \n",
            " 1   CRASH_DATE               object \n",
            " 2   POSTED_SPEED_LIMIT       int64  \n",
            " 3   TRAFFIC_CONTROL_DEVICE   object \n",
            " 4   DEVICE_CONDITION         object \n",
            " 5   WEATHER_CONDITION        object \n",
            " 6   LIGHTING_CONDITION       object \n",
            " 7   FIRST_CRASH_TYPE         object \n",
            " 8   TRAFFICWAY_TYPE          object \n",
            " 9   ROADWAY_SURFACE_COND     object \n",
            " 10  ROAD_DEFECT              object \n",
            " 11  PRIM_CONTRIBUTORY_CAUSE  object \n",
            " 12  SEC_CONTRIBUTORY_CAUSE   object \n",
            " 13  BEAT_OF_OCCURRENCE       float64\n",
            " 14  NUM_UNITS                int64  \n",
            " 15  CRASH_HOUR               int64  \n",
            " 16  CRASH_DAY_OF_WEEK        int64  \n",
            " 17  CRASH_MONTH              int64  \n",
            " 18  LOCATION                 object \n",
            " 19  VEHICLE_YEAR             float64\n",
            " 20  VEHICLE_DEFECT           object \n",
            " 21  VEHICLE_TYPE             object \n",
            " 22  MANEUVER                 object \n",
            " 23  EXCEED_SPEED_LIMIT_I     object \n",
            " 24  PERSON_TYPE              object \n",
            " 25  SEX                      object \n",
            " 26  AGE                      float64\n",
            " 27  DRIVER_ACTION            object \n",
            " 28  DRIVER_VISION            object \n",
            " 29  PHYSICAL_CONDITION       object \n",
            " 30  PEDPEDAL_ACTION          object \n",
            " 31  PEDPEDAL_VISIBILITY      object \n",
            " 32  PEDPEDAL_LOCATION        object \n",
            " 33  BAC_RESULT               object \n",
            " 34  BAC_RESULT VALUE         float64\n",
            " 35  CELL_PHONE_USE           object \n",
            "dtypes: float64(4), int64(5), object(27)\n",
            "memory usage: 916.7+ MB\n"
          ]
        }
      ],
      "source": [
        "merged_df.info()"
      ]
    },
    {
      "cell_type": "markdown",
      "source": [
        "## Target Grouping"
      ],
      "metadata": {
        "id": "JzzaqdnoKFBC"
      },
      "id": "JzzaqdnoKFBC"
    },
    {
      "cell_type": "code",
      "execution_count": 13,
      "id": "428aca95-8fd3-4311-a7e9-c3f73689e9c2",
      "metadata": {
        "id": "428aca95-8fd3-4311-a7e9-c3f73689e9c2",
        "colab": {
          "base_uri": "https://localhost:8080/"
        },
        "outputId": "4d931d76-ba5f-494b-abad-5c610492e671"
      },
      "outputs": [
        {
          "output_type": "execute_result",
          "data": {
            "text/plain": [
              "array(['FAILING TO YIELD RIGHT-OF-WAY', 'UNABLE TO DETERMINE',\n",
              "       'IMPROPER TURNING/NO SIGNAL', 'DISREGARDING TRAFFIC SIGNALS',\n",
              "       'IMPROPER BACKING', 'FOLLOWING TOO CLOSELY',\n",
              "       'FAILING TO REDUCE SPEED TO AVOID CRASH',\n",
              "       'IMPROPER OVERTAKING/PASSING', 'TURNING RIGHT ON RED',\n",
              "       'IMPROPER LANE USAGE', 'NOT APPLICABLE',\n",
              "       'DRIVING ON WRONG SIDE/WRONG WAY', 'DISREGARDING STOP SIGN',\n",
              "       'DISREGARDING ROAD MARKINGS',\n",
              "       'OPERATING VEHICLE IN ERRATIC, RECKLESS, CARELESS, NEGLIGENT OR AGGRESSIVE MANNER',\n",
              "       'WEATHER', 'EQUIPMENT - VEHICLE CONDITION',\n",
              "       'DRIVING SKILLS/KNOWLEDGE/EXPERIENCE',\n",
              "       'PHYSICAL CONDITION OF DRIVER',\n",
              "       'UNDER THE INFLUENCE OF ALCOHOL/DRUGS (USE WHEN ARREST IS EFFECTED)',\n",
              "       'EVASIVE ACTION DUE TO ANIMAL, OBJECT, NONMOTORIST',\n",
              "       'VISION OBSCURED (SIGNS, TREE LIMBS, BUILDINGS, ETC.)',\n",
              "       'DISTRACTION - FROM INSIDE VEHICLE', 'ANIMAL',\n",
              "       'DISTRACTION - FROM OUTSIDE VEHICLE',\n",
              "       'CELL PHONE USE OTHER THAN TEXTING',\n",
              "       'HAD BEEN DRINKING (USE WHEN ARREST IS NOT MADE)',\n",
              "       'OBSTRUCTED CROSSWALKS', 'RELATED TO BUS STOP',\n",
              "       'DISREGARDING OTHER TRAFFIC SIGNS',\n",
              "       'ROAD ENGINEERING/SURFACE/MARKING DEFECTS',\n",
              "       'ROAD CONSTRUCTION/MAINTENANCE', 'TEXTING',\n",
              "       'DISREGARDING YIELD SIGN',\n",
              "       'DISTRACTION - OTHER ELECTRONIC DEVICE (NAVIGATION DEVICE, DVD PLAYER, ETC.)',\n",
              "       'BICYCLE ADVANCING LEGALLY ON RED LIGHT',\n",
              "       'PASSING STOPPED SCHOOL BUS', 'EXCEEDING AUTHORIZED SPEED LIMIT',\n",
              "       'EXCEEDING SAFE SPEED FOR CONDITIONS',\n",
              "       'MOTORCYCLE ADVANCING LEGALLY ON RED LIGHT'], dtype=object)"
            ]
          },
          "metadata": {},
          "execution_count": 13
        }
      ],
      "source": [
        "merged_df[\"PRIM_CONTRIBUTORY_CAUSE\"].unique()"
      ]
    },
    {
      "cell_type": "code",
      "execution_count": 14,
      "id": "defd2652-d64b-4724-af71-e33db2d7158f",
      "metadata": {
        "id": "defd2652-d64b-4724-af71-e33db2d7158f"
      },
      "outputs": [],
      "source": [
        "#changing the y to fewer levels\n",
        "cause_map = {\n",
        "    #  Driver Behavior\n",
        "    'FOLLOWING TOO CLOSELY': 'Driver Behavior',\n",
        "    'FAILING TO REDUCE SPEED TO AVOID CRASH': 'Driver Behavior',\n",
        "    'IMPROPER BACKING': 'Driver Behavior',\n",
        "    'IMPROPER TURNING/NO SIGNAL': 'Driver Behavior',\n",
        "    'IMPROPER LANE USAGE': 'Driver Behavior',\n",
        "    'IMPROPER OVERTAKING/PASSING': 'Driver Behavior',\n",
        "    'DRIVING ON WRONG SIDE/WRONG WAY': 'Driver Behavior',\n",
        "    'OPERATING VEHICLE IN ERRATIC, RECKLESS, CARELESS, NEGLIGENT OR AGGRESSIVE MANNER': 'Driver Behavior',\n",
        "    'EXCEEDING AUTHORIZED SPEED LIMIT': 'Driver Behavior',\n",
        "    'EXCEEDING SAFE SPEED FOR CONDITIONS': 'Driver Behavior',\n",
        "\n",
        "    # Distraction\n",
        "    'DISTRACTION - FROM INSIDE VEHICLE': 'Distraction',\n",
        "    'DISTRACTION - FROM OUTSIDE VEHICLE': 'Distraction',\n",
        "    'DISTRACTION - OTHER ELECTRONIC DEVICE (NAVIGATION DEVICE, DVD PLAYER, ETC.)': 'Distraction',\n",
        "    'TEXTING': 'Distraction',\n",
        "    'CELL PHONE USE OTHER THAN TEXTING': 'Distraction',\n",
        "\n",
        "    # Traffic Rule Violations\n",
        "    'FAILING TO YIELD RIGHT-OF-WAY': 'Traffic Violations',\n",
        "    'DISREGARDING OTHER TRAFFIC SIGNS': 'Traffic Violations',\n",
        "    'DISREGARDING TRAFFIC SIGNALS': 'Traffic Violations',\n",
        "    'DISREGARDING ROAD MARKINGS': 'Traffic Violations',\n",
        "    'DISREGARDING STOP SIGN': 'Traffic Violations',\n",
        "    'DISREGARDING YIELD SIGN': 'Traffic Violations',\n",
        "    'TURNING RIGHT ON RED': 'Traffic Violations',\n",
        "\n",
        "    # Environmental Factors\n",
        "    'WEATHER': 'Environment',\n",
        "    'VISION OBSCURED (SIGNS, TREE LIMBS, BUILDINGS, ETC.)': 'Environment',\n",
        "    'ROAD ENGINEERING/SURFACE/MARKING DEFECTS': 'Environment',\n",
        "    'ROAD CONSTRUCTION/MAINTENANCE': 'Environment',\n",
        "    'OBSTRUCTED CROSSWALKS': 'Environment',\n",
        "\n",
        "    # Substance Use\n",
        "    'UNDER THE INFLUENCE OF ALCOHOL/DRUGS (USE WHEN ARREST IS EFFECTED)': 'Substance Use',\n",
        "    'HAD BEEN DRINKING (USE WHEN ARREST IS NOT MADE)': 'Substance Use',\n",
        "\n",
        "    #Vehicle/Driver Condition\n",
        "    'EQUIPMENT - VEHICLE CONDITION': 'Vehicle or Driver Condition',\n",
        "    'DRIVING SKILLS/KNOWLEDGE/EXPERIENCE': 'Vehicle or Driver Condition',\n",
        "    'PHYSICAL CONDITION OF DRIVER': 'Vehicle or Driver Condition',\n",
        "\n",
        "    #Other / Unusual Situations\n",
        "    'RELATED TO BUS STOP': 'Other or Unusual',\n",
        "    'PASSING STOPPED SCHOOL BUS': 'Other or Unusual',\n",
        "    'EVASIVE ACTION DUE TO ANIMAL, OBJECT, NONMOTORIST': 'Other or Unusual',\n",
        "    'ANIMAL': 'Other or Unusual',\n",
        "    'BICYCLE ADVANCING LEGALLY ON RED LIGHT': 'Other or Unusual',\n",
        "    'MOTORCYCLE ADVANCING LEGALLY ON RED LIGHT': 'Other or Unusual',\n",
        "\n",
        "    #Unknown / Not Applicable\n",
        "    'UNABLE TO DETERMINE': 'Unknown/NA',\n",
        "    'NOT APPLICABLE': 'Unknown/NA'\n",
        "}\n",
        "\n",
        "# Apply the mapping\n",
        "merged_df[\"PRIM_CONTRIBUTORY_CAUSE\"]= merged_df[\"PRIM_CONTRIBUTORY_CAUSE\"].map(cause_map)"
      ]
    },
    {
      "cell_type": "markdown",
      "source": [
        "## Missing Values"
      ],
      "metadata": {
        "id": "07PbteX8KM9P"
      },
      "id": "07PbteX8KM9P"
    },
    {
      "cell_type": "code",
      "execution_count": 15,
      "id": "d095d515-a467-44c6-acdb-c73d6c7c0f8c",
      "metadata": {
        "id": "d095d515-a467-44c6-acdb-c73d6c7c0f8c",
        "colab": {
          "base_uri": "https://localhost:8080/",
          "height": 1000
        },
        "outputId": "35905b4a-f291-4f15-ff74-d41baf834287"
      },
      "outputs": [
        {
          "output_type": "execute_result",
          "data": {
            "text/plain": [
              "CRASH_RECORD_ID              0.000000\n",
              "CRASH_DATE                   0.000000\n",
              "POSTED_SPEED_LIMIT           0.000000\n",
              "TRAFFIC_CONTROL_DEVICE       0.000000\n",
              "DEVICE_CONDITION             0.000000\n",
              "WEATHER_CONDITION            0.000000\n",
              "LIGHTING_CONDITION           0.000000\n",
              "FIRST_CRASH_TYPE             0.000000\n",
              "TRAFFICWAY_TYPE              0.000000\n",
              "ROADWAY_SURFACE_COND         0.000000\n",
              "ROAD_DEFECT                  0.000000\n",
              "PRIM_CONTRIBUTORY_CAUSE      0.000000\n",
              "SEC_CONTRIBUTORY_CAUSE       0.000000\n",
              "BEAT_OF_OCCURRENCE           0.000599\n",
              "NUM_UNITS                    0.000000\n",
              "CRASH_HOUR                   0.000000\n",
              "CRASH_DAY_OF_WEEK            0.000000\n",
              "CRASH_MONTH                  0.000000\n",
              "LOCATION                     0.748181\n",
              "VEHICLE_YEAR                15.488196\n",
              "VEHICLE_DEFECT               1.416483\n",
              "VEHICLE_TYPE                 1.416483\n",
              "MANEUVER                     1.416483\n",
              "EXCEED_SPEED_LIMIT_I        99.875927\n",
              "PERSON_TYPE                  0.000000\n",
              "SEX                          0.006082\n",
              "AGE                         26.751152\n",
              "DRIVER_ACTION                0.000000\n",
              "DRIVER_VISION                0.000000\n",
              "PHYSICAL_CONDITION           0.000000\n",
              "PEDPEDAL_ACTION            100.000000\n",
              "PEDPEDAL_VISIBILITY        100.000000\n",
              "PEDPEDAL_LOCATION          100.000000\n",
              "BAC_RESULT                   0.000000\n",
              "BAC_RESULT VALUE            99.840542\n",
              "CELL_PHONE_USE              99.929649\n",
              "dtype: float64"
            ],
            "text/html": [
              "<div>\n",
              "<style scoped>\n",
              "    .dataframe tbody tr th:only-of-type {\n",
              "        vertical-align: middle;\n",
              "    }\n",
              "\n",
              "    .dataframe tbody tr th {\n",
              "        vertical-align: top;\n",
              "    }\n",
              "\n",
              "    .dataframe thead th {\n",
              "        text-align: right;\n",
              "    }\n",
              "</style>\n",
              "<table border=\"1\" class=\"dataframe\">\n",
              "  <thead>\n",
              "    <tr style=\"text-align: right;\">\n",
              "      <th></th>\n",
              "      <th>0</th>\n",
              "    </tr>\n",
              "  </thead>\n",
              "  <tbody>\n",
              "    <tr>\n",
              "      <th>CRASH_RECORD_ID</th>\n",
              "      <td>0.000000</td>\n",
              "    </tr>\n",
              "    <tr>\n",
              "      <th>CRASH_DATE</th>\n",
              "      <td>0.000000</td>\n",
              "    </tr>\n",
              "    <tr>\n",
              "      <th>POSTED_SPEED_LIMIT</th>\n",
              "      <td>0.000000</td>\n",
              "    </tr>\n",
              "    <tr>\n",
              "      <th>TRAFFIC_CONTROL_DEVICE</th>\n",
              "      <td>0.000000</td>\n",
              "    </tr>\n",
              "    <tr>\n",
              "      <th>DEVICE_CONDITION</th>\n",
              "      <td>0.000000</td>\n",
              "    </tr>\n",
              "    <tr>\n",
              "      <th>WEATHER_CONDITION</th>\n",
              "      <td>0.000000</td>\n",
              "    </tr>\n",
              "    <tr>\n",
              "      <th>LIGHTING_CONDITION</th>\n",
              "      <td>0.000000</td>\n",
              "    </tr>\n",
              "    <tr>\n",
              "      <th>FIRST_CRASH_TYPE</th>\n",
              "      <td>0.000000</td>\n",
              "    </tr>\n",
              "    <tr>\n",
              "      <th>TRAFFICWAY_TYPE</th>\n",
              "      <td>0.000000</td>\n",
              "    </tr>\n",
              "    <tr>\n",
              "      <th>ROADWAY_SURFACE_COND</th>\n",
              "      <td>0.000000</td>\n",
              "    </tr>\n",
              "    <tr>\n",
              "      <th>ROAD_DEFECT</th>\n",
              "      <td>0.000000</td>\n",
              "    </tr>\n",
              "    <tr>\n",
              "      <th>PRIM_CONTRIBUTORY_CAUSE</th>\n",
              "      <td>0.000000</td>\n",
              "    </tr>\n",
              "    <tr>\n",
              "      <th>SEC_CONTRIBUTORY_CAUSE</th>\n",
              "      <td>0.000000</td>\n",
              "    </tr>\n",
              "    <tr>\n",
              "      <th>BEAT_OF_OCCURRENCE</th>\n",
              "      <td>0.000599</td>\n",
              "    </tr>\n",
              "    <tr>\n",
              "      <th>NUM_UNITS</th>\n",
              "      <td>0.000000</td>\n",
              "    </tr>\n",
              "    <tr>\n",
              "      <th>CRASH_HOUR</th>\n",
              "      <td>0.000000</td>\n",
              "    </tr>\n",
              "    <tr>\n",
              "      <th>CRASH_DAY_OF_WEEK</th>\n",
              "      <td>0.000000</td>\n",
              "    </tr>\n",
              "    <tr>\n",
              "      <th>CRASH_MONTH</th>\n",
              "      <td>0.000000</td>\n",
              "    </tr>\n",
              "    <tr>\n",
              "      <th>LOCATION</th>\n",
              "      <td>0.748181</td>\n",
              "    </tr>\n",
              "    <tr>\n",
              "      <th>VEHICLE_YEAR</th>\n",
              "      <td>15.488196</td>\n",
              "    </tr>\n",
              "    <tr>\n",
              "      <th>VEHICLE_DEFECT</th>\n",
              "      <td>1.416483</td>\n",
              "    </tr>\n",
              "    <tr>\n",
              "      <th>VEHICLE_TYPE</th>\n",
              "      <td>1.416483</td>\n",
              "    </tr>\n",
              "    <tr>\n",
              "      <th>MANEUVER</th>\n",
              "      <td>1.416483</td>\n",
              "    </tr>\n",
              "    <tr>\n",
              "      <th>EXCEED_SPEED_LIMIT_I</th>\n",
              "      <td>99.875927</td>\n",
              "    </tr>\n",
              "    <tr>\n",
              "      <th>PERSON_TYPE</th>\n",
              "      <td>0.000000</td>\n",
              "    </tr>\n",
              "    <tr>\n",
              "      <th>SEX</th>\n",
              "      <td>0.006082</td>\n",
              "    </tr>\n",
              "    <tr>\n",
              "      <th>AGE</th>\n",
              "      <td>26.751152</td>\n",
              "    </tr>\n",
              "    <tr>\n",
              "      <th>DRIVER_ACTION</th>\n",
              "      <td>0.000000</td>\n",
              "    </tr>\n",
              "    <tr>\n",
              "      <th>DRIVER_VISION</th>\n",
              "      <td>0.000000</td>\n",
              "    </tr>\n",
              "    <tr>\n",
              "      <th>PHYSICAL_CONDITION</th>\n",
              "      <td>0.000000</td>\n",
              "    </tr>\n",
              "    <tr>\n",
              "      <th>PEDPEDAL_ACTION</th>\n",
              "      <td>100.000000</td>\n",
              "    </tr>\n",
              "    <tr>\n",
              "      <th>PEDPEDAL_VISIBILITY</th>\n",
              "      <td>100.000000</td>\n",
              "    </tr>\n",
              "    <tr>\n",
              "      <th>PEDPEDAL_LOCATION</th>\n",
              "      <td>100.000000</td>\n",
              "    </tr>\n",
              "    <tr>\n",
              "      <th>BAC_RESULT</th>\n",
              "      <td>0.000000</td>\n",
              "    </tr>\n",
              "    <tr>\n",
              "      <th>BAC_RESULT VALUE</th>\n",
              "      <td>99.840542</td>\n",
              "    </tr>\n",
              "    <tr>\n",
              "      <th>CELL_PHONE_USE</th>\n",
              "      <td>99.929649</td>\n",
              "    </tr>\n",
              "  </tbody>\n",
              "</table>\n",
              "</div><br><label><b>dtype:</b> float64</label>"
            ]
          },
          "metadata": {},
          "execution_count": 15
        }
      ],
      "source": [
        "merged_df.isna().mean()*100"
      ]
    },
    {
      "cell_type": "code",
      "source": [
        "merged_df = merged_df.loc[:, merged_df.isna().mean() <= 0.9]"
      ],
      "metadata": {
        "id": "obO0s-g6WvF0"
      },
      "id": "obO0s-g6WvF0",
      "execution_count": 16,
      "outputs": []
    },
    {
      "cell_type": "code",
      "source": [
        "merged_df.info()"
      ],
      "metadata": {
        "colab": {
          "base_uri": "https://localhost:8080/"
        },
        "id": "yLNxGYFzW0Xl",
        "outputId": "09013355-8374-4632-83d5-ec2886f8faba"
      },
      "id": "yLNxGYFzW0Xl",
      "execution_count": 17,
      "outputs": [
        {
          "output_type": "stream",
          "name": "stdout",
          "text": [
            "<class 'pandas.core.frame.DataFrame'>\n",
            "RangeIndex: 3337561 entries, 0 to 3337560\n",
            "Data columns (total 30 columns):\n",
            " #   Column                   Dtype  \n",
            "---  ------                   -----  \n",
            " 0   CRASH_RECORD_ID          object \n",
            " 1   CRASH_DATE               object \n",
            " 2   POSTED_SPEED_LIMIT       int64  \n",
            " 3   TRAFFIC_CONTROL_DEVICE   object \n",
            " 4   DEVICE_CONDITION         object \n",
            " 5   WEATHER_CONDITION        object \n",
            " 6   LIGHTING_CONDITION       object \n",
            " 7   FIRST_CRASH_TYPE         object \n",
            " 8   TRAFFICWAY_TYPE          object \n",
            " 9   ROADWAY_SURFACE_COND     object \n",
            " 10  ROAD_DEFECT              object \n",
            " 11  PRIM_CONTRIBUTORY_CAUSE  object \n",
            " 12  SEC_CONTRIBUTORY_CAUSE   object \n",
            " 13  BEAT_OF_OCCURRENCE       float64\n",
            " 14  NUM_UNITS                int64  \n",
            " 15  CRASH_HOUR               int64  \n",
            " 16  CRASH_DAY_OF_WEEK        int64  \n",
            " 17  CRASH_MONTH              int64  \n",
            " 18  LOCATION                 object \n",
            " 19  VEHICLE_YEAR             float64\n",
            " 20  VEHICLE_DEFECT           object \n",
            " 21  VEHICLE_TYPE             object \n",
            " 22  MANEUVER                 object \n",
            " 23  PERSON_TYPE              object \n",
            " 24  SEX                      object \n",
            " 25  AGE                      float64\n",
            " 26  DRIVER_ACTION            object \n",
            " 27  DRIVER_VISION            object \n",
            " 28  PHYSICAL_CONDITION       object \n",
            " 29  BAC_RESULT               object \n",
            "dtypes: float64(3), int64(5), object(22)\n",
            "memory usage: 763.9+ MB\n"
          ]
        }
      ]
    },
    {
      "cell_type": "code",
      "execution_count": 18,
      "id": "7c36cad9-7e3c-478f-9be7-4bee066d836d",
      "metadata": {
        "id": "7c36cad9-7e3c-478f-9be7-4bee066d836d"
      },
      "outputs": [],
      "source": [
        "# Delete rows where values are missing\n",
        "merged_df = merged_df[~(merged_df.isnull())]"
      ]
    },
    {
      "cell_type": "code",
      "execution_count": 19,
      "id": "f65e6199-a06d-4eb8-93de-4e8fd085f75b",
      "metadata": {
        "id": "f65e6199-a06d-4eb8-93de-4e8fd085f75b",
        "colab": {
          "base_uri": "https://localhost:8080/"
        },
        "outputId": "9469cd83-b2d1-44f5-8d30-345422bfa5e0"
      },
      "outputs": [
        {
          "output_type": "stream",
          "name": "stdout",
          "text": [
            "<class 'pandas.core.frame.DataFrame'>\n",
            "RangeIndex: 3337561 entries, 0 to 3337560\n",
            "Data columns (total 30 columns):\n",
            " #   Column                   Dtype  \n",
            "---  ------                   -----  \n",
            " 0   CRASH_RECORD_ID          object \n",
            " 1   CRASH_DATE               object \n",
            " 2   POSTED_SPEED_LIMIT       int64  \n",
            " 3   TRAFFIC_CONTROL_DEVICE   object \n",
            " 4   DEVICE_CONDITION         object \n",
            " 5   WEATHER_CONDITION        object \n",
            " 6   LIGHTING_CONDITION       object \n",
            " 7   FIRST_CRASH_TYPE         object \n",
            " 8   TRAFFICWAY_TYPE          object \n",
            " 9   ROADWAY_SURFACE_COND     object \n",
            " 10  ROAD_DEFECT              object \n",
            " 11  PRIM_CONTRIBUTORY_CAUSE  object \n",
            " 12  SEC_CONTRIBUTORY_CAUSE   object \n",
            " 13  BEAT_OF_OCCURRENCE       float64\n",
            " 14  NUM_UNITS                int64  \n",
            " 15  CRASH_HOUR               int64  \n",
            " 16  CRASH_DAY_OF_WEEK        int64  \n",
            " 17  CRASH_MONTH              int64  \n",
            " 18  LOCATION                 object \n",
            " 19  VEHICLE_YEAR             float64\n",
            " 20  VEHICLE_DEFECT           object \n",
            " 21  VEHICLE_TYPE             object \n",
            " 22  MANEUVER                 object \n",
            " 23  PERSON_TYPE              object \n",
            " 24  SEX                      object \n",
            " 25  AGE                      float64\n",
            " 26  DRIVER_ACTION            object \n",
            " 27  DRIVER_VISION            object \n",
            " 28  PHYSICAL_CONDITION       object \n",
            " 29  BAC_RESULT               object \n",
            "dtypes: float64(3), int64(5), object(22)\n",
            "memory usage: 763.9+ MB\n"
          ]
        }
      ],
      "source": [
        "merged_df.info()"
      ]
    },
    {
      "cell_type": "code",
      "execution_count": 20,
      "id": "904be0e3-77ca-4118-9454-126abf3cb334",
      "metadata": {
        "id": "904be0e3-77ca-4118-9454-126abf3cb334",
        "colab": {
          "base_uri": "https://localhost:8080/",
          "height": 1000
        },
        "outputId": "26131687-cf37-4293-e3b1-0ba83b9564a5"
      },
      "outputs": [
        {
          "output_type": "execute_result",
          "data": {
            "text/plain": [
              "CRASH_RECORD_ID                 0\n",
              "CRASH_DATE                      0\n",
              "POSTED_SPEED_LIMIT              0\n",
              "TRAFFIC_CONTROL_DEVICE          0\n",
              "DEVICE_CONDITION                0\n",
              "WEATHER_CONDITION               0\n",
              "LIGHTING_CONDITION              0\n",
              "FIRST_CRASH_TYPE                0\n",
              "TRAFFICWAY_TYPE                 0\n",
              "ROADWAY_SURFACE_COND            0\n",
              "ROAD_DEFECT                     0\n",
              "PRIM_CONTRIBUTORY_CAUSE         0\n",
              "SEC_CONTRIBUTORY_CAUSE          0\n",
              "BEAT_OF_OCCURRENCE             20\n",
              "NUM_UNITS                       0\n",
              "CRASH_HOUR                      0\n",
              "CRASH_DAY_OF_WEEK               0\n",
              "CRASH_MONTH                     0\n",
              "LOCATION                    24971\n",
              "VEHICLE_YEAR               516928\n",
              "VEHICLE_DEFECT              47276\n",
              "VEHICLE_TYPE                47276\n",
              "MANEUVER                    47276\n",
              "PERSON_TYPE                     0\n",
              "SEX                           203\n",
              "AGE                        892836\n",
              "DRIVER_ACTION                   0\n",
              "DRIVER_VISION                   0\n",
              "PHYSICAL_CONDITION              0\n",
              "BAC_RESULT                      0\n",
              "dtype: int64"
            ],
            "text/html": [
              "<div>\n",
              "<style scoped>\n",
              "    .dataframe tbody tr th:only-of-type {\n",
              "        vertical-align: middle;\n",
              "    }\n",
              "\n",
              "    .dataframe tbody tr th {\n",
              "        vertical-align: top;\n",
              "    }\n",
              "\n",
              "    .dataframe thead th {\n",
              "        text-align: right;\n",
              "    }\n",
              "</style>\n",
              "<table border=\"1\" class=\"dataframe\">\n",
              "  <thead>\n",
              "    <tr style=\"text-align: right;\">\n",
              "      <th></th>\n",
              "      <th>0</th>\n",
              "    </tr>\n",
              "  </thead>\n",
              "  <tbody>\n",
              "    <tr>\n",
              "      <th>CRASH_RECORD_ID</th>\n",
              "      <td>0</td>\n",
              "    </tr>\n",
              "    <tr>\n",
              "      <th>CRASH_DATE</th>\n",
              "      <td>0</td>\n",
              "    </tr>\n",
              "    <tr>\n",
              "      <th>POSTED_SPEED_LIMIT</th>\n",
              "      <td>0</td>\n",
              "    </tr>\n",
              "    <tr>\n",
              "      <th>TRAFFIC_CONTROL_DEVICE</th>\n",
              "      <td>0</td>\n",
              "    </tr>\n",
              "    <tr>\n",
              "      <th>DEVICE_CONDITION</th>\n",
              "      <td>0</td>\n",
              "    </tr>\n",
              "    <tr>\n",
              "      <th>WEATHER_CONDITION</th>\n",
              "      <td>0</td>\n",
              "    </tr>\n",
              "    <tr>\n",
              "      <th>LIGHTING_CONDITION</th>\n",
              "      <td>0</td>\n",
              "    </tr>\n",
              "    <tr>\n",
              "      <th>FIRST_CRASH_TYPE</th>\n",
              "      <td>0</td>\n",
              "    </tr>\n",
              "    <tr>\n",
              "      <th>TRAFFICWAY_TYPE</th>\n",
              "      <td>0</td>\n",
              "    </tr>\n",
              "    <tr>\n",
              "      <th>ROADWAY_SURFACE_COND</th>\n",
              "      <td>0</td>\n",
              "    </tr>\n",
              "    <tr>\n",
              "      <th>ROAD_DEFECT</th>\n",
              "      <td>0</td>\n",
              "    </tr>\n",
              "    <tr>\n",
              "      <th>PRIM_CONTRIBUTORY_CAUSE</th>\n",
              "      <td>0</td>\n",
              "    </tr>\n",
              "    <tr>\n",
              "      <th>SEC_CONTRIBUTORY_CAUSE</th>\n",
              "      <td>0</td>\n",
              "    </tr>\n",
              "    <tr>\n",
              "      <th>BEAT_OF_OCCURRENCE</th>\n",
              "      <td>20</td>\n",
              "    </tr>\n",
              "    <tr>\n",
              "      <th>NUM_UNITS</th>\n",
              "      <td>0</td>\n",
              "    </tr>\n",
              "    <tr>\n",
              "      <th>CRASH_HOUR</th>\n",
              "      <td>0</td>\n",
              "    </tr>\n",
              "    <tr>\n",
              "      <th>CRASH_DAY_OF_WEEK</th>\n",
              "      <td>0</td>\n",
              "    </tr>\n",
              "    <tr>\n",
              "      <th>CRASH_MONTH</th>\n",
              "      <td>0</td>\n",
              "    </tr>\n",
              "    <tr>\n",
              "      <th>LOCATION</th>\n",
              "      <td>24971</td>\n",
              "    </tr>\n",
              "    <tr>\n",
              "      <th>VEHICLE_YEAR</th>\n",
              "      <td>516928</td>\n",
              "    </tr>\n",
              "    <tr>\n",
              "      <th>VEHICLE_DEFECT</th>\n",
              "      <td>47276</td>\n",
              "    </tr>\n",
              "    <tr>\n",
              "      <th>VEHICLE_TYPE</th>\n",
              "      <td>47276</td>\n",
              "    </tr>\n",
              "    <tr>\n",
              "      <th>MANEUVER</th>\n",
              "      <td>47276</td>\n",
              "    </tr>\n",
              "    <tr>\n",
              "      <th>PERSON_TYPE</th>\n",
              "      <td>0</td>\n",
              "    </tr>\n",
              "    <tr>\n",
              "      <th>SEX</th>\n",
              "      <td>203</td>\n",
              "    </tr>\n",
              "    <tr>\n",
              "      <th>AGE</th>\n",
              "      <td>892836</td>\n",
              "    </tr>\n",
              "    <tr>\n",
              "      <th>DRIVER_ACTION</th>\n",
              "      <td>0</td>\n",
              "    </tr>\n",
              "    <tr>\n",
              "      <th>DRIVER_VISION</th>\n",
              "      <td>0</td>\n",
              "    </tr>\n",
              "    <tr>\n",
              "      <th>PHYSICAL_CONDITION</th>\n",
              "      <td>0</td>\n",
              "    </tr>\n",
              "    <tr>\n",
              "      <th>BAC_RESULT</th>\n",
              "      <td>0</td>\n",
              "    </tr>\n",
              "  </tbody>\n",
              "</table>\n",
              "</div><br><label><b>dtype:</b> int64</label>"
            ]
          },
          "metadata": {},
          "execution_count": 20
        }
      ],
      "source": [
        "merged_df.isnull().sum()"
      ]
    },
    {
      "cell_type": "code",
      "execution_count": 21,
      "id": "fcd99ec6-0bab-4c45-898f-2d8858ffefd7",
      "metadata": {
        "id": "fcd99ec6-0bab-4c45-898f-2d8858ffefd7"
      },
      "outputs": [],
      "source": [
        "#fixing the datatypes so it is easier for modelling"
      ]
    },
    {
      "cell_type": "code",
      "source": [],
      "metadata": {
        "id": "OyPFjM5MPHl4"
      },
      "id": "OyPFjM5MPHl4",
      "execution_count": 21,
      "outputs": []
    },
    {
      "cell_type": "markdown",
      "source": [
        "## Feature grouping & reduction"
      ],
      "metadata": {
        "id": "nPAk9bO0Kc6O"
      },
      "id": "nPAk9bO0Kc6O"
    },
    {
      "cell_type": "code",
      "execution_count": 22,
      "id": "c96f41eb-062e-4259-a7d3-258f5c787915",
      "metadata": {
        "id": "c96f41eb-062e-4259-a7d3-258f5c787915",
        "colab": {
          "base_uri": "https://localhost:8080/"
        },
        "outputId": "814b232a-c2ad-4c5a-dd23-4789c07fc890"
      },
      "outputs": [
        {
          "output_type": "execute_result",
          "data": {
            "text/plain": [
              "array(['STOP SIGN/FLASHER', 'NO CONTROLS', 'TRAFFIC SIGNAL', 'UNKNOWN',\n",
              "       'OTHER', 'PEDESTRIAN CROSSING SIGN', 'RR CROSSING SIGN', 'YIELD',\n",
              "       'OTHER WARNING SIGN', 'OTHER REG. SIGN', 'SCHOOL ZONE',\n",
              "       'RAILROAD CROSSING GATE', 'OTHER RAILROAD CROSSING',\n",
              "       'FLASHING CONTROL SIGNAL', 'POLICE/FLAGMAN', 'DELINEATORS',\n",
              "       'LANE USE MARKING', 'NO PASSING', 'BICYCLE CROSSING SIGN'],\n",
              "      dtype=object)"
            ]
          },
          "metadata": {},
          "execution_count": 22
        }
      ],
      "source": [
        "merged_df['TRAFFIC_CONTROL_DEVICE'].unique()"
      ]
    },
    {
      "cell_type": "code",
      "execution_count": 23,
      "id": "2d52b2f2-1363-42c6-a248-e604e4a25ade",
      "metadata": {
        "id": "2d52b2f2-1363-42c6-a248-e604e4a25ade"
      },
      "outputs": [],
      "source": [
        "#reducing the number of levels\n",
        "control_map = {\n",
        "    'PEDESTRIAN CROSSING SIGN': 'Pedestrian Control',\n",
        "    'BICYCLE CROSSING SIGN': 'Pedestrian Control',\n",
        "    'SCHOOL ZONE': 'Pedestrian Control',\n",
        "\n",
        "    'RAILROAD CROSSING GATE': 'Railroad Control',\n",
        "    'RR CROSSING SIGN': 'Railroad Control',\n",
        "    'OTHER RAILROAD CROSSING': 'Railroad Control',\n",
        "\n",
        "    'DELINEATORS': 'Other'\n",
        "}\n",
        "merged_df['TRAFFIC_CONTROL_DEVICE'] = merged_df['TRAFFIC_CONTROL_DEVICE'].map(control_map)"
      ]
    },
    {
      "cell_type": "code",
      "execution_count": 24,
      "id": "44f06402-4990-442b-adcf-735df18523fd",
      "metadata": {
        "id": "44f06402-4990-442b-adcf-735df18523fd",
        "colab": {
          "base_uri": "https://localhost:8080/"
        },
        "outputId": "633e653a-ad63-4056-db92-5b6fd43ebec9"
      },
      "outputs": [
        {
          "output_type": "execute_result",
          "data": {
            "text/plain": [
              "array(['NO CONTROLS', 'FUNCTIONING PROPERLY', 'UNKNOWN',\n",
              "       'NOT FUNCTIONING', 'OTHER', 'FUNCTIONING IMPROPERLY',\n",
              "       'WORN REFLECTIVE MATERIAL', 'MISSING'], dtype=object)"
            ]
          },
          "metadata": {},
          "execution_count": 24
        }
      ],
      "source": [
        "merged_df['DEVICE_CONDITION'].unique()"
      ]
    },
    {
      "cell_type": "code",
      "execution_count": 25,
      "id": "7e21d43a-41dd-44e1-95b2-2493d1888beb",
      "metadata": {
        "id": "7e21d43a-41dd-44e1-95b2-2493d1888beb",
        "colab": {
          "base_uri": "https://localhost:8080/"
        },
        "outputId": "b13fdb7d-587b-4793-cb14-35533a599b0c"
      },
      "outputs": [
        {
          "output_type": "execute_result",
          "data": {
            "text/plain": [
              "array(['ANGLE', 'FIXED OBJECT', 'PARKED MOTOR VEHICLE', 'TURNING',\n",
              "       'PEDALCYCLIST', 'REAR TO FRONT', 'SIDESWIPE OPPOSITE DIRECTION',\n",
              "       'REAR END', 'SIDESWIPE SAME DIRECTION', 'HEAD ON',\n",
              "       'OTHER NONCOLLISION', 'OTHER OBJECT', 'PEDESTRIAN', 'REAR TO SIDE',\n",
              "       'REAR TO REAR', 'ANIMAL', 'OVERTURNED', 'TRAIN'], dtype=object)"
            ]
          },
          "metadata": {},
          "execution_count": 25
        }
      ],
      "source": [
        "merged_df['FIRST_CRASH_TYPE'].unique()"
      ]
    },
    {
      "cell_type": "code",
      "execution_count": 26,
      "id": "76ebe46d-114a-49a1-a678-166778451340",
      "metadata": {
        "id": "76ebe46d-114a-49a1-a678-166778451340"
      },
      "outputs": [],
      "source": [
        "crash_type_map = {\n",
        "    # Vehicle-to-Vehicle\n",
        "    'REAR END': 'Vehicle Collision',\n",
        "    'HEAD ON': 'Vehicle Collision',\n",
        "    'ANGLE': 'Vehicle Collision',\n",
        "    'TURNING': 'Vehicle Collision',\n",
        "    'SIDESWIPE SAME DIRECTION': 'Vehicle Collision',\n",
        "    'SIDESWIPE OPPOSITE DIRECTION': 'Vehicle Collision',\n",
        "    'REAR TO FRONT': 'Vehicle Collision',\n",
        "    'REAR TO REAR': 'Vehicle Collision',\n",
        "    'REAR TO SIDE': 'Vehicle Collision',\n",
        "\n",
        "    # Vulnerable Road Users\n",
        "    'PEDESTRIAN': 'Vulnerable User',\n",
        "    'PEDALCYCLIST': 'Vulnerable User',\n",
        "\n",
        "    # Stationary or Object\n",
        "    'FIXED OBJECT': 'Fixed Object',\n",
        "    'PARKED MOTOR VEHICLE': 'Fixed Object',\n",
        "    'OTHER OBJECT': 'Fixed Object',\n",
        "    'OTHER NONCOLLISION': 'Fixed Object',\n",
        "\n",
        "    # Other or Special Cases\n",
        "    'TRAIN': 'Special',\n",
        "    'ANIMAL': 'Special',\n",
        "    'OVERTURNED': 'Special'\n",
        "}\n",
        "merged_df['FIRST_CRASH_TYPE'] = merged_df['FIRST_CRASH_TYPE'].map(crash_type_map)"
      ]
    },
    {
      "cell_type": "code",
      "execution_count": 27,
      "id": "178dd295-baad-479a-81cf-129b7f6f8e78",
      "metadata": {
        "id": "178dd295-baad-479a-81cf-129b7f6f8e78",
        "colab": {
          "base_uri": "https://localhost:8080/"
        },
        "outputId": "edb3246a-77a9-4537-f50a-324e3fc13549"
      },
      "outputs": [
        {
          "output_type": "execute_result",
          "data": {
            "text/plain": [
              "array(['NOT DIVIDED', 'RAMP', 'DIVIDED - W/MEDIAN (NOT RAISED)',\n",
              "       'FOUR WAY', 'DIVIDED - W/MEDIAN BARRIER', 'PARKING LOT', 'UNKNOWN',\n",
              "       'OTHER', 'Y-INTERSECTION', 'ONE-WAY', 'ALLEY', 'ROUNDABOUT',\n",
              "       'UNKNOWN INTERSECTION TYPE', 'T-INTERSECTION',\n",
              "       'FIVE POINT, OR MORE', 'TRAFFIC ROUTE', 'NOT REPORTED', 'DRIVEWAY',\n",
              "       'CENTER TURN LANE', 'L-INTERSECTION'], dtype=object)"
            ]
          },
          "metadata": {},
          "execution_count": 27
        }
      ],
      "source": [
        "merged_df['TRAFFICWAY_TYPE'].unique()"
      ]
    },
    {
      "cell_type": "code",
      "execution_count": 28,
      "id": "122d6559-3c12-4566-b47e-c1cac0cf6ef3",
      "metadata": {
        "id": "122d6559-3c12-4566-b47e-c1cac0cf6ef3"
      },
      "outputs": [],
      "source": [
        "intersection_map = {\n",
        "    # Common intersections\n",
        "    'FOUR WAY': 'Intersection',\n",
        "    'T-INTERSECTION': 'Intersection',\n",
        "    'Y-INTERSECTION': 'Intersection',\n",
        "    'L-INTERSECTION': 'Intersection',\n",
        "    'FIVE POINT, OR MORE': 'Intersection',\n",
        "    'ROUNDABOUT': 'Intersection',\n",
        "\n",
        "    # Divided roads\n",
        "    'DIVIDED - W/MEDIAN BARRIER': 'Divided Road',\n",
        "    'DIVIDED - W/MEDIAN (NOT RAISED)': 'Divided Road',\n",
        "\n",
        "    # Non-divided\n",
        "    'NOT DIVIDED': 'Undivided Road',\n",
        "    'ONE-WAY': 'Undivided Road',\n",
        "    'CENTER TURN LANE': 'Undivided Road',\n",
        "\n",
        "    # Special or non-road spaces\n",
        "    'PARKING LOT': 'Other Road Environment',\n",
        "    'RAMP': 'Other Road Environment',\n",
        "    'ALLEY': 'Other Road Environment',\n",
        "    'DRIVEWAY': 'Other Road Environment',\n",
        "    'TRAFFIC ROUTE': 'Other Road Environment',\n",
        "\n",
        "    # Unknowns & misc\n",
        "    'UNKNOWN': 'Unknown',\n",
        "    'UNKNOWN INTERSECTION TYPE': 'Unknown',\n",
        "    'NOT REPORTED': 'Unknown',\n",
        "    'OTHER': 'Other'\n",
        "}\n",
        "merged_df['TRAFFICWAY_TYPE'] = merged_df['TRAFFICWAY_TYPE'].map(intersection_map)"
      ]
    },
    {
      "cell_type": "code",
      "execution_count": 29,
      "id": "3e7e1ae4-c3ef-48cf-82e0-eefafdeaffb3",
      "metadata": {
        "id": "3e7e1ae4-c3ef-48cf-82e0-eefafdeaffb3"
      },
      "outputs": [],
      "source": [
        "merged_df['SEX'].unique()\n",
        "merged_df['SEX'] = merged_df['SEX'].replace('X', 'Unspecified')"
      ]
    },
    {
      "cell_type": "code",
      "execution_count": 30,
      "id": "b5c9d918-e747-427d-aea2-b8cec47d5649",
      "metadata": {
        "id": "b5c9d918-e747-427d-aea2-b8cec47d5649",
        "colab": {
          "base_uri": "https://localhost:8080/"
        },
        "outputId": "27d2c5f1-0714-4e3f-a755-0f1c30909dfa"
      },
      "outputs": [
        {
          "output_type": "execute_result",
          "data": {
            "text/plain": [
              "array(['FAILED TO YIELD', 'NONE', 'UNKNOWN', 'IMPROPER TURN',\n",
              "       'IMPROPER BACKING', 'DISREGARDED CONTROL DEVICES',\n",
              "       'FOLLOWED TOO CLOSELY', 'IMPROPER PARKING', 'OTHER',\n",
              "       'OVERCORRECTED', 'IMPROPER LANE CHANGE', 'WRONG WAY/SIDE',\n",
              "       'IMPROPER PASSING', 'EVADING POLICE VEHICLE',\n",
              "       'EMERGENCY VEHICLE ON CALL', 'TOO FAST FOR CONDITIONS',\n",
              "       'STOPPED SCHOOL BUS', 'CELL PHONE USE OTHER THAN TEXTING',\n",
              "       'TEXTING', 'LICENSE RESTRICTIONS'], dtype=object)"
            ]
          },
          "metadata": {},
          "execution_count": 30
        }
      ],
      "source": [
        "merged_df['DRIVER_ACTION'].unique()"
      ]
    },
    {
      "cell_type": "code",
      "execution_count": 31,
      "id": "3766b56b-2542-4e69-9533-8021be6542e0",
      "metadata": {
        "id": "3766b56b-2542-4e69-9533-8021be6542e0"
      },
      "outputs": [],
      "source": [
        "driver_action_map = {\n",
        "    # Common driving violations\n",
        "    'FAILED TO YIELD': 'Failure to Yield',\n",
        "    'DISREGARDED CONTROL DEVICES': 'Traffic Violation',\n",
        "    'WRONG WAY/SIDE': 'Traffic Violation',\n",
        "    'STOPPED SCHOOL BUS': 'Traffic Violation',\n",
        "\n",
        "    # Speed and spacing\n",
        "    'TOO FAST FOR CONDITIONS': 'Unsafe Speed',\n",
        "    'FOLLOWED TOO CLOSELY': 'Unsafe Speed',\n",
        "\n",
        "    # Maneuver-related\n",
        "    'IMPROPER TURN': 'Improper Maneuver',\n",
        "    'IMPROPER LANE CHANGE': 'Improper Maneuver',\n",
        "    'IMPROPER BACKING': 'Improper Maneuver',\n",
        "    'IMPROPER PASSING': 'Improper Maneuver',\n",
        "    'IMPROPER PARKING': 'Improper Maneuver',\n",
        "    'OVERCORRECTED': 'Improper Maneuver',\n",
        "\n",
        "    # Distraction\n",
        "    'TEXTING': 'Distracted',\n",
        "    'CELL PHONE USE OTHER THAN TEXTING': 'Distracted',\n",
        "\n",
        "    # Legal / unusual edge cases\n",
        "    'LICENSE RESTRICTIONS': 'Legal Issue',\n",
        "    'EMERGENCY VEHICLE ON CALL': 'Special Vehicle Action',\n",
        "    'EVADING POLICE VEHICLE': 'Evasive/Illegal Action',\n",
        "\n",
        "    # General\n",
        "    'NONE': 'None',\n",
        "    'UNKNOWN': 'Unknown',\n",
        "    'OTHER': 'Other'\n",
        "}\n",
        "merged_df['DRIVER_ACTION'] = merged_df['DRIVER_ACTION'].map(driver_action_map)"
      ]
    },
    {
      "cell_type": "code",
      "execution_count": 32,
      "id": "6ee2f665-fe87-4297-be76-d7e692ad8111",
      "metadata": {
        "id": "6ee2f665-fe87-4297-be76-d7e692ad8111",
        "colab": {
          "base_uri": "https://localhost:8080/"
        },
        "outputId": "1c633d6d-910b-478e-b735-9b0e182c083b"
      },
      "outputs": [
        {
          "output_type": "execute_result",
          "data": {
            "text/plain": [
              "array(['NOT OBSCURED', 'UNKNOWN', 'PARKED VEHICLES', 'OTHER',\n",
              "       'MOVING VEHICLES', 'BLINDED - SUNLIGHT', 'WINDSHIELD (WATER/ICE)',\n",
              "       'SIGNBOARD', 'BUILDINGS', 'TREES, PLANTS', 'BLINDED - HEADLIGHTS',\n",
              "       'BLOWING MATERIALS', 'EMBANKMENT', 'HILLCREST'], dtype=object)"
            ]
          },
          "metadata": {},
          "execution_count": 32
        }
      ],
      "source": [
        "merged_df['DRIVER_VISION'].unique()"
      ]
    },
    {
      "cell_type": "code",
      "execution_count": 33,
      "id": "7e8d69da-c113-444e-8ea9-b9bf324b3069",
      "metadata": {
        "id": "7e8d69da-c113-444e-8ea9-b9bf324b3069"
      },
      "outputs": [],
      "source": [
        "driver_vision_map = {\n",
        "    'NOT OBSCURED': 'Clear Vision',\n",
        "    'UNKNOWN': 'Unknown',\n",
        "    'OTHER': 'Other',\n",
        "\n",
        "    # Light-related visibility issues\n",
        "    'BLINDED - SUNLIGHT': 'Glare',\n",
        "    'BLINDED - HEADLIGHTS': 'Glare',\n",
        "\n",
        "    # Environmental/material obstruction\n",
        "    'BLOWING MATERIALS': 'Environmental Obstruction',\n",
        "    'WINDSHIELD (WATER/ICE)': 'Environmental Obstruction',\n",
        "\n",
        "    # Physical/static object obstruction\n",
        "    'MOVING VEHICLES': 'Vehicle Obstruction',\n",
        "    'PARKED VEHICLES': 'Vehicle Obstruction',\n",
        "    'HILLCREST': 'Physical Obstruction',\n",
        "    'TREES, PLANTS': 'Physical Obstruction',\n",
        "    'BUILDINGS': 'Physical Obstruction',\n",
        "    'SIGNBOARD': 'Physical Obstruction',\n",
        "    'EMBANKMENT': 'Physical Obstruction'\n",
        "}\n",
        "merged_df['DRIVER_VISION'] = merged_df['DRIVER_VISION'].map(driver_vision_map)"
      ]
    },
    {
      "cell_type": "code",
      "execution_count": 34,
      "id": "4c14a4c1-6dd3-4f9f-9933-968425d61dfe",
      "metadata": {
        "id": "4c14a4c1-6dd3-4f9f-9933-968425d61dfe",
        "colab": {
          "base_uri": "https://localhost:8080/"
        },
        "outputId": "a5312c78-e8af-42eb-fa12-3f3d73d73d29"
      },
      "outputs": [
        {
          "output_type": "execute_result",
          "data": {
            "text/plain": [
              "array(['TEST NOT OFFERED', 'TEST REFUSED', 'TEST TAKEN',\n",
              "       'TEST PERFORMED, RESULTS UNKNOWN'], dtype=object)"
            ]
          },
          "metadata": {},
          "execution_count": 34
        }
      ],
      "source": [
        "merged_df['BAC_RESULT'].unique()"
      ]
    },
    {
      "cell_type": "code",
      "execution_count": 35,
      "id": "7a2bdad0-841f-429c-b8e7-c569d5efdd55",
      "metadata": {
        "id": "7a2bdad0-841f-429c-b8e7-c569d5efdd55",
        "colab": {
          "base_uri": "https://localhost:8080/"
        },
        "outputId": "5a1a2ded-c8ff-482f-bdb6-22796eabf305"
      },
      "outputs": [
        {
          "output_type": "execute_result",
          "data": {
            "text/plain": [
              "array(['Traffic Violations', 'Unknown/NA', 'Driver Behavior',\n",
              "       'Environment', 'Vehicle or Driver Condition', 'Substance Use',\n",
              "       'Other or Unusual', 'Distraction'], dtype=object)"
            ]
          },
          "metadata": {},
          "execution_count": 35
        }
      ],
      "source": [
        "#joining the primary and secondary cause under one column\n",
        "merged_df[\"PRIM_CONTRIBUTORY_CAUSE\"].unique()"
      ]
    },
    {
      "cell_type": "code",
      "execution_count": 36,
      "id": "4954fac2-5d63-462b-8e59-ce1323df5350",
      "metadata": {
        "id": "4954fac2-5d63-462b-8e59-ce1323df5350",
        "colab": {
          "base_uri": "https://localhost:8080/"
        },
        "outputId": "697b0217-c7ab-4ac9-d5a0-7965951ccb40"
      },
      "outputs": [
        {
          "output_type": "execute_result",
          "data": {
            "text/plain": [
              "array(['FAILING TO YIELD RIGHT-OF-WAY', 'NOT APPLICABLE',\n",
              "       'UNABLE TO DETERMINE', 'ROAD CONSTRUCTION/MAINTENANCE',\n",
              "       'IMPROPER LANE USAGE', 'IMPROPER TURNING/NO SIGNAL',\n",
              "       'FAILING TO REDUCE SPEED TO AVOID CRASH',\n",
              "       'DRIVING SKILLS/KNOWLEDGE/EXPERIENCE', 'WEATHER',\n",
              "       'IMPROPER BACKING',\n",
              "       'OPERATING VEHICLE IN ERRATIC, RECKLESS, CARELESS, NEGLIGENT OR AGGRESSIVE MANNER',\n",
              "       'IMPROPER OVERTAKING/PASSING', 'EQUIPMENT - VEHICLE CONDITION',\n",
              "       'UNDER THE INFLUENCE OF ALCOHOL/DRUGS (USE WHEN ARREST IS EFFECTED)',\n",
              "       'FOLLOWING TOO CLOSELY', 'DISREGARDING TRAFFIC SIGNALS',\n",
              "       'PHYSICAL CONDITION OF DRIVER',\n",
              "       'VISION OBSCURED (SIGNS, TREE LIMBS, BUILDINGS, ETC.)',\n",
              "       'DISREGARDING STOP SIGN', 'DISREGARDING ROAD MARKINGS',\n",
              "       'DISREGARDING YIELD SIGN', 'DISTRACTION - FROM INSIDE VEHICLE',\n",
              "       'ANIMAL', 'RELATED TO BUS STOP',\n",
              "       'DISREGARDING OTHER TRAFFIC SIGNS',\n",
              "       'DRIVING ON WRONG SIDE/WRONG WAY',\n",
              "       'CELL PHONE USE OTHER THAN TEXTING',\n",
              "       'DISTRACTION - FROM OUTSIDE VEHICLE',\n",
              "       'HAD BEEN DRINKING (USE WHEN ARREST IS NOT MADE)',\n",
              "       'ROAD ENGINEERING/SURFACE/MARKING DEFECTS', 'TURNING RIGHT ON RED',\n",
              "       'TEXTING',\n",
              "       'DISTRACTION - OTHER ELECTRONIC DEVICE (NAVIGATION DEVICE, DVD PLAYER, ETC.)',\n",
              "       'EVASIVE ACTION DUE TO ANIMAL, OBJECT, NONMOTORIST',\n",
              "       'OBSTRUCTED CROSSWALKS', 'EXCEEDING SAFE SPEED FOR CONDITIONS',\n",
              "       'BICYCLE ADVANCING LEGALLY ON RED LIGHT',\n",
              "       'EXCEEDING AUTHORIZED SPEED LIMIT', 'PASSING STOPPED SCHOOL BUS',\n",
              "       'MOTORCYCLE ADVANCING LEGALLY ON RED LIGHT'], dtype=object)"
            ]
          },
          "metadata": {},
          "execution_count": 36
        }
      ],
      "source": [
        "merged_df[\"SEC_CONTRIBUTORY_CAUSE\"].unique()"
      ]
    },
    {
      "cell_type": "code",
      "execution_count": 37,
      "id": "93986dd3-48c0-4dc0-8395-176ff241b4a6",
      "metadata": {
        "id": "93986dd3-48c0-4dc0-8395-176ff241b4a6"
      },
      "outputs": [],
      "source": [
        "sec_cause_map = {\n",
        "    'DISTRACTION - FROM INSIDE VEHICLE': 'Distraction',\n",
        "    'DISTRACTION - FROM OUTSIDE VEHICLE': 'Distraction',\n",
        "    'DISTRACTION - OTHER ELECTRONIC DEVICE (NAVIGATION DEVICE, DVD PLAYER, ETC.)': 'Distraction',\n",
        "    'TEXTING': 'Distraction',\n",
        "    'CELL PHONE USE OTHER THAN TEXTING': 'Distraction',\n",
        "    'UNABLE TO DETERMINE': 'Unknown/NA',\n",
        "    'NOT APPLICABLE': 'Unknown/NA',\n",
        "    'WEATHER': 'Environment',\n",
        "    'ROAD CONSTRUCTION/MAINTENANCE': 'Environment',\n",
        "    'ROAD ENGINEERING/SURFACE/MARKING DEFECTS': 'Environment',\n",
        "    'FAILING TO YIELD RIGHT-OF-WAY': 'Traffic Violations',\n",
        "    'FAILING TO REDUCE SPEED TO AVOID CRASH': 'Traffic Violations',\n",
        "    'DISREGARDING STOP SIGN': 'Traffic Violations',\n",
        "    'DISREGARDING TRAFFIC SIGNALS': 'Traffic Violations',\n",
        "    'DISREGARDING YIELD SIGN': 'Traffic Violations',\n",
        "    'DISREGARDING ROAD MARKINGS': 'Traffic Violations',\n",
        "    'DISREGARDING OTHER TRAFFIC SIGNS': 'Traffic Violations',\n",
        "    'DRIVING SKILLS/KNOWLEDGE/EXPERIENCE': 'Driver Behavior',\n",
        "    'IMPROPER TURNING/NO SIGNAL': 'Driver Behavior',\n",
        "    'IMPROPER OVERTAKING/PASSING': 'Driver Behavior',\n",
        "    'FOLLOWING TOO CLOSELY': 'Driver Behavior',\n",
        "    'IMPROPER LANE USAGE': 'Driver Behavior',\n",
        "    'DRIVING ON WRONG SIDE/WRONG WAY': 'Driver Behavior',\n",
        "    'IMPROPER BACKING': 'Driver Behavior',\n",
        "    'EXCEEDING SAFE SPEED FOR CONDITIONS': 'Driver Behavior',\n",
        "    'EXCEEDING AUTHORIZED SPEED LIMIT': 'Driver Behavior',\n",
        "    'TURNING RIGHT ON RED': 'Driver Behavior',\n",
        "    'PASSING STOPPED SCHOOL BUS': 'Driver Behavior',\n",
        "    'EQUIPMENT - VEHICLE CONDITION': 'Vehicle or Driver Condition',\n",
        "    'PHYSICAL CONDITION OF DRIVER': 'Vehicle or Driver Condition',\n",
        "    'HAD BEEN DRINKING (USE WHEN ARREST IS NOT MADE)': 'Substance Use',\n",
        "    'UNDER THE INFLUENCE OF ALCOHOL/DRUGS (USE WHEN ARREST IS EFFECTED)': 'Substance Use',\n",
        "    'OPERATING VEHICLE IN ERRATIC, RECKLESS, CARELESS, NEGLIGENT OR AGGRESSIVE MANNER': 'Driver Behavior',\n",
        "    'VISION OBSCURED (SIGNS, TREE LIMBS, BUILDINGS, ETC.)': 'Environment',\n",
        "    'EMERGENCY VEHICLE ON CALL': 'Other or Unusual',\n",
        "    'EVASIVE ACTION DUE TO ANIMAL, OBJECT, NONMOTORIST': 'Other or Unusual',\n",
        "    'ANIMAL': 'Other or Unusual',\n",
        "    'RELATED TO BUS STOP': 'Other or Unusual',\n",
        "    'BICYCLE ADVANCING LEGALLY ON RED LIGHT': 'Other or Unusual',\n",
        "    'MOTORCYCLE ADVANCING LEGALLY ON RED LIGHT': 'Other or Unusual',\n",
        "    'OBSTRUCTED CROSSWALKS': 'Other or Unusual',\n",
        "}\n",
        "merged_df['SEC_CONTRIBUTORY_CAUSE'] = merged_df['SEC_CONTRIBUTORY_CAUSE'].map(sec_cause_map)\n"
      ]
    },
    {
      "cell_type": "code",
      "execution_count": 38,
      "id": "2aea0beb-2a7e-4354-ab3b-9e268821e584",
      "metadata": {
        "id": "2aea0beb-2a7e-4354-ab3b-9e268821e584",
        "colab": {
          "base_uri": "https://localhost:8080/"
        },
        "outputId": "c1ee63b4-0836-42a5-ce9e-76e5b12a9f21"
      },
      "outputs": [
        {
          "output_type": "stream",
          "name": "stdout",
          "text": [
            "<class 'pandas.core.frame.DataFrame'>\n",
            "RangeIndex: 3337561 entries, 0 to 3337560\n",
            "Data columns (total 30 columns):\n",
            " #   Column                   Dtype  \n",
            "---  ------                   -----  \n",
            " 0   CRASH_RECORD_ID          object \n",
            " 1   CRASH_DATE               object \n",
            " 2   POSTED_SPEED_LIMIT       int64  \n",
            " 3   TRAFFIC_CONTROL_DEVICE   object \n",
            " 4   DEVICE_CONDITION         object \n",
            " 5   WEATHER_CONDITION        object \n",
            " 6   LIGHTING_CONDITION       object \n",
            " 7   FIRST_CRASH_TYPE         object \n",
            " 8   TRAFFICWAY_TYPE          object \n",
            " 9   ROADWAY_SURFACE_COND     object \n",
            " 10  ROAD_DEFECT              object \n",
            " 11  PRIM_CONTRIBUTORY_CAUSE  object \n",
            " 12  SEC_CONTRIBUTORY_CAUSE   object \n",
            " 13  BEAT_OF_OCCURRENCE       float64\n",
            " 14  NUM_UNITS                int64  \n",
            " 15  CRASH_HOUR               int64  \n",
            " 16  CRASH_DAY_OF_WEEK        int64  \n",
            " 17  CRASH_MONTH              int64  \n",
            " 18  LOCATION                 object \n",
            " 19  VEHICLE_YEAR             float64\n",
            " 20  VEHICLE_DEFECT           object \n",
            " 21  VEHICLE_TYPE             object \n",
            " 22  MANEUVER                 object \n",
            " 23  PERSON_TYPE              object \n",
            " 24  SEX                      object \n",
            " 25  AGE                      float64\n",
            " 26  DRIVER_ACTION            object \n",
            " 27  DRIVER_VISION            object \n",
            " 28  PHYSICAL_CONDITION       object \n",
            " 29  BAC_RESULT               object \n",
            "dtypes: float64(3), int64(5), object(22)\n",
            "memory usage: 763.9+ MB\n"
          ]
        }
      ],
      "source": [
        "merged_df.info()"
      ]
    },
    {
      "cell_type": "code",
      "source": [
        "df_clean = merged_df"
      ],
      "metadata": {
        "id": "VuqzNi-jU8L0"
      },
      "id": "VuqzNi-jU8L0",
      "execution_count": 39,
      "outputs": []
    },
    {
      "cell_type": "markdown",
      "source": [
        "## Feature Selection"
      ],
      "metadata": {
        "id": "k4OOE4VyLGI4"
      },
      "id": "k4OOE4VyLGI4"
    },
    {
      "cell_type": "code",
      "source": [
        "# get the numeric cols and the cat cols\n",
        "num_original_columns = df_clean.select_dtypes(include=np.number).columns.tolist()\n",
        "categorical_cols = df_clean.select_dtypes(exclude=np.number).columns.tolist()\n",
        "\n",
        "print(\"Categorical columns:\", categorical_cols)\n",
        "num_original_columns"
      ],
      "metadata": {
        "id": "pO2t4d8bSppA",
        "colab": {
          "base_uri": "https://localhost:8080/"
        },
        "outputId": "e658230b-bad4-4b92-9892-b3d43f46f1ba"
      },
      "id": "pO2t4d8bSppA",
      "execution_count": 40,
      "outputs": [
        {
          "output_type": "stream",
          "name": "stdout",
          "text": [
            "Categorical columns: ['CRASH_RECORD_ID', 'CRASH_DATE', 'TRAFFIC_CONTROL_DEVICE', 'DEVICE_CONDITION', 'WEATHER_CONDITION', 'LIGHTING_CONDITION', 'FIRST_CRASH_TYPE', 'TRAFFICWAY_TYPE', 'ROADWAY_SURFACE_COND', 'ROAD_DEFECT', 'PRIM_CONTRIBUTORY_CAUSE', 'SEC_CONTRIBUTORY_CAUSE', 'LOCATION', 'VEHICLE_DEFECT', 'VEHICLE_TYPE', 'MANEUVER', 'PERSON_TYPE', 'SEX', 'DRIVER_ACTION', 'DRIVER_VISION', 'PHYSICAL_CONDITION', 'BAC_RESULT']\n"
          ]
        },
        {
          "output_type": "execute_result",
          "data": {
            "text/plain": [
              "['POSTED_SPEED_LIMIT',\n",
              " 'BEAT_OF_OCCURRENCE',\n",
              " 'NUM_UNITS',\n",
              " 'CRASH_HOUR',\n",
              " 'CRASH_DAY_OF_WEEK',\n",
              " 'CRASH_MONTH',\n",
              " 'VEHICLE_YEAR',\n",
              " 'AGE']"
            ]
          },
          "metadata": {},
          "execution_count": 40
        }
      ]
    },
    {
      "cell_type": "code",
      "source": [
        "target_col = \"PRIM_CONTRIBUTORY_CAUSE\"\n",
        "\n",
        "numeric_features = num_original_columns\n",
        "\n",
        "categorical_features = categorical_cols\n",
        "\n",
        "final_features = numeric_features + categorical_features\n",
        "df_model = df_clean[final_features + [target_col]].dropna()"
      ],
      "metadata": {
        "id": "eB1o98FlLUVz"
      },
      "id": "eB1o98FlLUVz",
      "execution_count": 41,
      "outputs": []
    },
    {
      "cell_type": "markdown",
      "source": [
        "# Encoding"
      ],
      "metadata": {
        "id": "3moiVgmJLrlh"
      },
      "id": "3moiVgmJLrlh"
    },
    {
      "cell_type": "code",
      "source": [
        "from sklearn.preprocessing import LabelEncoder\n",
        "encoded_df = df_model.copy()\n",
        "le = LabelEncoder()"
      ],
      "metadata": {
        "id": "eyTHBCFyLWub"
      },
      "id": "eyTHBCFyLWub",
      "execution_count": 42,
      "outputs": []
    },
    {
      "cell_type": "code",
      "source": [
        "for col in categorical_features :\n",
        "    try:\n",
        "        encoded_df[col] = le.fit_transform(encoded_df[col].astype(str))\n",
        "    except Exception as e:\n",
        "        print(f\"Could not encode {col}: {e}\")"
      ],
      "metadata": {
        "colab": {
          "base_uri": "https://localhost:8080/"
        },
        "id": "Yfl8RdqCYVjE",
        "outputId": "7a39d59d-de2f-4af2-c9b9-fbd096500a13"
      },
      "id": "Yfl8RdqCYVjE",
      "execution_count": 43,
      "outputs": [
        {
          "output_type": "stream",
          "name": "stdout",
          "text": [
            "Could not encode PRIM_CONTRIBUTORY_CAUSE: y should be a 1d array, got an array of shape (5548, 2) instead.\n"
          ]
        }
      ]
    },
    {
      "cell_type": "code",
      "source": [
        "#Target and Features\n",
        "X = encoded_df.drop('PRIM_CONTRIBUTORY_CAUSE', axis=1)\n",
        "y = encoded_df['PRIM_CONTRIBUTORY_CAUSE']"
      ],
      "metadata": {
        "id": "JHOhrIG2YjYH"
      },
      "id": "JHOhrIG2YjYH",
      "execution_count": 44,
      "outputs": []
    },
    {
      "cell_type": "code",
      "source": [
        "# Train-Test Split\n",
        "from sklearn.model_selection import train_test_split\n",
        "X_train, X_test, y_train, y_test = train_test_split(\n",
        "    X, y,\n",
        "    test_size=0.2,\n",
        "    stratify=y,\n",
        "    random_state=42\n",
        ")"
      ],
      "metadata": {
        "id": "CI3vuecdYnyg"
      },
      "id": "CI3vuecdYnyg",
      "execution_count": 45,
      "outputs": []
    },
    {
      "cell_type": "code",
      "source": [
        "#Scale Features\n",
        "from sklearn.preprocessing import StandardScaler\n",
        "scaler = StandardScaler()\n",
        "X_train_scaled = scaler.fit_transform(X_train)\n",
        "X_test_scaled = scaler.transform(X_test)"
      ],
      "metadata": {
        "id": "pSvP7XTrYyka"
      },
      "id": "pSvP7XTrYyka",
      "execution_count": 46,
      "outputs": []
    }
  ],
  "metadata": {
    "kernelspec": {
      "display_name": "Python [conda env:base] *",
      "language": "python",
      "name": "conda-base-py"
    },
    "language_info": {
      "codemirror_mode": {
        "name": "ipython",
        "version": 3
      },
      "file_extension": ".py",
      "mimetype": "text/x-python",
      "name": "python",
      "nbconvert_exporter": "python",
      "pygments_lexer": "ipython3",
      "version": "3.12.7"
    },
    "colab": {
      "provenance": []
    }
  },
  "nbformat": 4,
  "nbformat_minor": 5
}